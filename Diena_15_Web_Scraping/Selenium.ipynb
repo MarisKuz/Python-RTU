{
 "cells": [
  {
   "cell_type": "code",
   "execution_count": 2,
   "metadata": {},
   "outputs": [
    {
     "name": "stdout",
     "output_type": "stream",
     "text": [
      "Collecting selenium\n",
      "  Downloading selenium-3.141.0-py2.py3-none-any.whl (904 kB)\n",
      "Requirement already satisfied: urllib3 in c:\\users\\liga\\anaconda3\\lib\\site-packages (from selenium) (1.25.9)\n",
      "Installing collected packages: selenium\n",
      "Successfully installed selenium-3.141.0\n"
     ]
    }
   ],
   "source": [
    "!pip install selenium # only once!"
   ]
  },
  {
   "cell_type": "code",
   "execution_count": null,
   "metadata": {},
   "outputs": [],
   "source": [
    "# now drivers"
   ]
  },
  {
   "cell_type": "code",
   "execution_count": 3,
   "metadata": {},
   "outputs": [],
   "source": [
    "from selenium import webdriver\n",
    "from selenium.webdriver.common.keys import Keys\n",
    "\n",
    "browser = webdriver.Chrome()"
   ]
  },
  {
   "cell_type": "code",
   "execution_count": 4,
   "metadata": {},
   "outputs": [],
   "source": [
    "browser.get('http://www.ss.com')\n",
    "assert 'SS' in browser.title"
   ]
  },
  {
   "cell_type": "code",
   "execution_count": null,
   "metadata": {},
   "outputs": [],
   "source": [
    "# elem = browser.find_element_by_name('p')  # Find the search box\n",
    "# elem.send_keys('seleniumhq' + Keys.RETURN)"
   ]
  },
  {
   "cell_type": "code",
   "execution_count": 5,
   "metadata": {},
   "outputs": [
    {
     "data": {
      "text/plain": [
       "'https://www.ss.com/'"
      ]
     },
     "execution_count": 5,
     "metadata": {},
     "output_type": "execute_result"
    }
   ],
   "source": [
    "browser.current_url"
   ]
  },
  {
   "cell_type": "code",
   "execution_count": 6,
   "metadata": {},
   "outputs": [
    {
     "data": {
      "text/plain": [
       "selenium.webdriver.remote.webelement.WebElement"
      ]
     },
     "execution_count": 6,
     "metadata": {},
     "output_type": "execute_result"
    }
   ],
   "source": [
    "cars =browser.find_element_by_id(\"mtd_97\")\n",
    "type(cars)"
   ]
  },
  {
   "cell_type": "code",
   "execution_count": 7,
   "metadata": {},
   "outputs": [
    {
     "data": {
      "text/plain": [
       "'https://www.ss.com/lv/transport/cars/'"
      ]
     },
     "execution_count": 7,
     "metadata": {},
     "output_type": "execute_result"
    }
   ],
   "source": [
    "cars.get_attribute('href')"
   ]
  },
  {
   "cell_type": "code",
   "execution_count": 8,
   "metadata": {},
   "outputs": [
    {
     "data": {
      "text/plain": [
       "'Vieglie auto'"
      ]
     },
     "execution_count": 8,
     "metadata": {},
     "output_type": "execute_result"
    }
   ],
   "source": [
    "cars.get_attribute('title')"
   ]
  },
  {
   "cell_type": "code",
   "execution_count": 8,
   "metadata": {},
   "outputs": [
    {
     "data": {
      "text/plain": [
       "'Vieglie auto'"
      ]
     },
     "execution_count": 8,
     "metadata": {},
     "output_type": "execute_result"
    }
   ],
   "source": [
    "cars.text"
   ]
  },
  {
   "cell_type": "code",
   "execution_count": 9,
   "metadata": {},
   "outputs": [],
   "source": [
    "# https://devhints.io/xpath\n",
    "apart = browser.find_element_by_xpath('//a[@title=\"Dzīvokļi\"]') # XPath is very powerful tool for finding elements"
   ]
  },
  {
   "cell_type": "code",
   "execution_count": 10,
   "metadata": {},
   "outputs": [],
   "source": [
    "apart.click() # i can emulate a mouse click"
   ]
  },
  {
   "cell_type": "code",
   "execution_count": 11,
   "metadata": {},
   "outputs": [],
   "source": [
    "browser.back()"
   ]
  },
  {
   "cell_type": "code",
   "execution_count": 12,
   "metadata": {},
   "outputs": [],
   "source": [
    "browser.forward()"
   ]
  },
  {
   "cell_type": "code",
   "execution_count": 13,
   "metadata": {},
   "outputs": [
    {
     "data": {
      "text/plain": [
       "selenium.webdriver.remote.webelement.WebElement"
      ]
     },
     "execution_count": 13,
     "metadata": {},
     "output_type": "execute_result"
    }
   ],
   "source": [
    "riga = browser.find_element_by_xpath('//a[@title=\"Rīga, Sludinājumi\"]')\n",
    "type(riga)"
   ]
  },
  {
   "cell_type": "code",
   "execution_count": 14,
   "metadata": {},
   "outputs": [],
   "source": [
    "riga.click()"
   ]
  },
  {
   "cell_type": "code",
   "execution_count": 16,
   "metadata": {},
   "outputs": [
    {
     "data": {
      "text/plain": [
       "'https://www.ss.com/lv/real-estate/flats/riga/'"
      ]
     },
     "execution_count": 16,
     "metadata": {},
     "output_type": "execute_result"
    }
   ],
   "source": [
    "browser.current_url"
   ]
  },
  {
   "cell_type": "code",
   "execution_count": 17,
   "metadata": {},
   "outputs": [
    {
     "data": {
      "text/plain": [
       "{'width': 945, 'height': 1020}"
      ]
     },
     "execution_count": 17,
     "metadata": {},
     "output_type": "execute_result"
    }
   ],
   "source": [
    "browser.get_window_size()"
   ]
  },
  {
   "cell_type": "code",
   "execution_count": 18,
   "metadata": {
    "scrolled": true
   },
   "outputs": [
    {
     "data": {
      "text/plain": [
       "True"
      ]
     },
     "execution_count": 18,
     "metadata": {},
     "output_type": "execute_result"
    }
   ],
   "source": [
    "# save with Pillow graphibrowser.get_screenshot_as_png()\n",
    "\n",
    "browser.save_screenshot(\"page.png\")"
   ]
  },
  {
   "cell_type": "code",
   "execution_count": null,
   "metadata": {},
   "outputs": [],
   "source": []
  },
  {
   "cell_type": "code",
   "execution_count": 20,
   "metadata": {},
   "outputs": [],
   "source": [
    "myel = browser.find_element_by_id('ahc_1089')"
   ]
  },
  {
   "cell_type": "code",
   "execution_count": 21,
   "metadata": {},
   "outputs": [
    {
     "data": {
      "text/plain": [
       "'Bolderāja'"
      ]
     },
     "execution_count": 21,
     "metadata": {},
     "output_type": "execute_result"
    }
   ],
   "source": [
    "myel.text"
   ]
  },
  {
   "cell_type": "code",
   "execution_count": 24,
   "metadata": {},
   "outputs": [
    {
     "data": {
      "text/plain": [
       "[{'ATTRIBUTE_NODE': 2,\n",
       "  'CDATA_SECTION_NODE': 4,\n",
       "  'COMMENT_NODE': 8,\n",
       "  'DOCUMENT_FRAGMENT_NODE': 11,\n",
       "  'DOCUMENT_NODE': 9,\n",
       "  'DOCUMENT_POSITION_CONTAINED_BY': 16,\n",
       "  'DOCUMENT_POSITION_CONTAINS': 8,\n",
       "  'DOCUMENT_POSITION_DISCONNECTED': 1,\n",
       "  'DOCUMENT_POSITION_FOLLOWING': 4,\n",
       "  'DOCUMENT_POSITION_IMPLEMENTATION_SPECIFIC': 32,\n",
       "  'DOCUMENT_POSITION_PRECEDING': 2,\n",
       "  'DOCUMENT_TYPE_NODE': 10,\n",
       "  'ELEMENT_NODE': 1,\n",
       "  'ENTITY_NODE': 6,\n",
       "  'ENTITY_REFERENCE_NODE': 5,\n",
       "  'NOTATION_NODE': 12,\n",
       "  'PROCESSING_INSTRUCTION_NODE': 7,\n",
       "  'TEXT_NODE': 3,\n",
       "  'addEventListener': {},\n",
       "  'appendChild': {},\n",
       "  'baseURI': 'https://www.ss.com/',\n",
       "  'childNodes': [],\n",
       "  'cloneNode': {},\n",
       "  'compareDocumentPosition': {},\n",
       "  'contains': {},\n",
       "  'dispatchEvent': {},\n",
       "  'firstChild': None,\n",
       "  'getRootNode': {},\n",
       "  'hasChildNodes': {},\n",
       "  'insertBefore': {},\n",
       "  'isConnected': False,\n",
       "  'isDefaultNamespace': {},\n",
       "  'isEqualNode': {},\n",
       "  'isSameNode': {},\n",
       "  'lastChild': None,\n",
       "  'localName': 'id',\n",
       "  'lookupNamespaceURI': {},\n",
       "  'lookupPrefix': {},\n",
       "  'name': 'id',\n",
       "  'namespaceURI': None,\n",
       "  'nextSibling': None,\n",
       "  'nodeName': 'id',\n",
       "  'nodeType': 2,\n",
       "  'nodeValue': 'ahc_1089',\n",
       "  'normalize': {},\n",
       "  'ownerDocument': <selenium.webdriver.remote.webelement.WebElement (session=\"75c8f2028c6cf43417bc7309546a03dc\", element=\"6fd40361-01e7-4c87-8778-635ceed6f435\")>,\n",
       "  'ownerElement': <selenium.webdriver.remote.webelement.WebElement (session=\"75c8f2028c6cf43417bc7309546a03dc\", element=\"371b0fb0-ce40-4834-b6b1-fbcab8eed48b\")>,\n",
       "  'parentElement': None,\n",
       "  'parentNode': None,\n",
       "  'prefix': None,\n",
       "  'previousSibling': None,\n",
       "  'removeChild': {},\n",
       "  'removeEventListener': {},\n",
       "  'replaceChild': {},\n",
       "  'specified': True,\n",
       "  'textContent': 'ahc_1089',\n",
       "  'value': 'ahc_1089'},\n",
       " {'ATTRIBUTE_NODE': 2,\n",
       "  'CDATA_SECTION_NODE': 4,\n",
       "  'COMMENT_NODE': 8,\n",
       "  'DOCUMENT_FRAGMENT_NODE': 11,\n",
       "  'DOCUMENT_NODE': 9,\n",
       "  'DOCUMENT_POSITION_CONTAINED_BY': 16,\n",
       "  'DOCUMENT_POSITION_CONTAINS': 8,\n",
       "  'DOCUMENT_POSITION_DISCONNECTED': 1,\n",
       "  'DOCUMENT_POSITION_FOLLOWING': 4,\n",
       "  'DOCUMENT_POSITION_IMPLEMENTATION_SPECIFIC': 32,\n",
       "  'DOCUMENT_POSITION_PRECEDING': 2,\n",
       "  'DOCUMENT_TYPE_NODE': 10,\n",
       "  'ELEMENT_NODE': 1,\n",
       "  'ENTITY_NODE': 6,\n",
       "  'ENTITY_REFERENCE_NODE': 5,\n",
       "  'NOTATION_NODE': 12,\n",
       "  'PROCESSING_INSTRUCTION_NODE': 7,\n",
       "  'TEXT_NODE': 3,\n",
       "  'addEventListener': {},\n",
       "  'appendChild': {},\n",
       "  'baseURI': 'https://www.ss.com/',\n",
       "  'childNodes': [],\n",
       "  'cloneNode': {},\n",
       "  'compareDocumentPosition': {},\n",
       "  'contains': {},\n",
       "  'dispatchEvent': {},\n",
       "  'firstChild': None,\n",
       "  'getRootNode': {},\n",
       "  'hasChildNodes': {},\n",
       "  'insertBefore': {},\n",
       "  'isConnected': False,\n",
       "  'isDefaultNamespace': {},\n",
       "  'isEqualNode': {},\n",
       "  'isSameNode': {},\n",
       "  'lastChild': None,\n",
       "  'localName': 'href',\n",
       "  'lookupNamespaceURI': {},\n",
       "  'lookupPrefix': {},\n",
       "  'name': 'href',\n",
       "  'namespaceURI': None,\n",
       "  'nextSibling': None,\n",
       "  'nodeName': 'href',\n",
       "  'nodeType': 2,\n",
       "  'nodeValue': '/lv/real-estate/flats/riga/bolderaya/',\n",
       "  'normalize': {},\n",
       "  'ownerDocument': <selenium.webdriver.remote.webelement.WebElement (session=\"75c8f2028c6cf43417bc7309546a03dc\", element=\"6fd40361-01e7-4c87-8778-635ceed6f435\")>,\n",
       "  'ownerElement': <selenium.webdriver.remote.webelement.WebElement (session=\"75c8f2028c6cf43417bc7309546a03dc\", element=\"371b0fb0-ce40-4834-b6b1-fbcab8eed48b\")>,\n",
       "  'parentElement': None,\n",
       "  'parentNode': None,\n",
       "  'prefix': None,\n",
       "  'previousSibling': None,\n",
       "  'removeChild': {},\n",
       "  'removeEventListener': {},\n",
       "  'replaceChild': {},\n",
       "  'specified': True,\n",
       "  'textContent': '/lv/real-estate/flats/riga/bolderaya/',\n",
       "  'value': '/lv/real-estate/flats/riga/bolderaya/'},\n",
       " {'ATTRIBUTE_NODE': 2,\n",
       "  'CDATA_SECTION_NODE': 4,\n",
       "  'COMMENT_NODE': 8,\n",
       "  'DOCUMENT_FRAGMENT_NODE': 11,\n",
       "  'DOCUMENT_NODE': 9,\n",
       "  'DOCUMENT_POSITION_CONTAINED_BY': 16,\n",
       "  'DOCUMENT_POSITION_CONTAINS': 8,\n",
       "  'DOCUMENT_POSITION_DISCONNECTED': 1,\n",
       "  'DOCUMENT_POSITION_FOLLOWING': 4,\n",
       "  'DOCUMENT_POSITION_IMPLEMENTATION_SPECIFIC': 32,\n",
       "  'DOCUMENT_POSITION_PRECEDING': 2,\n",
       "  'DOCUMENT_TYPE_NODE': 10,\n",
       "  'ELEMENT_NODE': 1,\n",
       "  'ENTITY_NODE': 6,\n",
       "  'ENTITY_REFERENCE_NODE': 5,\n",
       "  'NOTATION_NODE': 12,\n",
       "  'PROCESSING_INSTRUCTION_NODE': 7,\n",
       "  'TEXT_NODE': 3,\n",
       "  'addEventListener': {},\n",
       "  'appendChild': {},\n",
       "  'baseURI': 'https://www.ss.com/',\n",
       "  'childNodes': [],\n",
       "  'cloneNode': {},\n",
       "  'compareDocumentPosition': {},\n",
       "  'contains': {},\n",
       "  'dispatchEvent': {},\n",
       "  'firstChild': None,\n",
       "  'getRootNode': {},\n",
       "  'hasChildNodes': {},\n",
       "  'insertBefore': {},\n",
       "  'isConnected': False,\n",
       "  'isDefaultNamespace': {},\n",
       "  'isEqualNode': {},\n",
       "  'isSameNode': {},\n",
       "  'lastChild': None,\n",
       "  'localName': 'class',\n",
       "  'lookupNamespaceURI': {},\n",
       "  'lookupPrefix': {},\n",
       "  'name': 'class',\n",
       "  'namespaceURI': None,\n",
       "  'nextSibling': None,\n",
       "  'nodeName': 'class',\n",
       "  'nodeType': 2,\n",
       "  'nodeValue': 'a_category',\n",
       "  'normalize': {},\n",
       "  'ownerDocument': <selenium.webdriver.remote.webelement.WebElement (session=\"75c8f2028c6cf43417bc7309546a03dc\", element=\"6fd40361-01e7-4c87-8778-635ceed6f435\")>,\n",
       "  'ownerElement': <selenium.webdriver.remote.webelement.WebElement (session=\"75c8f2028c6cf43417bc7309546a03dc\", element=\"371b0fb0-ce40-4834-b6b1-fbcab8eed48b\")>,\n",
       "  'parentElement': None,\n",
       "  'parentNode': None,\n",
       "  'prefix': None,\n",
       "  'previousSibling': None,\n",
       "  'removeChild': {},\n",
       "  'removeEventListener': {},\n",
       "  'replaceChild': {},\n",
       "  'specified': True,\n",
       "  'textContent': 'a_category',\n",
       "  'value': 'a_category'},\n",
       " {'ATTRIBUTE_NODE': 2,\n",
       "  'CDATA_SECTION_NODE': 4,\n",
       "  'COMMENT_NODE': 8,\n",
       "  'DOCUMENT_FRAGMENT_NODE': 11,\n",
       "  'DOCUMENT_NODE': 9,\n",
       "  'DOCUMENT_POSITION_CONTAINED_BY': 16,\n",
       "  'DOCUMENT_POSITION_CONTAINS': 8,\n",
       "  'DOCUMENT_POSITION_DISCONNECTED': 1,\n",
       "  'DOCUMENT_POSITION_FOLLOWING': 4,\n",
       "  'DOCUMENT_POSITION_IMPLEMENTATION_SPECIFIC': 32,\n",
       "  'DOCUMENT_POSITION_PRECEDING': 2,\n",
       "  'DOCUMENT_TYPE_NODE': 10,\n",
       "  'ELEMENT_NODE': 1,\n",
       "  'ENTITY_NODE': 6,\n",
       "  'ENTITY_REFERENCE_NODE': 5,\n",
       "  'NOTATION_NODE': 12,\n",
       "  'PROCESSING_INSTRUCTION_NODE': 7,\n",
       "  'TEXT_NODE': 3,\n",
       "  'addEventListener': {},\n",
       "  'appendChild': {},\n",
       "  'baseURI': 'https://www.ss.com/',\n",
       "  'childNodes': [],\n",
       "  'cloneNode': {},\n",
       "  'compareDocumentPosition': {},\n",
       "  'contains': {},\n",
       "  'dispatchEvent': {},\n",
       "  'firstChild': None,\n",
       "  'getRootNode': {},\n",
       "  'hasChildNodes': {},\n",
       "  'insertBefore': {},\n",
       "  'isConnected': False,\n",
       "  'isDefaultNamespace': {},\n",
       "  'isEqualNode': {},\n",
       "  'isSameNode': {},\n",
       "  'lastChild': None,\n",
       "  'localName': 'title',\n",
       "  'lookupNamespaceURI': {},\n",
       "  'lookupPrefix': {},\n",
       "  'name': 'title',\n",
       "  'namespaceURI': None,\n",
       "  'nextSibling': None,\n",
       "  'nodeName': 'title',\n",
       "  'nodeType': 2,\n",
       "  'nodeValue': 'Bolderāja, Sludinājumi',\n",
       "  'normalize': {},\n",
       "  'ownerDocument': <selenium.webdriver.remote.webelement.WebElement (session=\"75c8f2028c6cf43417bc7309546a03dc\", element=\"6fd40361-01e7-4c87-8778-635ceed6f435\")>,\n",
       "  'ownerElement': <selenium.webdriver.remote.webelement.WebElement (session=\"75c8f2028c6cf43417bc7309546a03dc\", element=\"371b0fb0-ce40-4834-b6b1-fbcab8eed48b\")>,\n",
       "  'parentElement': None,\n",
       "  'parentNode': None,\n",
       "  'prefix': None,\n",
       "  'previousSibling': None,\n",
       "  'removeChild': {},\n",
       "  'removeEventListener': {},\n",
       "  'replaceChild': {},\n",
       "  'specified': True,\n",
       "  'textContent': 'Bolderāja, Sludinājumi',\n",
       "  'value': 'Bolderāja, Sludinājumi'}]"
      ]
     },
     "execution_count": 24,
     "metadata": {},
     "output_type": "execute_result"
    }
   ],
   "source": [
    "myel.get_property('attributes')"
   ]
  }
 ],
 "metadata": {
  "kernelspec": {
   "display_name": "Python 3",
   "language": "python",
   "name": "python3"
  },
  "language_info": {
   "codemirror_mode": {
    "name": "ipython",
    "version": 3
   },
   "file_extension": ".py",
   "mimetype": "text/x-python",
   "name": "python",
   "nbconvert_exporter": "python",
   "pygments_lexer": "ipython3",
   "version": "3.8.3"
  }
 },
 "nbformat": 4,
 "nbformat_minor": 4
}
