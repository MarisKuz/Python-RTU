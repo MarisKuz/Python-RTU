{
 "cells": [
  {
   "cell_type": "code",
   "execution_count": 1,
   "metadata": {},
   "outputs": [],
   "source": [
    "# Requests for handling HTTP get and other requests\n",
    "import requests\n",
    "import time # import for playing nice and not getting blocked\n",
    "import pandas as pd\n",
    "# from BeautifulSoup4 import BeatifulSoup if installed through pip install BeautifulSoup4\n",
    "# \n",
    "from bs4 import BeautifulSoup"
   ]
  },
  {
   "cell_type": "code",
   "execution_count": 2,
   "metadata": {},
   "outputs": [
    {
     "data": {
      "text/plain": [
       "'https://www.ss.com/lv/real-estate/flats/riga/centre/sell/'"
      ]
     },
     "execution_count": 2,
     "metadata": {},
     "output_type": "execute_result"
    }
   ],
   "source": [
    "url = \"https://www.ss.com/lv/real-estate/flats/riga/centre/sell/\"\n",
    "url"
   ]
  },
  {
   "cell_type": "code",
   "execution_count": 5,
   "metadata": {},
   "outputs": [],
   "source": [
    "# lets combine the above cells into a function which will always get us columns\n",
    "def getColList(soup):\n",
    "    column_list = [\"description\",\"url\"] # we decided to that we need these two column names no matter the html\n",
    "    headline = soup.find(\"tr\", {\"id\":\"head_line\"})\n",
    "    headtds = headline.find_all(\"td\")\n",
    "    headcolumns = [el.text for el in headtds[1:]] # this will get all column names starting with 2nd in HTML\n",
    "    column_list += headcolumns\n",
    "    return column_list\n",
    "\n",
    "# lets make a function from the above doodle and make it work on most pages on SS\n",
    "def getRowList(soup):\n",
    "    trows = soup.find_all('tr')\n",
    "    aprows = [row for row in trows if row.get('id',\"\").startswith(\"tr_\") and not row.get('id',\"\").startswith(\"tr_bnr\") ]\n",
    "    return aprows\n",
    "\n",
    "def getRow(row,colist):\n",
    "    row_tds = row.find_all('td')\n",
    "    rowDict = {}\n",
    "    if len(row_tds) < 3: # a little sanity check\n",
    "        print(\"Hmm bad row\")\n",
    "        return rowDict\n",
    "    \n",
    "    rowDict[colist[0]] = row_tds[2].text # so the big assumption is that we always get description in 3rd column\n",
    "    rowDict[colist[1]] = \"https://ss.com\" + row_tds[1].find('a').get('href')\n",
    "    for td,key in zip(row_tds[3:],colist[2:]): \n",
    "        rowDict[key] = td.text\n",
    "    return rowDict\n",
    "\n",
    "# so if we know how to work on single row then we can do process multiple rows\n",
    "def getRows(rowlist,colist):\n",
    "    return [getRow(row, colist=colist) for row in rowlist] # so return a list of dictionaries\n",
    "\n",
    "# so with this function I can get full dataframe from a single page on ss.com not only apartments\n",
    "def getDFfromURL(url):\n",
    "    # print(\"getting data from\", url)\n",
    "    req = requests.get(url)\n",
    "    if req.status_code != 200:\n",
    "        print(\"Request Fail with\", req.status_code)\n",
    "        return None # maybe return empty dataframe here\n",
    "    soup = BeautifulSoup(req.text, 'lxml')\n",
    "    column_names = getColList(soup)\n",
    "    rowlist = getRowList(soup)\n",
    "    rows = getRows(rowlist,colist=column_names)\n",
    "    return pd.DataFrame(rows, columns=column_names)\n",
    "\n",
    "def getAllLocalUrls(url):\n",
    "    \"\"\"Get a list of all urls including paginated pages\"\"\"\n",
    "    results = [url] # default is just the url if no extra pages found, teiksim Bolderājai...\n",
    "    req = requests.get(url)\n",
    "    if req.status_code != 200:\n",
    "        print(f\"Bad response! {req.status_code}\")\n",
    "        return []\n",
    "    soup = BeautifulSoup(req.text, 'lxml')\n",
    "    # we just need a one element\n",
    "    prevanchor = soup.find('a', {\"rel\":\"prev\"}) # find finds first match only\n",
    "    if prevanchor == None: # means there is only one page of ads\n",
    "        return results\n",
    "    href = prevanchor.attrs.get('href')\n",
    "    lastPageNum = int(href.split('/page')[-1].split('.html')[0])\n",
    "    print(\"Last page is\",lastPageNum)\n",
    "    nurls = [f\"{url}page{n}.html\" for n in range(2,lastPageNum+1)]\n",
    "    results += nurls\n",
    "    return results\n",
    "\n",
    "def get_all_ads_df(start_url, save_excel_path=None):\n",
    "    df_list=[] # so we will save our dataframes in a list\n",
    "    local_urls = getAllLocalUrls(start_url)\n",
    "    for url in local_urls:\n",
    "        print(f\"Gathering data from {url}\")\n",
    "        df_list.append(getDFfromURL(url))\n",
    "        time.sleep(0.3) # we need this to play nice! to avoid rate limit or IP ban!!\n",
    "    # https://pandas.pydata.org/pandas-docs/stable/reference/api/pandas.concat.html\n",
    "    big_df = pd.concat(df_list) # then make a big dataframe from all the small dataframes\n",
    "    if save_excel_path:\n",
    "        big_df.to_excel(save_excel_path)\n",
    "    return big_df"
   ]
  },
  {
   "cell_type": "code",
   "execution_count": 6,
   "metadata": {},
   "outputs": [],
   "source": [
    "volvo_url = \"https://www.ss.com/lv/transport/cars/volvo/sell/\""
   ]
  },
  {
   "cell_type": "code",
   "execution_count": 7,
   "metadata": {},
   "outputs": [
    {
     "name": "stdout",
     "output_type": "stream",
     "text": [
      "Last page is 45\n",
      "Gathering data from https://www.ss.com/lv/transport/cars/volvo/sell/\n",
      "Gathering data from https://www.ss.com/lv/transport/cars/volvo/sell/page2.html\n",
      "Gathering data from https://www.ss.com/lv/transport/cars/volvo/sell/page3.html\n",
      "Gathering data from https://www.ss.com/lv/transport/cars/volvo/sell/page4.html\n",
      "Gathering data from https://www.ss.com/lv/transport/cars/volvo/sell/page5.html\n",
      "Gathering data from https://www.ss.com/lv/transport/cars/volvo/sell/page6.html\n",
      "Gathering data from https://www.ss.com/lv/transport/cars/volvo/sell/page7.html\n",
      "Gathering data from https://www.ss.com/lv/transport/cars/volvo/sell/page8.html\n",
      "Gathering data from https://www.ss.com/lv/transport/cars/volvo/sell/page9.html\n",
      "Gathering data from https://www.ss.com/lv/transport/cars/volvo/sell/page10.html\n",
      "Gathering data from https://www.ss.com/lv/transport/cars/volvo/sell/page11.html\n",
      "Gathering data from https://www.ss.com/lv/transport/cars/volvo/sell/page12.html\n",
      "Gathering data from https://www.ss.com/lv/transport/cars/volvo/sell/page13.html\n",
      "Gathering data from https://www.ss.com/lv/transport/cars/volvo/sell/page14.html\n",
      "Gathering data from https://www.ss.com/lv/transport/cars/volvo/sell/page15.html\n",
      "Gathering data from https://www.ss.com/lv/transport/cars/volvo/sell/page16.html\n",
      "Gathering data from https://www.ss.com/lv/transport/cars/volvo/sell/page17.html\n",
      "Gathering data from https://www.ss.com/lv/transport/cars/volvo/sell/page18.html\n",
      "Gathering data from https://www.ss.com/lv/transport/cars/volvo/sell/page19.html\n",
      "Gathering data from https://www.ss.com/lv/transport/cars/volvo/sell/page20.html\n",
      "Gathering data from https://www.ss.com/lv/transport/cars/volvo/sell/page21.html\n",
      "Gathering data from https://www.ss.com/lv/transport/cars/volvo/sell/page22.html\n",
      "Gathering data from https://www.ss.com/lv/transport/cars/volvo/sell/page23.html\n",
      "Gathering data from https://www.ss.com/lv/transport/cars/volvo/sell/page24.html\n",
      "Gathering data from https://www.ss.com/lv/transport/cars/volvo/sell/page25.html\n",
      "Gathering data from https://www.ss.com/lv/transport/cars/volvo/sell/page26.html\n",
      "Gathering data from https://www.ss.com/lv/transport/cars/volvo/sell/page27.html\n",
      "Gathering data from https://www.ss.com/lv/transport/cars/volvo/sell/page28.html\n",
      "Gathering data from https://www.ss.com/lv/transport/cars/volvo/sell/page29.html\n",
      "Gathering data from https://www.ss.com/lv/transport/cars/volvo/sell/page30.html\n",
      "Gathering data from https://www.ss.com/lv/transport/cars/volvo/sell/page31.html\n",
      "Gathering data from https://www.ss.com/lv/transport/cars/volvo/sell/page32.html\n",
      "Gathering data from https://www.ss.com/lv/transport/cars/volvo/sell/page33.html\n",
      "Gathering data from https://www.ss.com/lv/transport/cars/volvo/sell/page34.html\n",
      "Gathering data from https://www.ss.com/lv/transport/cars/volvo/sell/page35.html\n",
      "Gathering data from https://www.ss.com/lv/transport/cars/volvo/sell/page36.html\n",
      "Gathering data from https://www.ss.com/lv/transport/cars/volvo/sell/page37.html\n",
      "Gathering data from https://www.ss.com/lv/transport/cars/volvo/sell/page38.html\n",
      "Gathering data from https://www.ss.com/lv/transport/cars/volvo/sell/page39.html\n",
      "Gathering data from https://www.ss.com/lv/transport/cars/volvo/sell/page40.html\n",
      "Gathering data from https://www.ss.com/lv/transport/cars/volvo/sell/page41.html\n",
      "Gathering data from https://www.ss.com/lv/transport/cars/volvo/sell/page42.html\n",
      "Gathering data from https://www.ss.com/lv/transport/cars/volvo/sell/page43.html\n",
      "Gathering data from https://www.ss.com/lv/transport/cars/volvo/sell/page44.html\n",
      "Gathering data from https://www.ss.com/lv/transport/cars/volvo/sell/page45.html\n"
     ]
    }
   ],
   "source": [
    "df = get_all_ads_df(volvo_url, save_excel_path=\"volvo_270921.xlsx\")"
   ]
  },
  {
   "cell_type": "code",
   "execution_count": 8,
   "metadata": {},
   "outputs": [
    {
     "data": {
      "text/plain": [
       "(1348, 7)"
      ]
     },
     "execution_count": 8,
     "metadata": {},
     "output_type": "execute_result"
    }
   ],
   "source": [
    "df.shape"
   ]
  },
  {
   "cell_type": "code",
   "execution_count": 9,
   "metadata": {},
   "outputs": [
    {
     "data": {
      "text/html": [
       "<div>\n",
       "<style scoped>\n",
       "    .dataframe tbody tr th:only-of-type {\n",
       "        vertical-align: middle;\n",
       "    }\n",
       "\n",
       "    .dataframe tbody tr th {\n",
       "        vertical-align: top;\n",
       "    }\n",
       "\n",
       "    .dataframe thead th {\n",
       "        text-align: right;\n",
       "    }\n",
       "</style>\n",
       "<table border=\"1\" class=\"dataframe\">\n",
       "  <thead>\n",
       "    <tr style=\"text-align: right;\">\n",
       "      <th></th>\n",
       "      <th>description</th>\n",
       "      <th>url</th>\n",
       "      <th>Modelis</th>\n",
       "      <th>Gads</th>\n",
       "      <th>Tilp.</th>\n",
       "      <th>Nobrauk.</th>\n",
       "      <th>Cena</th>\n",
       "    </tr>\n",
       "  </thead>\n",
       "  <tbody>\n",
       "    <tr>\n",
       "      <th>0</th>\n",
       "      <td>Auto arī dzīvē tāds kā bildēs. Virsbūve ļoti l...</td>\n",
       "      <td>https://ss.com/msg/lv/transport/cars/volvo/v70...</td>\n",
       "      <td>V70</td>\n",
       "      <td>2002</td>\n",
       "      <td>2.4D</td>\n",
       "      <td>330 tūkst.</td>\n",
       "      <td>2,300  €</td>\n",
       "    </tr>\n",
       "    <tr>\n",
       "      <th>1</th>\n",
       "      <td>Auto labā tehniskā un vizuālā stāvoklī, auto i...</td>\n",
       "      <td>https://ss.com/msg/lv/transport/cars/volvo/v70...</td>\n",
       "      <td>V70</td>\n",
       "      <td>2003</td>\n",
       "      <td>2.4D</td>\n",
       "      <td>390 tūkst.</td>\n",
       "      <td>2,600  €</td>\n",
       "    </tr>\n",
       "    <tr>\n",
       "      <th>2</th>\n",
       "      <td>Volvo XC 90 2.4 D5 Edition 147 KW / Webasto / ...</td>\n",
       "      <td>https://ss.com/msg/lv/transport/cars/volvo/xc9...</td>\n",
       "      <td>XC 90</td>\n",
       "      <td>2011</td>\n",
       "      <td>2.0D</td>\n",
       "      <td>235 tūkst.</td>\n",
       "      <td>12,490  €</td>\n",
       "    </tr>\n",
       "    <tr>\n",
       "      <th>3</th>\n",
       "      <td>Tikko No Vacijas. Facelift Modelis. Mehaniska ...</td>\n",
       "      <td>https://ss.com/msg/lv/transport/cars/volvo/xc9...</td>\n",
       "      <td>XC 90</td>\n",
       "      <td>2010</td>\n",
       "      <td>2.4D</td>\n",
       "      <td>-</td>\n",
       "      <td>11,650  €</td>\n",
       "    </tr>\n",
       "    <tr>\n",
       "      <th>4</th>\n",
       "      <td>Volvo V70 Facelift, viens no labākajiem un jau...</td>\n",
       "      <td>https://ss.com/msg/lv/transport/cars/volvo/v70...</td>\n",
       "      <td>V70</td>\n",
       "      <td>2007</td>\n",
       "      <td>2.4D</td>\n",
       "      <td>300 tūkst.</td>\n",
       "      <td>3,500  €</td>\n",
       "    </tr>\n",
       "  </tbody>\n",
       "</table>\n",
       "</div>"
      ],
      "text/plain": [
       "                                         description  \\\n",
       "0  Auto arī dzīvē tāds kā bildēs. Virsbūve ļoti l...   \n",
       "1  Auto labā tehniskā un vizuālā stāvoklī, auto i...   \n",
       "2  Volvo XC 90 2.4 D5 Edition 147 KW / Webasto / ...   \n",
       "3  Tikko No Vacijas. Facelift Modelis. Mehaniska ...   \n",
       "4  Volvo V70 Facelift, viens no labākajiem un jau...   \n",
       "\n",
       "                                                 url Modelis  Gads Tilp.  \\\n",
       "0  https://ss.com/msg/lv/transport/cars/volvo/v70...     V70  2002  2.4D   \n",
       "1  https://ss.com/msg/lv/transport/cars/volvo/v70...     V70  2003  2.4D   \n",
       "2  https://ss.com/msg/lv/transport/cars/volvo/xc9...   XC 90  2011  2.0D   \n",
       "3  https://ss.com/msg/lv/transport/cars/volvo/xc9...   XC 90  2010  2.4D   \n",
       "4  https://ss.com/msg/lv/transport/cars/volvo/v70...     V70  2007  2.4D   \n",
       "\n",
       "     Nobrauk.       Cena  \n",
       "0  330 tūkst.   2,300  €  \n",
       "1  390 tūkst.   2,600  €  \n",
       "2  235 tūkst.  12,490  €  \n",
       "3           -  11,650  €  \n",
       "4  300 tūkst.   3,500  €  "
      ]
     },
     "execution_count": 9,
     "metadata": {},
     "output_type": "execute_result"
    }
   ],
   "source": [
    "df.head()"
   ]
  }
 ],
 "metadata": {
  "kernelspec": {
   "display_name": "Python 3",
   "language": "python",
   "name": "python3"
  },
  "language_info": {
   "codemirror_mode": {
    "name": "ipython",
    "version": 3
   },
   "file_extension": ".py",
   "mimetype": "text/x-python",
   "name": "python",
   "nbconvert_exporter": "python",
   "pygments_lexer": "ipython3",
   "version": "3.8.3"
  }
 },
 "nbformat": 4,
 "nbformat_minor": 4
}
