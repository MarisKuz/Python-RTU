{
 "cells": [
  {
   "cell_type": "code",
   "execution_count": 1,
   "metadata": {},
   "outputs": [],
   "source": [
    "import pandas as pd"
   ]
  },
  {
   "cell_type": "code",
   "execution_count": 2,
   "metadata": {},
   "outputs": [],
   "source": [
    "# url = \"https://www.ss.com/lv/real-estate/flats/riga/centre/sell/\" \n",
    "# url = \"https://www.ss.com/lv/real-estate/homes-summer-residences/riga-region/all/sell/\"\n",
    "url = \"https://www.ss.com/lv/real-estate/flats/riga/centre/sell/\"\n",
    "# notice how we can specify some parameters in the url\n"
   ]
  },
  {
   "cell_type": "code",
   "execution_count": 3,
   "metadata": {},
   "outputs": [
    {
     "data": {
      "text/plain": [
       "list"
      ]
     },
     "execution_count": 3,
     "metadata": {},
     "output_type": "execute_result"
    }
   ],
   "source": [
    "# pandas can do some web scraping as long as there are tables\n",
    "dfs = pd.read_html(url, header=0) # i know that i want the first row to server for column names\n",
    "type(dfs)"
   ]
  },
  {
   "cell_type": "code",
   "execution_count": 4,
   "metadata": {},
   "outputs": [
    {
     "data": {
      "text/plain": [
       "7"
      ]
     },
     "execution_count": 4,
     "metadata": {},
     "output_type": "execute_result"
    }
   ],
   "source": [
    "len(dfs) # why list and why such length ?\n",
    "# well ss.com was made in early 2000s when tables were used for everything"
   ]
  },
  {
   "cell_type": "code",
   "execution_count": null,
   "metadata": {},
   "outputs": [],
   "source": [
    "# https://pandas.pydata.org/pandas-docs/stable/reference/api/pandas.read_html.html\n",
    "# pandas reads tables by default ALL tables on the page\n"
   ]
  },
  {
   "cell_type": "code",
   "execution_count": 5,
   "metadata": {},
   "outputs": [
    {
     "data": {
      "text/html": [
       "<div>\n",
       "<style scoped>\n",
       "    .dataframe tbody tr th:only-of-type {\n",
       "        vertical-align: middle;\n",
       "    }\n",
       "\n",
       "    .dataframe tbody tr th {\n",
       "        vertical-align: top;\n",
       "    }\n",
       "\n",
       "    .dataframe thead th {\n",
       "        text-align: right;\n",
       "    }\n",
       "</style>\n",
       "<table border=\"1\" class=\"dataframe\">\n",
       "  <thead>\n",
       "    <tr style=\"text-align: right;\">\n",
       "      <th></th>\n",
       "      <th>Sludinājumi \\tdatums</th>\n",
       "      <th>Sludinājumi \\tdatums.1</th>\n",
       "      <th>Sludinājumi \\tdatums.2</th>\n",
       "      <th>Iela</th>\n",
       "      <th>Ist.</th>\n",
       "      <th>m2</th>\n",
       "      <th>Stāvs</th>\n",
       "      <th>Sērija</th>\n",
       "      <th>Cena, m2</th>\n",
       "      <th>Cena</th>\n",
       "    </tr>\n",
       "  </thead>\n",
       "  <tbody>\n",
       "    <tr>\n",
       "      <th>0</th>\n",
       "      <td>NaN</td>\n",
       "      <td>NaN</td>\n",
       "      <td>Gaišs divistabu dzīvoklis ar lodžiju jaunajā p...</td>\n",
       "      <td>Dārzaugļu 1</td>\n",
       "      <td>2</td>\n",
       "      <td>86</td>\n",
       "      <td>4/6</td>\n",
       "      <td>Jaun.</td>\n",
       "      <td>1,500 €</td>\n",
       "      <td>129,000 €</td>\n",
       "    </tr>\n",
       "    <tr>\n",
       "      <th>1</th>\n",
       "      <td>NaN</td>\n",
       "      <td>NaN</td>\n",
       "      <td>Zeme īpašumā. Atsevišķa ieeja, visas ērtības. ...</td>\n",
       "      <td>Cēsu 30</td>\n",
       "      <td>1</td>\n",
       "      <td>30</td>\n",
       "      <td>1/4</td>\n",
       "      <td>P. kara</td>\n",
       "      <td>1,100 €</td>\n",
       "      <td>33,000 €</td>\n",
       "    </tr>\n",
       "    <tr>\n",
       "      <th>2</th>\n",
       "      <td>NaN</td>\n",
       "      <td>NaN</td>\n",
       "      <td>Izcila kvalitāte, renovēta māja, jaunas komuni...</td>\n",
       "      <td>Dzirnavu 92</td>\n",
       "      <td>4</td>\n",
       "      <td>133</td>\n",
       "      <td>4/5</td>\n",
       "      <td>Renov.</td>\n",
       "      <td>2,970 €</td>\n",
       "      <td>395,000 €</td>\n",
       "    </tr>\n",
       "    <tr>\n",
       "      <th>3</th>\n",
       "      <td>NaN</td>\n",
       "      <td>NaN</td>\n",
       "      <td>Tiek pārdots saulains 5-istabu dzīvoklis proje...</td>\n",
       "      <td>Dzirnavu 37</td>\n",
       "      <td>5</td>\n",
       "      <td>179</td>\n",
       "      <td>2/6</td>\n",
       "      <td>Renov.</td>\n",
       "      <td>2,455 €</td>\n",
       "      <td>439,530 €</td>\n",
       "    </tr>\n",
       "    <tr>\n",
       "      <th>4</th>\n",
       "      <td>NaN</td>\n",
       "      <td>NaN</td>\n",
       "      <td>Renovētā, saulainā sētas mājā tiek pārdots 4 i...</td>\n",
       "      <td>Čaka 31</td>\n",
       "      <td>4</td>\n",
       "      <td>89</td>\n",
       "      <td>3/5</td>\n",
       "      <td>Renov.</td>\n",
       "      <td>1,528 €</td>\n",
       "      <td>136,000 €</td>\n",
       "    </tr>\n",
       "  </tbody>\n",
       "</table>\n",
       "</div>"
      ],
      "text/plain": [
       "   Sludinājumi \\tdatums  Sludinājumi \\tdatums.1  \\\n",
       "0                   NaN                     NaN   \n",
       "1                   NaN                     NaN   \n",
       "2                   NaN                     NaN   \n",
       "3                   NaN                     NaN   \n",
       "4                   NaN                     NaN   \n",
       "\n",
       "                              Sludinājumi \\tdatums.2         Iela  Ist.   m2  \\\n",
       "0  Gaišs divistabu dzīvoklis ar lodžiju jaunajā p...  Dārzaugļu 1     2   86   \n",
       "1  Zeme īpašumā. Atsevišķa ieeja, visas ērtības. ...      Cēsu 30     1   30   \n",
       "2  Izcila kvalitāte, renovēta māja, jaunas komuni...  Dzirnavu 92     4  133   \n",
       "3  Tiek pārdots saulains 5-istabu dzīvoklis proje...  Dzirnavu 37     5  179   \n",
       "4  Renovētā, saulainā sētas mājā tiek pārdots 4 i...      Čaka 31     4   89   \n",
       "\n",
       "  Stāvs   Sērija Cena, m2       Cena  \n",
       "0   4/6    Jaun.  1,500 €  129,000 €  \n",
       "1   1/4  P. kara  1,100 €   33,000 €  \n",
       "2   4/5   Renov.  2,970 €  395,000 €  \n",
       "3   2/6   Renov.  2,455 €  439,530 €  \n",
       "4   3/5   Renov.  1,528 €  136,000 €  "
      ]
     },
     "execution_count": 5,
     "metadata": {},
     "output_type": "execute_result"
    }
   ],
   "source": [
    "df = dfs[4] # the 5th table on our page has our info\n",
    "# df = dfs[8] # 9th table for our riga region houses\n",
    "df.head()"
   ]
  },
  {
   "cell_type": "code",
   "execution_count": 6,
   "metadata": {},
   "outputs": [
    {
     "data": {
      "text/plain": [
       "(30, 10)"
      ]
     },
     "execution_count": 6,
     "metadata": {},
     "output_type": "execute_result"
    }
   ],
   "source": [
    "df.shape"
   ]
  },
  {
   "cell_type": "code",
   "execution_count": 7,
   "metadata": {},
   "outputs": [],
   "source": [
    "df.to_json(\"center.json\")"
   ]
  },
  {
   "cell_type": "code",
   "execution_count": 8,
   "metadata": {},
   "outputs": [],
   "source": [
    "df.to_excel(\"center.xlsx\")"
   ]
  },
  {
   "cell_type": "code",
   "execution_count": 7,
   "metadata": {},
   "outputs": [],
   "source": [
    "url2 = \"https://www.ss.com/lv/real-estate/flats/riga/centre/sell/page2.html\""
   ]
  },
  {
   "cell_type": "code",
   "execution_count": 8,
   "metadata": {},
   "outputs": [
    {
     "data": {
      "text/plain": [
       "7"
      ]
     },
     "execution_count": 8,
     "metadata": {},
     "output_type": "execute_result"
    }
   ],
   "source": [
    "dflist = pd.read_html(url2, header=0)\n",
    "len(dflist)"
   ]
  },
  {
   "cell_type": "code",
   "execution_count": 9,
   "metadata": {},
   "outputs": [
    {
     "data": {
      "text/html": [
       "<div>\n",
       "<style scoped>\n",
       "    .dataframe tbody tr th:only-of-type {\n",
       "        vertical-align: middle;\n",
       "    }\n",
       "\n",
       "    .dataframe tbody tr th {\n",
       "        vertical-align: top;\n",
       "    }\n",
       "\n",
       "    .dataframe thead th {\n",
       "        text-align: right;\n",
       "    }\n",
       "</style>\n",
       "<table border=\"1\" class=\"dataframe\">\n",
       "  <thead>\n",
       "    <tr style=\"text-align: right;\">\n",
       "      <th></th>\n",
       "      <th>Sludinājumi \\tdatums</th>\n",
       "      <th>Sludinājumi \\tdatums.1</th>\n",
       "      <th>Sludinājumi \\tdatums.2</th>\n",
       "      <th>Iela</th>\n",
       "      <th>Ist.</th>\n",
       "      <th>m2</th>\n",
       "      <th>Stāvs</th>\n",
       "      <th>Sērija</th>\n",
       "      <th>Cena, m2</th>\n",
       "      <th>Cena</th>\n",
       "    </tr>\n",
       "  </thead>\n",
       "  <tbody>\n",
       "    <tr>\n",
       "      <th>0</th>\n",
       "      <td>NaN</td>\n",
       "      <td>NaN</td>\n",
       "      <td>Pārdodam vienistabas dzīvokli ar remontu. Izol...</td>\n",
       "      <td>Mastu 6</td>\n",
       "      <td>1</td>\n",
       "      <td>28</td>\n",
       "      <td>1/5</td>\n",
       "      <td>Hrušč.</td>\n",
       "      <td>1,321 €</td>\n",
       "      <td>37,000 €</td>\n",
       "    </tr>\n",
       "    <tr>\n",
       "      <th>1</th>\n",
       "      <td>NaN</td>\n",
       "      <td>NaN</td>\n",
       "      <td>Īpašnieks pārdod. Ēka atrodas vienā no labākaj...</td>\n",
       "      <td>Raiņa bulv. 3</td>\n",
       "      <td>3</td>\n",
       "      <td>105</td>\n",
       "      <td>6/6</td>\n",
       "      <td>Renov.</td>\n",
       "      <td>2,100 €</td>\n",
       "      <td>220,500 €</td>\n",
       "    </tr>\n",
       "    <tr>\n",
       "      <th>2</th>\n",
       "      <td>NaN</td>\n",
       "      <td>NaN</td>\n",
       "      <td>Pārdodu mājīgu un siltu 2 istabu dzīvokli ar a...</td>\n",
       "      <td>Vārnu 8</td>\n",
       "      <td>2</td>\n",
       "      <td>50</td>\n",
       "      <td>3/3</td>\n",
       "      <td>P. kara</td>\n",
       "      <td>2,200 €</td>\n",
       "      <td>109,999 €</td>\n",
       "    </tr>\n",
       "    <tr>\n",
       "      <th>3</th>\n",
       "      <td>NaN</td>\n",
       "      <td>NaN</td>\n",
       "      <td>Ekskluzīvs dzīvoklis jaunajā Parkera projektā....</td>\n",
       "      <td>Valdemāra 41a</td>\n",
       "      <td>3</td>\n",
       "      <td>103</td>\n",
       "      <td>2/7</td>\n",
       "      <td>Jaun.</td>\n",
       "      <td>2,816 €</td>\n",
       "      <td>290,000 €</td>\n",
       "    </tr>\n",
       "    <tr>\n",
       "      <th>4</th>\n",
       "      <td>NaN</td>\n",
       "      <td>NaN</td>\n",
       "      <td>Tiek pārdots saulains, mājīgs un skaists 1 ist...</td>\n",
       "      <td>Avotu 4</td>\n",
       "      <td>1</td>\n",
       "      <td>19</td>\n",
       "      <td>4/5</td>\n",
       "      <td>Renov.</td>\n",
       "      <td>3,316 €</td>\n",
       "      <td>63,000 €</td>\n",
       "    </tr>\n",
       "  </tbody>\n",
       "</table>\n",
       "</div>"
      ],
      "text/plain": [
       "   Sludinājumi \\tdatums  Sludinājumi \\tdatums.1  \\\n",
       "0                   NaN                     NaN   \n",
       "1                   NaN                     NaN   \n",
       "2                   NaN                     NaN   \n",
       "3                   NaN                     NaN   \n",
       "4                   NaN                     NaN   \n",
       "\n",
       "                              Sludinājumi \\tdatums.2           Iela  Ist.  \\\n",
       "0  Pārdodam vienistabas dzīvokli ar remontu. Izol...        Mastu 6     1   \n",
       "1  Īpašnieks pārdod. Ēka atrodas vienā no labākaj...  Raiņa bulv. 3     3   \n",
       "2  Pārdodu mājīgu un siltu 2 istabu dzīvokli ar a...        Vārnu 8     2   \n",
       "3  Ekskluzīvs dzīvoklis jaunajā Parkera projektā....  Valdemāra 41a     3   \n",
       "4  Tiek pārdots saulains, mājīgs un skaists 1 ist...        Avotu 4     1   \n",
       "\n",
       "    m2 Stāvs   Sērija Cena, m2       Cena  \n",
       "0   28   1/5   Hrušč.  1,321 €   37,000 €  \n",
       "1  105   6/6   Renov.  2,100 €  220,500 €  \n",
       "2   50   3/3  P. kara  2,200 €  109,999 €  \n",
       "3  103   2/7    Jaun.  2,816 €  290,000 €  \n",
       "4   19   4/5   Renov.  3,316 €   63,000 €  "
      ]
     },
     "execution_count": 9,
     "metadata": {},
     "output_type": "execute_result"
    }
   ],
   "source": [
    "dflist[4].head() # getting start of 5th table from our 2nd html page"
   ]
  },
  {
   "cell_type": "code",
   "execution_count": 10,
   "metadata": {},
   "outputs": [
    {
     "data": {
      "text/html": [
       "<div>\n",
       "<style scoped>\n",
       "    .dataframe tbody tr th:only-of-type {\n",
       "        vertical-align: middle;\n",
       "    }\n",
       "\n",
       "    .dataframe tbody tr th {\n",
       "        vertical-align: top;\n",
       "    }\n",
       "\n",
       "    .dataframe thead th {\n",
       "        text-align: right;\n",
       "    }\n",
       "</style>\n",
       "<table border=\"1\" class=\"dataframe\">\n",
       "  <thead>\n",
       "    <tr style=\"text-align: right;\">\n",
       "      <th></th>\n",
       "      <th>Sludinājumi \\tdatums</th>\n",
       "      <th>Sludinājumi \\tdatums.1</th>\n",
       "      <th>Sludinājumi \\tdatums.2</th>\n",
       "      <th>Iela</th>\n",
       "      <th>Ist.</th>\n",
       "      <th>m2</th>\n",
       "      <th>Stāvs</th>\n",
       "      <th>Sērija</th>\n",
       "      <th>Cena, m2</th>\n",
       "      <th>Cena</th>\n",
       "    </tr>\n",
       "  </thead>\n",
       "  <tbody>\n",
       "    <tr>\n",
       "      <th>0</th>\n",
       "      <td>NaN</td>\n",
       "      <td>NaN</td>\n",
       "      <td>Īpašnieks pārdod divistabu dzīvokli 5 soļu att...</td>\n",
       "      <td>Matīsa 45</td>\n",
       "      <td>2</td>\n",
       "      <td>45</td>\n",
       "      <td>3/6</td>\n",
       "      <td>P. kara</td>\n",
       "      <td>2,067 €</td>\n",
       "      <td>93,000 €</td>\n",
       "    </tr>\n",
       "    <tr>\n",
       "      <th>1</th>\n",
       "      <td>NaN</td>\n",
       "      <td>NaN</td>\n",
       "      <td>Pārdod divistabu dzīvokli Grīziņkalnā, Aleksan...</td>\n",
       "      <td>Čaka 146</td>\n",
       "      <td>2</td>\n",
       "      <td>55</td>\n",
       "      <td>2/5</td>\n",
       "      <td>P. kara</td>\n",
       "      <td>1,273 €</td>\n",
       "      <td>70,000 €</td>\n",
       "    </tr>\n",
       "    <tr>\n",
       "      <th>2</th>\n",
       "      <td>NaN</td>\n",
       "      <td>NaN</td>\n",
       "      <td>Tiek pārdots 3 istabu dzīvoklis pašā Rīgas cen...</td>\n",
       "      <td>Birznieka-Upīša 29</td>\n",
       "      <td>3</td>\n",
       "      <td>76</td>\n",
       "      <td>3/5</td>\n",
       "      <td>Renov.</td>\n",
       "      <td>1,776 €</td>\n",
       "      <td>135,000 €</td>\n",
       "    </tr>\n",
       "    <tr>\n",
       "      <th>3</th>\n",
       "      <td>NaN</td>\n",
       "      <td>NaN</td>\n",
       "      <td>Квартира продается со всей обстановкой, включа...</td>\n",
       "      <td>Vārnu 11</td>\n",
       "      <td>3</td>\n",
       "      <td>120</td>\n",
       "      <td>4/6</td>\n",
       "      <td>Jaun.</td>\n",
       "      <td>1,625 €</td>\n",
       "      <td>195,000 €</td>\n",
       "    </tr>\n",
       "    <tr>\n",
       "      <th>4</th>\n",
       "      <td>NaN</td>\n",
       "      <td>NaN</td>\n",
       "      <td>Tiek pārdots 3 istabu dzīvoklis “klusajā centr...</td>\n",
       "      <td>Pulkv. Brieža 7</td>\n",
       "      <td>3</td>\n",
       "      <td>80</td>\n",
       "      <td>5/7</td>\n",
       "      <td>P. kara</td>\n",
       "      <td>2,313 €</td>\n",
       "      <td>185,000 €</td>\n",
       "    </tr>\n",
       "  </tbody>\n",
       "</table>\n",
       "</div>"
      ],
      "text/plain": [
       "   Sludinājumi \\tdatums  Sludinājumi \\tdatums.1  \\\n",
       "0                   NaN                     NaN   \n",
       "1                   NaN                     NaN   \n",
       "2                   NaN                     NaN   \n",
       "3                   NaN                     NaN   \n",
       "4                   NaN                     NaN   \n",
       "\n",
       "                              Sludinājumi \\tdatums.2                Iela Ist.  \\\n",
       "0  Īpašnieks pārdod divistabu dzīvokli 5 soļu att...           Matīsa 45    2   \n",
       "1  Pārdod divistabu dzīvokli Grīziņkalnā, Aleksan...            Čaka 146    2   \n",
       "2  Tiek pārdots 3 istabu dzīvoklis pašā Rīgas cen...  Birznieka-Upīša 29    3   \n",
       "3  Квартира продается со всей обстановкой, включа...            Vārnu 11    3   \n",
       "4  Tiek pārdots 3 istabu dzīvoklis “klusajā centr...     Pulkv. Brieža 7    3   \n",
       "\n",
       "    m2 Stāvs   Sērija Cena, m2       Cena  \n",
       "0   45   3/6  P. kara  2,067 €   93,000 €  \n",
       "1   55   2/5  P. kara  1,273 €   70,000 €  \n",
       "2   76   3/5   Renov.  1,776 €  135,000 €  \n",
       "3  120   4/6    Jaun.  1,625 €  195,000 €  \n",
       "4   80   5/7  P. kara  2,313 €  185,000 €  "
      ]
     },
     "execution_count": 10,
     "metadata": {},
     "output_type": "execute_result"
    }
   ],
   "source": [
    "bigdf = pd.concat([df, dflist[4]]) # concat creates a new dataframe from an iterable! of dataframes\n",
    "# https://pandas.pydata.org/pandas-docs/stable/reference/api/pandas.concat.html\n",
    "bigdf.head()"
   ]
  },
  {
   "cell_type": "code",
   "execution_count": 11,
   "metadata": {},
   "outputs": [
    {
     "data": {
      "text/plain": [
       "((30, 10), (30, 10), (60, 10))"
      ]
     },
     "execution_count": 11,
     "metadata": {},
     "output_type": "execute_result"
    }
   ],
   "source": [
    "df.shape, dflist[4].shape, bigdf.shape"
   ]
  },
  {
   "cell_type": "code",
   "execution_count": 11,
   "metadata": {},
   "outputs": [],
   "source": [
    "bigdf.to_excel(\"riga_center_60.xlsx\")"
   ]
  },
  {
   "cell_type": "code",
   "execution_count": null,
   "metadata": {},
   "outputs": [],
   "source": [
    "# so if we know the last page of\n"
   ]
  },
  {
   "cell_type": "code",
   "execution_count": null,
   "metadata": {},
   "outputs": [],
   "source": [
    "# Challenge how to automatically get all pages no matter how many ads?\n",
    "# how to scrape web address for each ad (in case we want to look in to the ad more in depth)"
   ]
  }
 ],
 "metadata": {
  "kernelspec": {
   "display_name": "Python 3",
   "language": "python",
   "name": "python3"
  },
  "language_info": {
   "codemirror_mode": {
    "name": "ipython",
    "version": 3
   },
   "file_extension": ".py",
   "mimetype": "text/x-python",
   "name": "python",
   "nbconvert_exporter": "python",
   "pygments_lexer": "ipython3",
   "version": "3.8.3"
  }
 },
 "nbformat": 4,
 "nbformat_minor": 4
}
