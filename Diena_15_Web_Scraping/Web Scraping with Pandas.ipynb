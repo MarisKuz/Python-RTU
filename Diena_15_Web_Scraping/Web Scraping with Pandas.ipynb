{
 "cells": [
  {
   "cell_type": "code",
   "execution_count": 1,
   "metadata": {},
   "outputs": [],
   "source": [
    "import pandas as pd"
   ]
  },
  {
   "cell_type": "code",
   "execution_count": 2,
   "metadata": {},
   "outputs": [],
   "source": [
    "url = \"https://www.ss.com/lv/real-estate/flats/riga/centre/sell/\" \n",
    "# notice how we can specify some parameters in the url\n"
   ]
  },
  {
   "cell_type": "code",
   "execution_count": 3,
   "metadata": {},
   "outputs": [
    {
     "data": {
      "text/plain": [
       "list"
      ]
     },
     "execution_count": 3,
     "metadata": {},
     "output_type": "execute_result"
    }
   ],
   "source": [
    "# pandas can do some web scraping as long as there are tables\n",
    "dfs = pd.read_html(url, header=0) # i know that i want the first row to server for column names\n",
    "type(dfs)"
   ]
  },
  {
   "cell_type": "code",
   "execution_count": 4,
   "metadata": {},
   "outputs": [
    {
     "data": {
      "text/plain": [
       "7"
      ]
     },
     "execution_count": 4,
     "metadata": {},
     "output_type": "execute_result"
    }
   ],
   "source": [
    "len(dfs) # why list and why such length ?\n",
    "# well ss.com was made in early 2000s when tables were used for everything"
   ]
  },
  {
   "cell_type": "code",
   "execution_count": null,
   "metadata": {},
   "outputs": [],
   "source": [
    "# https://pandas.pydata.org/pandas-docs/stable/reference/api/pandas.read_html.html\n",
    "# pandas reads tables by default ALL tables on the page\n"
   ]
  },
  {
   "cell_type": "code",
   "execution_count": 5,
   "metadata": {},
   "outputs": [
    {
     "data": {
      "text/html": [
       "<div>\n",
       "<style scoped>\n",
       "    .dataframe tbody tr th:only-of-type {\n",
       "        vertical-align: middle;\n",
       "    }\n",
       "\n",
       "    .dataframe tbody tr th {\n",
       "        vertical-align: top;\n",
       "    }\n",
       "\n",
       "    .dataframe thead th {\n",
       "        text-align: right;\n",
       "    }\n",
       "</style>\n",
       "<table border=\"1\" class=\"dataframe\">\n",
       "  <thead>\n",
       "    <tr style=\"text-align: right;\">\n",
       "      <th></th>\n",
       "      <th>Sludinājumi \\tdatums</th>\n",
       "      <th>Sludinājumi \\tdatums.1</th>\n",
       "      <th>Sludinājumi \\tdatums.2</th>\n",
       "      <th>Iela</th>\n",
       "      <th>Ist.</th>\n",
       "      <th>m2</th>\n",
       "      <th>Stāvs</th>\n",
       "      <th>Sērija</th>\n",
       "      <th>Cena, m2</th>\n",
       "      <th>Cena</th>\n",
       "    </tr>\n",
       "  </thead>\n",
       "  <tbody>\n",
       "    <tr>\n",
       "      <th>0</th>\n",
       "      <td>NaN</td>\n",
       "      <td>NaN</td>\n",
       "      <td>Īpašnieks pārdod dzīvokli renovētā namā Rīgas ...</td>\n",
       "      <td>Avotu 4</td>\n",
       "      <td>2</td>\n",
       "      <td>33</td>\n",
       "      <td>5/5</td>\n",
       "      <td>Renov.</td>\n",
       "      <td>1,556 €</td>\n",
       "      <td>51,350 €</td>\n",
       "    </tr>\n",
       "    <tr>\n",
       "      <th>1</th>\n",
       "      <td>NaN</td>\n",
       "      <td>NaN</td>\n",
       "      <td>Tiek pārdots mēbelēts dzīvoklis.</td>\n",
       "      <td>Katrīnas d. 26</td>\n",
       "      <td>1</td>\n",
       "      <td>30</td>\n",
       "      <td>4/4</td>\n",
       "      <td>Hrušč.</td>\n",
       "      <td>800 €</td>\n",
       "      <td>24,000 €</td>\n",
       "    </tr>\n",
       "    <tr>\n",
       "      <th>2</th>\n",
       "      <td>NaN</td>\n",
       "      <td>NaN</td>\n",
       "      <td>Tiek piedāvāts dzīvoklis ar pilno iekšējo apda...</td>\n",
       "      <td>Blaumaņa 9A</td>\n",
       "      <td>1</td>\n",
       "      <td>40</td>\n",
       "      <td>4/6</td>\n",
       "      <td>Renov.</td>\n",
       "      <td>2,035 €</td>\n",
       "      <td>81,385 €</td>\n",
       "    </tr>\n",
       "    <tr>\n",
       "      <th>3</th>\n",
       "      <td>NaN</td>\n",
       "      <td>NaN</td>\n",
       "      <td>Tiek piedāvāts dzīvoklis ar pilno iekšējo apda...</td>\n",
       "      <td>Blaumaņa 9A</td>\n",
       "      <td>1</td>\n",
       "      <td>41</td>\n",
       "      <td>4/6</td>\n",
       "      <td>Renov.</td>\n",
       "      <td>2,025 €</td>\n",
       "      <td>83,025 €</td>\n",
       "    </tr>\n",
       "    <tr>\n",
       "      <th>4</th>\n",
       "      <td>NaN</td>\n",
       "      <td>NaN</td>\n",
       "      <td>Tiek piedāvāts dzīvoklis ar pilno iekšējo apda...</td>\n",
       "      <td>Blaumaņa 9A</td>\n",
       "      <td>2</td>\n",
       "      <td>40</td>\n",
       "      <td>2/6</td>\n",
       "      <td>Renov.</td>\n",
       "      <td>2,356 €</td>\n",
       "      <td>94,235 €</td>\n",
       "    </tr>\n",
       "  </tbody>\n",
       "</table>\n",
       "</div>"
      ],
      "text/plain": [
       "   Sludinājumi \\tdatums  Sludinājumi \\tdatums.1  \\\n",
       "0                   NaN                     NaN   \n",
       "1                   NaN                     NaN   \n",
       "2                   NaN                     NaN   \n",
       "3                   NaN                     NaN   \n",
       "4                   NaN                     NaN   \n",
       "\n",
       "                              Sludinājumi \\tdatums.2            Iela  Ist.  \\\n",
       "0  Īpašnieks pārdod dzīvokli renovētā namā Rīgas ...         Avotu 4     2   \n",
       "1                   Tiek pārdots mēbelēts dzīvoklis.  Katrīnas d. 26     1   \n",
       "2  Tiek piedāvāts dzīvoklis ar pilno iekšējo apda...     Blaumaņa 9A     1   \n",
       "3  Tiek piedāvāts dzīvoklis ar pilno iekšējo apda...     Blaumaņa 9A     1   \n",
       "4  Tiek piedāvāts dzīvoklis ar pilno iekšējo apda...     Blaumaņa 9A     2   \n",
       "\n",
       "   m2 Stāvs  Sērija Cena, m2      Cena  \n",
       "0  33   5/5  Renov.  1,556 €  51,350 €  \n",
       "1  30   4/4  Hrušč.    800 €  24,000 €  \n",
       "2  40   4/6  Renov.  2,035 €  81,385 €  \n",
       "3  41   4/6  Renov.  2,025 €  83,025 €  \n",
       "4  40   2/6  Renov.  2,356 €  94,235 €  "
      ]
     },
     "execution_count": 5,
     "metadata": {},
     "output_type": "execute_result"
    }
   ],
   "source": [
    "df = dfs[4] # the 5th table on our page has our info\n",
    "df.head()"
   ]
  },
  {
   "cell_type": "code",
   "execution_count": 6,
   "metadata": {},
   "outputs": [
    {
     "data": {
      "text/plain": [
       "(30, 10)"
      ]
     },
     "execution_count": 6,
     "metadata": {},
     "output_type": "execute_result"
    }
   ],
   "source": [
    "df.shape"
   ]
  },
  {
   "cell_type": "code",
   "execution_count": 7,
   "metadata": {},
   "outputs": [],
   "source": [
    "df.to_json(\"center.json\")"
   ]
  },
  {
   "cell_type": "code",
   "execution_count": 8,
   "metadata": {},
   "outputs": [],
   "source": [
    "df.to_excel(\"center.xlsx\")"
   ]
  },
  {
   "cell_type": "code",
   "execution_count": 9,
   "metadata": {},
   "outputs": [],
   "source": [
    "url2 = \"https://www.ss.com/lv/real-estate/flats/riga/centre/sell/page2.html\""
   ]
  },
  {
   "cell_type": "code",
   "execution_count": 10,
   "metadata": {},
   "outputs": [
    {
     "data": {
      "text/plain": [
       "7"
      ]
     },
     "execution_count": 10,
     "metadata": {},
     "output_type": "execute_result"
    }
   ],
   "source": [
    "dflist = pd.read_html(url2, header=0)\n",
    "len(dflist)"
   ]
  },
  {
   "cell_type": "code",
   "execution_count": 11,
   "metadata": {},
   "outputs": [
    {
     "data": {
      "text/html": [
       "<div>\n",
       "<style scoped>\n",
       "    .dataframe tbody tr th:only-of-type {\n",
       "        vertical-align: middle;\n",
       "    }\n",
       "\n",
       "    .dataframe tbody tr th {\n",
       "        vertical-align: top;\n",
       "    }\n",
       "\n",
       "    .dataframe thead th {\n",
       "        text-align: right;\n",
       "    }\n",
       "</style>\n",
       "<table border=\"1\" class=\"dataframe\">\n",
       "  <thead>\n",
       "    <tr style=\"text-align: right;\">\n",
       "      <th></th>\n",
       "      <th>Sludinājumi \\tdatums</th>\n",
       "      <th>Sludinājumi \\tdatums.1</th>\n",
       "      <th>Sludinājumi \\tdatums.2</th>\n",
       "      <th>Iela</th>\n",
       "      <th>Ist.</th>\n",
       "      <th>m2</th>\n",
       "      <th>Stāvs</th>\n",
       "      <th>Sērija</th>\n",
       "      <th>Cena, m2</th>\n",
       "      <th>Cena</th>\n",
       "    </tr>\n",
       "  </thead>\n",
       "  <tbody>\n",
       "    <tr>\n",
       "      <th>0</th>\n",
       "      <td>NaN</td>\n",
       "      <td>NaN</td>\n",
       "      <td>Pārdodas ļoti kluss un gaišs 3.5 istabu dzīvok...</td>\n",
       "      <td>Stabu 57</td>\n",
       "      <td>3</td>\n",
       "      <td>99</td>\n",
       "      <td>4/4</td>\n",
       "      <td>P. kara</td>\n",
       "      <td>1,182 €</td>\n",
       "      <td>117,000 €</td>\n",
       "    </tr>\n",
       "    <tr>\n",
       "      <th>1</th>\n",
       "      <td>NaN</td>\n",
       "      <td>NaN</td>\n",
       "      <td>Saimnieks pārdod 3-istabu dzīvokli ļoti labā a...</td>\n",
       "      <td>Stabu 29</td>\n",
       "      <td>3</td>\n",
       "      <td>83</td>\n",
       "      <td>1/6</td>\n",
       "      <td>P. kara</td>\n",
       "      <td>1,143 €</td>\n",
       "      <td>94,900 €</td>\n",
       "    </tr>\n",
       "    <tr>\n",
       "      <th>2</th>\n",
       "      <td>NaN</td>\n",
       "      <td>NaN</td>\n",
       "      <td>Pārdodas 1-istabas dzīvoklis parastajā stāvokl...</td>\n",
       "      <td>Ganību d. 15</td>\n",
       "      <td>1</td>\n",
       "      <td>39</td>\n",
       "      <td>1/6</td>\n",
       "      <td>P. kara</td>\n",
       "      <td>969 €</td>\n",
       "      <td>37,800 €</td>\n",
       "    </tr>\n",
       "    <tr>\n",
       "      <th>3</th>\n",
       "      <td>NaN</td>\n",
       "      <td>NaN</td>\n",
       "      <td>Jaunums. Vienīgais mazizmēra dzīvoklis, kurš p...</td>\n",
       "      <td>Hospitāļu 3</td>\n",
       "      <td>1</td>\n",
       "      <td>37</td>\n",
       "      <td>1/5</td>\n",
       "      <td>P. kara</td>\n",
       "      <td>1,285 €</td>\n",
       "      <td>47,555 €</td>\n",
       "    </tr>\n",
       "    <tr>\n",
       "      <th>4</th>\n",
       "      <td>NaN</td>\n",
       "      <td>NaN</td>\n",
       "      <td>Īpašnieks samazina cenu un pārdod dzīvokli ar ...</td>\n",
       "      <td>Merķeļa 7</td>\n",
       "      <td>1</td>\n",
       "      <td>30</td>\n",
       "      <td>1/5</td>\n",
       "      <td>Renov.</td>\n",
       "      <td>1,333 €</td>\n",
       "      <td>39,990 €</td>\n",
       "    </tr>\n",
       "  </tbody>\n",
       "</table>\n",
       "</div>"
      ],
      "text/plain": [
       "   Sludinājumi \\tdatums  Sludinājumi \\tdatums.1  \\\n",
       "0                   NaN                     NaN   \n",
       "1                   NaN                     NaN   \n",
       "2                   NaN                     NaN   \n",
       "3                   NaN                     NaN   \n",
       "4                   NaN                     NaN   \n",
       "\n",
       "                              Sludinājumi \\tdatums.2          Iela  Ist.  m2  \\\n",
       "0  Pārdodas ļoti kluss un gaišs 3.5 istabu dzīvok...      Stabu 57     3  99   \n",
       "1  Saimnieks pārdod 3-istabu dzīvokli ļoti labā a...      Stabu 29     3  83   \n",
       "2  Pārdodas 1-istabas dzīvoklis parastajā stāvokl...  Ganību d. 15     1  39   \n",
       "3  Jaunums. Vienīgais mazizmēra dzīvoklis, kurš p...   Hospitāļu 3     1  37   \n",
       "4  Īpašnieks samazina cenu un pārdod dzīvokli ar ...     Merķeļa 7     1  30   \n",
       "\n",
       "  Stāvs   Sērija Cena, m2       Cena  \n",
       "0   4/4  P. kara  1,182 €  117,000 €  \n",
       "1   1/6  P. kara  1,143 €   94,900 €  \n",
       "2   1/6  P. kara    969 €   37,800 €  \n",
       "3   1/5  P. kara  1,285 €   47,555 €  \n",
       "4   1/5   Renov.  1,333 €   39,990 €  "
      ]
     },
     "execution_count": 11,
     "metadata": {},
     "output_type": "execute_result"
    }
   ],
   "source": [
    "dflist[4].head() # getting start of 5th table from our 2nd html page"
   ]
  },
  {
   "cell_type": "code",
   "execution_count": 12,
   "metadata": {},
   "outputs": [
    {
     "data": {
      "text/html": [
       "<div>\n",
       "<style scoped>\n",
       "    .dataframe tbody tr th:only-of-type {\n",
       "        vertical-align: middle;\n",
       "    }\n",
       "\n",
       "    .dataframe tbody tr th {\n",
       "        vertical-align: top;\n",
       "    }\n",
       "\n",
       "    .dataframe thead th {\n",
       "        text-align: right;\n",
       "    }\n",
       "</style>\n",
       "<table border=\"1\" class=\"dataframe\">\n",
       "  <thead>\n",
       "    <tr style=\"text-align: right;\">\n",
       "      <th></th>\n",
       "      <th>Sludinājumi \\tdatums</th>\n",
       "      <th>Sludinājumi \\tdatums.1</th>\n",
       "      <th>Sludinājumi \\tdatums.2</th>\n",
       "      <th>Iela</th>\n",
       "      <th>Ist.</th>\n",
       "      <th>m2</th>\n",
       "      <th>Stāvs</th>\n",
       "      <th>Sērija</th>\n",
       "      <th>Cena, m2</th>\n",
       "      <th>Cena</th>\n",
       "    </tr>\n",
       "  </thead>\n",
       "  <tbody>\n",
       "    <tr>\n",
       "      <th>0</th>\n",
       "      <td>NaN</td>\n",
       "      <td>NaN</td>\n",
       "      <td>Īpašnieks pārdod dzīvokli renovētā namā Rīgas ...</td>\n",
       "      <td>Avotu 4</td>\n",
       "      <td>2</td>\n",
       "      <td>33</td>\n",
       "      <td>5/5</td>\n",
       "      <td>Renov.</td>\n",
       "      <td>1,556 €</td>\n",
       "      <td>51,350 €</td>\n",
       "    </tr>\n",
       "    <tr>\n",
       "      <th>1</th>\n",
       "      <td>NaN</td>\n",
       "      <td>NaN</td>\n",
       "      <td>Tiek pārdots mēbelēts dzīvoklis.</td>\n",
       "      <td>Katrīnas d. 26</td>\n",
       "      <td>1</td>\n",
       "      <td>30</td>\n",
       "      <td>4/4</td>\n",
       "      <td>Hrušč.</td>\n",
       "      <td>800 €</td>\n",
       "      <td>24,000 €</td>\n",
       "    </tr>\n",
       "    <tr>\n",
       "      <th>2</th>\n",
       "      <td>NaN</td>\n",
       "      <td>NaN</td>\n",
       "      <td>Tiek piedāvāts dzīvoklis ar pilno iekšējo apda...</td>\n",
       "      <td>Blaumaņa 9A</td>\n",
       "      <td>1</td>\n",
       "      <td>40</td>\n",
       "      <td>4/6</td>\n",
       "      <td>Renov.</td>\n",
       "      <td>2,035 €</td>\n",
       "      <td>81,385 €</td>\n",
       "    </tr>\n",
       "    <tr>\n",
       "      <th>3</th>\n",
       "      <td>NaN</td>\n",
       "      <td>NaN</td>\n",
       "      <td>Tiek piedāvāts dzīvoklis ar pilno iekšējo apda...</td>\n",
       "      <td>Blaumaņa 9A</td>\n",
       "      <td>1</td>\n",
       "      <td>41</td>\n",
       "      <td>4/6</td>\n",
       "      <td>Renov.</td>\n",
       "      <td>2,025 €</td>\n",
       "      <td>83,025 €</td>\n",
       "    </tr>\n",
       "    <tr>\n",
       "      <th>4</th>\n",
       "      <td>NaN</td>\n",
       "      <td>NaN</td>\n",
       "      <td>Tiek piedāvāts dzīvoklis ar pilno iekšējo apda...</td>\n",
       "      <td>Blaumaņa 9A</td>\n",
       "      <td>2</td>\n",
       "      <td>40</td>\n",
       "      <td>2/6</td>\n",
       "      <td>Renov.</td>\n",
       "      <td>2,356 €</td>\n",
       "      <td>94,235 €</td>\n",
       "    </tr>\n",
       "  </tbody>\n",
       "</table>\n",
       "</div>"
      ],
      "text/plain": [
       "   Sludinājumi \\tdatums  Sludinājumi \\tdatums.1  \\\n",
       "0                   NaN                     NaN   \n",
       "1                   NaN                     NaN   \n",
       "2                   NaN                     NaN   \n",
       "3                   NaN                     NaN   \n",
       "4                   NaN                     NaN   \n",
       "\n",
       "                              Sludinājumi \\tdatums.2            Iela  Ist.  \\\n",
       "0  Īpašnieks pārdod dzīvokli renovētā namā Rīgas ...         Avotu 4     2   \n",
       "1                   Tiek pārdots mēbelēts dzīvoklis.  Katrīnas d. 26     1   \n",
       "2  Tiek piedāvāts dzīvoklis ar pilno iekšējo apda...     Blaumaņa 9A     1   \n",
       "3  Tiek piedāvāts dzīvoklis ar pilno iekšējo apda...     Blaumaņa 9A     1   \n",
       "4  Tiek piedāvāts dzīvoklis ar pilno iekšējo apda...     Blaumaņa 9A     2   \n",
       "\n",
       "   m2 Stāvs  Sērija Cena, m2      Cena  \n",
       "0  33   5/5  Renov.  1,556 €  51,350 €  \n",
       "1  30   4/4  Hrušč.    800 €  24,000 €  \n",
       "2  40   4/6  Renov.  2,035 €  81,385 €  \n",
       "3  41   4/6  Renov.  2,025 €  83,025 €  \n",
       "4  40   2/6  Renov.  2,356 €  94,235 €  "
      ]
     },
     "execution_count": 12,
     "metadata": {},
     "output_type": "execute_result"
    }
   ],
   "source": [
    "bigdf = pd.concat([df, dflist[4]]) # concat creates a new dataframe from an iterable! of dataframes\n",
    "# https://pandas.pydata.org/pandas-docs/stable/reference/api/pandas.concat.html\n",
    "bigdf.head()"
   ]
  },
  {
   "cell_type": "code",
   "execution_count": 13,
   "metadata": {},
   "outputs": [
    {
     "data": {
      "text/plain": [
       "((30, 10), (30, 10), (60, 10))"
      ]
     },
     "execution_count": 13,
     "metadata": {},
     "output_type": "execute_result"
    }
   ],
   "source": [
    "df.shape, dflist[4].shape, bigdf.shape"
   ]
  },
  {
   "cell_type": "code",
   "execution_count": 14,
   "metadata": {},
   "outputs": [],
   "source": [
    "bigdf.to_excel(\"riga_center_60.xlsx\")"
   ]
  },
  {
   "cell_type": "code",
   "execution_count": null,
   "metadata": {},
   "outputs": [],
   "source": [
    "# so if we know the last page of\n"
   ]
  },
  {
   "cell_type": "code",
   "execution_count": null,
   "metadata": {},
   "outputs": [],
   "source": [
    "# Challenge how to automatically get all pages no matter how many ads?\n",
    "# how to scrape web address for each ad (in case we want to look in to the ad more in depth)"
   ]
  }
 ],
 "metadata": {
  "kernelspec": {
   "display_name": "Python 3",
   "language": "python",
   "name": "python3"
  },
  "language_info": {
   "codemirror_mode": {
    "name": "ipython",
    "version": 3
   },
   "file_extension": ".py",
   "mimetype": "text/x-python",
   "name": "python",
   "nbconvert_exporter": "python",
   "pygments_lexer": "ipython3",
   "version": "3.8.3"
  }
 },
 "nbformat": 4,
 "nbformat_minor": 4
}
