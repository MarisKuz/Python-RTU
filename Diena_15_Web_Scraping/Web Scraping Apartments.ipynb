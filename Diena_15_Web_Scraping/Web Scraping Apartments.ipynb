{
 "cells": [
  {
   "cell_type": "code",
   "execution_count": 1,
   "metadata": {},
   "outputs": [],
   "source": [
    "# Requests for handling HTTP get and other requests\n",
    "import requests\n",
    "import time # import for playing nice and not getting blocked\n",
    "import pandas as pd\n",
    "# from BeautifulSoup4 import BeatifulSoup if installed through pip install BeautifulSoup4\n",
    "# \n",
    "from bs4 import BeautifulSoup"
   ]
  },
  {
   "cell_type": "code",
   "execution_count": null,
   "metadata": {},
   "outputs": [],
   "source": [
    "# if bs4 not found install it with\n",
    "#  !pip install beatifulsoup4\n",
    "# https://www.crummy.com/software/BeautifulSoup/"
   ]
  },
  {
   "cell_type": "code",
   "execution_count": 2,
   "metadata": {},
   "outputs": [],
   "source": [
    "centrs = \"https://www.ss.com/lv/real-estate/flats/riga/centre/sell/\""
   ]
  },
  {
   "cell_type": "code",
   "execution_count": 3,
   "metadata": {},
   "outputs": [
    {
     "data": {
      "text/plain": [
       "200"
      ]
     },
     "execution_count": 3,
     "metadata": {},
     "output_type": "execute_result"
    }
   ],
   "source": [
    "req = requests.get(centrs)\n",
    "req.status_code"
   ]
  },
  {
   "cell_type": "code",
   "execution_count": 4,
   "metadata": {},
   "outputs": [
    {
     "data": {
      "text/plain": [
       "'<!DOCTYPE html>\\r\\n<HTML><HEAD>\\r\\n<title>SS.COM Dzīvokļi - Rīga - Centrs, Cenas, Pārdod - Sludinājumi</title>\\r\\n<meta http-equiv=\"Content-Type\" CONTENT=\"text/html; charset=UTF-8\">\\r\\n<meta name=\"viewport\" c'"
      ]
     },
     "execution_count": 4,
     "metadata": {},
     "output_type": "execute_result"
    }
   ],
   "source": [
    "req.text[:200]"
   ]
  },
  {
   "cell_type": "code",
   "execution_count": 5,
   "metadata": {},
   "outputs": [
    {
     "data": {
      "text/plain": [
       "<title>SS.COM Dzīvokļi - Rīga - Centrs, Cenas, Pārdod - Sludinājumi</title>"
      ]
     },
     "execution_count": 5,
     "metadata": {},
     "output_type": "execute_result"
    }
   ],
   "source": [
    "# parser means structuring your text into some structure\n",
    "soup = BeautifulSoup(req.text, 'lxml') # lxml is improved parser, a little bit more lenient\n",
    "soup.title"
   ]
  },
  {
   "cell_type": "code",
   "execution_count": 6,
   "metadata": {},
   "outputs": [
    {
     "data": {
      "text/plain": [
       "bs4.BeautifulSoup"
      ]
     },
     "execution_count": 6,
     "metadata": {},
     "output_type": "execute_result"
    }
   ],
   "source": [
    "type(soup)"
   ]
  },
  {
   "cell_type": "code",
   "execution_count": 7,
   "metadata": {},
   "outputs": [
    {
     "data": {
      "text/plain": [
       "7"
      ]
     },
     "execution_count": 7,
     "metadata": {},
     "output_type": "execute_result"
    }
   ],
   "source": [
    "# https://www.crummy.com/software/BeautifulSoup/bs4/doc/#find-all\n",
    "tables = soup.find_all(\"table\") # finds ALL elements matching our filter\n",
    "len(tables) "
   ]
  },
  {
   "cell_type": "code",
   "execution_count": 7,
   "metadata": {},
   "outputs": [
    {
     "data": {
      "text/plain": [
       "<tr id=\"head_line\">\n",
       "<td class=\"msg_column\" colspan=\"3\" width=\"70%\">\n",
       "<span style=\"float:left;\"> Sludinājumi\n",
       "</span>\n",
       "<span align=\"right\" class=\"msg_column\" style=\"float:right;text-align:right;padding-right:3px;\">\n",
       "<noindex>\n",
       "<a class=\"a19\" href=\"/lv/real-estate/flats/riga/centre/sell/fDgSeF4S.html\" rel=\"nofollow\">datums</a></noindex></span>\n",
       "</td>\n",
       "<td class=\"msg_column_td\" nowrap=\"\"><noindex><a class=\"a18\" href=\"/lv/real-estate/flats/riga/centre/sell/fDgSeF4SFDwT.html\" rel=\"nofollow\" title=\"\">Iela</a></noindex></td><td class=\"msg_column_td\" nowrap=\"\"><noindex><a class=\"a18\" href=\"/lv/real-estate/flats/riga/centre/sell/fDgSeF4SelM=.html\" rel=\"nofollow\" title=\"\">Ist.</a></noindex></td><td class=\"msg_column_td\" nowrap=\"\"><noindex><a class=\"a18\" href=\"/lv/real-estate/flats/riga/centre/sell/fDgSeF4QelM=.html\" rel=\"nofollow\" title=\"\">m2</a></noindex></td><td class=\"msg_column_td\" nowrap=\"\"><noindex><a class=\"a18\" href=\"/lv/real-estate/flats/riga/centre/sell/fDgSeF4XelM=.html\" rel=\"nofollow\" title=\"\">Stāvs</a></noindex></td><td class=\"msg_column_td\" nowrap=\"\"><noindex><a class=\"a18\" href=\"/lv/real-estate/flats/riga/centre/sell/fDgSeF4VelM=.html\" rel=\"nofollow\" title=\"\">Sērija</a></noindex></td><td background=\"https://i.ss.com/img/pl.gif\" class=\"msg_column\" nowrap=\"\" style=\"border-left:1px #FFFFFF solid;\"><noindex><a class=\"a18\" href=\"/lv/real-estate/flats/riga/centre/sell/fDgSeF4bRDwT.html\" rel=\"nofollow\">Cena, m2</a></noindex></td><td class=\"msg_column_td\" nowrap=\"\"><noindex><a class=\"a18\" href=\"/lv/real-estate/flats/riga/centre/sell/fDgSeF4belM=.html\" rel=\"nofollow\" title=\"\">Cena</a></noindex></td></tr>"
      ]
     },
     "execution_count": 7,
     "metadata": {},
     "output_type": "execute_result"
    }
   ],
   "source": [
    "# find finds just one match\n",
    "headline = soup.find(\"tr\", {\"id\":\"head_line\"}) # this is a shorter way of finding by tr AND this element having particular id\n",
    "headline"
   ]
  },
  {
   "cell_type": "code",
   "execution_count": 8,
   "metadata": {},
   "outputs": [
    {
     "data": {
      "text/plain": [
       "bs4.element.Tag"
      ]
     },
     "execution_count": 8,
     "metadata": {},
     "output_type": "execute_result"
    }
   ],
   "source": [
    "type(headline)"
   ]
  },
  {
   "cell_type": "code",
   "execution_count": 9,
   "metadata": {},
   "outputs": [
    {
     "data": {
      "text/plain": [
       "[<td class=\"msg_column\" colspan=\"3\" width=\"70%\">\n",
       " <span style=\"float:left;\"> Sludinājumi\n",
       " </span>\n",
       " <span align=\"right\" class=\"msg_column\" style=\"float:right;text-align:right;padding-right:3px;\">\n",
       " <noindex>\n",
       " <a class=\"a19\" href=\"/lv/real-estate/flats/riga/centre/sell/fDgSeF4S.html\" rel=\"nofollow\">datums</a></noindex></span>\n",
       " </td>,\n",
       " <td class=\"msg_column_td\" nowrap=\"\"><noindex><a class=\"a18\" href=\"/lv/real-estate/flats/riga/centre/sell/fDgSeF4SFDwT.html\" rel=\"nofollow\" title=\"\">Iela</a></noindex></td>,\n",
       " <td class=\"msg_column_td\" nowrap=\"\"><noindex><a class=\"a18\" href=\"/lv/real-estate/flats/riga/centre/sell/fDgSeF4SelM=.html\" rel=\"nofollow\" title=\"\">Ist.</a></noindex></td>,\n",
       " <td class=\"msg_column_td\" nowrap=\"\"><noindex><a class=\"a18\" href=\"/lv/real-estate/flats/riga/centre/sell/fDgSeF4QelM=.html\" rel=\"nofollow\" title=\"\">m2</a></noindex></td>,\n",
       " <td class=\"msg_column_td\" nowrap=\"\"><noindex><a class=\"a18\" href=\"/lv/real-estate/flats/riga/centre/sell/fDgSeF4XelM=.html\" rel=\"nofollow\" title=\"\">Stāvs</a></noindex></td>,\n",
       " <td class=\"msg_column_td\" nowrap=\"\"><noindex><a class=\"a18\" href=\"/lv/real-estate/flats/riga/centre/sell/fDgSeF4VelM=.html\" rel=\"nofollow\" title=\"\">Sērija</a></noindex></td>,\n",
       " <td background=\"https://i.ss.com/img/pl.gif\" class=\"msg_column\" nowrap=\"\" style=\"border-left:1px #FFFFFF solid;\"><noindex><a class=\"a18\" href=\"/lv/real-estate/flats/riga/centre/sell/fDgSeF4bRDwT.html\" rel=\"nofollow\">Cena, m2</a></noindex></td>,\n",
       " <td class=\"msg_column_td\" nowrap=\"\"><noindex><a class=\"a18\" href=\"/lv/real-estate/flats/riga/centre/sell/fDgSeF4belM=.html\" rel=\"nofollow\" title=\"\">Cena</a></noindex></td>]"
      ]
     },
     "execution_count": 9,
     "metadata": {},
     "output_type": "execute_result"
    }
   ],
   "source": [
    "headtds = headline.find_all(\"td\")\n",
    "# https://developer.mozilla.org/en-US/docs/Web/HTML/Element/td\n",
    "headtds"
   ]
  },
  {
   "cell_type": "code",
   "execution_count": 10,
   "metadata": {},
   "outputs": [
    {
     "data": {
      "text/plain": [
       "8"
      ]
     },
     "execution_count": 10,
     "metadata": {},
     "output_type": "execute_result"
    }
   ],
   "source": [
    "len(headtds) # so we have 8 table data elements"
   ]
  },
  {
   "cell_type": "code",
   "execution_count": 11,
   "metadata": {},
   "outputs": [
    {
     "data": {
      "text/plain": [
       "'\\n\\n\\xa0Sludinājumi\\r\\n\\n\\n\\ndatums\\n\\nIelaIst.m2StāvsSērijaCena, m2Cena'"
      ]
     },
     "execution_count": 11,
     "metadata": {},
     "output_type": "execute_result"
    }
   ],
   "source": [
    "headline.text"
   ]
  },
  {
   "cell_type": "code",
   "execution_count": 12,
   "metadata": {},
   "outputs": [
    {
     "data": {
      "text/plain": [
       "['Iela', 'Ist.', 'm2', 'Stāvs', 'Sērija', 'Cena, m2', 'Cena']"
      ]
     },
     "execution_count": 12,
     "metadata": {},
     "output_type": "execute_result"
    }
   ],
   "source": [
    "headcolumns = [el.text for el in headtds[1:]] #.text gets us content even from children and grandchildren\n",
    "headcolumns"
   ]
  },
  {
   "cell_type": "code",
   "execution_count": 13,
   "metadata": {},
   "outputs": [],
   "source": [
    "# lets combine the above cells into a function which will always get us columns\n",
    "def getColList(soup):\n",
    "    column_list = [\"description\",\"url\"] # we decided to that we need these two column names no matter the html\n",
    "    headline = soup.find(\"tr\", {\"id\":\"head_line\"})\n",
    "    headtds = headline.find_all(\"td\")\n",
    "    headcolumns = [el.text for el in headtds[1:]] # this will get all column names starting with 2nd in HTML\n",
    "    column_list += headcolumns\n",
    "    return column_list"
   ]
  },
  {
   "cell_type": "code",
   "execution_count": 14,
   "metadata": {},
   "outputs": [
    {
     "data": {
      "text/plain": [
       "['description',\n",
       " 'url',\n",
       " 'Iela',\n",
       " 'Ist.',\n",
       " 'm2',\n",
       " 'Stāvs',\n",
       " 'Sērija',\n",
       " 'Cena, m2',\n",
       " 'Cena']"
      ]
     },
     "execution_count": 14,
     "metadata": {},
     "output_type": "execute_result"
    }
   ],
   "source": [
    "column_names = getColList(soup)\n",
    "column_names"
   ]
  },
  {
   "cell_type": "code",
   "execution_count": 15,
   "metadata": {},
   "outputs": [
    {
     "data": {
      "text/plain": [
       "39"
      ]
     },
     "execution_count": 15,
     "metadata": {},
     "output_type": "execute_result"
    }
   ],
   "source": [
    "trows = soup.find_all('tr')\n",
    "len(trows)\n"
   ]
  },
  {
   "cell_type": "code",
   "execution_count": 19,
   "metadata": {},
   "outputs": [
    {
     "data": {
      "text/plain": [
       "30"
      ]
     },
     "execution_count": 19,
     "metadata": {},
     "output_type": "execute_result"
    }
   ],
   "source": [
    "# hardest part in this \n",
    "# how to filter only specific rows\n",
    "# we need to find something that is unique to our apartment rows but not to the extra rows\n",
    "# remember we id is not guaranteed, so \"\" gives us default value when there is no id\n",
    "apt_rows = [row for row in trows if row.get('id',\"\").startswith(\"tr_\") and not row.get('id',\"\").startswith(\"tr_bnr\") ]\n",
    "len(apt_rows)"
   ]
  },
  {
   "cell_type": "code",
   "execution_count": 20,
   "metadata": {},
   "outputs": [
    {
     "data": {
      "text/plain": [
       "<tr id=\"tr_47537980\"><td class=\"msga2 pp0\"><input id=\"c47537980\" name=\"mid[]\" type=\"checkbox\" value=\"47537980_1106_0\"/></td><td class=\"msga2\"><a href=\"/msg/lv/real-estate/flats/riga/centre/ehxci.html\" id=\"im47537980\"><img alt=\"\" class=\"isfoto foto_list\" src=\"https://i.ss.com/gallery/4/634/158414/31682721.th2.jpg\"/></a></td><td class=\"msg2\"><div class=\"d1\"><a class=\"am\" data=\"JUE0ZCU4OSU5MWolOTAlOUElRUZjJTg4JThGayU4RCU5NiVBM2slODYlOEFmJThEJTk3JUEzZiU4MyU4OGY=|s2SX6Xb\" href=\"/msg/lv/real-estate/flats/riga/centre/ehxci.html\" id=\"dm_47537980\">Просторная и продуманная квартира в новом проекте. \n",
       "\n",
       "Тщательно</a></div></td><td c=\"1\" class=\"msga2-o pp6\" nowrap=\"\">Brīvības 230</td><td c=\"1\" class=\"msga2-o pp6\" nowrap=\"\">4</td><td c=\"1\" class=\"msga2-o pp6\" nowrap=\"\">93</td><td c=\"1\" class=\"msga2-o pp6\" nowrap=\"\">6/10</td><td c=\"1\" class=\"msga2-o pp6\" nowrap=\"\">Jaun.</td><td c=\"1\" class=\"msga2-o pp6\" nowrap=\"\">1,667 €</td><td c=\"1\" class=\"msga2-o pp6\" nowrap=\"\">155,000  €</td></tr>"
      ]
     },
     "execution_count": 20,
     "metadata": {},
     "output_type": "execute_result"
    }
   ],
   "source": [
    "apt_rows[-1]"
   ]
  },
  {
   "cell_type": "code",
   "execution_count": 21,
   "metadata": {},
   "outputs": [],
   "source": [
    "# lets make a function from the above doodle and make it work on most pages on SS\n",
    "def getRowList(soup):\n",
    "    trows = soup.find_all('tr')\n",
    "    aprows = [row for row in trows if row.get('id',\"\").startswith(\"tr_\") and not row.get('id',\"\").startswith(\"tr_bnr\") ]\n",
    "    return aprows"
   ]
  },
  {
   "cell_type": "code",
   "execution_count": 22,
   "metadata": {},
   "outputs": [
    {
     "data": {
      "text/plain": [
       "10"
      ]
     },
     "execution_count": 22,
     "metadata": {},
     "output_type": "execute_result"
    }
   ],
   "source": [
    "row_tds = apt_rows[0].find_all('td')\n",
    "len(row_tds)"
   ]
  },
  {
   "cell_type": "code",
   "execution_count": 23,
   "metadata": {},
   "outputs": [
    {
     "data": {
      "text/plain": [
       "[<td class=\"msga2 pp0\"><input id=\"c48047630\" name=\"mid[]\" type=\"checkbox\" value=\"48047630_1106_0\"/></td>,\n",
       " <td class=\"msga2\"><a href=\"/msg/lv/real-estate/flats/riga/centre/fexeo.html\" id=\"im48047630\"><img alt=\"\" class=\"isfoto foto_list\" src=\"https://i.ss.com/gallery/4/623/155568/31113474.th2.jpg\"/></a></td>,\n",
       " <td class=\"msg2\"><div class=\"d1\"><a class=\"am\" data=\"ayU4QiU4MWclODUlQjRpJTdCJThDJTk4ZyU4NCU3RmMlODdscXolODclOTJpJTgzeGE=|6SH1T88FSb\" href=\"/msg/lv/real-estate/flats/riga/centre/fexeo.html\" id=\"dm_48047630\">Pārdod studio tipa dzīvokli renovētā mājā. Pvn iekļauts cenā. \n",
       " </a></div></td>,\n",
       " <td c=\"1\" class=\"msga2-o pp6\" nowrap=\"\">Avotu 4</td>,\n",
       " <td c=\"1\" class=\"msga2-o pp6\" nowrap=\"\">1</td>,\n",
       " <td c=\"1\" class=\"msga2-o pp6\" nowrap=\"\">20</td>,\n",
       " <td c=\"1\" class=\"msga2-o pp6\" nowrap=\"\">1/5</td>,\n",
       " <td c=\"1\" class=\"msga2-o pp6\" nowrap=\"\">Renov.</td>,\n",
       " <td c=\"1\" class=\"msga2-o pp6\" nowrap=\"\">1,650 €</td>,\n",
       " <td c=\"1\" class=\"msga2-o pp6\" nowrap=\"\">32,990  €</td>]"
      ]
     },
     "execution_count": 23,
     "metadata": {},
     "output_type": "execute_result"
    }
   ],
   "source": [
    "row_tds"
   ]
  },
  {
   "cell_type": "code",
   "execution_count": 24,
   "metadata": {},
   "outputs": [
    {
     "data": {
      "text/plain": [
       "''"
      ]
     },
     "execution_count": 24,
     "metadata": {},
     "output_type": "execute_result"
    }
   ],
   "source": [
    "row_tds[0].text"
   ]
  },
  {
   "cell_type": "code",
   "execution_count": 25,
   "metadata": {},
   "outputs": [
    {
     "data": {
      "text/plain": [
       "''"
      ]
     },
     "execution_count": 25,
     "metadata": {},
     "output_type": "execute_result"
    }
   ],
   "source": [
    "row_tds[1].text"
   ]
  },
  {
   "cell_type": "code",
   "execution_count": 26,
   "metadata": {},
   "outputs": [
    {
     "data": {
      "text/plain": [
       "{'class': ['msga2']}"
      ]
     },
     "execution_count": 26,
     "metadata": {},
     "output_type": "execute_result"
    }
   ],
   "source": [
    "row_tds[1].attrs"
   ]
  },
  {
   "cell_type": "code",
   "execution_count": 27,
   "metadata": {},
   "outputs": [
    {
     "data": {
      "text/plain": [
       "<img alt=\"\" class=\"isfoto foto_list\" src=\"https://i.ss.com/gallery/4/623/155568/31113474.th2.jpg\"/>"
      ]
     },
     "execution_count": 27,
     "metadata": {},
     "output_type": "execute_result"
    }
   ],
   "source": [
    "img = row_tds[1].find(\"img\")\n",
    "img"
   ]
  },
  {
   "cell_type": "code",
   "execution_count": 28,
   "metadata": {},
   "outputs": [
    {
     "data": {
      "text/plain": [
       "'https://i.ss.com/gallery/4/623/155568/31113474.th2.jpg'"
      ]
     },
     "execution_count": 28,
     "metadata": {},
     "output_type": "execute_result"
    }
   ],
   "source": [
    "img.get(\"src\")"
   ]
  },
  {
   "cell_type": "code",
   "execution_count": 29,
   "metadata": {},
   "outputs": [
    {
     "data": {
      "text/plain": [
       "'Pārdod studio tipa dzīvokli renovētā mājā. Pvn iekļauts cenā. \\r\\n'"
      ]
     },
     "execution_count": 29,
     "metadata": {},
     "output_type": "execute_result"
    }
   ],
   "source": [
    "row_tds[2].text"
   ]
  },
  {
   "cell_type": "code",
   "execution_count": 30,
   "metadata": {},
   "outputs": [
    {
     "data": {
      "text/plain": [
       "'32,990  €'"
      ]
     },
     "execution_count": 30,
     "metadata": {},
     "output_type": "execute_result"
    }
   ],
   "source": [
    "row_tds[-1].text"
   ]
  },
  {
   "cell_type": "code",
   "execution_count": 31,
   "metadata": {},
   "outputs": [
    {
     "data": {
      "text/plain": [
       "<a href=\"/msg/lv/real-estate/flats/riga/centre/fexeo.html\" id=\"im48047630\"><img alt=\"\" class=\"isfoto foto_list\" src=\"https://i.ss.com/gallery/4/623/155568/31113474.th2.jpg\"/></a>"
      ]
     },
     "execution_count": 31,
     "metadata": {},
     "output_type": "execute_result"
    }
   ],
   "source": [
    "a = row_tds[1].find('a') # a tag is called anchor tag\n",
    "a"
   ]
  },
  {
   "cell_type": "code",
   "execution_count": 32,
   "metadata": {},
   "outputs": [
    {
     "data": {
      "text/plain": [
       "{'href': '/msg/lv/real-estate/flats/riga/centre/fexeo.html',\n",
       " 'id': 'im48047630'}"
      ]
     },
     "execution_count": 32,
     "metadata": {},
     "output_type": "execute_result"
    }
   ],
   "source": [
    "a.attrs"
   ]
  },
  {
   "cell_type": "code",
   "execution_count": 34,
   "metadata": {},
   "outputs": [
    {
     "data": {
      "text/plain": [
       "('/msg/lv/real-estate/flats/riga/centre/fexeo.html',\n",
       " '/msg/lv/real-estate/flats/riga/centre/fexeo.html')"
      ]
     },
     "execution_count": 34,
     "metadata": {},
     "output_type": "execute_result"
    }
   ],
   "source": [
    "a.get('href'), a['href']"
   ]
  },
  {
   "cell_type": "code",
   "execution_count": 35,
   "metadata": {},
   "outputs": [],
   "source": [
    "def getRow(row,colist=column_names):\n",
    "    row_tds = row.find_all('td')\n",
    "    rowDict = {}\n",
    "    if len(row_tds) <3: # a little sanity check\n",
    "        print(\"Hmm bad row\")\n",
    "        return rowDict\n",
    "    \n",
    "    rowDict[colist[0]] = row_tds[2].text # so the big assumption is that we always get description in 3rd column\n",
    "    rowDict[colist[1]] = \"https://ss.com\" + row_tds[1].find('a').get('href')\n",
    "    for td,key in zip(row_tds[3:],colist[2:]): \n",
    "        rowDict[key] = td.text\n",
    "    return rowDict"
   ]
  },
  {
   "cell_type": "code",
   "execution_count": 36,
   "metadata": {},
   "outputs": [
    {
     "data": {
      "text/plain": [
       "<tr id=\"tr_48047630\"><td class=\"msga2 pp0\"><input id=\"c48047630\" name=\"mid[]\" type=\"checkbox\" value=\"48047630_1106_0\"/></td><td class=\"msga2\"><a href=\"/msg/lv/real-estate/flats/riga/centre/fexeo.html\" id=\"im48047630\"><img alt=\"\" class=\"isfoto foto_list\" src=\"https://i.ss.com/gallery/4/623/155568/31113474.th2.jpg\"/></a></td><td class=\"msg2\"><div class=\"d1\"><a class=\"am\" data=\"ayU4QiU4MWclODUlQjRpJTdCJThDJTk4ZyU4NCU3RmMlODdscXolODclOTJpJTgzeGE=|6SH1T88FSb\" href=\"/msg/lv/real-estate/flats/riga/centre/fexeo.html\" id=\"dm_48047630\">Pārdod studio tipa dzīvokli renovētā mājā. Pvn iekļauts cenā. \n",
       "</a></div></td><td c=\"1\" class=\"msga2-o pp6\" nowrap=\"\">Avotu 4</td><td c=\"1\" class=\"msga2-o pp6\" nowrap=\"\">1</td><td c=\"1\" class=\"msga2-o pp6\" nowrap=\"\">20</td><td c=\"1\" class=\"msga2-o pp6\" nowrap=\"\">1/5</td><td c=\"1\" class=\"msga2-o pp6\" nowrap=\"\">Renov.</td><td c=\"1\" class=\"msga2-o pp6\" nowrap=\"\">1,650 €</td><td c=\"1\" class=\"msga2-o pp6\" nowrap=\"\">32,990  €</td></tr>"
      ]
     },
     "execution_count": 36,
     "metadata": {},
     "output_type": "execute_result"
    }
   ],
   "source": [
    "apt_rows[0] # first row of ads"
   ]
  },
  {
   "cell_type": "code",
   "execution_count": 37,
   "metadata": {},
   "outputs": [
    {
     "data": {
      "text/plain": [
       "{'description': 'Pārdod studio tipa dzīvokli renovētā mājā. Pvn iekļauts cenā. \\r\\n',\n",
       " 'url': 'https://ss.com/msg/lv/real-estate/flats/riga/centre/fexeo.html',\n",
       " 'Iela': 'Avotu 4',\n",
       " 'Ist.': '1',\n",
       " 'm2': '20',\n",
       " 'Stāvs': '1/5',\n",
       " 'Sērija': 'Renov.',\n",
       " 'Cena, m2': '1,650 €',\n",
       " 'Cena': '32,990  €'}"
      ]
     },
     "execution_count": 37,
     "metadata": {},
     "output_type": "execute_result"
    }
   ],
   "source": [
    "getRow(apt_rows[0])"
   ]
  },
  {
   "cell_type": "code",
   "execution_count": 38,
   "metadata": {},
   "outputs": [],
   "source": [
    "def getRows(rowlist,colist=column_names):\n",
    "    return [getRow(row, colist=colist) for row in rowlist]\n"
   ]
  },
  {
   "cell_type": "code",
   "execution_count": 39,
   "metadata": {},
   "outputs": [
    {
     "data": {
      "text/plain": [
       "[{'description': 'Pārdodu plašu 5 istabu dzīvokli projektā „Šokolāde” (2008). Papi',\n",
       "  'url': 'https://ss.com/msg/lv/real-estate/flats/riga/centre/eghbl.html',\n",
       "  'Iela': 'Hospitāļu 23',\n",
       "  'Ist.': '5',\n",
       "  'm2': '214',\n",
       "  'Stāvs': '5/8',\n",
       "  'Sērija': 'Jaun.',\n",
       "  'Cena, m2': '1,631 €',\n",
       "  'Cena': '349,000  €'},\n",
       " {'description': 'Tiek piedāvāts renovēts divu līmeņu 3 istabu mansarda dzīvoklis ',\n",
       "  'url': 'https://ss.com/msg/lv/real-estate/flats/riga/centre/abdjg.html',\n",
       "  'Iela': 'Valdemāra 57/59',\n",
       "  'Ist.': '3',\n",
       "  'm2': '62',\n",
       "  'Stāvs': '7/7',\n",
       "  'Sērija': 'P. kara',\n",
       "  'Cena, m2': '2,000 €',\n",
       "  'Cena': '124,000  €'},\n",
       " {'description': 'Просторная и продуманная квартира в новом проекте. \\r\\n\\r\\nТщательно',\n",
       "  'url': 'https://ss.com/msg/lv/real-estate/flats/riga/centre/ehxci.html',\n",
       "  'Iela': 'Brīvības 230',\n",
       "  'Ist.': '4',\n",
       "  'm2': '93',\n",
       "  'Stāvs': '6/10',\n",
       "  'Sērija': 'Jaun.',\n",
       "  'Cena, m2': '1,667 €',\n",
       "  'Cena': '155,000  €'}]"
      ]
     },
     "execution_count": 39,
     "metadata": {},
     "output_type": "execute_result"
    }
   ],
   "source": [
    "row_ads = getRows(apt_rows)\n",
    "row_ads[-3:]"
   ]
  },
  {
   "cell_type": "code",
   "execution_count": 40,
   "metadata": {},
   "outputs": [
    {
     "data": {
      "text/plain": [
       "(30, 9)"
      ]
     },
     "execution_count": 40,
     "metadata": {},
     "output_type": "execute_result"
    }
   ],
   "source": [
    "dtemp = pd.DataFrame(row_ads, columns=column_names)\n",
    "dtemp.shape"
   ]
  },
  {
   "cell_type": "code",
   "execution_count": 41,
   "metadata": {},
   "outputs": [
    {
     "data": {
      "text/html": [
       "<div>\n",
       "<style scoped>\n",
       "    .dataframe tbody tr th:only-of-type {\n",
       "        vertical-align: middle;\n",
       "    }\n",
       "\n",
       "    .dataframe tbody tr th {\n",
       "        vertical-align: top;\n",
       "    }\n",
       "\n",
       "    .dataframe thead th {\n",
       "        text-align: right;\n",
       "    }\n",
       "</style>\n",
       "<table border=\"1\" class=\"dataframe\">\n",
       "  <thead>\n",
       "    <tr style=\"text-align: right;\">\n",
       "      <th></th>\n",
       "      <th>description</th>\n",
       "      <th>url</th>\n",
       "      <th>Iela</th>\n",
       "      <th>Ist.</th>\n",
       "      <th>m2</th>\n",
       "      <th>Stāvs</th>\n",
       "      <th>Sērija</th>\n",
       "      <th>Cena, m2</th>\n",
       "      <th>Cena</th>\n",
       "    </tr>\n",
       "  </thead>\n",
       "  <tbody>\n",
       "    <tr>\n",
       "      <th>0</th>\n",
       "      <td>Pārdod studio tipa dzīvokli renovētā mājā. Pvn...</td>\n",
       "      <td>https://ss.com/msg/lv/real-estate/flats/riga/c...</td>\n",
       "      <td>Avotu 4</td>\n",
       "      <td>1</td>\n",
       "      <td>20</td>\n",
       "      <td>1/5</td>\n",
       "      <td>Renov.</td>\n",
       "      <td>1,650 €</td>\n",
       "      <td>32,990  €</td>\n",
       "    </tr>\n",
       "    <tr>\n",
       "      <th>1</th>\n",
       "      <td>Īpašnieks pārdod dzīvokli renovētā namā Rīgas ...</td>\n",
       "      <td>https://ss.com/msg/lv/real-estate/flats/riga/c...</td>\n",
       "      <td>Avotu 4</td>\n",
       "      <td>2</td>\n",
       "      <td>33</td>\n",
       "      <td>5/5</td>\n",
       "      <td>Renov.</td>\n",
       "      <td>1,556 €</td>\n",
       "      <td>51,350  €</td>\n",
       "    </tr>\n",
       "    <tr>\n",
       "      <th>2</th>\n",
       "      <td>Tiek pārdots mēbelēts dzīvoklis.</td>\n",
       "      <td>https://ss.com/msg/lv/real-estate/flats/riga/c...</td>\n",
       "      <td>Katrīnas d. 26</td>\n",
       "      <td>1</td>\n",
       "      <td>30</td>\n",
       "      <td>4/4</td>\n",
       "      <td>Hrušč.</td>\n",
       "      <td>800 €</td>\n",
       "      <td>24,000  €</td>\n",
       "    </tr>\n",
       "    <tr>\n",
       "      <th>3</th>\n",
       "      <td>Tiek piedāvāts dzīvoklis ar pilno iekšējo apda...</td>\n",
       "      <td>https://ss.com/msg/lv/real-estate/flats/riga/c...</td>\n",
       "      <td>Blaumaņa 9A</td>\n",
       "      <td>1</td>\n",
       "      <td>40</td>\n",
       "      <td>4/6</td>\n",
       "      <td>Renov.</td>\n",
       "      <td>2,035 €</td>\n",
       "      <td>81,385  €</td>\n",
       "    </tr>\n",
       "    <tr>\n",
       "      <th>4</th>\n",
       "      <td>Tiek piedāvāts dzīvoklis ar pilno iekšējo apda...</td>\n",
       "      <td>https://ss.com/msg/lv/real-estate/flats/riga/c...</td>\n",
       "      <td>Blaumaņa 9A</td>\n",
       "      <td>1</td>\n",
       "      <td>41</td>\n",
       "      <td>4/6</td>\n",
       "      <td>Renov.</td>\n",
       "      <td>2,025 €</td>\n",
       "      <td>83,025  €</td>\n",
       "    </tr>\n",
       "  </tbody>\n",
       "</table>\n",
       "</div>"
      ],
      "text/plain": [
       "                                         description  \\\n",
       "0  Pārdod studio tipa dzīvokli renovētā mājā. Pvn...   \n",
       "1  Īpašnieks pārdod dzīvokli renovētā namā Rīgas ...   \n",
       "2                   Tiek pārdots mēbelēts dzīvoklis.   \n",
       "3  Tiek piedāvāts dzīvoklis ar pilno iekšējo apda...   \n",
       "4  Tiek piedāvāts dzīvoklis ar pilno iekšējo apda...   \n",
       "\n",
       "                                                 url            Iela Ist.  m2  \\\n",
       "0  https://ss.com/msg/lv/real-estate/flats/riga/c...         Avotu 4    1  20   \n",
       "1  https://ss.com/msg/lv/real-estate/flats/riga/c...         Avotu 4    2  33   \n",
       "2  https://ss.com/msg/lv/real-estate/flats/riga/c...  Katrīnas d. 26    1  30   \n",
       "3  https://ss.com/msg/lv/real-estate/flats/riga/c...     Blaumaņa 9A    1  40   \n",
       "4  https://ss.com/msg/lv/real-estate/flats/riga/c...     Blaumaņa 9A    1  41   \n",
       "\n",
       "  Stāvs  Sērija Cena, m2       Cena  \n",
       "0   1/5  Renov.  1,650 €  32,990  €  \n",
       "1   5/5  Renov.  1,556 €  51,350  €  \n",
       "2   4/4  Hrušč.    800 €  24,000  €  \n",
       "3   4/6  Renov.  2,035 €  81,385  €  \n",
       "4   4/6  Renov.  2,025 €  83,025  €  "
      ]
     },
     "execution_count": 41,
     "metadata": {},
     "output_type": "execute_result"
    }
   ],
   "source": [
    "dtemp.head()"
   ]
  },
  {
   "cell_type": "code",
   "execution_count": 42,
   "metadata": {},
   "outputs": [],
   "source": [
    "def getDFfromURL(url):\n",
    "    # print(\"getting data from\", url)\n",
    "    req = requests.get(url)\n",
    "    if req.status_code != 200:\n",
    "        print(\"Request Fail with\", req.status_code)\n",
    "        return None # maybe return empty dataframe here\n",
    "    soup = BeautifulSoup(req.text, 'lxml')\n",
    "    column_names = getColList(soup)\n",
    "    rowlist = getRowList(soup)\n",
    "    rows = getRows(rowlist,colist=column_names)\n",
    "    return pd.DataFrame(rows, columns=column_names)\n",
    "    "
   ]
  },
  {
   "cell_type": "code",
   "execution_count": 43,
   "metadata": {},
   "outputs": [
    {
     "data": {
      "text/plain": [
       "'https://www.ss.com/lv/real-estate/flats/riga/centre/sell/'"
      ]
     },
     "execution_count": 43,
     "metadata": {},
     "output_type": "execute_result"
    }
   ],
   "source": [
    "centrs"
   ]
  },
  {
   "cell_type": "code",
   "execution_count": 44,
   "metadata": {},
   "outputs": [],
   "source": [
    "df = getDFfromURL(centrs)"
   ]
  },
  {
   "cell_type": "code",
   "execution_count": 45,
   "metadata": {},
   "outputs": [
    {
     "data": {
      "text/plain": [
       "(30, 9)"
      ]
     },
     "execution_count": 45,
     "metadata": {},
     "output_type": "execute_result"
    }
   ],
   "source": [
    "df.shape"
   ]
  },
  {
   "cell_type": "code",
   "execution_count": 46,
   "metadata": {},
   "outputs": [
    {
     "data": {
      "text/html": [
       "<div>\n",
       "<style scoped>\n",
       "    .dataframe tbody tr th:only-of-type {\n",
       "        vertical-align: middle;\n",
       "    }\n",
       "\n",
       "    .dataframe tbody tr th {\n",
       "        vertical-align: top;\n",
       "    }\n",
       "\n",
       "    .dataframe thead th {\n",
       "        text-align: right;\n",
       "    }\n",
       "</style>\n",
       "<table border=\"1\" class=\"dataframe\">\n",
       "  <thead>\n",
       "    <tr style=\"text-align: right;\">\n",
       "      <th></th>\n",
       "      <th>description</th>\n",
       "      <th>url</th>\n",
       "      <th>Iela</th>\n",
       "      <th>Ist.</th>\n",
       "      <th>m2</th>\n",
       "      <th>Stāvs</th>\n",
       "      <th>Sērija</th>\n",
       "      <th>Cena, m2</th>\n",
       "      <th>Cena</th>\n",
       "    </tr>\n",
       "  </thead>\n",
       "  <tbody>\n",
       "    <tr>\n",
       "      <th>0</th>\n",
       "      <td>Pārdodu vienistabas dzīvokli ar 3, 40 m augsti...</td>\n",
       "      <td>https://ss.com/msg/lv/real-estate/flats/riga/c...</td>\n",
       "      <td>Kazarmu 3a</td>\n",
       "      <td>1</td>\n",
       "      <td>21</td>\n",
       "      <td>3/4</td>\n",
       "      <td>P. kara</td>\n",
       "      <td>1,738 €</td>\n",
       "      <td>36,500  €</td>\n",
       "    </tr>\n",
       "    <tr>\n",
       "      <th>1</th>\n",
       "      <td>Plašs dzīvoklis Rīgas centrāar zemi īpašumā. M...</td>\n",
       "      <td>https://ss.com/msg/lv/real-estate/flats/riga/c...</td>\n",
       "      <td>Brīvības 150</td>\n",
       "      <td>5</td>\n",
       "      <td>110</td>\n",
       "      <td>4/6</td>\n",
       "      <td>P. kara</td>\n",
       "      <td>991 €</td>\n",
       "      <td>109,000  €</td>\n",
       "    </tr>\n",
       "    <tr>\n",
       "      <th>2</th>\n",
       "      <td>Gaišs iekšpagalms. Pārdod dzīvokli ar jauniem ...</td>\n",
       "      <td>https://ss.com/msg/lv/real-estate/flats/riga/c...</td>\n",
       "      <td>Brīvības 39a</td>\n",
       "      <td>4</td>\n",
       "      <td>82</td>\n",
       "      <td>5/6</td>\n",
       "      <td>P. kara</td>\n",
       "      <td>1,244 €</td>\n",
       "      <td>101,975  €</td>\n",
       "    </tr>\n",
       "    <tr>\n",
       "      <th>3</th>\n",
       "      <td>Pārdod studio tipa dzīvokli renovētā mājā. Pvn...</td>\n",
       "      <td>https://ss.com/msg/lv/real-estate/flats/riga/c...</td>\n",
       "      <td>Avotu 4</td>\n",
       "      <td>1</td>\n",
       "      <td>20</td>\n",
       "      <td>1/5</td>\n",
       "      <td>Renov.</td>\n",
       "      <td>1,650 €</td>\n",
       "      <td>32,990  €</td>\n",
       "    </tr>\n",
       "    <tr>\n",
       "      <th>4</th>\n",
       "      <td>Īpašnieks pārdod dzīvokli renovētā namā Rīgas ...</td>\n",
       "      <td>https://ss.com/msg/lv/real-estate/flats/riga/c...</td>\n",
       "      <td>Avotu 4</td>\n",
       "      <td>2</td>\n",
       "      <td>33</td>\n",
       "      <td>5/5</td>\n",
       "      <td>Renov.</td>\n",
       "      <td>1,556 €</td>\n",
       "      <td>51,350  €</td>\n",
       "    </tr>\n",
       "  </tbody>\n",
       "</table>\n",
       "</div>"
      ],
      "text/plain": [
       "                                         description  \\\n",
       "0  Pārdodu vienistabas dzīvokli ar 3, 40 m augsti...   \n",
       "1  Plašs dzīvoklis Rīgas centrāar zemi īpašumā. M...   \n",
       "2  Gaišs iekšpagalms. Pārdod dzīvokli ar jauniem ...   \n",
       "3  Pārdod studio tipa dzīvokli renovētā mājā. Pvn...   \n",
       "4  Īpašnieks pārdod dzīvokli renovētā namā Rīgas ...   \n",
       "\n",
       "                                                 url          Iela Ist.   m2  \\\n",
       "0  https://ss.com/msg/lv/real-estate/flats/riga/c...    Kazarmu 3a    1   21   \n",
       "1  https://ss.com/msg/lv/real-estate/flats/riga/c...  Brīvības 150    5  110   \n",
       "2  https://ss.com/msg/lv/real-estate/flats/riga/c...  Brīvības 39a    4   82   \n",
       "3  https://ss.com/msg/lv/real-estate/flats/riga/c...       Avotu 4    1   20   \n",
       "4  https://ss.com/msg/lv/real-estate/flats/riga/c...       Avotu 4    2   33   \n",
       "\n",
       "  Stāvs   Sērija Cena, m2        Cena  \n",
       "0   3/4  P. kara  1,738 €   36,500  €  \n",
       "1   4/6  P. kara    991 €  109,000  €  \n",
       "2   5/6  P. kara  1,244 €  101,975  €  \n",
       "3   1/5   Renov.  1,650 €   32,990  €  \n",
       "4   5/5   Renov.  1,556 €   51,350  €  "
      ]
     },
     "execution_count": 46,
     "metadata": {},
     "output_type": "execute_result"
    }
   ],
   "source": [
    "df.head()"
   ]
  },
  {
   "cell_type": "code",
   "execution_count": 47,
   "metadata": {},
   "outputs": [
    {
     "data": {
      "text/plain": [
       "98"
      ]
     },
     "execution_count": 47,
     "metadata": {},
     "output_type": "execute_result"
    }
   ],
   "source": [
    "\n",
    "# https://developer.mozilla.org/en-US/docs/Web/HTML/Element/a\n",
    "anchors = soup.find_all(\"a\")\n",
    "len(anchors)"
   ]
  },
  {
   "cell_type": "code",
   "execution_count": 43,
   "metadata": {},
   "outputs": [
    {
     "data": {
      "text/plain": [
       "[<a href=\"/\" title=\"Sludinājumi\"><img alt=\"Sludinājumi\" border=\"0\" class=\"page_header_logo\" src=\"https://i.ss.com/img/p.gif\"/></a>,\n",
       " <a class=\"a_menu\" href=\"/lv/real-estate/flats/new/\" title=\"Iesniegt Sludinājumu\">Iesniegt Sludinājumu</a>,\n",
       " <a class=\"a_menu\" href=\"/lv/login/\" title=\"Mani Sludinājumi\">Mani Sludinājumi</a>,\n",
       " <a class=\"a_menu\" href=\"/lv/real-estate/flats/riga/centre/search/\" title=\"Meklēt sludinājumus\">Meklēšana</a>,\n",
       " <a class=\"a_menu\" href=\"/lv/favorites/\" title=\"Memo\">Memo</a>]"
      ]
     },
     "execution_count": 43,
     "metadata": {},
     "output_type": "execute_result"
    }
   ],
   "source": [
    "anchors[:5]"
   ]
  },
  {
   "cell_type": "code",
   "execution_count": 48,
   "metadata": {},
   "outputs": [
    {
     "data": {
      "text/plain": [
       "10"
      ]
     },
     "execution_count": 48,
     "metadata": {},
     "output_type": "execute_result"
    }
   ],
   "source": [
    "navs = [anchor for anchor in anchors if anchor.get(\"name\") == \"nav_id\"] # get will get us None if no \"name\" exists\n",
    "len(navs)"
   ]
  },
  {
   "cell_type": "code",
   "execution_count": 49,
   "metadata": {},
   "outputs": [
    {
     "data": {
      "text/plain": [
       "<a class=\"navi\" href=\"/lv/real-estate/flats/riga/centre/sell/page25.html\" name=\"nav_id\" rel=\"prev\"><img border=\"0\" height=\"5\" src=\"https://i.ss.com/img/s_left.png\" style=\"padding-bottom:2px;\" width=\"9\"/> Iepriekšējie</a>"
      ]
     },
     "execution_count": 49,
     "metadata": {},
     "output_type": "execute_result"
    }
   ],
   "source": [
    "navs[0]"
   ]
  },
  {
   "cell_type": "code",
   "execution_count": 50,
   "metadata": {},
   "outputs": [
    {
     "data": {
      "text/plain": [
       "{'name': 'nav_id',\n",
       " 'rel': ['prev'],\n",
       " 'class': ['navi'],\n",
       " 'href': '/lv/real-estate/flats/riga/centre/sell/page25.html'}"
      ]
     },
     "execution_count": 50,
     "metadata": {},
     "output_type": "execute_result"
    }
   ],
   "source": [
    "navs[0].attrs"
   ]
  },
  {
   "cell_type": "code",
   "execution_count": 51,
   "metadata": {},
   "outputs": [
    {
     "data": {
      "text/plain": [
       "'/lv/real-estate/flats/riga/centre/sell/page25.html'"
      ]
     },
     "execution_count": 51,
     "metadata": {},
     "output_type": "execute_result"
    }
   ],
   "source": [
    "navs[0]['href']"
   ]
  },
  {
   "cell_type": "code",
   "execution_count": 52,
   "metadata": {},
   "outputs": [
    {
     "data": {
      "text/plain": [
       "'25.html'"
      ]
     },
     "execution_count": 52,
     "metadata": {},
     "output_type": "execute_result"
    }
   ],
   "source": [
    "# could use regular expression here but we can use split \n",
    "afterpage = navs[0]['href'].split(\"/page\")[-1] # -1 might be safer than 1 in case there is region with name page\n",
    "afterpage"
   ]
  },
  {
   "cell_type": "code",
   "execution_count": 53,
   "metadata": {},
   "outputs": [
    {
     "data": {
      "text/plain": [
       "'25'"
      ]
     },
     "execution_count": 53,
     "metadata": {},
     "output_type": "execute_result"
    }
   ],
   "source": [
    "beforedot = afterpage.split(\".html\")[0]\n",
    "beforedot"
   ]
  },
  {
   "cell_type": "code",
   "execution_count": 54,
   "metadata": {},
   "outputs": [
    {
     "data": {
      "text/plain": [
       "25"
      ]
     },
     "execution_count": 54,
     "metadata": {},
     "output_type": "execute_result"
    }
   ],
   "source": [
    "lastpage = int(beforedot)\n",
    "lastpage"
   ]
  },
  {
   "cell_type": "code",
   "execution_count": 55,
   "metadata": {},
   "outputs": [],
   "source": [
    "def getAllLocalUrls(url):\n",
    "    \"\"\"Get a list of all urls including paginated pages\"\"\"\n",
    "    results = [url] # default is just the url if no extra pages found\n",
    "    req = requests.get(url)\n",
    "    if req.status_code != 200:\n",
    "        print(f\"Bad response! {req.status_code}\")\n",
    "        return []\n",
    "    soup = BeautifulSoup(req.text, 'lxml')\n",
    "    # we just need a one element\n",
    "    prevanchor = soup.find('a', {\"rel\":\"prev\"})\n",
    "    if prevanchor == None:\n",
    "        return results\n",
    "    href = prevanchor.attrs.get('href')\n",
    "    lastPageNum = int(href.split('/page')[-1].split('.html')[0])\n",
    "    print(\"Last page is\",lastPageNum)\n",
    "    nurls = [f\"{url}page{n}.html\" for n in range(2,lastPageNum+1)]\n",
    "    results += nurls\n",
    "    return results"
   ]
  },
  {
   "cell_type": "code",
   "execution_count": 56,
   "metadata": {},
   "outputs": [
    {
     "data": {
      "text/plain": [
       "'https://www.ss.com/lv/real-estate/flats/riga/centre/sell/'"
      ]
     },
     "execution_count": 56,
     "metadata": {},
     "output_type": "execute_result"
    }
   ],
   "source": [
    "centrs"
   ]
  },
  {
   "cell_type": "code",
   "execution_count": 57,
   "metadata": {},
   "outputs": [
    {
     "name": "stdout",
     "output_type": "stream",
     "text": [
      "Last page is 25\n"
     ]
    },
    {
     "data": {
      "text/plain": [
       "(25,\n",
       " ['https://www.ss.com/lv/real-estate/flats/riga/centre/sell/',\n",
       "  'https://www.ss.com/lv/real-estate/flats/riga/centre/sell/page2.html',\n",
       "  'https://www.ss.com/lv/real-estate/flats/riga/centre/sell/page3.html'],\n",
       " 'https://www.ss.com/lv/real-estate/flats/riga/centre/sell/page25.html')"
      ]
     },
     "execution_count": 57,
     "metadata": {},
     "output_type": "execute_result"
    }
   ],
   "source": [
    "local_urls = getAllLocalUrls(centrs)\n",
    "len(local_urls),local_urls[:3],local_urls[-1]"
   ]
  },
  {
   "cell_type": "code",
   "execution_count": 58,
   "metadata": {},
   "outputs": [
    {
     "data": {
      "text/plain": [
       "(14, 9)"
      ]
     },
     "execution_count": 58,
     "metadata": {},
     "output_type": "execute_result"
    }
   ],
   "source": [
    "dlast = getDFfromURL(local_urls[-1])\n",
    "dlast.shape"
   ]
  },
  {
   "cell_type": "code",
   "execution_count": 59,
   "metadata": {
    "scrolled": true
   },
   "outputs": [
    {
     "data": {
      "text/html": [
       "<div>\n",
       "<style scoped>\n",
       "    .dataframe tbody tr th:only-of-type {\n",
       "        vertical-align: middle;\n",
       "    }\n",
       "\n",
       "    .dataframe tbody tr th {\n",
       "        vertical-align: top;\n",
       "    }\n",
       "\n",
       "    .dataframe thead th {\n",
       "        text-align: right;\n",
       "    }\n",
       "</style>\n",
       "<table border=\"1\" class=\"dataframe\">\n",
       "  <thead>\n",
       "    <tr style=\"text-align: right;\">\n",
       "      <th></th>\n",
       "      <th>description</th>\n",
       "      <th>url</th>\n",
       "      <th>Iela</th>\n",
       "      <th>Ist.</th>\n",
       "      <th>m2</th>\n",
       "      <th>Stāvs</th>\n",
       "      <th>Sērija</th>\n",
       "      <th>Cena, m2</th>\n",
       "      <th>Cena</th>\n",
       "    </tr>\n",
       "  </thead>\n",
       "  <tbody>\n",
       "    <tr>\n",
       "      <th>0</th>\n",
       "      <td>Iebūvēta privātmāja Rīgas centrā ar privāto te...</td>\n",
       "      <td>https://ss.com/msg/lv/real-estate/flats/riga/c...</td>\n",
       "      <td>Indrānu 5</td>\n",
       "      <td>3</td>\n",
       "      <td>90</td>\n",
       "      <td>1/5</td>\n",
       "      <td>Jaun.</td>\n",
       "      <td>1,756 €</td>\n",
       "      <td>158,000  €</td>\n",
       "    </tr>\n",
       "    <tr>\n",
       "      <th>1</th>\n",
       "      <td>Хозяин без посредников продаёт 6-ти комнатную ...</td>\n",
       "      <td>https://ss.com/msg/lv/real-estate/flats/riga/c...</td>\n",
       "      <td>Stabu 41</td>\n",
       "      <td>3</td>\n",
       "      <td>150</td>\n",
       "      <td>2/5</td>\n",
       "      <td>P. kara</td>\n",
       "      <td>1,433 €</td>\n",
       "      <td>215,000  €</td>\n",
       "    </tr>\n",
       "    <tr>\n",
       "      <th>2</th>\n",
       "      <td>Laba cena par dzīvokli izcilā vietā. \\r\\nPanor...</td>\n",
       "      <td>https://ss.com/msg/lv/real-estate/flats/riga/c...</td>\n",
       "      <td>Teātra 12</td>\n",
       "      <td>5</td>\n",
       "      <td>136</td>\n",
       "      <td>6/7</td>\n",
       "      <td>P. kara</td>\n",
       "      <td>2,022 €</td>\n",
       "      <td>275,000  €</td>\n",
       "    </tr>\n",
       "    <tr>\n",
       "      <th>3</th>\n",
       "      <td>Divas necaurstaigājamas istabas. Augstie gries...</td>\n",
       "      <td>https://ss.com/msg/lv/real-estate/flats/riga/c...</td>\n",
       "      <td>Valdemāra 147 k-3</td>\n",
       "      <td>2</td>\n",
       "      <td>55</td>\n",
       "      <td>5/5</td>\n",
       "      <td>Specpr.</td>\n",
       "      <td>1,215 €</td>\n",
       "      <td>66,800  €</td>\n",
       "    </tr>\n",
       "    <tr>\n",
       "      <th>4</th>\n",
       "      <td>Tiek pārdots brīnišķīgs trīsistabu dzīvoklis l...</td>\n",
       "      <td>https://ss.com/msg/lv/real-estate/flats/riga/c...</td>\n",
       "      <td>Strēlnieku 13</td>\n",
       "      <td>3</td>\n",
       "      <td>76</td>\n",
       "      <td>2/5</td>\n",
       "      <td>P. kara</td>\n",
       "      <td>1,908 €</td>\n",
       "      <td>145,000  €</td>\n",
       "    </tr>\n",
       "    <tr>\n",
       "      <th>5</th>\n",
       "      <td>2-комнатная квартира напрямую от застройщика, ...</td>\n",
       "      <td>https://ss.com/msg/lv/real-estate/flats/riga/c...</td>\n",
       "      <td>Lāčplēša 24</td>\n",
       "      <td>2</td>\n",
       "      <td>53</td>\n",
       "      <td>6/6</td>\n",
       "      <td>Renov.</td>\n",
       "      <td>2,094 €</td>\n",
       "      <td>111,000  €</td>\n",
       "    </tr>\n",
       "    <tr>\n",
       "      <th>6</th>\n",
       "      <td>Trīsistabu dzīvoklis Rīgas Klusajā centrā blak...</td>\n",
       "      <td>https://ss.com/msg/lv/real-estate/flats/riga/c...</td>\n",
       "      <td>Vīlandes 18</td>\n",
       "      <td>3</td>\n",
       "      <td>81</td>\n",
       "      <td>2/4</td>\n",
       "      <td>Renov.</td>\n",
       "      <td>2,457 €</td>\n",
       "      <td>199,000  €</td>\n",
       "    </tr>\n",
       "    <tr>\n",
       "      <th>7</th>\n",
       "      <td>Saimnieks pārdod lielisku trīs istabu dzīvokli...</td>\n",
       "      <td>https://ss.com/msg/lv/real-estate/flats/riga/c...</td>\n",
       "      <td>Cēsu 43</td>\n",
       "      <td>3</td>\n",
       "      <td>78</td>\n",
       "      <td>5/6</td>\n",
       "      <td>P. kara</td>\n",
       "      <td>1,715 €</td>\n",
       "      <td>133,770  €</td>\n",
       "    </tr>\n",
       "    <tr>\n",
       "      <th>8</th>\n",
       "      <td>Pilnībā renovēta ēka Rīgas klusajā centrā, res...</td>\n",
       "      <td>https://ss.com/msg/lv/real-estate/flats/riga/c...</td>\n",
       "      <td>Valdemāra 23</td>\n",
       "      <td>3</td>\n",
       "      <td>100</td>\n",
       "      <td>2/5</td>\n",
       "      <td>Renov.</td>\n",
       "      <td>2,300 €</td>\n",
       "      <td>230,000  €</td>\n",
       "    </tr>\n",
       "    <tr>\n",
       "      <th>9</th>\n",
       "      <td>Хозяин продаёт 2-хкомнатную приватизированную ...</td>\n",
       "      <td>https://ss.com/msg/lv/real-estate/flats/riga/c...</td>\n",
       "      <td>Avotu 43В</td>\n",
       "      <td>2</td>\n",
       "      <td>36</td>\n",
       "      <td>1/2</td>\n",
       "      <td>P. kara</td>\n",
       "      <td>847 €</td>\n",
       "      <td>30,500  €</td>\n",
       "    </tr>\n",
       "    <tr>\n",
       "      <th>10</th>\n",
       "      <td>Pārdodam saulainu dzīvokli pirmskara mājā. Ist...</td>\n",
       "      <td>https://ss.com/msg/lv/real-estate/flats/riga/c...</td>\n",
       "      <td>Avotu 8</td>\n",
       "      <td>3</td>\n",
       "      <td>64</td>\n",
       "      <td>6/6</td>\n",
       "      <td>P. kara</td>\n",
       "      <td>1,609 €</td>\n",
       "      <td>103,000  €</td>\n",
       "    </tr>\n",
       "    <tr>\n",
       "      <th>11</th>\n",
       "      <td>Продается только 1 месяц, потом будет сдаватьс...</td>\n",
       "      <td>https://ss.com/msg/lv/real-estate/flats/riga/c...</td>\n",
       "      <td>Miera 130</td>\n",
       "      <td>1</td>\n",
       "      <td>24</td>\n",
       "      <td>1/2</td>\n",
       "      <td>P. kara</td>\n",
       "      <td>479 €</td>\n",
       "      <td>11,500  €</td>\n",
       "    </tr>\n",
       "    <tr>\n",
       "      <th>12</th>\n",
       "      <td>Продается 1 комнатная квартира студия со всеми...</td>\n",
       "      <td>https://ss.com/msg/lv/real-estate/flats/riga/c...</td>\n",
       "      <td>Barona 60</td>\n",
       "      <td>1</td>\n",
       "      <td>43</td>\n",
       "      <td>3/3</td>\n",
       "      <td>P. kara</td>\n",
       "      <td>1,070 €</td>\n",
       "      <td>46,000  €</td>\n",
       "    </tr>\n",
       "    <tr>\n",
       "      <th>13</th>\n",
       "      <td>Pārdod dzīvokli centrā, klusā, zaļā vietā, Ier...</td>\n",
       "      <td>https://ss.com/msg/lv/real-estate/flats/riga/c...</td>\n",
       "      <td>Ieroču 10</td>\n",
       "      <td>3</td>\n",
       "      <td>85</td>\n",
       "      <td>6/6</td>\n",
       "      <td>P. kara</td>\n",
       "      <td>847 €</td>\n",
       "      <td>72,000  €</td>\n",
       "    </tr>\n",
       "  </tbody>\n",
       "</table>\n",
       "</div>"
      ],
      "text/plain": [
       "                                          description  \\\n",
       "0   Iebūvēta privātmāja Rīgas centrā ar privāto te...   \n",
       "1   Хозяин без посредников продаёт 6-ти комнатную ...   \n",
       "2   Laba cena par dzīvokli izcilā vietā. \\r\\nPanor...   \n",
       "3   Divas necaurstaigājamas istabas. Augstie gries...   \n",
       "4   Tiek pārdots brīnišķīgs trīsistabu dzīvoklis l...   \n",
       "5   2-комнатная квартира напрямую от застройщика, ...   \n",
       "6   Trīsistabu dzīvoklis Rīgas Klusajā centrā blak...   \n",
       "7   Saimnieks pārdod lielisku trīs istabu dzīvokli...   \n",
       "8   Pilnībā renovēta ēka Rīgas klusajā centrā, res...   \n",
       "9   Хозяин продаёт 2-хкомнатную приватизированную ...   \n",
       "10  Pārdodam saulainu dzīvokli pirmskara mājā. Ist...   \n",
       "11  Продается только 1 месяц, потом будет сдаватьс...   \n",
       "12  Продается 1 комнатная квартира студия со всеми...   \n",
       "13  Pārdod dzīvokli centrā, klusā, zaļā vietā, Ier...   \n",
       "\n",
       "                                                  url               Iela Ist.  \\\n",
       "0   https://ss.com/msg/lv/real-estate/flats/riga/c...          Indrānu 5    3   \n",
       "1   https://ss.com/msg/lv/real-estate/flats/riga/c...           Stabu 41    3   \n",
       "2   https://ss.com/msg/lv/real-estate/flats/riga/c...          Teātra 12    5   \n",
       "3   https://ss.com/msg/lv/real-estate/flats/riga/c...  Valdemāra 147 k-3    2   \n",
       "4   https://ss.com/msg/lv/real-estate/flats/riga/c...      Strēlnieku 13    3   \n",
       "5   https://ss.com/msg/lv/real-estate/flats/riga/c...        Lāčplēša 24    2   \n",
       "6   https://ss.com/msg/lv/real-estate/flats/riga/c...        Vīlandes 18    3   \n",
       "7   https://ss.com/msg/lv/real-estate/flats/riga/c...            Cēsu 43    3   \n",
       "8   https://ss.com/msg/lv/real-estate/flats/riga/c...       Valdemāra 23    3   \n",
       "9   https://ss.com/msg/lv/real-estate/flats/riga/c...          Avotu 43В    2   \n",
       "10  https://ss.com/msg/lv/real-estate/flats/riga/c...            Avotu 8    3   \n",
       "11  https://ss.com/msg/lv/real-estate/flats/riga/c...          Miera 130    1   \n",
       "12  https://ss.com/msg/lv/real-estate/flats/riga/c...          Barona 60    1   \n",
       "13  https://ss.com/msg/lv/real-estate/flats/riga/c...          Ieroču 10    3   \n",
       "\n",
       "     m2 Stāvs   Sērija Cena, m2        Cena  \n",
       "0    90   1/5    Jaun.  1,756 €  158,000  €  \n",
       "1   150   2/5  P. kara  1,433 €  215,000  €  \n",
       "2   136   6/7  P. kara  2,022 €  275,000  €  \n",
       "3    55   5/5  Specpr.  1,215 €   66,800  €  \n",
       "4    76   2/5  P. kara  1,908 €  145,000  €  \n",
       "5    53   6/6   Renov.  2,094 €  111,000  €  \n",
       "6    81   2/4   Renov.  2,457 €  199,000  €  \n",
       "7    78   5/6  P. kara  1,715 €  133,770  €  \n",
       "8   100   2/5   Renov.  2,300 €  230,000  €  \n",
       "9    36   1/2  P. kara    847 €   30,500  €  \n",
       "10   64   6/6  P. kara  1,609 €  103,000  €  \n",
       "11   24   1/2  P. kara    479 €   11,500  €  \n",
       "12   43   3/3  P. kara  1,070 €   46,000  €  \n",
       "13   85   6/6  P. kara    847 €   72,000  €  "
      ]
     },
     "execution_count": 59,
     "metadata": {},
     "output_type": "execute_result"
    }
   ],
   "source": [
    "dlast"
   ]
  },
  {
   "cell_type": "code",
   "execution_count": 60,
   "metadata": {},
   "outputs": [],
   "source": [
    "def get_all_ads_df(start_url, save_excel_path=None):\n",
    "    df_list=[] # so we will save our dataframes in a list\n",
    "    local_urls = getAllLocalUrls(start_url)\n",
    "    for url in local_urls:\n",
    "        print(f\"Gathering data from {url}\")\n",
    "        df_list.append(getDFfromURL(url))\n",
    "        time.sleep(0.3) # we need this to play nice!\n",
    "    # https://pandas.pydata.org/pandas-docs/stable/reference/api/pandas.concat.html\n",
    "    big_df = pd.concat(df_list) # then make a big dataframe from all the small dataframes\n",
    "    if save_excel_path:\n",
    "        big_df.to_excel(save_excel_path)\n",
    "    return big_df\n",
    "    "
   ]
  },
  {
   "cell_type": "code",
   "execution_count": 61,
   "metadata": {},
   "outputs": [
    {
     "data": {
      "text/plain": [
       "'https://www.ss.com/lv/real-estate/flats/riga/centre/sell/'"
      ]
     },
     "execution_count": 61,
     "metadata": {},
     "output_type": "execute_result"
    }
   ],
   "source": [
    "centrs"
   ]
  },
  {
   "cell_type": "code",
   "execution_count": 62,
   "metadata": {},
   "outputs": [
    {
     "name": "stdout",
     "output_type": "stream",
     "text": [
      "Last page is 25\n",
      "Gathering data from https://www.ss.com/lv/real-estate/flats/riga/centre/sell/\n",
      "Gathering data from https://www.ss.com/lv/real-estate/flats/riga/centre/sell/page2.html\n",
      "Gathering data from https://www.ss.com/lv/real-estate/flats/riga/centre/sell/page3.html\n",
      "Gathering data from https://www.ss.com/lv/real-estate/flats/riga/centre/sell/page4.html\n",
      "Gathering data from https://www.ss.com/lv/real-estate/flats/riga/centre/sell/page5.html\n",
      "Gathering data from https://www.ss.com/lv/real-estate/flats/riga/centre/sell/page6.html\n",
      "Gathering data from https://www.ss.com/lv/real-estate/flats/riga/centre/sell/page7.html\n",
      "Gathering data from https://www.ss.com/lv/real-estate/flats/riga/centre/sell/page8.html\n",
      "Gathering data from https://www.ss.com/lv/real-estate/flats/riga/centre/sell/page9.html\n",
      "Gathering data from https://www.ss.com/lv/real-estate/flats/riga/centre/sell/page10.html\n",
      "Gathering data from https://www.ss.com/lv/real-estate/flats/riga/centre/sell/page11.html\n",
      "Gathering data from https://www.ss.com/lv/real-estate/flats/riga/centre/sell/page12.html\n",
      "Gathering data from https://www.ss.com/lv/real-estate/flats/riga/centre/sell/page13.html\n",
      "Gathering data from https://www.ss.com/lv/real-estate/flats/riga/centre/sell/page14.html\n",
      "Gathering data from https://www.ss.com/lv/real-estate/flats/riga/centre/sell/page15.html\n",
      "Gathering data from https://www.ss.com/lv/real-estate/flats/riga/centre/sell/page16.html\n",
      "Gathering data from https://www.ss.com/lv/real-estate/flats/riga/centre/sell/page17.html\n",
      "Gathering data from https://www.ss.com/lv/real-estate/flats/riga/centre/sell/page18.html\n",
      "Gathering data from https://www.ss.com/lv/real-estate/flats/riga/centre/sell/page19.html\n",
      "Gathering data from https://www.ss.com/lv/real-estate/flats/riga/centre/sell/page20.html\n",
      "Gathering data from https://www.ss.com/lv/real-estate/flats/riga/centre/sell/page21.html\n",
      "Gathering data from https://www.ss.com/lv/real-estate/flats/riga/centre/sell/page22.html\n",
      "Gathering data from https://www.ss.com/lv/real-estate/flats/riga/centre/sell/page23.html\n",
      "Gathering data from https://www.ss.com/lv/real-estate/flats/riga/centre/sell/page24.html\n",
      "Gathering data from https://www.ss.com/lv/real-estate/flats/riga/centre/sell/page25.html\n"
     ]
    }
   ],
   "source": [
    "df = get_all_ads_df(centrs, \"centrs_24_11.xlsx\")"
   ]
  },
  {
   "cell_type": "code",
   "execution_count": 63,
   "metadata": {},
   "outputs": [
    {
     "data": {
      "text/plain": [
       "(733, 9)"
      ]
     },
     "execution_count": 63,
     "metadata": {},
     "output_type": "execute_result"
    }
   ],
   "source": [
    "df.shape"
   ]
  },
  {
   "cell_type": "code",
   "execution_count": 64,
   "metadata": {},
   "outputs": [
    {
     "data": {
      "text/html": [
       "<div>\n",
       "<style scoped>\n",
       "    .dataframe tbody tr th:only-of-type {\n",
       "        vertical-align: middle;\n",
       "    }\n",
       "\n",
       "    .dataframe tbody tr th {\n",
       "        vertical-align: top;\n",
       "    }\n",
       "\n",
       "    .dataframe thead th {\n",
       "        text-align: right;\n",
       "    }\n",
       "</style>\n",
       "<table border=\"1\" class=\"dataframe\">\n",
       "  <thead>\n",
       "    <tr style=\"text-align: right;\">\n",
       "      <th></th>\n",
       "      <th>description</th>\n",
       "      <th>url</th>\n",
       "      <th>Iela</th>\n",
       "      <th>Ist.</th>\n",
       "      <th>m2</th>\n",
       "      <th>Stāvs</th>\n",
       "      <th>Sērija</th>\n",
       "      <th>Cena, m2</th>\n",
       "      <th>Cena</th>\n",
       "    </tr>\n",
       "  </thead>\n",
       "  <tbody>\n",
       "    <tr>\n",
       "      <th>0</th>\n",
       "      <td>Pārdodu vienistabas dzīvokli ar 3, 40 m augsti...</td>\n",
       "      <td>https://ss.com/msg/lv/real-estate/flats/riga/c...</td>\n",
       "      <td>Kazarmu 3a</td>\n",
       "      <td>1</td>\n",
       "      <td>21</td>\n",
       "      <td>3/4</td>\n",
       "      <td>P. kara</td>\n",
       "      <td>1,738 €</td>\n",
       "      <td>36,500  €</td>\n",
       "    </tr>\n",
       "    <tr>\n",
       "      <th>1</th>\n",
       "      <td>Plašs dzīvoklis Rīgas centrāar zemi īpašumā. M...</td>\n",
       "      <td>https://ss.com/msg/lv/real-estate/flats/riga/c...</td>\n",
       "      <td>Brīvības 150</td>\n",
       "      <td>5</td>\n",
       "      <td>110</td>\n",
       "      <td>4/6</td>\n",
       "      <td>P. kara</td>\n",
       "      <td>991 €</td>\n",
       "      <td>109,000  €</td>\n",
       "    </tr>\n",
       "    <tr>\n",
       "      <th>2</th>\n",
       "      <td>Gaišs iekšpagalms. Pārdod dzīvokli ar jauniem ...</td>\n",
       "      <td>https://ss.com/msg/lv/real-estate/flats/riga/c...</td>\n",
       "      <td>Brīvības 39a</td>\n",
       "      <td>4</td>\n",
       "      <td>82</td>\n",
       "      <td>5/6</td>\n",
       "      <td>P. kara</td>\n",
       "      <td>1,244 €</td>\n",
       "      <td>101,975  €</td>\n",
       "    </tr>\n",
       "    <tr>\n",
       "      <th>3</th>\n",
       "      <td>Pārdod studio tipa dzīvokli renovētā mājā. Pvn...</td>\n",
       "      <td>https://ss.com/msg/lv/real-estate/flats/riga/c...</td>\n",
       "      <td>Avotu 4</td>\n",
       "      <td>1</td>\n",
       "      <td>20</td>\n",
       "      <td>1/5</td>\n",
       "      <td>Renov.</td>\n",
       "      <td>1,650 €</td>\n",
       "      <td>32,990  €</td>\n",
       "    </tr>\n",
       "    <tr>\n",
       "      <th>4</th>\n",
       "      <td>Īpašnieks pārdod dzīvokli renovētā namā Rīgas ...</td>\n",
       "      <td>https://ss.com/msg/lv/real-estate/flats/riga/c...</td>\n",
       "      <td>Avotu 4</td>\n",
       "      <td>2</td>\n",
       "      <td>33</td>\n",
       "      <td>5/5</td>\n",
       "      <td>Renov.</td>\n",
       "      <td>1,556 €</td>\n",
       "      <td>51,350  €</td>\n",
       "    </tr>\n",
       "  </tbody>\n",
       "</table>\n",
       "</div>"
      ],
      "text/plain": [
       "                                         description  \\\n",
       "0  Pārdodu vienistabas dzīvokli ar 3, 40 m augsti...   \n",
       "1  Plašs dzīvoklis Rīgas centrāar zemi īpašumā. M...   \n",
       "2  Gaišs iekšpagalms. Pārdod dzīvokli ar jauniem ...   \n",
       "3  Pārdod studio tipa dzīvokli renovētā mājā. Pvn...   \n",
       "4  Īpašnieks pārdod dzīvokli renovētā namā Rīgas ...   \n",
       "\n",
       "                                                 url          Iela Ist.   m2  \\\n",
       "0  https://ss.com/msg/lv/real-estate/flats/riga/c...    Kazarmu 3a    1   21   \n",
       "1  https://ss.com/msg/lv/real-estate/flats/riga/c...  Brīvības 150    5  110   \n",
       "2  https://ss.com/msg/lv/real-estate/flats/riga/c...  Brīvības 39a    4   82   \n",
       "3  https://ss.com/msg/lv/real-estate/flats/riga/c...       Avotu 4    1   20   \n",
       "4  https://ss.com/msg/lv/real-estate/flats/riga/c...       Avotu 4    2   33   \n",
       "\n",
       "  Stāvs   Sērija Cena, m2        Cena  \n",
       "0   3/4  P. kara  1,738 €   36,500  €  \n",
       "1   4/6  P. kara    991 €  109,000  €  \n",
       "2   5/6  P. kara  1,244 €  101,975  €  \n",
       "3   1/5   Renov.  1,650 €   32,990  €  \n",
       "4   5/5   Renov.  1,556 €   51,350  €  "
      ]
     },
     "execution_count": 64,
     "metadata": {},
     "output_type": "execute_result"
    }
   ],
   "source": [
    "df.head()"
   ]
  },
  {
   "cell_type": "code",
   "execution_count": 65,
   "metadata": {},
   "outputs": [
    {
     "data": {
      "text/html": [
       "<div>\n",
       "<style scoped>\n",
       "    .dataframe tbody tr th:only-of-type {\n",
       "        vertical-align: middle;\n",
       "    }\n",
       "\n",
       "    .dataframe tbody tr th {\n",
       "        vertical-align: top;\n",
       "    }\n",
       "\n",
       "    .dataframe thead th {\n",
       "        text-align: right;\n",
       "    }\n",
       "</style>\n",
       "<table border=\"1\" class=\"dataframe\">\n",
       "  <thead>\n",
       "    <tr style=\"text-align: right;\">\n",
       "      <th></th>\n",
       "      <th>description</th>\n",
       "      <th>url</th>\n",
       "      <th>Iela</th>\n",
       "      <th>Ist.</th>\n",
       "      <th>m2</th>\n",
       "      <th>Stāvs</th>\n",
       "      <th>Sērija</th>\n",
       "      <th>Cena, m2</th>\n",
       "      <th>Cena</th>\n",
       "    </tr>\n",
       "  </thead>\n",
       "  <tbody>\n",
       "    <tr>\n",
       "      <th>8</th>\n",
       "      <td>Pilnībā renovēta ēka Rīgas klusajā centrā, res...</td>\n",
       "      <td>https://ss.com/msg/lv/real-estate/flats/riga/c...</td>\n",
       "      <td>Valdemāra 23</td>\n",
       "      <td>3</td>\n",
       "      <td>100</td>\n",
       "      <td>2/5</td>\n",
       "      <td>Renov.</td>\n",
       "      <td>2,300 €</td>\n",
       "      <td>230,000  €</td>\n",
       "    </tr>\n",
       "    <tr>\n",
       "      <th>9</th>\n",
       "      <td>Хозяин продаёт 2-хкомнатную приватизированную ...</td>\n",
       "      <td>https://ss.com/msg/lv/real-estate/flats/riga/c...</td>\n",
       "      <td>Avotu 43В</td>\n",
       "      <td>2</td>\n",
       "      <td>36</td>\n",
       "      <td>1/2</td>\n",
       "      <td>P. kara</td>\n",
       "      <td>847 €</td>\n",
       "      <td>30,500  €</td>\n",
       "    </tr>\n",
       "    <tr>\n",
       "      <th>10</th>\n",
       "      <td>Pārdodam saulainu dzīvokli pirmskara mājā. Ist...</td>\n",
       "      <td>https://ss.com/msg/lv/real-estate/flats/riga/c...</td>\n",
       "      <td>Avotu 8</td>\n",
       "      <td>3</td>\n",
       "      <td>64</td>\n",
       "      <td>6/6</td>\n",
       "      <td>P. kara</td>\n",
       "      <td>1,609 €</td>\n",
       "      <td>103,000  €</td>\n",
       "    </tr>\n",
       "    <tr>\n",
       "      <th>11</th>\n",
       "      <td>Продается только 1 месяц, потом будет сдаватьс...</td>\n",
       "      <td>https://ss.com/msg/lv/real-estate/flats/riga/c...</td>\n",
       "      <td>Miera 130</td>\n",
       "      <td>1</td>\n",
       "      <td>24</td>\n",
       "      <td>1/2</td>\n",
       "      <td>P. kara</td>\n",
       "      <td>479 €</td>\n",
       "      <td>11,500  €</td>\n",
       "    </tr>\n",
       "    <tr>\n",
       "      <th>12</th>\n",
       "      <td>Продается 1 комнатная квартира студия со всеми...</td>\n",
       "      <td>https://ss.com/msg/lv/real-estate/flats/riga/c...</td>\n",
       "      <td>Barona 60</td>\n",
       "      <td>1</td>\n",
       "      <td>43</td>\n",
       "      <td>3/3</td>\n",
       "      <td>P. kara</td>\n",
       "      <td>1,070 €</td>\n",
       "      <td>46,000  €</td>\n",
       "    </tr>\n",
       "  </tbody>\n",
       "</table>\n",
       "</div>"
      ],
      "text/plain": [
       "                                          description  \\\n",
       "8   Pilnībā renovēta ēka Rīgas klusajā centrā, res...   \n",
       "9   Хозяин продаёт 2-хкомнатную приватизированную ...   \n",
       "10  Pārdodam saulainu dzīvokli pirmskara mājā. Ist...   \n",
       "11  Продается только 1 месяц, потом будет сдаватьс...   \n",
       "12  Продается 1 комнатная квартира студия со всеми...   \n",
       "\n",
       "                                                  url          Iela Ist.   m2  \\\n",
       "8   https://ss.com/msg/lv/real-estate/flats/riga/c...  Valdemāra 23    3  100   \n",
       "9   https://ss.com/msg/lv/real-estate/flats/riga/c...     Avotu 43В    2   36   \n",
       "10  https://ss.com/msg/lv/real-estate/flats/riga/c...       Avotu 8    3   64   \n",
       "11  https://ss.com/msg/lv/real-estate/flats/riga/c...     Miera 130    1   24   \n",
       "12  https://ss.com/msg/lv/real-estate/flats/riga/c...     Barona 60    1   43   \n",
       "\n",
       "   Stāvs   Sērija Cena, m2        Cena  \n",
       "8    2/5   Renov.  2,300 €  230,000  €  \n",
       "9    1/2  P. kara    847 €   30,500  €  \n",
       "10   6/6  P. kara  1,609 €  103,000  €  \n",
       "11   1/2  P. kara    479 €   11,500  €  \n",
       "12   3/3  P. kara  1,070 €   46,000  €  "
      ]
     },
     "execution_count": 65,
     "metadata": {},
     "output_type": "execute_result"
    }
   ],
   "source": [
    "df.tail()"
   ]
  },
  {
   "cell_type": "code",
   "execution_count": 66,
   "metadata": {},
   "outputs": [
    {
     "data": {
      "text/plain": [
       "(733, 9)"
      ]
     },
     "execution_count": 66,
     "metadata": {},
     "output_type": "execute_result"
    }
   ],
   "source": [
    "df.shape"
   ]
  },
  {
   "cell_type": "code",
   "execution_count": 68,
   "metadata": {},
   "outputs": [
    {
     "data": {
      "text/html": [
       "<div>\n",
       "<style scoped>\n",
       "    .dataframe tbody tr th:only-of-type {\n",
       "        vertical-align: middle;\n",
       "    }\n",
       "\n",
       "    .dataframe tbody tr th {\n",
       "        vertical-align: top;\n",
       "    }\n",
       "\n",
       "    .dataframe thead th {\n",
       "        text-align: right;\n",
       "    }\n",
       "</style>\n",
       "<table border=\"1\" class=\"dataframe\">\n",
       "  <thead>\n",
       "    <tr style=\"text-align: right;\">\n",
       "      <th></th>\n",
       "      <th>description</th>\n",
       "      <th>url</th>\n",
       "      <th>Iela</th>\n",
       "      <th>Ist.</th>\n",
       "      <th>m2</th>\n",
       "      <th>Stāvs</th>\n",
       "      <th>Sērija</th>\n",
       "      <th>Cena, m2</th>\n",
       "      <th>Cena</th>\n",
       "      <th>Floor</th>\n",
       "      <th>MaxFloor</th>\n",
       "    </tr>\n",
       "  </thead>\n",
       "  <tbody>\n",
       "    <tr>\n",
       "      <th>0</th>\n",
       "      <td>Pārdodu vienistabas dzīvokli ar 3, 40 m augsti...</td>\n",
       "      <td>https://ss.com/msg/lv/real-estate/flats/riga/c...</td>\n",
       "      <td>Kazarmu 3a</td>\n",
       "      <td>1</td>\n",
       "      <td>21</td>\n",
       "      <td>3/4</td>\n",
       "      <td>P. kara</td>\n",
       "      <td>1,738 €</td>\n",
       "      <td>36,500  €</td>\n",
       "      <td>3</td>\n",
       "      <td>4</td>\n",
       "    </tr>\n",
       "    <tr>\n",
       "      <th>1</th>\n",
       "      <td>Plašs dzīvoklis Rīgas centrāar zemi īpašumā. M...</td>\n",
       "      <td>https://ss.com/msg/lv/real-estate/flats/riga/c...</td>\n",
       "      <td>Brīvības 150</td>\n",
       "      <td>5</td>\n",
       "      <td>110</td>\n",
       "      <td>4/6</td>\n",
       "      <td>P. kara</td>\n",
       "      <td>991 €</td>\n",
       "      <td>109,000  €</td>\n",
       "      <td>4</td>\n",
       "      <td>6</td>\n",
       "    </tr>\n",
       "    <tr>\n",
       "      <th>2</th>\n",
       "      <td>Gaišs iekšpagalms. Pārdod dzīvokli ar jauniem ...</td>\n",
       "      <td>https://ss.com/msg/lv/real-estate/flats/riga/c...</td>\n",
       "      <td>Brīvības 39a</td>\n",
       "      <td>4</td>\n",
       "      <td>82</td>\n",
       "      <td>5/6</td>\n",
       "      <td>P. kara</td>\n",
       "      <td>1,244 €</td>\n",
       "      <td>101,975  €</td>\n",
       "      <td>5</td>\n",
       "      <td>6</td>\n",
       "    </tr>\n",
       "    <tr>\n",
       "      <th>3</th>\n",
       "      <td>Pārdod studio tipa dzīvokli renovētā mājā. Pvn...</td>\n",
       "      <td>https://ss.com/msg/lv/real-estate/flats/riga/c...</td>\n",
       "      <td>Avotu 4</td>\n",
       "      <td>1</td>\n",
       "      <td>20</td>\n",
       "      <td>1/5</td>\n",
       "      <td>Renov.</td>\n",
       "      <td>1,650 €</td>\n",
       "      <td>32,990  €</td>\n",
       "      <td>1</td>\n",
       "      <td>5</td>\n",
       "    </tr>\n",
       "    <tr>\n",
       "      <th>4</th>\n",
       "      <td>Īpašnieks pārdod dzīvokli renovētā namā Rīgas ...</td>\n",
       "      <td>https://ss.com/msg/lv/real-estate/flats/riga/c...</td>\n",
       "      <td>Avotu 4</td>\n",
       "      <td>2</td>\n",
       "      <td>33</td>\n",
       "      <td>5/5</td>\n",
       "      <td>Renov.</td>\n",
       "      <td>1,556 €</td>\n",
       "      <td>51,350  €</td>\n",
       "      <td>5</td>\n",
       "      <td>5</td>\n",
       "    </tr>\n",
       "  </tbody>\n",
       "</table>\n",
       "</div>"
      ],
      "text/plain": [
       "                                         description  \\\n",
       "0  Pārdodu vienistabas dzīvokli ar 3, 40 m augsti...   \n",
       "1  Plašs dzīvoklis Rīgas centrāar zemi īpašumā. M...   \n",
       "2  Gaišs iekšpagalms. Pārdod dzīvokli ar jauniem ...   \n",
       "3  Pārdod studio tipa dzīvokli renovētā mājā. Pvn...   \n",
       "4  Īpašnieks pārdod dzīvokli renovētā namā Rīgas ...   \n",
       "\n",
       "                                                 url          Iela Ist.   m2  \\\n",
       "0  https://ss.com/msg/lv/real-estate/flats/riga/c...    Kazarmu 3a    1   21   \n",
       "1  https://ss.com/msg/lv/real-estate/flats/riga/c...  Brīvības 150    5  110   \n",
       "2  https://ss.com/msg/lv/real-estate/flats/riga/c...  Brīvības 39a    4   82   \n",
       "3  https://ss.com/msg/lv/real-estate/flats/riga/c...       Avotu 4    1   20   \n",
       "4  https://ss.com/msg/lv/real-estate/flats/riga/c...       Avotu 4    2   33   \n",
       "\n",
       "  Stāvs   Sērija Cena, m2        Cena Floor MaxFloor  \n",
       "0   3/4  P. kara  1,738 €   36,500  €     3        4  \n",
       "1   4/6  P. kara    991 €  109,000  €     4        6  \n",
       "2   5/6  P. kara  1,244 €  101,975  €     5        6  \n",
       "3   1/5   Renov.  1,650 €   32,990  €     1        5  \n",
       "4   5/5   Renov.  1,556 €   51,350  €     5        5  "
      ]
     },
     "execution_count": 68,
     "metadata": {},
     "output_type": "execute_result"
    }
   ],
   "source": [
    "#we can do more post processing - feature engineering using existing columns\n",
    "df[['Floor','MaxFloor']] = df.Stāvs.str.split(\"/\",expand=True) \n",
    "df.head()"
   ]
  },
  {
   "cell_type": "code",
   "execution_count": 69,
   "metadata": {},
   "outputs": [
    {
     "data": {
      "text/html": [
       "<div>\n",
       "<style scoped>\n",
       "    .dataframe tbody tr th:only-of-type {\n",
       "        vertical-align: middle;\n",
       "    }\n",
       "\n",
       "    .dataframe tbody tr th {\n",
       "        vertical-align: top;\n",
       "    }\n",
       "\n",
       "    .dataframe thead th {\n",
       "        text-align: right;\n",
       "    }\n",
       "</style>\n",
       "<table border=\"1\" class=\"dataframe\">\n",
       "  <thead>\n",
       "    <tr style=\"text-align: right;\">\n",
       "      <th></th>\n",
       "      <th>description</th>\n",
       "      <th>url</th>\n",
       "      <th>Iela</th>\n",
       "      <th>Ist.</th>\n",
       "      <th>m2</th>\n",
       "      <th>Stāvs</th>\n",
       "      <th>Sērija</th>\n",
       "      <th>Cena, m2</th>\n",
       "      <th>Cena</th>\n",
       "      <th>Floor</th>\n",
       "      <th>MaxFloor</th>\n",
       "    </tr>\n",
       "  </thead>\n",
       "  <tbody>\n",
       "    <tr>\n",
       "      <th>23</th>\n",
       "      <td>Ēku kompleksā \"Skanstes Virsotnes\" pārdošanai ...</td>\n",
       "      <td>https://ss.com/msg/lv/real-estate/flats/riga/c...</td>\n",
       "      <td>Grostonas 25</td>\n",
       "      <td>2</td>\n",
       "      <td>66</td>\n",
       "      <td>9/23</td>\n",
       "      <td>Jaun.</td>\n",
       "      <td>2,045 €</td>\n",
       "      <td>135,000  €</td>\n",
       "      <td>9</td>\n",
       "      <td>23</td>\n",
       "    </tr>\n",
       "    <tr>\n",
       "      <th>4</th>\n",
       "      <td>Продаётся квартира в новом, современном жилом ...</td>\n",
       "      <td>https://ss.com/msg/lv/real-estate/flats/riga/c...</td>\n",
       "      <td>Grostonas 19</td>\n",
       "      <td>2</td>\n",
       "      <td>67</td>\n",
       "      <td>9/10</td>\n",
       "      <td>Jaun.</td>\n",
       "      <td>2,164 €</td>\n",
       "      <td>145,000  €</td>\n",
       "      <td>9</td>\n",
       "      <td>10</td>\n",
       "    </tr>\n",
       "    <tr>\n",
       "      <th>28</th>\n",
       "      <td>Māja nodota ekspluatācijā 2020.gada aprīlī. Pā...</td>\n",
       "      <td>https://ss.com/msg/lv/real-estate/flats/riga/c...</td>\n",
       "      <td>Klijānu 16</td>\n",
       "      <td>3</td>\n",
       "      <td>74</td>\n",
       "      <td>9/9</td>\n",
       "      <td>Jaun.</td>\n",
       "      <td>1,446 €</td>\n",
       "      <td>107,000  €</td>\n",
       "      <td>9</td>\n",
       "      <td>9</td>\n",
       "    </tr>\n",
       "    <tr>\n",
       "      <th>27</th>\n",
       "      <td>Предлагаем арендопокупку. \\r\\n\\r\\nПросторная и...</td>\n",
       "      <td>https://ss.com/msg/lv/real-estate/flats/riga/c...</td>\n",
       "      <td>Brīvības 230</td>\n",
       "      <td>3</td>\n",
       "      <td>74</td>\n",
       "      <td>9/10</td>\n",
       "      <td>Jaun.</td>\n",
       "      <td>1,865 €</td>\n",
       "      <td>138,000  €</td>\n",
       "      <td>9</td>\n",
       "      <td>10</td>\n",
       "    </tr>\n",
       "    <tr>\n",
       "      <th>25</th>\n",
       "      <td>Īpašnieks bez starpniekiem pārdod lielisku dzī...</td>\n",
       "      <td>https://ss.com/msg/lv/real-estate/flats/riga/c...</td>\n",
       "      <td>Klusā 18</td>\n",
       "      <td>3</td>\n",
       "      <td>47</td>\n",
       "      <td>9/9</td>\n",
       "      <td>Renov.</td>\n",
       "      <td>1,681 €</td>\n",
       "      <td>79,000  €</td>\n",
       "      <td>9</td>\n",
       "      <td>9</td>\n",
       "    </tr>\n",
       "  </tbody>\n",
       "</table>\n",
       "</div>"
      ],
      "text/plain": [
       "                                          description  \\\n",
       "23  Ēku kompleksā \"Skanstes Virsotnes\" pārdošanai ...   \n",
       "4   Продаётся квартира в новом, современном жилом ...   \n",
       "28  Māja nodota ekspluatācijā 2020.gada aprīlī. Pā...   \n",
       "27  Предлагаем арендопокупку. \\r\\n\\r\\nПросторная и...   \n",
       "25  Īpašnieks bez starpniekiem pārdod lielisku dzī...   \n",
       "\n",
       "                                                  url          Iela Ist.  m2  \\\n",
       "23  https://ss.com/msg/lv/real-estate/flats/riga/c...  Grostonas 25    2  66   \n",
       "4   https://ss.com/msg/lv/real-estate/flats/riga/c...  Grostonas 19    2  67   \n",
       "28  https://ss.com/msg/lv/real-estate/flats/riga/c...    Klijānu 16    3  74   \n",
       "27  https://ss.com/msg/lv/real-estate/flats/riga/c...  Brīvības 230    3  74   \n",
       "25  https://ss.com/msg/lv/real-estate/flats/riga/c...      Klusā 18    3  47   \n",
       "\n",
       "   Stāvs  Sērija Cena, m2        Cena Floor MaxFloor  \n",
       "23  9/23   Jaun.  2,045 €  135,000  €     9       23  \n",
       "4   9/10   Jaun.  2,164 €  145,000  €     9       10  \n",
       "28   9/9   Jaun.  1,446 €  107,000  €     9        9  \n",
       "27  9/10   Jaun.  1,865 €  138,000  €     9       10  \n",
       "25   9/9  Renov.  1,681 €   79,000  €     9        9  "
      ]
     },
     "execution_count": 69,
     "metadata": {},
     "output_type": "execute_result"
    }
   ],
   "source": [
    "df.sort_values(by=\"Floor\",ascending=False).head()"
   ]
  },
  {
   "cell_type": "code",
   "execution_count": 71,
   "metadata": {},
   "outputs": [],
   "source": [
    "df.to_excel(\"c:/temp/my_apartments.xlsx\") # i could this with absolute path"
   ]
  },
  {
   "cell_type": "code",
   "execution_count": 75,
   "metadata": {},
   "outputs": [
    {
     "data": {
      "text/plain": [
       "(11, 24, 20, 11)"
      ]
     },
     "execution_count": 75,
     "metadata": {},
     "output_type": "execute_result"
    }
   ],
   "source": [
    "from datetime import datetime as dt\n",
    "now = dt.now()\n",
    "now.month, now.day, now.hour, now.second"
   ]
  },
  {
   "cell_type": "code",
   "execution_count": 77,
   "metadata": {},
   "outputs": [
    {
     "data": {
      "text/plain": [
       "'../data/sarkandaugava_24_11__20_34.xlsx'"
      ]
     },
     "execution_count": 77,
     "metadata": {},
     "output_type": "execute_result"
    }
   ],
   "source": [
    "url = \"https://www.ss.com/lv/real-estate/flats/riga/sarkandaugava/hand_over/\"\n",
    "region = url.split(\"riga/\")[-1].split(\"/\")[0]\n",
    "now = dt.now()\n",
    "save_path = f\"../data/{region}_{now.day}_{now.month}__{now.hour}_{now.second}.xlsx\"\n",
    "save_path"
   ]
  },
  {
   "cell_type": "code",
   "execution_count": 78,
   "metadata": {},
   "outputs": [
    {
     "name": "stdout",
     "output_type": "stream",
     "text": [
      "Gathering data from https://www.ss.com/lv/real-estate/flats/riga/sarkandaugava/hand_over/\n"
     ]
    }
   ],
   "source": [
    "url = \"https://www.ss.com/lv/real-estate/flats/riga/sarkandaugava/hand_over/\"\n",
    "region = url.split(\"riga/\")[-1].split(\"/\")[0]\n",
    "now = dt.now()\n",
    "save_path = f\"../data/{region}_{now.day}_{now.month}__{now.hour}_{now.second}.xlsx\"\n",
    "\n",
    "df = get_all_ads_df(url, save_path)"
   ]
  },
  {
   "cell_type": "code",
   "execution_count": 79,
   "metadata": {},
   "outputs": [
    {
     "name": "stdout",
     "output_type": "stream",
     "text": [
      "Last page is 2\n",
      "Gathering data from https://www.ss.com/lv/transport/cars/vaz/riga_f/\n",
      "Gathering data from https://www.ss.com/lv/transport/cars/vaz/riga_f/page2.html\n"
     ]
    }
   ],
   "source": [
    "url = \"https://www.ss.com/lv/transport/cars/vaz/riga_f/\"\n",
    "df = get_all_ads_df(url, \"../data/vaz.xlsx\")"
   ]
  },
  {
   "cell_type": "markdown",
   "metadata": {},
   "source": [
    "# TODO \n",
    "# Try with different starting address not only centrs\n",
    "## Maybe combine regions\n",
    "## See how it would work with maybe cars\n",
    "## Data engineering make new columns based on existing ones, clean some columns\n",
    "### Changing floors 2/6 to columns 2 and 6, clean up Euro signs\n",
    "## Sorting, Describing, Grouping by regions etc"
   ]
  },
  {
   "cell_type": "code",
   "execution_count": 81,
   "metadata": {},
   "outputs": [
    {
     "data": {
      "text/html": [
       "<div>\n",
       "<style scoped>\n",
       "    .dataframe tbody tr th:only-of-type {\n",
       "        vertical-align: middle;\n",
       "    }\n",
       "\n",
       "    .dataframe tbody tr th {\n",
       "        vertical-align: top;\n",
       "    }\n",
       "\n",
       "    .dataframe thead th {\n",
       "        text-align: right;\n",
       "    }\n",
       "</style>\n",
       "<table border=\"1\" class=\"dataframe\">\n",
       "  <thead>\n",
       "    <tr style=\"text-align: right;\">\n",
       "      <th></th>\n",
       "      <th>Unnamed: 0</th>\n",
       "      <th>description</th>\n",
       "      <th>url</th>\n",
       "      <th>Iela</th>\n",
       "      <th>Ist.</th>\n",
       "      <th>m2</th>\n",
       "      <th>Stāvs</th>\n",
       "      <th>Sērija</th>\n",
       "      <th>Cena, m2</th>\n",
       "      <th>Cena</th>\n",
       "      <th>Floor</th>\n",
       "      <th>MaxFloor</th>\n",
       "    </tr>\n",
       "  </thead>\n",
       "  <tbody>\n",
       "    <tr>\n",
       "      <th>0</th>\n",
       "      <td>0</td>\n",
       "      <td>Pārdodu vienistabas dzīvokli ar 3, 40 m augsti...</td>\n",
       "      <td>https://ss.com/msg/lv/real-estate/flats/riga/c...</td>\n",
       "      <td>Kazarmu 3a</td>\n",
       "      <td>1</td>\n",
       "      <td>21</td>\n",
       "      <td>3/4</td>\n",
       "      <td>P. kara</td>\n",
       "      <td>1,738 €</td>\n",
       "      <td>36,500  €</td>\n",
       "      <td>3</td>\n",
       "      <td>4</td>\n",
       "    </tr>\n",
       "    <tr>\n",
       "      <th>1</th>\n",
       "      <td>1</td>\n",
       "      <td>Plašs dzīvoklis Rīgas centrāar zemi īpašumā. M...</td>\n",
       "      <td>https://ss.com/msg/lv/real-estate/flats/riga/c...</td>\n",
       "      <td>Brīvības 150</td>\n",
       "      <td>5</td>\n",
       "      <td>110</td>\n",
       "      <td>4/6</td>\n",
       "      <td>P. kara</td>\n",
       "      <td>991 €</td>\n",
       "      <td>109,000  €</td>\n",
       "      <td>4</td>\n",
       "      <td>6</td>\n",
       "    </tr>\n",
       "    <tr>\n",
       "      <th>2</th>\n",
       "      <td>2</td>\n",
       "      <td>Gaišs iekšpagalms. Pārdod dzīvokli ar jauniem ...</td>\n",
       "      <td>https://ss.com/msg/lv/real-estate/flats/riga/c...</td>\n",
       "      <td>Brīvības 39a</td>\n",
       "      <td>4</td>\n",
       "      <td>82</td>\n",
       "      <td>5/6</td>\n",
       "      <td>P. kara</td>\n",
       "      <td>1,244 €</td>\n",
       "      <td>101,975  €</td>\n",
       "      <td>5</td>\n",
       "      <td>6</td>\n",
       "    </tr>\n",
       "    <tr>\n",
       "      <th>3</th>\n",
       "      <td>3</td>\n",
       "      <td>Pārdod studio tipa dzīvokli renovētā mājā. Pvn...</td>\n",
       "      <td>https://ss.com/msg/lv/real-estate/flats/riga/c...</td>\n",
       "      <td>Avotu 4</td>\n",
       "      <td>1</td>\n",
       "      <td>20</td>\n",
       "      <td>1/5</td>\n",
       "      <td>Renov.</td>\n",
       "      <td>1,650 €</td>\n",
       "      <td>32,990  €</td>\n",
       "      <td>1</td>\n",
       "      <td>5</td>\n",
       "    </tr>\n",
       "    <tr>\n",
       "      <th>4</th>\n",
       "      <td>4</td>\n",
       "      <td>Īpašnieks pārdod dzīvokli renovētā namā Rīgas ...</td>\n",
       "      <td>https://ss.com/msg/lv/real-estate/flats/riga/c...</td>\n",
       "      <td>Avotu 4</td>\n",
       "      <td>2</td>\n",
       "      <td>33</td>\n",
       "      <td>5/5</td>\n",
       "      <td>Renov.</td>\n",
       "      <td>1,556 €</td>\n",
       "      <td>51,350  €</td>\n",
       "      <td>5</td>\n",
       "      <td>5</td>\n",
       "    </tr>\n",
       "  </tbody>\n",
       "</table>\n",
       "</div>"
      ],
      "text/plain": [
       "   Unnamed: 0                                        description  \\\n",
       "0           0  Pārdodu vienistabas dzīvokli ar 3, 40 m augsti...   \n",
       "1           1  Plašs dzīvoklis Rīgas centrāar zemi īpašumā. M...   \n",
       "2           2  Gaišs iekšpagalms. Pārdod dzīvokli ar jauniem ...   \n",
       "3           3  Pārdod studio tipa dzīvokli renovētā mājā. Pvn...   \n",
       "4           4  Īpašnieks pārdod dzīvokli renovētā namā Rīgas ...   \n",
       "\n",
       "                                                 url          Iela Ist.   m2  \\\n",
       "0  https://ss.com/msg/lv/real-estate/flats/riga/c...    Kazarmu 3a    1   21   \n",
       "1  https://ss.com/msg/lv/real-estate/flats/riga/c...  Brīvības 150    5  110   \n",
       "2  https://ss.com/msg/lv/real-estate/flats/riga/c...  Brīvības 39a    4   82   \n",
       "3  https://ss.com/msg/lv/real-estate/flats/riga/c...       Avotu 4    1   20   \n",
       "4  https://ss.com/msg/lv/real-estate/flats/riga/c...       Avotu 4    2   33   \n",
       "\n",
       "  Stāvs   Sērija Cena, m2        Cena  Floor  MaxFloor  \n",
       "0   3/4  P. kara  1,738 €   36,500  €      3         4  \n",
       "1   4/6  P. kara    991 €  109,000  €      4         6  \n",
       "2   5/6  P. kara  1,244 €  101,975  €      5         6  \n",
       "3   1/5   Renov.  1,650 €   32,990  €      1         5  \n",
       "4   5/5   Renov.  1,556 €   51,350  €      5         5  "
      ]
     },
     "execution_count": 81,
     "metadata": {},
     "output_type": "execute_result"
    }
   ],
   "source": [
    "df = pd.read_excel(\"c:/temp/my_apartments.xlsx\")\n",
    "df.head()"
   ]
  },
  {
   "cell_type": "code",
   "execution_count": 82,
   "metadata": {},
   "outputs": [
    {
     "data": {
      "text/html": [
       "<div>\n",
       "<style scoped>\n",
       "    .dataframe tbody tr th:only-of-type {\n",
       "        vertical-align: middle;\n",
       "    }\n",
       "\n",
       "    .dataframe tbody tr th {\n",
       "        vertical-align: top;\n",
       "    }\n",
       "\n",
       "    .dataframe thead th {\n",
       "        text-align: right;\n",
       "    }\n",
       "</style>\n",
       "<table border=\"1\" class=\"dataframe\">\n",
       "  <thead>\n",
       "    <tr style=\"text-align: right;\">\n",
       "      <th></th>\n",
       "      <th>Unnamed: 0</th>\n",
       "      <th>description</th>\n",
       "      <th>url</th>\n",
       "      <th>Iela</th>\n",
       "      <th>Ist.</th>\n",
       "      <th>m2</th>\n",
       "      <th>Stāvs</th>\n",
       "      <th>Sērija</th>\n",
       "      <th>Cena, m2</th>\n",
       "      <th>Cena</th>\n",
       "      <th>Floor</th>\n",
       "      <th>MaxFloor</th>\n",
       "      <th>price</th>\n",
       "    </tr>\n",
       "  </thead>\n",
       "  <tbody>\n",
       "    <tr>\n",
       "      <th>0</th>\n",
       "      <td>0</td>\n",
       "      <td>Pārdodu vienistabas dzīvokli ar 3, 40 m augsti...</td>\n",
       "      <td>https://ss.com/msg/lv/real-estate/flats/riga/c...</td>\n",
       "      <td>Kazarmu 3a</td>\n",
       "      <td>1</td>\n",
       "      <td>21</td>\n",
       "      <td>3/4</td>\n",
       "      <td>P. kara</td>\n",
       "      <td>1,738 €</td>\n",
       "      <td>36,500  €</td>\n",
       "      <td>3</td>\n",
       "      <td>4</td>\n",
       "      <td>36,500</td>\n",
       "    </tr>\n",
       "    <tr>\n",
       "      <th>1</th>\n",
       "      <td>1</td>\n",
       "      <td>Plašs dzīvoklis Rīgas centrāar zemi īpašumā. M...</td>\n",
       "      <td>https://ss.com/msg/lv/real-estate/flats/riga/c...</td>\n",
       "      <td>Brīvības 150</td>\n",
       "      <td>5</td>\n",
       "      <td>110</td>\n",
       "      <td>4/6</td>\n",
       "      <td>P. kara</td>\n",
       "      <td>991 €</td>\n",
       "      <td>109,000  €</td>\n",
       "      <td>4</td>\n",
       "      <td>6</td>\n",
       "      <td>109,000</td>\n",
       "    </tr>\n",
       "    <tr>\n",
       "      <th>2</th>\n",
       "      <td>2</td>\n",
       "      <td>Gaišs iekšpagalms. Pārdod dzīvokli ar jauniem ...</td>\n",
       "      <td>https://ss.com/msg/lv/real-estate/flats/riga/c...</td>\n",
       "      <td>Brīvības 39a</td>\n",
       "      <td>4</td>\n",
       "      <td>82</td>\n",
       "      <td>5/6</td>\n",
       "      <td>P. kara</td>\n",
       "      <td>1,244 €</td>\n",
       "      <td>101,975  €</td>\n",
       "      <td>5</td>\n",
       "      <td>6</td>\n",
       "      <td>101,975</td>\n",
       "    </tr>\n",
       "    <tr>\n",
       "      <th>3</th>\n",
       "      <td>3</td>\n",
       "      <td>Pārdod studio tipa dzīvokli renovētā mājā. Pvn...</td>\n",
       "      <td>https://ss.com/msg/lv/real-estate/flats/riga/c...</td>\n",
       "      <td>Avotu 4</td>\n",
       "      <td>1</td>\n",
       "      <td>20</td>\n",
       "      <td>1/5</td>\n",
       "      <td>Renov.</td>\n",
       "      <td>1,650 €</td>\n",
       "      <td>32,990  €</td>\n",
       "      <td>1</td>\n",
       "      <td>5</td>\n",
       "      <td>32,990</td>\n",
       "    </tr>\n",
       "    <tr>\n",
       "      <th>4</th>\n",
       "      <td>4</td>\n",
       "      <td>Īpašnieks pārdod dzīvokli renovētā namā Rīgas ...</td>\n",
       "      <td>https://ss.com/msg/lv/real-estate/flats/riga/c...</td>\n",
       "      <td>Avotu 4</td>\n",
       "      <td>2</td>\n",
       "      <td>33</td>\n",
       "      <td>5/5</td>\n",
       "      <td>Renov.</td>\n",
       "      <td>1,556 €</td>\n",
       "      <td>51,350  €</td>\n",
       "      <td>5</td>\n",
       "      <td>5</td>\n",
       "      <td>51,350</td>\n",
       "    </tr>\n",
       "  </tbody>\n",
       "</table>\n",
       "</div>"
      ],
      "text/plain": [
       "   Unnamed: 0                                        description  \\\n",
       "0           0  Pārdodu vienistabas dzīvokli ar 3, 40 m augsti...   \n",
       "1           1  Plašs dzīvoklis Rīgas centrāar zemi īpašumā. M...   \n",
       "2           2  Gaišs iekšpagalms. Pārdod dzīvokli ar jauniem ...   \n",
       "3           3  Pārdod studio tipa dzīvokli renovētā mājā. Pvn...   \n",
       "4           4  Īpašnieks pārdod dzīvokli renovētā namā Rīgas ...   \n",
       "\n",
       "                                                 url          Iela Ist.   m2  \\\n",
       "0  https://ss.com/msg/lv/real-estate/flats/riga/c...    Kazarmu 3a    1   21   \n",
       "1  https://ss.com/msg/lv/real-estate/flats/riga/c...  Brīvības 150    5  110   \n",
       "2  https://ss.com/msg/lv/real-estate/flats/riga/c...  Brīvības 39a    4   82   \n",
       "3  https://ss.com/msg/lv/real-estate/flats/riga/c...       Avotu 4    1   20   \n",
       "4  https://ss.com/msg/lv/real-estate/flats/riga/c...       Avotu 4    2   33   \n",
       "\n",
       "  Stāvs   Sērija Cena, m2        Cena  Floor  MaxFloor    price  \n",
       "0   3/4  P. kara  1,738 €   36,500  €      3         4   36,500  \n",
       "1   4/6  P. kara    991 €  109,000  €      4         6  109,000  \n",
       "2   5/6  P. kara  1,244 €  101,975  €      5         6  101,975  \n",
       "3   1/5   Renov.  1,650 €   32,990  €      1         5   32,990  \n",
       "4   5/5   Renov.  1,556 €   51,350  €      5         5   51,350  "
      ]
     },
     "execution_count": 82,
     "metadata": {},
     "output_type": "execute_result"
    }
   ],
   "source": [
    "df[\"price\"] = df.Cena.str.split(' ').str[0]\n",
    "df.head()"
   ]
  },
  {
   "cell_type": "code",
   "execution_count": 84,
   "metadata": {},
   "outputs": [
    {
     "data": {
      "text/html": [
       "<div>\n",
       "<style scoped>\n",
       "    .dataframe tbody tr th:only-of-type {\n",
       "        vertical-align: middle;\n",
       "    }\n",
       "\n",
       "    .dataframe tbody tr th {\n",
       "        vertical-align: top;\n",
       "    }\n",
       "\n",
       "    .dataframe thead th {\n",
       "        text-align: right;\n",
       "    }\n",
       "</style>\n",
       "<table border=\"1\" class=\"dataframe\">\n",
       "  <thead>\n",
       "    <tr style=\"text-align: right;\">\n",
       "      <th></th>\n",
       "      <th>Unnamed: 0</th>\n",
       "      <th>description</th>\n",
       "      <th>url</th>\n",
       "      <th>Iela</th>\n",
       "      <th>Ist.</th>\n",
       "      <th>m2</th>\n",
       "      <th>Stāvs</th>\n",
       "      <th>Sērija</th>\n",
       "      <th>Cena, m2</th>\n",
       "      <th>Cena</th>\n",
       "      <th>Floor</th>\n",
       "      <th>MaxFloor</th>\n",
       "      <th>price</th>\n",
       "    </tr>\n",
       "  </thead>\n",
       "  <tbody>\n",
       "    <tr>\n",
       "      <th>0</th>\n",
       "      <td>0</td>\n",
       "      <td>Pārdodu vienistabas dzīvokli ar 3, 40 m augsti...</td>\n",
       "      <td>https://ss.com/msg/lv/real-estate/flats/riga/c...</td>\n",
       "      <td>Kazarmu 3a</td>\n",
       "      <td>1</td>\n",
       "      <td>21</td>\n",
       "      <td>3/4</td>\n",
       "      <td>P. kara</td>\n",
       "      <td>1,738 €</td>\n",
       "      <td>36,500  €</td>\n",
       "      <td>3</td>\n",
       "      <td>4</td>\n",
       "      <td>36500</td>\n",
       "    </tr>\n",
       "    <tr>\n",
       "      <th>1</th>\n",
       "      <td>1</td>\n",
       "      <td>Plašs dzīvoklis Rīgas centrāar zemi īpašumā. M...</td>\n",
       "      <td>https://ss.com/msg/lv/real-estate/flats/riga/c...</td>\n",
       "      <td>Brīvības 150</td>\n",
       "      <td>5</td>\n",
       "      <td>110</td>\n",
       "      <td>4/6</td>\n",
       "      <td>P. kara</td>\n",
       "      <td>991 €</td>\n",
       "      <td>109,000  €</td>\n",
       "      <td>4</td>\n",
       "      <td>6</td>\n",
       "      <td>109000</td>\n",
       "    </tr>\n",
       "    <tr>\n",
       "      <th>2</th>\n",
       "      <td>2</td>\n",
       "      <td>Gaišs iekšpagalms. Pārdod dzīvokli ar jauniem ...</td>\n",
       "      <td>https://ss.com/msg/lv/real-estate/flats/riga/c...</td>\n",
       "      <td>Brīvības 39a</td>\n",
       "      <td>4</td>\n",
       "      <td>82</td>\n",
       "      <td>5/6</td>\n",
       "      <td>P. kara</td>\n",
       "      <td>1,244 €</td>\n",
       "      <td>101,975  €</td>\n",
       "      <td>5</td>\n",
       "      <td>6</td>\n",
       "      <td>101975</td>\n",
       "    </tr>\n",
       "    <tr>\n",
       "      <th>3</th>\n",
       "      <td>3</td>\n",
       "      <td>Pārdod studio tipa dzīvokli renovētā mājā. Pvn...</td>\n",
       "      <td>https://ss.com/msg/lv/real-estate/flats/riga/c...</td>\n",
       "      <td>Avotu 4</td>\n",
       "      <td>1</td>\n",
       "      <td>20</td>\n",
       "      <td>1/5</td>\n",
       "      <td>Renov.</td>\n",
       "      <td>1,650 €</td>\n",
       "      <td>32,990  €</td>\n",
       "      <td>1</td>\n",
       "      <td>5</td>\n",
       "      <td>32990</td>\n",
       "    </tr>\n",
       "    <tr>\n",
       "      <th>4</th>\n",
       "      <td>4</td>\n",
       "      <td>Īpašnieks pārdod dzīvokli renovētā namā Rīgas ...</td>\n",
       "      <td>https://ss.com/msg/lv/real-estate/flats/riga/c...</td>\n",
       "      <td>Avotu 4</td>\n",
       "      <td>2</td>\n",
       "      <td>33</td>\n",
       "      <td>5/5</td>\n",
       "      <td>Renov.</td>\n",
       "      <td>1,556 €</td>\n",
       "      <td>51,350  €</td>\n",
       "      <td>5</td>\n",
       "      <td>5</td>\n",
       "      <td>51350</td>\n",
       "    </tr>\n",
       "  </tbody>\n",
       "</table>\n",
       "</div>"
      ],
      "text/plain": [
       "   Unnamed: 0                                        description  \\\n",
       "0           0  Pārdodu vienistabas dzīvokli ar 3, 40 m augsti...   \n",
       "1           1  Plašs dzīvoklis Rīgas centrāar zemi īpašumā. M...   \n",
       "2           2  Gaišs iekšpagalms. Pārdod dzīvokli ar jauniem ...   \n",
       "3           3  Pārdod studio tipa dzīvokli renovētā mājā. Pvn...   \n",
       "4           4  Īpašnieks pārdod dzīvokli renovētā namā Rīgas ...   \n",
       "\n",
       "                                                 url          Iela Ist.   m2  \\\n",
       "0  https://ss.com/msg/lv/real-estate/flats/riga/c...    Kazarmu 3a    1   21   \n",
       "1  https://ss.com/msg/lv/real-estate/flats/riga/c...  Brīvības 150    5  110   \n",
       "2  https://ss.com/msg/lv/real-estate/flats/riga/c...  Brīvības 39a    4   82   \n",
       "3  https://ss.com/msg/lv/real-estate/flats/riga/c...       Avotu 4    1   20   \n",
       "4  https://ss.com/msg/lv/real-estate/flats/riga/c...       Avotu 4    2   33   \n",
       "\n",
       "  Stāvs   Sērija Cena, m2        Cena  Floor  MaxFloor   price  \n",
       "0   3/4  P. kara  1,738 €   36,500  €      3         4   36500  \n",
       "1   4/6  P. kara    991 €  109,000  €      4         6  109000  \n",
       "2   5/6  P. kara  1,244 €  101,975  €      5         6  101975  \n",
       "3   1/5   Renov.  1,650 €   32,990  €      1         5   32990  \n",
       "4   5/5   Renov.  1,556 €   51,350  €      5         5   51350  "
      ]
     },
     "execution_count": 84,
     "metadata": {},
     "output_type": "execute_result"
    }
   ],
   "source": [
    "df.price = df.price.str.replace(\",\",\"\").astype('int32')\n",
    "df.head()"
   ]
  },
  {
   "cell_type": "code",
   "execution_count": 85,
   "metadata": {},
   "outputs": [
    {
     "data": {
      "text/plain": [
       "<matplotlib.axes._subplots.AxesSubplot at 0x1ed11bee580>"
      ]
     },
     "execution_count": 85,
     "metadata": {},
     "output_type": "execute_result"
    },
    {
     "data": {
      "image/png": "[encoded data removed]",
      "text/plain": [
       "<Figure size 432x288 with 1 Axes>"
      ]
     },
     "metadata": {
      "needs_background": "light"
     },
     "output_type": "display_data"
    }
   ],
   "source": [
    "df.price.hist()"
   ]
  },
  {
   "cell_type": "code",
   "execution_count": 86,
   "metadata": {},
   "outputs": [
    {
     "data": {
      "text/html": [
       "<div>\n",
       "<style scoped>\n",
       "    .dataframe tbody tr th:only-of-type {\n",
       "        vertical-align: middle;\n",
       "    }\n",
       "\n",
       "    .dataframe tbody tr th {\n",
       "        vertical-align: top;\n",
       "    }\n",
       "\n",
       "    .dataframe thead th {\n",
       "        text-align: right;\n",
       "    }\n",
       "</style>\n",
       "<table border=\"1\" class=\"dataframe\">\n",
       "  <thead>\n",
       "    <tr style=\"text-align: right;\">\n",
       "      <th></th>\n",
       "      <th>count</th>\n",
       "      <th>mean</th>\n",
       "      <th>std</th>\n",
       "      <th>min</th>\n",
       "      <th>25%</th>\n",
       "      <th>50%</th>\n",
       "      <th>75%</th>\n",
       "      <th>max</th>\n",
       "    </tr>\n",
       "  </thead>\n",
       "  <tbody>\n",
       "    <tr>\n",
       "      <th>Unnamed: 0</th>\n",
       "      <td>733.0</td>\n",
       "      <td>14.349250</td>\n",
       "      <td>8.671651</td>\n",
       "      <td>0.0</td>\n",
       "      <td>7.0</td>\n",
       "      <td>14.0</td>\n",
       "      <td>22.0</td>\n",
       "      <td>29.0</td>\n",
       "    </tr>\n",
       "    <tr>\n",
       "      <th>m2</th>\n",
       "      <td>733.0</td>\n",
       "      <td>80.712142</td>\n",
       "      <td>46.481859</td>\n",
       "      <td>18.0</td>\n",
       "      <td>50.0</td>\n",
       "      <td>71.0</td>\n",
       "      <td>102.0</td>\n",
       "      <td>363.0</td>\n",
       "    </tr>\n",
       "    <tr>\n",
       "      <th>Floor</th>\n",
       "      <td>733.0</td>\n",
       "      <td>3.502046</td>\n",
       "      <td>2.159376</td>\n",
       "      <td>1.0</td>\n",
       "      <td>2.0</td>\n",
       "      <td>3.0</td>\n",
       "      <td>5.0</td>\n",
       "      <td>21.0</td>\n",
       "    </tr>\n",
       "    <tr>\n",
       "      <th>MaxFloor</th>\n",
       "      <td>733.0</td>\n",
       "      <td>5.763984</td>\n",
       "      <td>2.432748</td>\n",
       "      <td>2.0</td>\n",
       "      <td>5.0</td>\n",
       "      <td>6.0</td>\n",
       "      <td>6.0</td>\n",
       "      <td>24.0</td>\n",
       "    </tr>\n",
       "    <tr>\n",
       "      <th>price</th>\n",
       "      <td>733.0</td>\n",
       "      <td>141249.317872</td>\n",
       "      <td>96432.902184</td>\n",
       "      <td>7200.0</td>\n",
       "      <td>76990.0</td>\n",
       "      <td>119970.0</td>\n",
       "      <td>175000.0</td>\n",
       "      <td>760000.0</td>\n",
       "    </tr>\n",
       "  </tbody>\n",
       "</table>\n",
       "</div>"
      ],
      "text/plain": [
       "            count           mean           std     min      25%       50%  \\\n",
       "Unnamed: 0  733.0      14.349250      8.671651     0.0      7.0      14.0   \n",
       "m2          733.0      80.712142     46.481859    18.0     50.0      71.0   \n",
       "Floor       733.0       3.502046      2.159376     1.0      2.0       3.0   \n",
       "MaxFloor    733.0       5.763984      2.432748     2.0      5.0       6.0   \n",
       "price       733.0  141249.317872  96432.902184  7200.0  76990.0  119970.0   \n",
       "\n",
       "                 75%       max  \n",
       "Unnamed: 0      22.0      29.0  \n",
       "m2             102.0     363.0  \n",
       "Floor            5.0      21.0  \n",
       "MaxFloor         6.0      24.0  \n",
       "price       175000.0  760000.0  "
      ]
     },
     "execution_count": 86,
     "metadata": {},
     "output_type": "execute_result"
    }
   ],
   "source": [
    "df.describe().T"
   ]
  },
  {
   "cell_type": "code",
   "execution_count": 87,
   "metadata": {},
   "outputs": [],
   "source": [
    "df.describe().T.to_csv(\"center_stats.csv\")"
   ]
  }
 ],
 "metadata": {
  "kernelspec": {
   "display_name": "Python 3",
   "language": "python",
   "name": "python3"
  },
  "language_info": {
   "codemirror_mode": {
    "name": "ipython",
    "version": 3
   },
   "file_extension": ".py",
   "mimetype": "text/x-python",
   "name": "python",
   "nbconvert_exporter": "python",
   "pygments_lexer": "ipython3",
   "version": "3.8.3"
  }
 },
 "nbformat": 4,
 "nbformat_minor": 4
}
