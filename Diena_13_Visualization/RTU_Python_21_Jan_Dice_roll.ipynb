{
 "cells": [
  {
   "cell_type": "code",
   "execution_count": 1,
   "metadata": {},
   "outputs": [
    {
     "name": "stdout",
     "output_type": "stream",
     "text": [
      "Counter({21: 9338, 22: 9079, 20: 9033, 23: 8404, 19: 8366, 18: 7426, 24: 7313, 17: 6118, 25: 6076, 26: 4772, 16: 4734, 27: 3582, 15: 3551, 28: 2538, 14: 2449, 29: 1675, 13: 1617, 12: 984, 30: 964, 11: 552, 31: 544, 32: 279, 10: 234, 9: 122, 33: 118, 34: 49, 8: 46, 35: 20, 7: 12, 36: 3, 6: 3})\n"
     ]
    },
    {
     "data": {
      "image/png": "[encoded data removed]",
      "text/plain": [
       "<Figure size 432x288 with 1 Axes>"
      ]
     },
     "metadata": {
      "needs_background": "light"
     },
     "output_type": "display_data"
    }
   ],
   "source": [
    "import random\n",
    "\n",
    "mlist = []\n",
    "for i in range(100_001):\n",
    "    mlist.append(random.randint(1, 6) + random.randint(1, 6) + random.randint(1, 6) + random.randint(1, 6) + random.randint(1, 6) + random.randint(1, 6))\n",
    "\n",
    "from collections import Counter\n",
    "print(Counter(mlist))\n",
    "mlist = (Counter(mlist))\n",
    "\n",
    "#list_items = Counter(list).items()\n",
    "#sorted_list = sorted(list_items)\n",
    "\n",
    "#print(sorted_list)\n",
    "\n",
    "import matplotlib.pyplot as plt\n",
    "\n",
    "\n",
    "x = mlist.keys()\n",
    "y = mlist.values()\n",
    "plt.bar(x, y)\n",
    "plt.title('Sum of 6 dice throws, n = 100 000')\n",
    "plt.xlabel('Sum')\n",
    "plt.ylabel('Count of observations')\n",
    "plt.show()\n"
   ]
  },
  {
   "cell_type": "code",
   "execution_count": null,
   "metadata": {},
   "outputs": [],
   "source": []
  }
 ],
 "metadata": {
  "kernelspec": {
   "display_name": "Python 3",
   "language": "python",
   "name": "python3"
  },
  "language_info": {
   "codemirror_mode": {
    "name": "ipython",
    "version": 3
   },
   "file_extension": ".py",
   "mimetype": "text/x-python",
   "name": "python",
   "nbconvert_exporter": "python",
   "pygments_lexer": "ipython3",
   "version": "3.8.3"
  }
 },
 "nbformat": 4,
 "nbformat_minor": 4
}
