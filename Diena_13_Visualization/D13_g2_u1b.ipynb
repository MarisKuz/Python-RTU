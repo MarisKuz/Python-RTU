{
 "cells": [
  {
   "cell_type": "code",
   "execution_count": 1,
   "metadata": {},
   "outputs": [
    {
     "name": "stdout",
     "output_type": "stream",
     "text": [
      "Counter({21: 10635, 22: 10270, 20: 10119, 23: 9167, 19: 9145, 24: 7933, 18: 7875, 25: 6214, 17: 6070, 16: 4550, 26: 4506, 15: 3017, 27: 2908, 28: 1881, 14: 1822, 13: 1045, 29: 983, 12: 557, 30: 537, 31: 252, 11: 236, 32: 111, 10: 81, 9: 43, 33: 25, 8: 9, 34: 6, 7: 2, 35: 1})\n"
     ]
    },
    {
     "data": {
      "image/png": "[encoded data removed]",
      "text/plain": [
       "<Figure size 432x288 with 1 Axes>"
      ]
     },
     "metadata": {
      "needs_background": "light"
     },
     "output_type": "display_data"
    }
   ],
   "source": [
    "import matplotlib.pyplot as plt\n",
    "import random\n",
    "import collections\n",
    " \n",
    "arr = []\n",
    "i = 0\n",
    "while i < 100000:\n",
    "    k1 = round(random.uniform(1, 6))\n",
    "    k2 = round(random.uniform(1, 6))\n",
    "    k3 = round(random.uniform(1, 6))\n",
    "    k4 = round(random.uniform(1, 6))\n",
    "    k5 = round(random.uniform(1, 6))\n",
    "    k6 = round(random.uniform(1, 6))\n",
    "    k_sum = k1+k2+k3+k4+k5+k6    \n",
    "    arr.append(k_sum)\n",
    "    i+=1\n",
    "c = collections.Counter()\n",
    "for number in arr:\n",
    "    c[number] += 1\n",
    "    \n",
    "print(c)\n",
    " \n",
    "x = c.keys()\n",
    "y = c.values()\n",
    "plt.bar(x,y)\n",
    "plt.show()"
   ]
  },
  {
   "cell_type": "code",
   "execution_count": 3,
   "metadata": {},
   "outputs": [
    {
     "data": {
      "text/plain": [
       "dict_keys([16, 26, 18, 22, 15, 19, 24, 25, 21, 13, 20, 23, 14, 28, 17, 27, 32, 12, 29, 30, 11, 10, 31, 34, 8, 33, 9, 35])"
      ]
     },
     "execution_count": 3,
     "metadata": {},
     "output_type": "execute_result"
    }
   ],
   "source": [
    "c.keys()"
   ]
  },
  {
   "cell_type": "code",
   "execution_count": 4,
   "metadata": {},
   "outputs": [
    {
     "data": {
      "text/plain": [
       "dict_values([4421, 4464, 7825, 10232, 3062, 9310, 7717, 6093, 10670, 1089, 10267, 9234, 1843, 1848, 6115, 2949, 101, 518, 1080, 534, 234, 91, 221, 11, 7, 28, 35, 1])"
      ]
     },
     "execution_count": 4,
     "metadata": {},
     "output_type": "execute_result"
    }
   ],
   "source": [
    "c.values()"
   ]
  },
  {
   "cell_type": "code",
   "execution_count": 5,
   "metadata": {},
   "outputs": [
    {
     "name": "stdout",
     "output_type": "stream",
     "text": [
      "Counter({21: 10803, 22: 10217, 20: 10159, 23: 9299, 19: 9257, 18: 8034, 24: 7875, 17: 6149, 25: 6033, 26: 4401, 16: 4348, 15: 3030, 27: 2973, 14: 1837, 28: 1802, 13: 1053, 29: 1027, 12: 525, 30: 496, 31: 227, 11: 217, 32: 85, 10: 83, 33: 26, 9: 24, 34: 10, 8: 6, 35: 2, 7: 1, 6: 1})\n"
     ]
    },
    {
     "data": {
      "image/png": "[encoded data removed]",
      "text/plain": [
       "<Figure size 432x288 with 1 Axes>"
      ]
     },
     "metadata": {
      "needs_background": "light"
     },
     "output_type": "display_data"
    }
   ],
   "source": [
    "import matplotlib.pyplot as plt\n",
    "import random\n",
    "import collections\n",
    " \n",
    "arr = []\n",
    "i = 0\n",
    "while i < 100000:\n",
    "    k1 = round(random.uniform(1, 6))\n",
    "    k2 = round(random.uniform(1, 6))\n",
    "    k3 = round(random.uniform(1, 6))\n",
    "    k4 = round(random.uniform(1, 6))\n",
    "    k5 = round(random.uniform(1, 6))\n",
    "    k6 = round(random.uniform(1, 6))\n",
    "    k_sum = k1+k2+k3+k4+k5+k6    \n",
    "    arr.append(k_sum)\n",
    "    i+=1\n",
    "c = collections.Counter(arr)\n",
    "# for number in arr:\n",
    "#     c[number] += 1\n",
    "    \n",
    "print(c)\n",
    " \n",
    "x = c.keys()\n",
    "y = c.values()\n",
    "plt.bar(x,y)\n",
    "plt.grid()\n",
    "plt.show()"
   ]
  },
  {
   "cell_type": "code",
   "execution_count": null,
   "metadata": {},
   "outputs": [],
   "source": []
  }
 ],
 "metadata": {
  "kernelspec": {
   "display_name": "Python 3",
   "language": "python",
   "name": "python3"
  },
  "language_info": {
   "codemirror_mode": {
    "name": "ipython",
    "version": 3
   },
   "file_extension": ".py",
   "mimetype": "text/x-python",
   "name": "python",
   "nbconvert_exporter": "python",
   "pygments_lexer": "ipython3",
   "version": "3.8.3"
  }
 },
 "nbformat": 4,
 "nbformat_minor": 4
}
