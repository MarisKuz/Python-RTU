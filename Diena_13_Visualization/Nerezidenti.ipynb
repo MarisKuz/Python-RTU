{
 "cells": [
  {
   "cell_type": "code",
   "execution_count": 27,
   "metadata": {},
   "outputs": [],
   "source": [
    "import pandas as pd\n",
    "import plotly.graph_objects as go"
   ]
  },
  {
   "cell_type": "code",
   "execution_count": null,
   "metadata": {},
   "outputs": [],
   "source": []
  },
  {
   "cell_type": "code",
   "execution_count": 8,
   "metadata": {},
   "outputs": [
    {
     "data": {
      "text/html": [
       "<div>\n",
       "<style scoped>\n",
       "    .dataframe tbody tr th:only-of-type {\n",
       "        vertical-align: middle;\n",
       "    }\n",
       "\n",
       "    .dataframe tbody tr th {\n",
       "        vertical-align: top;\n",
       "    }\n",
       "\n",
       "    .dataframe thead th {\n",
       "        text-align: right;\n",
       "    }\n",
       "</style>\n",
       "<table border=\"1\" class=\"dataframe\">\n",
       "  <thead>\n",
       "    <tr style=\"text-align: right;\">\n",
       "      <th></th>\n",
       "      <th>TERITORIJA</th>\n",
       "      <th>KADASTRA_NR</th>\n",
       "      <th>IPASUMA_TIPS</th>\n",
       "      <th>DARIJUMA_SUMMA</th>\n",
       "      <th>KADASTRALA_VERTIBA</th>\n",
       "      <th>PLATIBA</th>\n",
       "      <th>DOM_SK</th>\n",
       "      <th>DOM_SAUC</th>\n",
       "    </tr>\n",
       "  </thead>\n",
       "  <tbody>\n",
       "    <tr>\n",
       "      <th>0</th>\n",
       "      <td>Rîga</td>\n",
       "      <td>1001222108</td>\n",
       "      <td>Zemes nekustams îpaðums</td>\n",
       "      <td>50</td>\n",
       "      <td>1472509</td>\n",
       "      <td>5,2465</td>\n",
       "      <td>7.0</td>\n",
       "      <td>50000.0</td>\n",
       "    </tr>\n",
       "    <tr>\n",
       "      <th>1</th>\n",
       "      <td>Jelgava</td>\n",
       "      <td>9000210578</td>\n",
       "      <td>Zemes nekustams îpaðums</td>\n",
       "      <td>6500</td>\n",
       "      <td>3377</td>\n",
       "      <td>0,1079</td>\n",
       "      <td>1.0</td>\n",
       "      <td>1.0</td>\n",
       "    </tr>\n",
       "    <tr>\n",
       "      <th>2</th>\n",
       "      <td>Rîga</td>\n",
       "      <td>1000800457</td>\n",
       "      <td>Zemes un çkas nekustams îpaðums</td>\n",
       "      <td>133000</td>\n",
       "      <td>124992</td>\n",
       "      <td>0,0635</td>\n",
       "      <td>1.0</td>\n",
       "      <td>2.0</td>\n",
       "    </tr>\n",
       "    <tr>\n",
       "      <th>3</th>\n",
       "      <td>Smiltene</td>\n",
       "      <td>94150010916</td>\n",
       "      <td>Zemes nekustams îpaðums</td>\n",
       "      <td>251,15</td>\n",
       "      <td>5243</td>\n",
       "      <td>0,2044</td>\n",
       "      <td>193.0</td>\n",
       "      <td>4029.0</td>\n",
       "    </tr>\n",
       "    <tr>\n",
       "      <th>4</th>\n",
       "      <td>Mârupes pag.</td>\n",
       "      <td>80760040053</td>\n",
       "      <td>Zemes nekustams îpaðums</td>\n",
       "      <td>6550</td>\n",
       "      <td>11356</td>\n",
       "      <td>0,297</td>\n",
       "      <td>1.0</td>\n",
       "      <td>2.0</td>\n",
       "    </tr>\n",
       "  </tbody>\n",
       "</table>\n",
       "</div>"
      ],
      "text/plain": [
       "     TERITORIJA  KADASTRA_NR                     IPASUMA_TIPS DARIJUMA_SUMMA  \\\n",
       "0          Rîga   1001222108          Zemes nekustams îpaðums             50   \n",
       "1       Jelgava   9000210578          Zemes nekustams îpaðums           6500   \n",
       "2          Rîga   1000800457  Zemes un çkas nekustams îpaðums         133000   \n",
       "3      Smiltene  94150010916          Zemes nekustams îpaðums         251,15   \n",
       "4  Mârupes pag.  80760040053          Zemes nekustams îpaðums           6550   \n",
       "\n",
       "   KADASTRALA_VERTIBA PLATIBA  DOM_SK  DOM_SAUC  \n",
       "0             1472509  5,2465     7.0   50000.0  \n",
       "1                3377  0,1079     1.0       1.0  \n",
       "2              124992  0,0635     1.0       2.0  \n",
       "3                5243  0,2044   193.0    4029.0  \n",
       "4               11356   0,297     1.0       2.0  "
      ]
     },
     "execution_count": 8,
     "metadata": {},
     "output_type": "execute_result"
    }
   ],
   "source": [
    "url = \"https://data.gov.lv/dati/dataset/4b7e980e-e576-4c1d-9cb7-b723bd0d7ce5/resource/ed0ee850-4f96-4c7d-930d-84efd3d458b1/download/fails_par_2020_gadu.csv\"\n",
    "# turns not all utf-8 is all utf8\n",
    "df = pd.read_csv(url, sep=\";\", encoding=\"ISO-8859-1\")\n",
    "df.head()"
   ]
  },
  {
   "cell_type": "code",
   "execution_count": 32,
   "metadata": {},
   "outputs": [
    {
     "name": "stdout",
     "output_type": "stream",
     "text": [
      "<class 'pandas.core.frame.DataFrame'>\n",
      "RangeIndex: 1659 entries, 0 to 1658\n",
      "Data columns (total 9 columns):\n",
      " #   Column              Non-Null Count  Dtype  \n",
      "---  ------              --------------  -----  \n",
      " 0   TERITORIJA          1659 non-null   object \n",
      " 1   KADASTRA_NR         1659 non-null   int64  \n",
      " 2   IPASUMA_TIPS        1659 non-null   object \n",
      " 3   DARIJUMA_SUMMA      1659 non-null   object \n",
      " 4   KADASTRALA_VERTIBA  1659 non-null   int64  \n",
      " 5   PLATIBA             1659 non-null   object \n",
      " 6   DOM_SK              1645 non-null   float64\n",
      " 7   DOM_SAUC            1645 non-null   float64\n",
      " 8   price               1659 non-null   float64\n",
      "dtypes: float64(3), int64(2), object(4)\n",
      "memory usage: 116.8+ KB\n"
     ]
    }
   ],
   "source": [
    "df.info()"
   ]
  },
  {
   "cell_type": "code",
   "execution_count": 33,
   "metadata": {},
   "outputs": [
    {
     "data": {
      "text/html": [
       "<div>\n",
       "<style scoped>\n",
       "    .dataframe tbody tr th:only-of-type {\n",
       "        vertical-align: middle;\n",
       "    }\n",
       "\n",
       "    .dataframe tbody tr th {\n",
       "        vertical-align: top;\n",
       "    }\n",
       "\n",
       "    .dataframe thead th {\n",
       "        text-align: right;\n",
       "    }\n",
       "</style>\n",
       "<table border=\"1\" class=\"dataframe\">\n",
       "  <thead>\n",
       "    <tr style=\"text-align: right;\">\n",
       "      <th></th>\n",
       "      <th>KADASTRA_NR</th>\n",
       "      <th>KADASTRALA_VERTIBA</th>\n",
       "      <th>DOM_SK</th>\n",
       "      <th>DOM_SAUC</th>\n",
       "      <th>price</th>\n",
       "    </tr>\n",
       "  </thead>\n",
       "  <tbody>\n",
       "    <tr>\n",
       "      <th>count</th>\n",
       "      <td>1.659000e+03</td>\n",
       "      <td>1.659000e+03</td>\n",
       "      <td>1645.000000</td>\n",
       "      <td>1.645000e+03</td>\n",
       "      <td>1.659000e+03</td>\n",
       "    </tr>\n",
       "    <tr>\n",
       "      <th>mean</th>\n",
       "      <td>4.169087e+10</td>\n",
       "      <td>1.801864e+05</td>\n",
       "      <td>368.734347</td>\n",
       "      <td>4.181611e+04</td>\n",
       "      <td>5.720421e+04</td>\n",
       "    </tr>\n",
       "    <tr>\n",
       "      <th>std</th>\n",
       "      <td>3.561963e+10</td>\n",
       "      <td>6.291376e+05</td>\n",
       "      <td>2492.766534</td>\n",
       "      <td>4.039155e+05</td>\n",
       "      <td>2.253858e+05</td>\n",
       "    </tr>\n",
       "    <tr>\n",
       "      <th>min</th>\n",
       "      <td>1.000010e+09</td>\n",
       "      <td>4.000000e+00</td>\n",
       "      <td>0.000000</td>\n",
       "      <td>0.000000e+00</td>\n",
       "      <td>0.000000e+00</td>\n",
       "    </tr>\n",
       "    <tr>\n",
       "      <th>25%</th>\n",
       "      <td>1.001253e+09</td>\n",
       "      <td>3.366000e+03</td>\n",
       "      <td>1.000000</td>\n",
       "      <td>1.000000e+00</td>\n",
       "      <td>1.800000e+03</td>\n",
       "    </tr>\n",
       "    <tr>\n",
       "      <th>50%</th>\n",
       "      <td>4.246009e+10</td>\n",
       "      <td>1.132700e+04</td>\n",
       "      <td>1.000000</td>\n",
       "      <td>1.000000e+00</td>\n",
       "      <td>6.500000e+03</td>\n",
       "    </tr>\n",
       "    <tr>\n",
       "      <th>75%</th>\n",
       "      <td>8.052004e+10</td>\n",
       "      <td>6.739400e+04</td>\n",
       "      <td>23.000000</td>\n",
       "      <td>7.470000e+02</td>\n",
       "      <td>3.025000e+04</td>\n",
       "    </tr>\n",
       "    <tr>\n",
       "      <th>max</th>\n",
       "      <td>9.874010e+10</td>\n",
       "      <td>1.250059e+07</td>\n",
       "      <td>66761.000000</td>\n",
       "      <td>1.292933e+07</td>\n",
       "      <td>5.620459e+06</td>\n",
       "    </tr>\n",
       "  </tbody>\n",
       "</table>\n",
       "</div>"
      ],
      "text/plain": [
       "        KADASTRA_NR  KADASTRALA_VERTIBA        DOM_SK      DOM_SAUC  \\\n",
       "count  1.659000e+03        1.659000e+03   1645.000000  1.645000e+03   \n",
       "mean   4.169087e+10        1.801864e+05    368.734347  4.181611e+04   \n",
       "std    3.561963e+10        6.291376e+05   2492.766534  4.039155e+05   \n",
       "min    1.000010e+09        4.000000e+00      0.000000  0.000000e+00   \n",
       "25%    1.001253e+09        3.366000e+03      1.000000  1.000000e+00   \n",
       "50%    4.246009e+10        1.132700e+04      1.000000  1.000000e+00   \n",
       "75%    8.052004e+10        6.739400e+04     23.000000  7.470000e+02   \n",
       "max    9.874010e+10        1.250059e+07  66761.000000  1.292933e+07   \n",
       "\n",
       "              price  \n",
       "count  1.659000e+03  \n",
       "mean   5.720421e+04  \n",
       "std    2.253858e+05  \n",
       "min    0.000000e+00  \n",
       "25%    1.800000e+03  \n",
       "50%    6.500000e+03  \n",
       "75%    3.025000e+04  \n",
       "max    5.620459e+06  "
      ]
     },
     "execution_count": 33,
     "metadata": {},
     "output_type": "execute_result"
    }
   ],
   "source": [
    "df.describe()"
   ]
  },
  {
   "cell_type": "code",
   "execution_count": 34,
   "metadata": {},
   "outputs": [
    {
     "data": {
      "text/html": [
       "<div>\n",
       "<style scoped>\n",
       "    .dataframe tbody tr th:only-of-type {\n",
       "        vertical-align: middle;\n",
       "    }\n",
       "\n",
       "    .dataframe tbody tr th {\n",
       "        vertical-align: top;\n",
       "    }\n",
       "\n",
       "    .dataframe thead th {\n",
       "        text-align: right;\n",
       "    }\n",
       "</style>\n",
       "<table border=\"1\" class=\"dataframe\">\n",
       "  <thead>\n",
       "    <tr style=\"text-align: right;\">\n",
       "      <th></th>\n",
       "      <th>TERITORIJA</th>\n",
       "      <th>IPASUMA_TIPS</th>\n",
       "      <th>DARIJUMA_SUMMA</th>\n",
       "      <th>PLATIBA</th>\n",
       "    </tr>\n",
       "  </thead>\n",
       "  <tbody>\n",
       "    <tr>\n",
       "      <th>count</th>\n",
       "      <td>1659</td>\n",
       "      <td>1659</td>\n",
       "      <td>1659</td>\n",
       "      <td>1659</td>\n",
       "    </tr>\n",
       "    <tr>\n",
       "      <th>unique</th>\n",
       "      <td>179</td>\n",
       "      <td>2</td>\n",
       "      <td>711</td>\n",
       "      <td>1046</td>\n",
       "    </tr>\n",
       "    <tr>\n",
       "      <th>top</th>\n",
       "      <td>Rîga</td>\n",
       "      <td>Zemes nekustams îpaðums</td>\n",
       "      <td>1000</td>\n",
       "      <td>0,12</td>\n",
       "    </tr>\n",
       "    <tr>\n",
       "      <th>freq</th>\n",
       "      <td>436</td>\n",
       "      <td>962</td>\n",
       "      <td>53</td>\n",
       "      <td>15</td>\n",
       "    </tr>\n",
       "  </tbody>\n",
       "</table>\n",
       "</div>"
      ],
      "text/plain": [
       "       TERITORIJA             IPASUMA_TIPS DARIJUMA_SUMMA PLATIBA\n",
       "count        1659                     1659           1659    1659\n",
       "unique        179                        2            711    1046\n",
       "top          Rîga  Zemes nekustams îpaðums           1000    0,12\n",
       "freq          436                      962             53      15"
      ]
     },
     "execution_count": 34,
     "metadata": {},
     "output_type": "execute_result"
    }
   ],
   "source": [
    "df.describe(include=['O'])"
   ]
  },
  {
   "cell_type": "code",
   "execution_count": 13,
   "metadata": {},
   "outputs": [
    {
     "data": {
      "text/plain": [
       "count     1659\n",
       "unique     711\n",
       "top       1000\n",
       "freq        53\n",
       "Name: DARIJUMA_SUMMA, dtype: object"
      ]
     },
     "execution_count": 13,
     "metadata": {},
     "output_type": "execute_result"
    }
   ],
   "source": [
    "df[\"DARIJUMA_SUMMA\"].describe()"
   ]
  },
  {
   "cell_type": "code",
   "execution_count": 24,
   "metadata": {},
   "outputs": [
    {
     "data": {
      "text/html": [
       "<div>\n",
       "<style scoped>\n",
       "    .dataframe tbody tr th:only-of-type {\n",
       "        vertical-align: middle;\n",
       "    }\n",
       "\n",
       "    .dataframe tbody tr th {\n",
       "        vertical-align: top;\n",
       "    }\n",
       "\n",
       "    .dataframe thead th {\n",
       "        text-align: right;\n",
       "    }\n",
       "</style>\n",
       "<table border=\"1\" class=\"dataframe\">\n",
       "  <thead>\n",
       "    <tr style=\"text-align: right;\">\n",
       "      <th></th>\n",
       "      <th>TERITORIJA</th>\n",
       "      <th>KADASTRA_NR</th>\n",
       "      <th>IPASUMA_TIPS</th>\n",
       "      <th>DARIJUMA_SUMMA</th>\n",
       "      <th>KADASTRALA_VERTIBA</th>\n",
       "      <th>PLATIBA</th>\n",
       "      <th>DOM_SK</th>\n",
       "      <th>DOM_SAUC</th>\n",
       "      <th>price</th>\n",
       "    </tr>\n",
       "  </thead>\n",
       "  <tbody>\n",
       "    <tr>\n",
       "      <th>0</th>\n",
       "      <td>Rîga</td>\n",
       "      <td>1001222108</td>\n",
       "      <td>Zemes nekustams îpaðums</td>\n",
       "      <td>50</td>\n",
       "      <td>1472509</td>\n",
       "      <td>5,2465</td>\n",
       "      <td>7.0</td>\n",
       "      <td>50000.0</td>\n",
       "      <td>50.00</td>\n",
       "    </tr>\n",
       "    <tr>\n",
       "      <th>1</th>\n",
       "      <td>Jelgava</td>\n",
       "      <td>9000210578</td>\n",
       "      <td>Zemes nekustams îpaðums</td>\n",
       "      <td>6500</td>\n",
       "      <td>3377</td>\n",
       "      <td>0,1079</td>\n",
       "      <td>1.0</td>\n",
       "      <td>1.0</td>\n",
       "      <td>6500.00</td>\n",
       "    </tr>\n",
       "    <tr>\n",
       "      <th>2</th>\n",
       "      <td>Rîga</td>\n",
       "      <td>1000800457</td>\n",
       "      <td>Zemes un çkas nekustams îpaðums</td>\n",
       "      <td>133000</td>\n",
       "      <td>124992</td>\n",
       "      <td>0,0635</td>\n",
       "      <td>1.0</td>\n",
       "      <td>2.0</td>\n",
       "      <td>133000.00</td>\n",
       "    </tr>\n",
       "    <tr>\n",
       "      <th>3</th>\n",
       "      <td>Smiltene</td>\n",
       "      <td>94150010916</td>\n",
       "      <td>Zemes nekustams îpaðums</td>\n",
       "      <td>251,15</td>\n",
       "      <td>5243</td>\n",
       "      <td>0,2044</td>\n",
       "      <td>193.0</td>\n",
       "      <td>4029.0</td>\n",
       "      <td>251.15</td>\n",
       "    </tr>\n",
       "    <tr>\n",
       "      <th>4</th>\n",
       "      <td>Mârupes pag.</td>\n",
       "      <td>80760040053</td>\n",
       "      <td>Zemes nekustams îpaðums</td>\n",
       "      <td>6550</td>\n",
       "      <td>11356</td>\n",
       "      <td>0,297</td>\n",
       "      <td>1.0</td>\n",
       "      <td>2.0</td>\n",
       "      <td>6550.00</td>\n",
       "    </tr>\n",
       "  </tbody>\n",
       "</table>\n",
       "</div>"
      ],
      "text/plain": [
       "     TERITORIJA  KADASTRA_NR                     IPASUMA_TIPS DARIJUMA_SUMMA  \\\n",
       "0          Rîga   1001222108          Zemes nekustams îpaðums             50   \n",
       "1       Jelgava   9000210578          Zemes nekustams îpaðums           6500   \n",
       "2          Rîga   1000800457  Zemes un çkas nekustams îpaðums         133000   \n",
       "3      Smiltene  94150010916          Zemes nekustams îpaðums         251,15   \n",
       "4  Mârupes pag.  80760040053          Zemes nekustams îpaðums           6550   \n",
       "\n",
       "   KADASTRALA_VERTIBA PLATIBA  DOM_SK  DOM_SAUC      price  \n",
       "0             1472509  5,2465     7.0   50000.0      50.00  \n",
       "1                3377  0,1079     1.0       1.0    6500.00  \n",
       "2              124992  0,0635     1.0       2.0  133000.00  \n",
       "3                5243  0,2044   193.0    4029.0     251.15  \n",
       "4               11356   0,297     1.0       2.0    6550.00  "
      ]
     },
     "execution_count": 24,
     "metadata": {},
     "output_type": "execute_result"
    }
   ],
   "source": [
    "df['price'] = df[\"DARIJUMA_SUMMA\"].str.replace(\",\",\".\").astype(float)\n",
    "df.head()"
   ]
  },
  {
   "cell_type": "code",
   "execution_count": 35,
   "metadata": {},
   "outputs": [
    {
     "data": {
      "text/plain": [
       "(1659, 9)"
      ]
     },
     "execution_count": 35,
     "metadata": {},
     "output_type": "execute_result"
    }
   ],
   "source": [
    "df.shape"
   ]
  },
  {
   "cell_type": "code",
   "execution_count": 25,
   "metadata": {},
   "outputs": [
    {
     "name": "stdout",
     "output_type": "stream",
     "text": [
      "<class 'pandas.core.frame.DataFrame'>\n",
      "RangeIndex: 1659 entries, 0 to 1658\n",
      "Data columns (total 9 columns):\n",
      " #   Column              Non-Null Count  Dtype  \n",
      "---  ------              --------------  -----  \n",
      " 0   TERITORIJA          1659 non-null   object \n",
      " 1   KADASTRA_NR         1659 non-null   int64  \n",
      " 2   IPASUMA_TIPS        1659 non-null   object \n",
      " 3   DARIJUMA_SUMMA      1659 non-null   object \n",
      " 4   KADASTRALA_VERTIBA  1659 non-null   int64  \n",
      " 5   PLATIBA             1659 non-null   object \n",
      " 6   DOM_SK              1645 non-null   float64\n",
      " 7   DOM_SAUC            1645 non-null   float64\n",
      " 8   price               1659 non-null   float64\n",
      "dtypes: float64(3), int64(2), object(4)\n",
      "memory usage: 116.8+ KB\n"
     ]
    }
   ],
   "source": [
    "df.info()"
   ]
  },
  {
   "cell_type": "code",
   "execution_count": 23,
   "metadata": {},
   "outputs": [
    {
     "data": {
      "text/plain": [
       "0           50.00\n",
       "1         6500.00\n",
       "2       133000.00\n",
       "3          251.15\n",
       "4         6550.00\n",
       "          ...    \n",
       "1654       638.00\n",
       "1655      6000.00\n",
       "1656       305.00\n",
       "1657       508.33\n",
       "1658      1000.00\n",
       "Name: price, Length: 1659, dtype: float64"
      ]
     },
     "execution_count": 23,
     "metadata": {},
     "output_type": "execute_result"
    }
   ],
   "source": [
    "# df.price[:10].astype(float)\n",
    "# df.price.astype(float)"
   ]
  },
  {
   "cell_type": "code",
   "execution_count": 36,
   "metadata": {},
   "outputs": [],
   "source": [
    "df.to_excel(\"nonresidents_2020.xlsx\")"
   ]
  },
  {
   "cell_type": "code",
   "execution_count": 26,
   "metadata": {},
   "outputs": [
    {
     "data": {
      "text/html": [
       "<div>\n",
       "<style scoped>\n",
       "    .dataframe tbody tr th:only-of-type {\n",
       "        vertical-align: middle;\n",
       "    }\n",
       "\n",
       "    .dataframe tbody tr th {\n",
       "        vertical-align: top;\n",
       "    }\n",
       "\n",
       "    .dataframe thead tr th {\n",
       "        text-align: left;\n",
       "    }\n",
       "\n",
       "    .dataframe thead tr:last-of-type th {\n",
       "        text-align: right;\n",
       "    }\n",
       "</style>\n",
       "<table border=\"1\" class=\"dataframe\">\n",
       "  <thead>\n",
       "    <tr>\n",
       "      <th></th>\n",
       "      <th colspan=\"5\" halign=\"left\">KADASTRA_NR</th>\n",
       "      <th colspan=\"5\" halign=\"left\">KADASTRALA_VERTIBA</th>\n",
       "      <th>...</th>\n",
       "      <th colspan=\"5\" halign=\"left\">DOM_SAUC</th>\n",
       "      <th colspan=\"5\" halign=\"left\">price</th>\n",
       "    </tr>\n",
       "    <tr>\n",
       "      <th></th>\n",
       "      <th>sum</th>\n",
       "      <th>min</th>\n",
       "      <th>mean</th>\n",
       "      <th>max</th>\n",
       "      <th>count</th>\n",
       "      <th>sum</th>\n",
       "      <th>min</th>\n",
       "      <th>mean</th>\n",
       "      <th>max</th>\n",
       "      <th>count</th>\n",
       "      <th>...</th>\n",
       "      <th>sum</th>\n",
       "      <th>min</th>\n",
       "      <th>mean</th>\n",
       "      <th>max</th>\n",
       "      <th>count</th>\n",
       "      <th>sum</th>\n",
       "      <th>min</th>\n",
       "      <th>mean</th>\n",
       "      <th>max</th>\n",
       "      <th>count</th>\n",
       "    </tr>\n",
       "    <tr>\n",
       "      <th>TERITORIJA</th>\n",
       "      <th></th>\n",
       "      <th></th>\n",
       "      <th></th>\n",
       "      <th></th>\n",
       "      <th></th>\n",
       "      <th></th>\n",
       "      <th></th>\n",
       "      <th></th>\n",
       "      <th></th>\n",
       "      <th></th>\n",
       "      <th></th>\n",
       "      <th></th>\n",
       "      <th></th>\n",
       "      <th></th>\n",
       "      <th></th>\n",
       "      <th></th>\n",
       "      <th></th>\n",
       "      <th></th>\n",
       "      <th></th>\n",
       "      <th></th>\n",
       "      <th></th>\n",
       "    </tr>\n",
       "  </thead>\n",
       "  <tbody>\n",
       "    <tr>\n",
       "      <th>Aglonas pag.</th>\n",
       "      <td>76420020020</td>\n",
       "      <td>76420020020</td>\n",
       "      <td>7.642002e+10</td>\n",
       "      <td>76420020020</td>\n",
       "      <td>1</td>\n",
       "      <td>3904</td>\n",
       "      <td>3904</td>\n",
       "      <td>3904.0</td>\n",
       "      <td>3904</td>\n",
       "      <td>1</td>\n",
       "      <td>...</td>\n",
       "      <td>1.0</td>\n",
       "      <td>1.0</td>\n",
       "      <td>1.0</td>\n",
       "      <td>1.0</td>\n",
       "      <td>1</td>\n",
       "      <td>75609.00</td>\n",
       "      <td>75609.00</td>\n",
       "      <td>75609.00</td>\n",
       "      <td>75609.0</td>\n",
       "      <td>1</td>\n",
       "    </tr>\n",
       "    <tr>\n",
       "      <th>Aizpute</th>\n",
       "      <td>64050040067</td>\n",
       "      <td>64050040067</td>\n",
       "      <td>6.405004e+10</td>\n",
       "      <td>64050040067</td>\n",
       "      <td>1</td>\n",
       "      <td>53904</td>\n",
       "      <td>53904</td>\n",
       "      <td>53904.0</td>\n",
       "      <td>53904</td>\n",
       "      <td>1</td>\n",
       "      <td>...</td>\n",
       "      <td>1.0</td>\n",
       "      <td>1.0</td>\n",
       "      <td>1.0</td>\n",
       "      <td>1.0</td>\n",
       "      <td>1</td>\n",
       "      <td>7875.00</td>\n",
       "      <td>7875.00</td>\n",
       "      <td>7875.00</td>\n",
       "      <td>7875.0</td>\n",
       "      <td>1</td>\n",
       "    </tr>\n",
       "    <tr>\n",
       "      <th>Allaþu pag.</th>\n",
       "      <td>402100081342</td>\n",
       "      <td>80420010168</td>\n",
       "      <td>8.042002e+10</td>\n",
       "      <td>80420040349</td>\n",
       "      <td>5</td>\n",
       "      <td>22275</td>\n",
       "      <td>1639</td>\n",
       "      <td>4455.0</td>\n",
       "      <td>7833</td>\n",
       "      <td>5</td>\n",
       "      <td>...</td>\n",
       "      <td>6.0</td>\n",
       "      <td>1.0</td>\n",
       "      <td>1.2</td>\n",
       "      <td>2.0</td>\n",
       "      <td>5</td>\n",
       "      <td>16873.15</td>\n",
       "      <td>73.15</td>\n",
       "      <td>3374.63</td>\n",
       "      <td>9000.0</td>\n",
       "      <td>5</td>\n",
       "    </tr>\n",
       "    <tr>\n",
       "      <th>Alsviíu pag.</th>\n",
       "      <td>36420020068</td>\n",
       "      <td>36420020068</td>\n",
       "      <td>3.642002e+10</td>\n",
       "      <td>36420020068</td>\n",
       "      <td>1</td>\n",
       "      <td>2601</td>\n",
       "      <td>2601</td>\n",
       "      <td>2601.0</td>\n",
       "      <td>2601</td>\n",
       "      <td>1</td>\n",
       "      <td>...</td>\n",
       "      <td>1.0</td>\n",
       "      <td>1.0</td>\n",
       "      <td>1.0</td>\n",
       "      <td>1.0</td>\n",
       "      <td>1</td>\n",
       "      <td>3000.00</td>\n",
       "      <td>3000.00</td>\n",
       "      <td>3000.00</td>\n",
       "      <td>3000.0</td>\n",
       "      <td>1</td>\n",
       "    </tr>\n",
       "    <tr>\n",
       "      <th>Ambeïu pag.</th>\n",
       "      <td>44420060053</td>\n",
       "      <td>44420060053</td>\n",
       "      <td>4.442006e+10</td>\n",
       "      <td>44420060053</td>\n",
       "      <td>1</td>\n",
       "      <td>4089</td>\n",
       "      <td>4089</td>\n",
       "      <td>4089.0</td>\n",
       "      <td>4089</td>\n",
       "      <td>1</td>\n",
       "      <td>...</td>\n",
       "      <td>1.0</td>\n",
       "      <td>1.0</td>\n",
       "      <td>1.0</td>\n",
       "      <td>1.0</td>\n",
       "      <td>1</td>\n",
       "      <td>3000.00</td>\n",
       "      <td>3000.00</td>\n",
       "      <td>3000.00</td>\n",
       "      <td>3000.0</td>\n",
       "      <td>1</td>\n",
       "    </tr>\n",
       "  </tbody>\n",
       "</table>\n",
       "<p>5 rows × 25 columns</p>\n",
       "</div>"
      ],
      "text/plain": [
       "               KADASTRA_NR                                                \\\n",
       "                       sum          min          mean          max count   \n",
       "TERITORIJA                                                                 \n",
       "Aglonas pag.   76420020020  76420020020  7.642002e+10  76420020020     1   \n",
       "Aizpute        64050040067  64050040067  6.405004e+10  64050040067     1   \n",
       "Allaþu pag.   402100081342  80420010168  8.042002e+10  80420040349     5   \n",
       "Alsviíu pag.   36420020068  36420020068  3.642002e+10  36420020068     1   \n",
       "Ambeïu pag.    44420060053  44420060053  4.442006e+10  44420060053     1   \n",
       "\n",
       "             KADASTRALA_VERTIBA                               ... DOM_SAUC  \\\n",
       "                            sum    min     mean    max count  ...      sum   \n",
       "TERITORIJA                                                    ...            \n",
       "Aglonas pag.               3904   3904   3904.0   3904     1  ...      1.0   \n",
       "Aizpute                   53904  53904  53904.0  53904     1  ...      1.0   \n",
       "Allaþu pag.               22275   1639   4455.0   7833     5  ...      6.0   \n",
       "Alsviíu pag.               2601   2601   2601.0   2601     1  ...      1.0   \n",
       "Ambeïu pag.                4089   4089   4089.0   4089     1  ...      1.0   \n",
       "\n",
       "                                      price                                     \n",
       "              min mean  max count       sum       min      mean      max count  \n",
       "TERITORIJA                                                                      \n",
       "Aglonas pag.  1.0  1.0  1.0     1  75609.00  75609.00  75609.00  75609.0     1  \n",
       "Aizpute       1.0  1.0  1.0     1   7875.00   7875.00   7875.00   7875.0     1  \n",
       "Allaþu pag.   1.0  1.2  2.0     5  16873.15     73.15   3374.63   9000.0     5  \n",
       "Alsviíu pag.  1.0  1.0  1.0     1   3000.00   3000.00   3000.00   3000.0     1  \n",
       "Ambeïu pag.   1.0  1.0  1.0     1   3000.00   3000.00   3000.00   3000.0     1  \n",
       "\n",
       "[5 rows x 25 columns]"
      ]
     },
     "execution_count": 26,
     "metadata": {},
     "output_type": "execute_result"
    }
   ],
   "source": [
    "terr = df.groupby(by=\"TERITORIJA\").agg([\"sum\",\"min\",\"mean\",\"max\",\"count\"])\n",
    "# so agg will work on numeric (float, int ) columns\n",
    "terr.head()"
   ]
  },
  {
   "cell_type": "code",
   "execution_count": 28,
   "metadata": {},
   "outputs": [
    {
     "data": {
      "text/plain": [
       "MultiIndex([(       'KADASTRA_NR',   'sum'),\n",
       "            (       'KADASTRA_NR',   'min'),\n",
       "            (       'KADASTRA_NR',  'mean'),\n",
       "            (       'KADASTRA_NR',   'max'),\n",
       "            (       'KADASTRA_NR', 'count'),\n",
       "            ('KADASTRALA_VERTIBA',   'sum'),\n",
       "            ('KADASTRALA_VERTIBA',   'min'),\n",
       "            ('KADASTRALA_VERTIBA',  'mean'),\n",
       "            ('KADASTRALA_VERTIBA',   'max'),\n",
       "            ('KADASTRALA_VERTIBA', 'count'),\n",
       "            (            'DOM_SK',   'sum'),\n",
       "            (            'DOM_SK',   'min'),\n",
       "            (            'DOM_SK',  'mean'),\n",
       "            (            'DOM_SK',   'max'),\n",
       "            (            'DOM_SK', 'count'),\n",
       "            (          'DOM_SAUC',   'sum'),\n",
       "            (          'DOM_SAUC',   'min'),\n",
       "            (          'DOM_SAUC',  'mean'),\n",
       "            (          'DOM_SAUC',   'max'),\n",
       "            (          'DOM_SAUC', 'count'),\n",
       "            (             'price',   'sum'),\n",
       "            (             'price',   'min'),\n",
       "            (             'price',  'mean'),\n",
       "            (             'price',   'max'),\n",
       "            (             'price', 'count')],\n",
       "           )"
      ]
     },
     "execution_count": 28,
     "metadata": {},
     "output_type": "execute_result"
    }
   ],
   "source": [
    "terr.columns"
   ]
  },
  {
   "cell_type": "code",
   "execution_count": 31,
   "metadata": {},
   "outputs": [
    {
     "data": {
      "application/vnd.plotly.v1+json": {
       "config": {
        "plotlyServerURL": "https://plot.ly"
       },
       "data": [
        {
         "name": "Kadastrs mean",
         "type": "bar",
         "x": [
          "Aglonas pag.",
          "Aizpute",
          "Allaþu pag.",
          "Alsviíu pag.",
          "Ambeïu pag.",
          "Auce",
          "Augstkalnes pag.",
          "Auru pag.",
          "Babîtes pag.",
          "Baldones pag.",
          "Baloþi",
          "Bauska",
          "Bebrenes pag.",
          "Beïavas pag.",
          "Brîvzemnieku pag.",
          "Burtnieku pag.",
          "Bçrzkalnes pag.",
          "Carnikavas pag..",
          "Cenu pag.",
          "Ciblas pag.",
          "Cieceres pag.",
          "Codes pag.",
          "Cçsis",
          "Daudzeses pag.",
          "Daugavpils",
          "Daugmales pag.",
          "Dekðâres pag.",
          "Dobele",
          "Drabeðu pag.",
          "Drustu pag.",
          "Dubnas pag.",
          "Dundagas pag.",
          "Dunikas pag.",
          "Durbe",
          "Dâviòu pag.",
          "Engures pag.",
          "Ezernieku pag.",
          "Garkalnes pag.",
          "Glûdas pag.",
          "Grobiòa",
          "Grobiòas pag.",
          "Gulbene",
          "Iecavas pag.",
          "Ikðíile",
          "Ilzeskalna pag.",
          "Ilûkste",
          "Inèukalna pag.",
          "Izvaltas pag.",
          "Jaunalûksnes pag.",
          "Jaunlaicenes pag.",
          "Jaunpiebalgas pag.",
          "Jaunsvirlaukas pag.",
          "Jelgava",
          "Jçkabpils",
          "Jçrcçnu pag.",
          "Jûrmala",
          "Kalkûnes pag.",
          "Kalncempju pag.",
          "Kalnciema pag.",
          "Kaplavas pag.",
          "Kaunatas pag.",
          "Klintaines pag.",
          "Kokneses pag.",
          "Krimuldas pag.",
          "Krustpils pag.",
          "Krâslava",
          "Krâslavas pag.",
          "Kuldîga",
          "Kûku pag.",
          "Lapmeþciema pag.",
          "Launkalnes pag.",
          "Lendþu pag.",
          "Lielvârde",
          "Liepupes pag.",
          "Liepâja",
          "Limbaþi",
          "Ludza",
          "Lçdmanes pag.",
          "Lîbagu pag.",
          "Lîksnas pag.",
          "Lîvbçrzes pag.",
          "Lîvâni",
          "Lûznavas pag.",
          "Madona",
          "Mazsalaca",
          "Mazzalves pag.",
          "Maïinovas pag.",
          "Medumu pag.",
          "Medzes pag.",
          "Mâkoòkalna pag.",
          "Mâlpils pag.",
          "Mârupes pag.",
          "Mçtrienas pag.",
          "Naudîtes pag.",
          "Naujenes pag.",
          "Nîcas pag.",
          "Nîcgales pag.",
          "Ogre",
          "Ogresgala pag.",
          "Olaine",
          "Olaines pag.",
          "Ozolaines pag.",
          "Ozolnieku pag.",
          "Pededzes pag.",
          "Pelèu pag.",
          "Piltenes pag.",
          "Praulienas pag.",
          "Preiïu pag.",
          "Pïaviòas",
          "Raiskuma pag.",
          "Rojas pag.",
          "Ropaþu pag.",
          "Rubas pag.",
          "Rucavas pag.",
          "Rundâles pag.",
          "Rçzekne",
          "Rîga",
          "Rûjiena",
          "Salas pag.",
          "Salaspils",
          "Salaspils pag.",
          "Saldus",
          "Salgales pag.",
          "Saukas pag.",
          "Saulkrasti",
          "Saulkrastu pag.",
          "Sigulda",
          "Siguldas pag.",
          "Skrudalienas pag.",
          "Skrîveru pag.",
          "Skultes pag.",
          "Smiltene",
          "Smiltenes pag.",
          "Smârdes pag.",
          "Staburaga pag.",
          "Stelpes pag.",
          "Stende",
          "Stopiòu pag.",
          "Straupes pag.",
          "Subate",
          "Suntaþu pag.",
          "Sventes pag.",
          "Svçtes pag.",
          "Sçjas pag.",
          "Sçrenes pag.",
          "Tabores pag.",
          "Tadaiíu pag.",
          "Talsi",
          "Taurenes pag.",
          "Tomes pag.",
          "Tukums",
          "Târgales pag.",
          "Tînûþu pag.",
          "Ugâles pag.",
          "Umurgas pag.",
          "Usmas pag.",
          "Vaiòodes pag.",
          "Valgundes pag.",
          "Valka",
          "Valkas pag.",
          "Valles pag.",
          "Valmiera",
          "Vecpiebalgas pag.",
          "Ventspils ",
          "Viïâni",
          "Viïânu pag.",
          "Viðíu pag.",
          "Vçrgales pag.",
          "Vîtiòu pag.",
          "Zantes pag.",
          "Zilupe",
          "Âbeïu pag.",
          "Âdaþu pag.",
          "Íeipenes pag.",
          "Íekavas pag.",
          "Íepovas pag.",
          "Îslîces pag.",
          "Ðçderes pag.",
          "Ûdrîðu pag."
         ],
         "y": [
          3904,
          53904,
          4455,
          2601,
          4089,
          11108,
          6668.5,
          1137.25,
          40394.44827586207,
          6194.333333333333,
          112561.6,
          25193,
          4393,
          2563.5,
          6472,
          410,
          20705,
          15259.142857142857,
          16089,
          1858,
          826.5,
          3000,
          31997.333333333332,
          28686,
          7075.078651685393,
          7716.5,
          2171,
          5338,
          35617.71428571428,
          4254,
          133,
          1157,
          1571,
          3255,
          1705.6666666666667,
          12958.75,
          3094,
          45322.27272727273,
          4651.416666666667,
          11042.25,
          10551,
          18002,
          5555.222222222223,
          5579,
          1026,
          1162.3333333333333,
          5225.714285714285,
          1980,
          623,
          11363,
          11254,
          638,
          9272.190476190477,
          28342,
          3005.5,
          685431.2765957447,
          896.6666666666666,
          2551.3333333333335,
          2718.6666666666665,
          2888,
          4492,
          564,
          659,
          964,
          1378.5,
          3379.6,
          1135.5,
          1847.6666666666667,
          3416,
          23145,
          85,
          6278,
          8754,
          2788.6666666666665,
          52782.84848484849,
          5657.5,
          10216.666666666666,
          1484,
          13904,
          1486.3333333333333,
          21737.5,
          5474,
          1945,
          9357,
          4355,
          4868.5,
          2052.4,
          1204,
          3358,
          4250,
          12936,
          48355.120689655174,
          13329,
          1447,
          2624,
          3529.4545454545455,
          2456,
          452746.3,
          10261,
          41067,
          5622.376068376068,
          1572,
          54714,
          3024,
          620,
          8247,
          4055,
          2888,
          5098,
          650,
          4019,
          7792.674418604651,
          4559,
          21474.04761904762,
          4604,
          24069.75,
          401945.376146789,
          16496,
          3125,
          480396.875,
          11136.90909090909,
          26223,
          1520.5,
          2022.5,
          56289.181818181816,
          12529.9375,
          44846.5,
          36299,
          79,
          2068,
          13314,
          5243,
          1786,
          13198,
          136,
          5083,
          11854,
          68678.10714285714,
          1070,
          304,
          584,
          1515,
          3838,
          1283.5,
          3155.5,
          225,
          1519,
          10447,
          423,
          1739,
          20269,
          1536.2,
          4419,
          3726,
          1054.5,
          4238.5,
          2879,
          11462,
          1655.1666666666667,
          2667,
          1000,
          36617.22222222222,
          15598,
          38948.37837837838,
          5215.333333333333,
          4745,
          4793.5,
          778.5,
          1429,
          9156,
          2202,
          2360,
          36127,
          1011,
          6909.333333333333,
          2027,
          8963.5,
          1591,
          252
         ]
        },
        {
         "name": "Price mean",
         "type": "bar",
         "x": [
          "Aglonas pag.",
          "Aizpute",
          "Allaþu pag.",
          "Alsviíu pag.",
          "Ambeïu pag.",
          "Auce",
          "Augstkalnes pag.",
          "Auru pag.",
          "Babîtes pag.",
          "Baldones pag.",
          "Baloþi",
          "Bauska",
          "Bebrenes pag.",
          "Beïavas pag.",
          "Brîvzemnieku pag.",
          "Burtnieku pag.",
          "Bçrzkalnes pag.",
          "Carnikavas pag..",
          "Cenu pag.",
          "Ciblas pag.",
          "Cieceres pag.",
          "Codes pag.",
          "Cçsis",
          "Daudzeses pag.",
          "Daugavpils",
          "Daugmales pag.",
          "Dekðâres pag.",
          "Dobele",
          "Drabeðu pag.",
          "Drustu pag.",
          "Dubnas pag.",
          "Dundagas pag.",
          "Dunikas pag.",
          "Durbe",
          "Dâviòu pag.",
          "Engures pag.",
          "Ezernieku pag.",
          "Garkalnes pag.",
          "Glûdas pag.",
          "Grobiòa",
          "Grobiòas pag.",
          "Gulbene",
          "Iecavas pag.",
          "Ikðíile",
          "Ilzeskalna pag.",
          "Ilûkste",
          "Inèukalna pag.",
          "Izvaltas pag.",
          "Jaunalûksnes pag.",
          "Jaunlaicenes pag.",
          "Jaunpiebalgas pag.",
          "Jaunsvirlaukas pag.",
          "Jelgava",
          "Jçkabpils",
          "Jçrcçnu pag.",
          "Jûrmala",
          "Kalkûnes pag.",
          "Kalncempju pag.",
          "Kalnciema pag.",
          "Kaplavas pag.",
          "Kaunatas pag.",
          "Klintaines pag.",
          "Kokneses pag.",
          "Krimuldas pag.",
          "Krustpils pag.",
          "Krâslava",
          "Krâslavas pag.",
          "Kuldîga",
          "Kûku pag.",
          "Lapmeþciema pag.",
          "Launkalnes pag.",
          "Lendþu pag.",
          "Lielvârde",
          "Liepupes pag.",
          "Liepâja",
          "Limbaþi",
          "Ludza",
          "Lçdmanes pag.",
          "Lîbagu pag.",
          "Lîksnas pag.",
          "Lîvbçrzes pag.",
          "Lîvâni",
          "Lûznavas pag.",
          "Madona",
          "Mazsalaca",
          "Mazzalves pag.",
          "Maïinovas pag.",
          "Medumu pag.",
          "Medzes pag.",
          "Mâkoòkalna pag.",
          "Mâlpils pag.",
          "Mârupes pag.",
          "Mçtrienas pag.",
          "Naudîtes pag.",
          "Naujenes pag.",
          "Nîcas pag.",
          "Nîcgales pag.",
          "Ogre",
          "Ogresgala pag.",
          "Olaine",
          "Olaines pag.",
          "Ozolaines pag.",
          "Ozolnieku pag.",
          "Pededzes pag.",
          "Pelèu pag.",
          "Piltenes pag.",
          "Praulienas pag.",
          "Preiïu pag.",
          "Pïaviòas",
          "Raiskuma pag.",
          "Rojas pag.",
          "Ropaþu pag.",
          "Rubas pag.",
          "Rucavas pag.",
          "Rundâles pag.",
          "Rçzekne",
          "Rîga",
          "Rûjiena",
          "Salas pag.",
          "Salaspils",
          "Salaspils pag.",
          "Saldus",
          "Salgales pag.",
          "Saukas pag.",
          "Saulkrasti",
          "Saulkrastu pag.",
          "Sigulda",
          "Siguldas pag.",
          "Skrudalienas pag.",
          "Skrîveru pag.",
          "Skultes pag.",
          "Smiltene",
          "Smiltenes pag.",
          "Smârdes pag.",
          "Staburaga pag.",
          "Stelpes pag.",
          "Stende",
          "Stopiòu pag.",
          "Straupes pag.",
          "Subate",
          "Suntaþu pag.",
          "Sventes pag.",
          "Svçtes pag.",
          "Sçjas pag.",
          "Sçrenes pag.",
          "Tabores pag.",
          "Tadaiíu pag.",
          "Talsi",
          "Taurenes pag.",
          "Tomes pag.",
          "Tukums",
          "Târgales pag.",
          "Tînûþu pag.",
          "Ugâles pag.",
          "Umurgas pag.",
          "Usmas pag.",
          "Vaiòodes pag.",
          "Valgundes pag.",
          "Valka",
          "Valkas pag.",
          "Valles pag.",
          "Valmiera",
          "Vecpiebalgas pag.",
          "Ventspils ",
          "Viïâni",
          "Viïânu pag.",
          "Viðíu pag.",
          "Vçrgales pag.",
          "Vîtiòu pag.",
          "Zantes pag.",
          "Zilupe",
          "Âbeïu pag.",
          "Âdaþu pag.",
          "Íeipenes pag.",
          "Íekavas pag.",
          "Íepovas pag.",
          "Îslîces pag.",
          "Ðçderes pag.",
          "Ûdrîðu pag."
         ],
         "y": [
          75609,
          7875,
          3374.63,
          3000,
          3000,
          11000,
          5390,
          900,
          116059.24137931035,
          17177.777777777777,
          26240,
          20750,
          4000,
          5625,
          3236,
          410,
          25000,
          34542.88119047619,
          9500,
          3700,
          4000,
          1422.87,
          33333.333333333336,
          37323,
          3666.6858426966296,
          41500,
          1000,
          12000,
          202132.14285714287,
          46000,
          2000,
          1000,
          2350,
          12000,
          3813.3333333333335,
          56355.7175,
          9150,
          69450,
          5260.240000000001,
          46750,
          143000,
          35000,
          8985,
          11015.95,
          9705.77,
          1142.6666666666667,
          4192.051428571429,
          2000,
          7000,
          105000,
          7504,
          350,
          7532.195,
          28500,
          8910,
          318190.2243262411,
          3502.8333333333335,
          15500,
          1466.6666666666667,
          2077,
          6000,
          2000,
          5500,
          10000,
          600,
          9162.3,
          700,
          740.88,
          5000,
          85750,
          1500,
          18000,
          17666.666666666668,
          11375,
          45865.51878787879,
          2857.89,
          4351.736666666667,
          1650,
          78000,
          1620,
          57500,
          5000,
          1942.5,
          85.59,
          4000,
          5250,
          8217.8,
          7666.666666666667,
          5744.5,
          10600,
          26098.76,
          90332.03448275862,
          10000,
          750,
          5000,
          15970.527272727271,
          5300,
          16645.322,
          37090,
          15000,
          9965.067606837607,
          2500,
          152000,
          3700,
          5000,
          15000,
          25000,
          5000,
          5000,
          800,
          146125,
          5355.139534883721,
          5000,
          19128.571428571428,
          2300,
          4006.255,
          48202.40525229358,
          52000,
          4065.125,
          6857.327499999999,
          23343.153181818183,
          22000,
          2089.5,
          1250,
          55363.63636363636,
          13188.515625,
          102660.9175,
          150000,
          350,
          4500,
          19578.571428571428,
          251.15,
          10583,
          130000,
          29000,
          8500,
          30000,
          51470.28571428572,
          10500,
          700,
          1500,
          1200,
          5500,
          3641.025,
          3361.435,
          994,
          1500,
          22000,
          1200,
          4000,
          10750,
          3154.4,
          6643,
          3587.5,
          700,
          4100,
          7694.995,
          20000,
          1130.5,
          6250,
          5000,
          61433.06555555555,
          100000,
          19184.368648648648,
          9666.666666666666,
          5000,
          3900,
          11500,
          1700,
          3506,
          2560,
          9900,
          80233.33333333333,
          1000,
          20051.648333333334,
          1404.7,
          4000,
          1087.5,
          700
         ]
        }
       ],
       "layout": {
        "barmode": "group",
        "template": {
         "data": {
          "bar": [
           {
            "error_x": {
             "color": "#2a3f5f"
            },
            "error_y": {
             "color": "#2a3f5f"
            },
            "marker": {
             "line": {
              "color": "#E5ECF6",
              "width": 0.5
             }
            },
            "type": "bar"
           }
          ],
          "barpolar": [
           {
            "marker": {
             "line": {
              "color": "#E5ECF6",
              "width": 0.5
             }
            },
            "type": "barpolar"
           }
          ],
          "carpet": [
           {
            "aaxis": {
             "endlinecolor": "#2a3f5f",
             "gridcolor": "white",
             "linecolor": "white",
             "minorgridcolor": "white",
             "startlinecolor": "#2a3f5f"
            },
            "baxis": {
             "endlinecolor": "#2a3f5f",
             "gridcolor": "white",
             "linecolor": "white",
             "minorgridcolor": "white",
             "startlinecolor": "#2a3f5f"
            },
            "type": "carpet"
           }
          ],
          "choropleth": [
           {
            "colorbar": {
             "outlinewidth": 0,
             "ticks": ""
            },
            "type": "choropleth"
           }
          ],
          "contour": [
           {
            "colorbar": {
             "outlinewidth": 0,
             "ticks": ""
            },
            "colorscale": [
             [
              0,
              "#0d0887"
             ],
             [
              0.1111111111111111,
              "#46039f"
             ],
             [
              0.2222222222222222,
              "#7201a8"
             ],
             [
              0.3333333333333333,
              "#9c179e"
             ],
             [
              0.4444444444444444,
              "#bd3786"
             ],
             [
              0.5555555555555556,
              "#d8576b"
             ],
             [
              0.6666666666666666,
              "#ed7953"
             ],
             [
              0.7777777777777778,
              "#fb9f3a"
             ],
             [
              0.8888888888888888,
              "#fdca26"
             ],
             [
              1,
              "#f0f921"
             ]
            ],
            "type": "contour"
           }
          ],
          "contourcarpet": [
           {
            "colorbar": {
             "outlinewidth": 0,
             "ticks": ""
            },
            "type": "contourcarpet"
           }
          ],
          "heatmap": [
           {
            "colorbar": {
             "outlinewidth": 0,
             "ticks": ""
            },
            "colorscale": [
             [
              0,
              "#0d0887"
             ],
             [
              0.1111111111111111,
              "#46039f"
             ],
             [
              0.2222222222222222,
              "#7201a8"
             ],
             [
              0.3333333333333333,
              "#9c179e"
             ],
             [
              0.4444444444444444,
              "#bd3786"
             ],
             [
              0.5555555555555556,
              "#d8576b"
             ],
             [
              0.6666666666666666,
              "#ed7953"
             ],
             [
              0.7777777777777778,
              "#fb9f3a"
             ],
             [
              0.8888888888888888,
              "#fdca26"
             ],
             [
              1,
              "#f0f921"
             ]
            ],
            "type": "heatmap"
           }
          ],
          "heatmapgl": [
           {
            "colorbar": {
             "outlinewidth": 0,
             "ticks": ""
            },
            "colorscale": [
             [
              0,
              "#0d0887"
             ],
             [
              0.1111111111111111,
              "#46039f"
             ],
             [
              0.2222222222222222,
              "#7201a8"
             ],
             [
              0.3333333333333333,
              "#9c179e"
             ],
             [
              0.4444444444444444,
              "#bd3786"
             ],
             [
              0.5555555555555556,
              "#d8576b"
             ],
             [
              0.6666666666666666,
              "#ed7953"
             ],
             [
              0.7777777777777778,
              "#fb9f3a"
             ],
             [
              0.8888888888888888,
              "#fdca26"
             ],
             [
              1,
              "#f0f921"
             ]
            ],
            "type": "heatmapgl"
           }
          ],
          "histogram": [
           {
            "marker": {
             "colorbar": {
              "outlinewidth": 0,
              "ticks": ""
             }
            },
            "type": "histogram"
           }
          ],
          "histogram2d": [
           {
            "colorbar": {
             "outlinewidth": 0,
             "ticks": ""
            },
            "colorscale": [
             [
              0,
              "#0d0887"
             ],
             [
              0.1111111111111111,
              "#46039f"
             ],
             [
              0.2222222222222222,
              "#7201a8"
             ],
             [
              0.3333333333333333,
              "#9c179e"
             ],
             [
              0.4444444444444444,
              "#bd3786"
             ],
             [
              0.5555555555555556,
              "#d8576b"
             ],
             [
              0.6666666666666666,
              "#ed7953"
             ],
             [
              0.7777777777777778,
              "#fb9f3a"
             ],
             [
              0.8888888888888888,
              "#fdca26"
             ],
             [
              1,
              "#f0f921"
             ]
            ],
            "type": "histogram2d"
           }
          ],
          "histogram2dcontour": [
           {
            "colorbar": {
             "outlinewidth": 0,
             "ticks": ""
            },
            "colorscale": [
             [
              0,
              "#0d0887"
             ],
             [
              0.1111111111111111,
              "#46039f"
             ],
             [
              0.2222222222222222,
              "#7201a8"
             ],
             [
              0.3333333333333333,
              "#9c179e"
             ],
             [
              0.4444444444444444,
              "#bd3786"
             ],
             [
              0.5555555555555556,
              "#d8576b"
             ],
             [
              0.6666666666666666,
              "#ed7953"
             ],
             [
              0.7777777777777778,
              "#fb9f3a"
             ],
             [
              0.8888888888888888,
              "#fdca26"
             ],
             [
              1,
              "#f0f921"
             ]
            ],
            "type": "histogram2dcontour"
           }
          ],
          "mesh3d": [
           {
            "colorbar": {
             "outlinewidth": 0,
             "ticks": ""
            },
            "type": "mesh3d"
           }
          ],
          "parcoords": [
           {
            "line": {
             "colorbar": {
              "outlinewidth": 0,
              "ticks": ""
             }
            },
            "type": "parcoords"
           }
          ],
          "pie": [
           {
            "automargin": true,
            "type": "pie"
           }
          ],
          "scatter": [
           {
            "marker": {
             "colorbar": {
              "outlinewidth": 0,
              "ticks": ""
             }
            },
            "type": "scatter"
           }
          ],
          "scatter3d": [
           {
            "line": {
             "colorbar": {
              "outlinewidth": 0,
              "ticks": ""
             }
            },
            "marker": {
             "colorbar": {
              "outlinewidth": 0,
              "ticks": ""
             }
            },
            "type": "scatter3d"
           }
          ],
          "scattercarpet": [
           {
            "marker": {
             "colorbar": {
              "outlinewidth": 0,
              "ticks": ""
             }
            },
            "type": "scattercarpet"
           }
          ],
          "scattergeo": [
           {
            "marker": {
             "colorbar": {
              "outlinewidth": 0,
              "ticks": ""
             }
            },
            "type": "scattergeo"
           }
          ],
          "scattergl": [
           {
            "marker": {
             "colorbar": {
              "outlinewidth": 0,
              "ticks": ""
             }
            },
            "type": "scattergl"
           }
          ],
          "scattermapbox": [
           {
            "marker": {
             "colorbar": {
              "outlinewidth": 0,
              "ticks": ""
             }
            },
            "type": "scattermapbox"
           }
          ],
          "scatterpolar": [
           {
            "marker": {
             "colorbar": {
              "outlinewidth": 0,
              "ticks": ""
             }
            },
            "type": "scatterpolar"
           }
          ],
          "scatterpolargl": [
           {
            "marker": {
             "colorbar": {
              "outlinewidth": 0,
              "ticks": ""
             }
            },
            "type": "scatterpolargl"
           }
          ],
          "scatterternary": [
           {
            "marker": {
             "colorbar": {
              "outlinewidth": 0,
              "ticks": ""
             }
            },
            "type": "scatterternary"
           }
          ],
          "surface": [
           {
            "colorbar": {
             "outlinewidth": 0,
             "ticks": ""
            },
            "colorscale": [
             [
              0,
              "#0d0887"
             ],
             [
              0.1111111111111111,
              "#46039f"
             ],
             [
              0.2222222222222222,
              "#7201a8"
             ],
             [
              0.3333333333333333,
              "#9c179e"
             ],
             [
              0.4444444444444444,
              "#bd3786"
             ],
             [
              0.5555555555555556,
              "#d8576b"
             ],
             [
              0.6666666666666666,
              "#ed7953"
             ],
             [
              0.7777777777777778,
              "#fb9f3a"
             ],
             [
              0.8888888888888888,
              "#fdca26"
             ],
             [
              1,
              "#f0f921"
             ]
            ],
            "type": "surface"
           }
          ],
          "table": [
           {
            "cells": {
             "fill": {
              "color": "#EBF0F8"
             },
             "line": {
              "color": "white"
             }
            },
            "header": {
             "fill": {
              "color": "#C8D4E3"
             },
             "line": {
              "color": "white"
             }
            },
            "type": "table"
           }
          ]
         },
         "layout": {
          "annotationdefaults": {
           "arrowcolor": "#2a3f5f",
           "arrowhead": 0,
           "arrowwidth": 1
          },
          "autotypenumbers": "strict",
          "coloraxis": {
           "colorbar": {
            "outlinewidth": 0,
            "ticks": ""
           }
          },
          "colorscale": {
           "diverging": [
            [
             0,
             "#8e0152"
            ],
            [
             0.1,
             "#c51b7d"
            ],
            [
             0.2,
             "#de77ae"
            ],
            [
             0.3,
             "#f1b6da"
            ],
            [
             0.4,
             "#fde0ef"
            ],
            [
             0.5,
             "#f7f7f7"
            ],
            [
             0.6,
             "#e6f5d0"
            ],
            [
             0.7,
             "#b8e186"
            ],
            [
             0.8,
             "#7fbc41"
            ],
            [
             0.9,
             "#4d9221"
            ],
            [
             1,
             "#276419"
            ]
           ],
           "sequential": [
            [
             0,
             "#0d0887"
            ],
            [
             0.1111111111111111,
             "#46039f"
            ],
            [
             0.2222222222222222,
             "#7201a8"
            ],
            [
             0.3333333333333333,
             "#9c179e"
            ],
            [
             0.4444444444444444,
             "#bd3786"
            ],
            [
             0.5555555555555556,
             "#d8576b"
            ],
            [
             0.6666666666666666,
             "#ed7953"
            ],
            [
             0.7777777777777778,
             "#fb9f3a"
            ],
            [
             0.8888888888888888,
             "#fdca26"
            ],
            [
             1,
             "#f0f921"
            ]
           ],
           "sequentialminus": [
            [
             0,
             "#0d0887"
            ],
            [
             0.1111111111111111,
             "#46039f"
            ],
            [
             0.2222222222222222,
             "#7201a8"
            ],
            [
             0.3333333333333333,
             "#9c179e"
            ],
            [
             0.4444444444444444,
             "#bd3786"
            ],
            [
             0.5555555555555556,
             "#d8576b"
            ],
            [
             0.6666666666666666,
             "#ed7953"
            ],
            [
             0.7777777777777778,
             "#fb9f3a"
            ],
            [
             0.8888888888888888,
             "#fdca26"
            ],
            [
             1,
             "#f0f921"
            ]
           ]
          },
          "colorway": [
           "#636efa",
           "#EF553B",
           "#00cc96",
           "#ab63fa",
           "#FFA15A",
           "#19d3f3",
           "#FF6692",
           "#B6E880",
           "#FF97FF",
           "#FECB52"
          ],
          "font": {
           "color": "#2a3f5f"
          },
          "geo": {
           "bgcolor": "white",
           "lakecolor": "white",
           "landcolor": "#E5ECF6",
           "showlakes": true,
           "showland": true,
           "subunitcolor": "white"
          },
          "hoverlabel": {
           "align": "left"
          },
          "hovermode": "closest",
          "mapbox": {
           "style": "light"
          },
          "paper_bgcolor": "white",
          "plot_bgcolor": "#E5ECF6",
          "polar": {
           "angularaxis": {
            "gridcolor": "white",
            "linecolor": "white",
            "ticks": ""
           },
           "bgcolor": "#E5ECF6",
           "radialaxis": {
            "gridcolor": "white",
            "linecolor": "white",
            "ticks": ""
           }
          },
          "scene": {
           "xaxis": {
            "backgroundcolor": "#E5ECF6",
            "gridcolor": "white",
            "gridwidth": 2,
            "linecolor": "white",
            "showbackground": true,
            "ticks": "",
            "zerolinecolor": "white"
           },
           "yaxis": {
            "backgroundcolor": "#E5ECF6",
            "gridcolor": "white",
            "gridwidth": 2,
            "linecolor": "white",
            "showbackground": true,
            "ticks": "",
            "zerolinecolor": "white"
           },
           "zaxis": {
            "backgroundcolor": "#E5ECF6",
            "gridcolor": "white",
            "gridwidth": 2,
            "linecolor": "white",
            "showbackground": true,
            "ticks": "",
            "zerolinecolor": "white"
           }
          },
          "shapedefaults": {
           "line": {
            "color": "#2a3f5f"
           }
          },
          "ternary": {
           "aaxis": {
            "gridcolor": "white",
            "linecolor": "white",
            "ticks": ""
           },
           "baxis": {
            "gridcolor": "white",
            "linecolor": "white",
            "ticks": ""
           },
           "bgcolor": "#E5ECF6",
           "caxis": {
            "gridcolor": "white",
            "linecolor": "white",
            "ticks": ""
           }
          },
          "title": {
           "x": 0.05
          },
          "xaxis": {
           "automargin": true,
           "gridcolor": "white",
           "linecolor": "white",
           "ticks": "",
           "title": {
            "standoff": 15
           },
           "zerolinecolor": "white",
           "zerolinewidth": 2
          },
          "yaxis": {
           "automargin": true,
           "gridcolor": "white",
           "linecolor": "white",
           "ticks": "",
           "title": {
            "standoff": 15
           },
           "zerolinecolor": "white",
           "zerolinewidth": 2
          }
         }
        },
        "title": {
         "text": "Nerezidentu pirkumi 2020.gadā"
        },
        "xaxis": {
         "title": {
          "text": "Latvijas pagasti un galvenās pilsētas"
         }
        },
        "yaxis": {
         "title": {
          "text": "Euro"
         }
        }
       }
      },
      "text/html": [
       "<div>                            <div id=\"c3f37408-b04c-4811-a4f8-d83609f7963e\" class=\"plotly-graph-div\" style=\"height:525px; width:100%;\"></div>            <script type=\"text/javascript\">                require([\"plotly\"], function(Plotly) {                    window.PLOTLYENV=window.PLOTLYENV || {};                                    if (document.getElementById(\"c3f37408-b04c-4811-a4f8-d83609f7963e\")) {                    Plotly.newPlot(                        \"c3f37408-b04c-4811-a4f8-d83609f7963e\",                        [{\"name\": \"Kadastrs mean\", \"type\": \"bar\", \"x\": [\"Aglonas pag.\", \"Aizpute\", \"Alla\\u00feu pag.\", \"Alsvi\\u00edu pag.\", \"Ambe\\u00efu pag.\", \"Auce\", \"Augstkalnes pag.\", \"Auru pag.\", \"Bab\\u00eetes pag.\", \"Baldones pag.\", \"Balo\\u00fei\", \"Bauska\", \"Bebrenes pag.\", \"Be\\u00efavas pag.\", \"Br\\u00eevzemnieku pag.\", \"Burtnieku pag.\", \"B\\u00e7rzkalnes pag.\", \"Carnikavas pag..\", \"Cenu pag.\", \"Ciblas pag.\", \"Cieceres pag.\", \"Codes pag.\", \"C\\u00e7sis\", \"Daudzeses pag.\", \"Daugavpils\", \"Daugmales pag.\", \"Dek\\u00f0\\u00e2res pag.\", \"Dobele\", \"Drabe\\u00f0u pag.\", \"Drustu pag.\", \"Dubnas pag.\", \"Dundagas pag.\", \"Dunikas pag.\", \"Durbe\", \"D\\u00e2vi\\u00f2u pag.\", \"Engures pag.\", \"Ezernieku pag.\", \"Garkalnes pag.\", \"Gl\\u00fbdas pag.\", \"Grobi\\u00f2a\", \"Grobi\\u00f2as pag.\", \"Gulbene\", \"Iecavas pag.\", \"Ik\\u00f0\\u00edile\", \"Ilzeskalna pag.\", \"Il\\u00fbkste\", \"In\\u00e8ukalna pag.\", \"Izvaltas pag.\", \"Jaunal\\u00fbksnes pag.\", \"Jaunlaicenes pag.\", \"Jaunpiebalgas pag.\", \"Jaunsvirlaukas pag.\", \"Jelgava\", \"J\\u00e7kabpils\", \"J\\u00e7rc\\u00e7nu pag.\", \"J\\u00fbrmala\", \"Kalk\\u00fbnes pag.\", \"Kalncempju pag.\", \"Kalnciema pag.\", \"Kaplavas pag.\", \"Kaunatas pag.\", \"Klintaines pag.\", \"Kokneses pag.\", \"Krimuldas pag.\", \"Krustpils pag.\", \"Kr\\u00e2slava\", \"Kr\\u00e2slavas pag.\", \"Kuld\\u00eega\", \"K\\u00fbku pag.\", \"Lapme\\u00feciema pag.\", \"Launkalnes pag.\", \"Lend\\u00feu pag.\", \"Lielv\\u00e2rde\", \"Liepupes pag.\", \"Liep\\u00e2ja\", \"Limba\\u00fei\", \"Ludza\", \"L\\u00e7dmanes pag.\", \"L\\u00eebagu pag.\", \"L\\u00eeksnas pag.\", \"L\\u00eevb\\u00e7rzes pag.\", \"L\\u00eev\\u00e2ni\", \"L\\u00fbznavas pag.\", \"Madona\", \"Mazsalaca\", \"Mazzalves pag.\", \"Ma\\u00efinovas pag.\", \"Medumu pag.\", \"Medzes pag.\", \"M\\u00e2ko\\u00f2kalna pag.\", \"M\\u00e2lpils pag.\", \"M\\u00e2rupes pag.\", \"M\\u00e7trienas pag.\", \"Naud\\u00eetes pag.\", \"Naujenes pag.\", \"N\\u00eecas pag.\", \"N\\u00eecgales pag.\", \"Ogre\", \"Ogresgala pag.\", \"Olaine\", \"Olaines pag.\", \"Ozolaines pag.\", \"Ozolnieku pag.\", \"Pededzes pag.\", \"Pel\\u00e8u pag.\", \"Piltenes pag.\", \"Praulienas pag.\", \"Prei\\u00efu pag.\", \"P\\u00efavi\\u00f2as\", \"Raiskuma pag.\", \"Rojas pag.\", \"Ropa\\u00feu pag.\", \"Rubas pag.\", \"Rucavas pag.\", \"Rund\\u00e2les pag.\", \"R\\u00e7zekne\", \"R\\u00eega\", \"R\\u00fbjiena\", \"Salas pag.\", \"Salaspils\", \"Salaspils pag.\", \"Saldus\", \"Salgales pag.\", \"Saukas pag.\", \"Saulkrasti\", \"Saulkrastu pag.\", \"Sigulda\", \"Siguldas pag.\", \"Skrudalienas pag.\", \"Skr\\u00eeveru pag.\", \"Skultes pag.\", \"Smiltene\", \"Smiltenes pag.\", \"Sm\\u00e2rdes pag.\", \"Staburaga pag.\", \"Stelpes pag.\", \"Stende\", \"Stopi\\u00f2u pag.\", \"Straupes pag.\", \"Subate\", \"Sunta\\u00feu pag.\", \"Sventes pag.\", \"Sv\\u00e7tes pag.\", \"S\\u00e7jas pag.\", \"S\\u00e7renes pag.\", \"Tabores pag.\", \"Tadai\\u00edu pag.\", \"Talsi\", \"Taurenes pag.\", \"Tomes pag.\", \"Tukums\", \"T\\u00e2rgales pag.\", \"T\\u00een\\u00fb\\u00feu pag.\", \"Ug\\u00e2les pag.\", \"Umurgas pag.\", \"Usmas pag.\", \"Vai\\u00f2odes pag.\", \"Valgundes pag.\", \"Valka\", \"Valkas pag.\", \"Valles pag.\", \"Valmiera\", \"Vecpiebalgas pag.\", \"Ventspils \", \"Vi\\u00ef\\u00e2ni\", \"Vi\\u00ef\\u00e2nu pag.\", \"Vi\\u00f0\\u00edu pag.\", \"V\\u00e7rgales pag.\", \"V\\u00eeti\\u00f2u pag.\", \"Zantes pag.\", \"Zilupe\", \"\\u00c2be\\u00efu pag.\", \"\\u00c2da\\u00feu pag.\", \"\\u00cdeipenes pag.\", \"\\u00cdekavas pag.\", \"\\u00cdepovas pag.\", \"\\u00cesl\\u00eeces pag.\", \"\\u00d0\\u00e7deres pag.\", \"\\u00dbdr\\u00ee\\u00f0u pag.\"], \"y\": [3904.0, 53904.0, 4455.0, 2601.0, 4089.0, 11108.0, 6668.5, 1137.25, 40394.44827586207, 6194.333333333333, 112561.6, 25193.0, 4393.0, 2563.5, 6472.0, 410.0, 20705.0, 15259.142857142857, 16089.0, 1858.0, 826.5, 3000.0, 31997.333333333332, 28686.0, 7075.078651685393, 7716.5, 2171.0, 5338.0, 35617.71428571428, 4254.0, 133.0, 1157.0, 1571.0, 3255.0, 1705.6666666666667, 12958.75, 3094.0, 45322.27272727273, 4651.416666666667, 11042.25, 10551.0, 18002.0, 5555.222222222223, 5579.0, 1026.0, 1162.3333333333333, 5225.714285714285, 1980.0, 623.0, 11363.0, 11254.0, 638.0, 9272.190476190477, 28342.0, 3005.5, 685431.2765957447, 896.6666666666666, 2551.3333333333335, 2718.6666666666665, 2888.0, 4492.0, 564.0, 659.0, 964.0, 1378.5, 3379.6, 1135.5, 1847.6666666666667, 3416.0, 23145.0, 85.0, 6278.0, 8754.0, 2788.6666666666665, 52782.84848484849, 5657.5, 10216.666666666666, 1484.0, 13904.0, 1486.3333333333333, 21737.5, 5474.0, 1945.0, 9357.0, 4355.0, 4868.5, 2052.4, 1204.0, 3358.0, 4250.0, 12936.0, 48355.120689655174, 13329.0, 1447.0, 2624.0, 3529.4545454545455, 2456.0, 452746.3, 10261.0, 41067.0, 5622.376068376068, 1572.0, 54714.0, 3024.0, 620.0, 8247.0, 4055.0, 2888.0, 5098.0, 650.0, 4019.0, 7792.674418604651, 4559.0, 21474.04761904762, 4604.0, 24069.75, 401945.376146789, 16496.0, 3125.0, 480396.875, 11136.90909090909, 26223.0, 1520.5, 2022.5, 56289.181818181816, 12529.9375, 44846.5, 36299.0, 79.0, 2068.0, 13314.0, 5243.0, 1786.0, 13198.0, 136.0, 5083.0, 11854.0, 68678.10714285714, 1070.0, 304.0, 584.0, 1515.0, 3838.0, 1283.5, 3155.5, 225.0, 1519.0, 10447.0, 423.0, 1739.0, 20269.0, 1536.2, 4419.0, 3726.0, 1054.5, 4238.5, 2879.0, 11462.0, 1655.1666666666667, 2667.0, 1000.0, 36617.22222222222, 15598.0, 38948.37837837838, 5215.333333333333, 4745.0, 4793.5, 778.5, 1429.0, 9156.0, 2202.0, 2360.0, 36127.0, 1011.0, 6909.333333333333, 2027.0, 8963.5, 1591.0, 252.0]}, {\"name\": \"Price mean\", \"type\": \"bar\", \"x\": [\"Aglonas pag.\", \"Aizpute\", \"Alla\\u00feu pag.\", \"Alsvi\\u00edu pag.\", \"Ambe\\u00efu pag.\", \"Auce\", \"Augstkalnes pag.\", \"Auru pag.\", \"Bab\\u00eetes pag.\", \"Baldones pag.\", \"Balo\\u00fei\", \"Bauska\", \"Bebrenes pag.\", \"Be\\u00efavas pag.\", \"Br\\u00eevzemnieku pag.\", \"Burtnieku pag.\", \"B\\u00e7rzkalnes pag.\", \"Carnikavas pag..\", \"Cenu pag.\", \"Ciblas pag.\", \"Cieceres pag.\", \"Codes pag.\", \"C\\u00e7sis\", \"Daudzeses pag.\", \"Daugavpils\", \"Daugmales pag.\", \"Dek\\u00f0\\u00e2res pag.\", \"Dobele\", \"Drabe\\u00f0u pag.\", \"Drustu pag.\", \"Dubnas pag.\", \"Dundagas pag.\", \"Dunikas pag.\", \"Durbe\", \"D\\u00e2vi\\u00f2u pag.\", \"Engures pag.\", \"Ezernieku pag.\", \"Garkalnes pag.\", \"Gl\\u00fbdas pag.\", \"Grobi\\u00f2a\", \"Grobi\\u00f2as pag.\", \"Gulbene\", \"Iecavas pag.\", \"Ik\\u00f0\\u00edile\", \"Ilzeskalna pag.\", \"Il\\u00fbkste\", \"In\\u00e8ukalna pag.\", \"Izvaltas pag.\", \"Jaunal\\u00fbksnes pag.\", \"Jaunlaicenes pag.\", \"Jaunpiebalgas pag.\", \"Jaunsvirlaukas pag.\", \"Jelgava\", \"J\\u00e7kabpils\", \"J\\u00e7rc\\u00e7nu pag.\", \"J\\u00fbrmala\", \"Kalk\\u00fbnes pag.\", \"Kalncempju pag.\", \"Kalnciema pag.\", \"Kaplavas pag.\", \"Kaunatas pag.\", \"Klintaines pag.\", \"Kokneses pag.\", \"Krimuldas pag.\", \"Krustpils pag.\", \"Kr\\u00e2slava\", \"Kr\\u00e2slavas pag.\", \"Kuld\\u00eega\", \"K\\u00fbku pag.\", \"Lapme\\u00feciema pag.\", \"Launkalnes pag.\", \"Lend\\u00feu pag.\", \"Lielv\\u00e2rde\", \"Liepupes pag.\", \"Liep\\u00e2ja\", \"Limba\\u00fei\", \"Ludza\", \"L\\u00e7dmanes pag.\", \"L\\u00eebagu pag.\", \"L\\u00eeksnas pag.\", \"L\\u00eevb\\u00e7rzes pag.\", \"L\\u00eev\\u00e2ni\", \"L\\u00fbznavas pag.\", \"Madona\", \"Mazsalaca\", \"Mazzalves pag.\", \"Ma\\u00efinovas pag.\", \"Medumu pag.\", \"Medzes pag.\", \"M\\u00e2ko\\u00f2kalna pag.\", \"M\\u00e2lpils pag.\", \"M\\u00e2rupes pag.\", \"M\\u00e7trienas pag.\", \"Naud\\u00eetes pag.\", \"Naujenes pag.\", \"N\\u00eecas pag.\", \"N\\u00eecgales pag.\", \"Ogre\", \"Ogresgala pag.\", \"Olaine\", \"Olaines pag.\", \"Ozolaines pag.\", \"Ozolnieku pag.\", \"Pededzes pag.\", \"Pel\\u00e8u pag.\", \"Piltenes pag.\", \"Praulienas pag.\", \"Prei\\u00efu pag.\", \"P\\u00efavi\\u00f2as\", \"Raiskuma pag.\", \"Rojas pag.\", \"Ropa\\u00feu pag.\", \"Rubas pag.\", \"Rucavas pag.\", \"Rund\\u00e2les pag.\", \"R\\u00e7zekne\", \"R\\u00eega\", \"R\\u00fbjiena\", \"Salas pag.\", \"Salaspils\", \"Salaspils pag.\", \"Saldus\", \"Salgales pag.\", \"Saukas pag.\", \"Saulkrasti\", \"Saulkrastu pag.\", \"Sigulda\", \"Siguldas pag.\", \"Skrudalienas pag.\", \"Skr\\u00eeveru pag.\", \"Skultes pag.\", \"Smiltene\", \"Smiltenes pag.\", \"Sm\\u00e2rdes pag.\", \"Staburaga pag.\", \"Stelpes pag.\", \"Stende\", \"Stopi\\u00f2u pag.\", \"Straupes pag.\", \"Subate\", \"Sunta\\u00feu pag.\", \"Sventes pag.\", \"Sv\\u00e7tes pag.\", \"S\\u00e7jas pag.\", \"S\\u00e7renes pag.\", \"Tabores pag.\", \"Tadai\\u00edu pag.\", \"Talsi\", \"Taurenes pag.\", \"Tomes pag.\", \"Tukums\", \"T\\u00e2rgales pag.\", \"T\\u00een\\u00fb\\u00feu pag.\", \"Ug\\u00e2les pag.\", \"Umurgas pag.\", \"Usmas pag.\", \"Vai\\u00f2odes pag.\", \"Valgundes pag.\", \"Valka\", \"Valkas pag.\", \"Valles pag.\", \"Valmiera\", \"Vecpiebalgas pag.\", \"Ventspils \", \"Vi\\u00ef\\u00e2ni\", \"Vi\\u00ef\\u00e2nu pag.\", \"Vi\\u00f0\\u00edu pag.\", \"V\\u00e7rgales pag.\", \"V\\u00eeti\\u00f2u pag.\", \"Zantes pag.\", \"Zilupe\", \"\\u00c2be\\u00efu pag.\", \"\\u00c2da\\u00feu pag.\", \"\\u00cdeipenes pag.\", \"\\u00cdekavas pag.\", \"\\u00cdepovas pag.\", \"\\u00cesl\\u00eeces pag.\", \"\\u00d0\\u00e7deres pag.\", \"\\u00dbdr\\u00ee\\u00f0u pag.\"], \"y\": [75609.0, 7875.0, 3374.63, 3000.0, 3000.0, 11000.0, 5390.0, 900.0, 116059.24137931035, 17177.777777777777, 26240.0, 20750.0, 4000.0, 5625.0, 3236.0, 410.0, 25000.0, 34542.88119047619, 9500.0, 3700.0, 4000.0, 1422.87, 33333.333333333336, 37323.0, 3666.6858426966296, 41500.0, 1000.0, 12000.0, 202132.14285714287, 46000.0, 2000.0, 1000.0, 2350.0, 12000.0, 3813.3333333333335, 56355.7175, 9150.0, 69450.0, 5260.240000000001, 46750.0, 143000.0, 35000.0, 8985.0, 11015.95, 9705.77, 1142.6666666666667, 4192.051428571429, 2000.0, 7000.0, 105000.0, 7504.0, 350.0, 7532.195, 28500.0, 8910.0, 318190.2243262411, 3502.8333333333335, 15500.0, 1466.6666666666667, 2077.0, 6000.0, 2000.0, 5500.0, 10000.0, 600.0, 9162.3, 700.0, 740.88, 5000.0, 85750.0, 1500.0, 18000.0, 17666.666666666668, 11375.0, 45865.51878787879, 2857.89, 4351.736666666667, 1650.0, 78000.0, 1620.0, 57500.0, 5000.0, 1942.5, 85.59, 4000.0, 5250.0, 8217.8, 7666.666666666667, 5744.5, 10600.0, 26098.76, 90332.03448275862, 10000.0, 750.0, 5000.0, 15970.527272727271, 5300.0, 16645.322, 37090.0, 15000.0, 9965.067606837607, 2500.0, 152000.0, 3700.0, 5000.0, 15000.0, 25000.0, 5000.0, 5000.0, 800.0, 146125.0, 5355.139534883721, 5000.0, 19128.571428571428, 2300.0, 4006.255, 48202.40525229358, 52000.0, 4065.125, 6857.327499999999, 23343.153181818183, 22000.0, 2089.5, 1250.0, 55363.63636363636, 13188.515625, 102660.9175, 150000.0, 350.0, 4500.0, 19578.571428571428, 251.15, 10583.0, 130000.0, 29000.0, 8500.0, 30000.0, 51470.28571428572, 10500.0, 700.0, 1500.0, 1200.0, 5500.0, 3641.025, 3361.435, 994.0, 1500.0, 22000.0, 1200.0, 4000.0, 10750.0, 3154.4, 6643.0, 3587.5, 700.0, 4100.0, 7694.995, 20000.0, 1130.5, 6250.0, 5000.0, 61433.06555555555, 100000.0, 19184.368648648648, 9666.666666666666, 5000.0, 3900.0, 11500.0, 1700.0, 3506.0, 2560.0, 9900.0, 80233.33333333333, 1000.0, 20051.648333333334, 1404.7, 4000.0, 1087.5, 700.0]}],                        {\"barmode\": \"group\", \"template\": {\"data\": {\"bar\": [{\"error_x\": {\"color\": \"#2a3f5f\"}, \"error_y\": {\"color\": \"#2a3f5f\"}, \"marker\": {\"line\": {\"color\": \"#E5ECF6\", \"width\": 0.5}}, \"type\": \"bar\"}], \"barpolar\": [{\"marker\": {\"line\": {\"color\": \"#E5ECF6\", \"width\": 0.5}}, \"type\": \"barpolar\"}], \"carpet\": [{\"aaxis\": {\"endlinecolor\": \"#2a3f5f\", \"gridcolor\": \"white\", \"linecolor\": \"white\", \"minorgridcolor\": \"white\", \"startlinecolor\": \"#2a3f5f\"}, \"baxis\": {\"endlinecolor\": \"#2a3f5f\", \"gridcolor\": \"white\", \"linecolor\": \"white\", \"minorgridcolor\": \"white\", \"startlinecolor\": \"#2a3f5f\"}, \"type\": \"carpet\"}], \"choropleth\": [{\"colorbar\": {\"outlinewidth\": 0, \"ticks\": \"\"}, \"type\": \"choropleth\"}], \"contour\": [{\"colorbar\": {\"outlinewidth\": 0, \"ticks\": \"\"}, \"colorscale\": [[0.0, \"#0d0887\"], [0.1111111111111111, \"#46039f\"], [0.2222222222222222, \"#7201a8\"], [0.3333333333333333, \"#9c179e\"], [0.4444444444444444, \"#bd3786\"], [0.5555555555555556, \"#d8576b\"], [0.6666666666666666, \"#ed7953\"], [0.7777777777777778, \"#fb9f3a\"], [0.8888888888888888, \"#fdca26\"], [1.0, \"#f0f921\"]], \"type\": \"contour\"}], \"contourcarpet\": [{\"colorbar\": {\"outlinewidth\": 0, \"ticks\": \"\"}, \"type\": \"contourcarpet\"}], \"heatmap\": [{\"colorbar\": {\"outlinewidth\": 0, \"ticks\": \"\"}, \"colorscale\": [[0.0, \"#0d0887\"], [0.1111111111111111, \"#46039f\"], [0.2222222222222222, \"#7201a8\"], [0.3333333333333333, \"#9c179e\"], [0.4444444444444444, \"#bd3786\"], [0.5555555555555556, \"#d8576b\"], [0.6666666666666666, \"#ed7953\"], [0.7777777777777778, \"#fb9f3a\"], [0.8888888888888888, \"#fdca26\"], [1.0, \"#f0f921\"]], \"type\": \"heatmap\"}], \"heatmapgl\": [{\"colorbar\": {\"outlinewidth\": 0, \"ticks\": \"\"}, \"colorscale\": [[0.0, \"#0d0887\"], [0.1111111111111111, \"#46039f\"], [0.2222222222222222, \"#7201a8\"], [0.3333333333333333, \"#9c179e\"], [0.4444444444444444, \"#bd3786\"], [0.5555555555555556, \"#d8576b\"], [0.6666666666666666, \"#ed7953\"], [0.7777777777777778, \"#fb9f3a\"], [0.8888888888888888, \"#fdca26\"], [1.0, \"#f0f921\"]], \"type\": \"heatmapgl\"}], \"histogram\": [{\"marker\": {\"colorbar\": {\"outlinewidth\": 0, \"ticks\": \"\"}}, \"type\": \"histogram\"}], \"histogram2d\": [{\"colorbar\": {\"outlinewidth\": 0, \"ticks\": \"\"}, \"colorscale\": [[0.0, \"#0d0887\"], [0.1111111111111111, \"#46039f\"], [0.2222222222222222, \"#7201a8\"], [0.3333333333333333, \"#9c179e\"], [0.4444444444444444, \"#bd3786\"], [0.5555555555555556, \"#d8576b\"], [0.6666666666666666, \"#ed7953\"], [0.7777777777777778, \"#fb9f3a\"], [0.8888888888888888, \"#fdca26\"], [1.0, \"#f0f921\"]], \"type\": \"histogram2d\"}], \"histogram2dcontour\": [{\"colorbar\": {\"outlinewidth\": 0, \"ticks\": \"\"}, \"colorscale\": [[0.0, \"#0d0887\"], [0.1111111111111111, \"#46039f\"], [0.2222222222222222, \"#7201a8\"], [0.3333333333333333, \"#9c179e\"], [0.4444444444444444, \"#bd3786\"], [0.5555555555555556, \"#d8576b\"], [0.6666666666666666, \"#ed7953\"], [0.7777777777777778, \"#fb9f3a\"], [0.8888888888888888, \"#fdca26\"], [1.0, \"#f0f921\"]], \"type\": \"histogram2dcontour\"}], \"mesh3d\": [{\"colorbar\": {\"outlinewidth\": 0, \"ticks\": \"\"}, \"type\": \"mesh3d\"}], \"parcoords\": [{\"line\": {\"colorbar\": {\"outlinewidth\": 0, \"ticks\": \"\"}}, \"type\": \"parcoords\"}], \"pie\": [{\"automargin\": true, \"type\": \"pie\"}], \"scatter\": [{\"marker\": {\"colorbar\": {\"outlinewidth\": 0, \"ticks\": \"\"}}, \"type\": \"scatter\"}], \"scatter3d\": [{\"line\": {\"colorbar\": {\"outlinewidth\": 0, \"ticks\": \"\"}}, \"marker\": {\"colorbar\": {\"outlinewidth\": 0, \"ticks\": \"\"}}, \"type\": \"scatter3d\"}], \"scattercarpet\": [{\"marker\": {\"colorbar\": {\"outlinewidth\": 0, \"ticks\": \"\"}}, \"type\": \"scattercarpet\"}], \"scattergeo\": [{\"marker\": {\"colorbar\": {\"outlinewidth\": 0, \"ticks\": \"\"}}, \"type\": \"scattergeo\"}], \"scattergl\": [{\"marker\": {\"colorbar\": {\"outlinewidth\": 0, \"ticks\": \"\"}}, \"type\": \"scattergl\"}], \"scattermapbox\": [{\"marker\": {\"colorbar\": {\"outlinewidth\": 0, \"ticks\": \"\"}}, \"type\": \"scattermapbox\"}], \"scatterpolar\": [{\"marker\": {\"colorbar\": {\"outlinewidth\": 0, \"ticks\": \"\"}}, \"type\": \"scatterpolar\"}], \"scatterpolargl\": [{\"marker\": {\"colorbar\": {\"outlinewidth\": 0, \"ticks\": \"\"}}, \"type\": \"scatterpolargl\"}], \"scatterternary\": [{\"marker\": {\"colorbar\": {\"outlinewidth\": 0, \"ticks\": \"\"}}, \"type\": \"scatterternary\"}], \"surface\": [{\"colorbar\": {\"outlinewidth\": 0, \"ticks\": \"\"}, \"colorscale\": [[0.0, \"#0d0887\"], [0.1111111111111111, \"#46039f\"], [0.2222222222222222, \"#7201a8\"], [0.3333333333333333, \"#9c179e\"], [0.4444444444444444, \"#bd3786\"], [0.5555555555555556, \"#d8576b\"], [0.6666666666666666, \"#ed7953\"], [0.7777777777777778, \"#fb9f3a\"], [0.8888888888888888, \"#fdca26\"], [1.0, \"#f0f921\"]], \"type\": \"surface\"}], \"table\": [{\"cells\": {\"fill\": {\"color\": \"#EBF0F8\"}, \"line\": {\"color\": \"white\"}}, \"header\": {\"fill\": {\"color\": \"#C8D4E3\"}, \"line\": {\"color\": \"white\"}}, \"type\": \"table\"}]}, \"layout\": {\"annotationdefaults\": {\"arrowcolor\": \"#2a3f5f\", \"arrowhead\": 0, \"arrowwidth\": 1}, \"autotypenumbers\": \"strict\", \"coloraxis\": {\"colorbar\": {\"outlinewidth\": 0, \"ticks\": \"\"}}, \"colorscale\": {\"diverging\": [[0, \"#8e0152\"], [0.1, \"#c51b7d\"], [0.2, \"#de77ae\"], [0.3, \"#f1b6da\"], [0.4, \"#fde0ef\"], [0.5, \"#f7f7f7\"], [0.6, \"#e6f5d0\"], [0.7, \"#b8e186\"], [0.8, \"#7fbc41\"], [0.9, \"#4d9221\"], [1, \"#276419\"]], \"sequential\": [[0.0, \"#0d0887\"], [0.1111111111111111, \"#46039f\"], [0.2222222222222222, \"#7201a8\"], [0.3333333333333333, \"#9c179e\"], [0.4444444444444444, \"#bd3786\"], [0.5555555555555556, \"#d8576b\"], [0.6666666666666666, \"#ed7953\"], [0.7777777777777778, \"#fb9f3a\"], [0.8888888888888888, \"#fdca26\"], [1.0, \"#f0f921\"]], \"sequentialminus\": [[0.0, \"#0d0887\"], [0.1111111111111111, \"#46039f\"], [0.2222222222222222, \"#7201a8\"], [0.3333333333333333, \"#9c179e\"], [0.4444444444444444, \"#bd3786\"], [0.5555555555555556, \"#d8576b\"], [0.6666666666666666, \"#ed7953\"], [0.7777777777777778, \"#fb9f3a\"], [0.8888888888888888, \"#fdca26\"], [1.0, \"#f0f921\"]]}, \"colorway\": [\"#636efa\", \"#EF553B\", \"#00cc96\", \"#ab63fa\", \"#FFA15A\", \"#19d3f3\", \"#FF6692\", \"#B6E880\", \"#FF97FF\", \"#FECB52\"], \"font\": {\"color\": \"#2a3f5f\"}, \"geo\": {\"bgcolor\": \"white\", \"lakecolor\": \"white\", \"landcolor\": \"#E5ECF6\", \"showlakes\": true, \"showland\": true, \"subunitcolor\": \"white\"}, \"hoverlabel\": {\"align\": \"left\"}, \"hovermode\": \"closest\", \"mapbox\": {\"style\": \"light\"}, \"paper_bgcolor\": \"white\", \"plot_bgcolor\": \"#E5ECF6\", \"polar\": {\"angularaxis\": {\"gridcolor\": \"white\", \"linecolor\": \"white\", \"ticks\": \"\"}, \"bgcolor\": \"#E5ECF6\", \"radialaxis\": {\"gridcolor\": \"white\", \"linecolor\": \"white\", \"ticks\": \"\"}}, \"scene\": {\"xaxis\": {\"backgroundcolor\": \"#E5ECF6\", \"gridcolor\": \"white\", \"gridwidth\": 2, \"linecolor\": \"white\", \"showbackground\": true, \"ticks\": \"\", \"zerolinecolor\": \"white\"}, \"yaxis\": {\"backgroundcolor\": \"#E5ECF6\", \"gridcolor\": \"white\", \"gridwidth\": 2, \"linecolor\": \"white\", \"showbackground\": true, \"ticks\": \"\", \"zerolinecolor\": \"white\"}, \"zaxis\": {\"backgroundcolor\": \"#E5ECF6\", \"gridcolor\": \"white\", \"gridwidth\": 2, \"linecolor\": \"white\", \"showbackground\": true, \"ticks\": \"\", \"zerolinecolor\": \"white\"}}, \"shapedefaults\": {\"line\": {\"color\": \"#2a3f5f\"}}, \"ternary\": {\"aaxis\": {\"gridcolor\": \"white\", \"linecolor\": \"white\", \"ticks\": \"\"}, \"baxis\": {\"gridcolor\": \"white\", \"linecolor\": \"white\", \"ticks\": \"\"}, \"bgcolor\": \"#E5ECF6\", \"caxis\": {\"gridcolor\": \"white\", \"linecolor\": \"white\", \"ticks\": \"\"}}, \"title\": {\"x\": 0.05}, \"xaxis\": {\"automargin\": true, \"gridcolor\": \"white\", \"linecolor\": \"white\", \"ticks\": \"\", \"title\": {\"standoff\": 15}, \"zerolinecolor\": \"white\", \"zerolinewidth\": 2}, \"yaxis\": {\"automargin\": true, \"gridcolor\": \"white\", \"linecolor\": \"white\", \"ticks\": \"\", \"title\": {\"standoff\": 15}, \"zerolinecolor\": \"white\", \"zerolinewidth\": 2}}}, \"title\": {\"text\": \"Nerezidentu pirkumi 2020.gad\\u0101\"}, \"xaxis\": {\"title\": {\"text\": \"Latvijas pagasti un galven\\u0101s pils\\u0113tas\"}}, \"yaxis\": {\"title\": {\"text\": \"Euro\"}}},                        {\"responsive\": true}                    ).then(function(){\n",
       "                            \n",
       "var gd = document.getElementById('c3f37408-b04c-4811-a4f8-d83609f7963e');\n",
       "var x = new MutationObserver(function (mutations, observer) {{\n",
       "        var display = window.getComputedStyle(gd).display;\n",
       "        if (!display || display === 'none') {{\n",
       "            console.log([gd, 'removed!']);\n",
       "            Plotly.purge(gd);\n",
       "            observer.disconnect();\n",
       "        }}\n",
       "}});\n",
       "\n",
       "// Listen for the removal of the full notebook cells\n",
       "var notebookContainer = gd.closest('#notebook-container');\n",
       "if (notebookContainer) {{\n",
       "    x.observe(notebookContainer, {childList: true});\n",
       "}}\n",
       "\n",
       "// Listen for the clearing of the current output cell\n",
       "var outputEl = gd.closest('.output');\n",
       "if (outputEl) {{\n",
       "    x.observe(outputEl, {childList: true});\n",
       "}}\n",
       "\n",
       "                        })                };                });            </script>        </div>"
      ]
     },
     "metadata": {},
     "output_type": "display_data"
    }
   ],
   "source": [
    "fig = go.Figure(data=[\n",
    "    go.Bar(name='Kadastrs mean', x=terr.index, y=terr[('KADASTRALA_VERTIBA',  'mean')])\n",
    "    , go.Bar(name='Price mean', x=terr.index, y=terr[(             'price',  'mean')])\n",
    "\n",
    "])\n",
    "# Change the bar mode\n",
    "fig.update_layout(barmode='group'\n",
    "                 , title=\"Nerezidentu pirkumi 2020.gadā\"\n",
    "                 , yaxis={\"title\":\"Euro\"}\n",
    "                  , xaxis={\"title\":\"Latvijas pagasti un galvenās pilsētas\"}\n",
    "                 )\n",
    "fig.show()"
   ]
  }
 ],
 "metadata": {
  "kernelspec": {
   "display_name": "Python 3",
   "language": "python",
   "name": "python3"
  },
  "language_info": {
   "codemirror_mode": {
    "name": "ipython",
    "version": 3
   },
   "file_extension": ".py",
   "mimetype": "text/x-python",
   "name": "python",
   "nbconvert_exporter": "python",
   "pygments_lexer": "ipython3",
   "version": "3.8.3"
  }
 },
 "nbformat": 4,
 "nbformat_minor": 4
}
