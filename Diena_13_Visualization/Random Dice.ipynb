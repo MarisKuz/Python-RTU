{
 "cells": [
  {
   "cell_type": "code",
   "execution_count": 3,
   "metadata": {},
   "outputs": [],
   "source": [
    "import random # standard first\n",
    "from collections import Counter\n",
    "\n",
    "import matplotlib.pyplot as plt # external libraries\n",
    "# then our packages and modules\n"
   ]
  },
  {
   "cell_type": "code",
   "execution_count": 7,
   "metadata": {},
   "outputs": [
    {
     "name": "stdout",
     "output_type": "stream",
     "text": [
      "\n",
      "\n",
      "Counter({21: 9316, 22: 8973, 20: 8972, 19: 8484, 23: 8317, 18: 7379, 24: 7359, 25: 6187, 17: 6100, 26: 4867, 16: 4736, 27: 3631, 15: 3484, 28: 2497, 14: 2450, 29: 1691, 13: 1627, 12: 1012, 30: 986, 31: 567, 11: 509, 32: 277, 10: 223, 9: 132, 33: 109, 34: 43, 8: 40, 7: 15, 35: 12, 36: 4, 6: 1})\n"
     ]
    },
    {
     "data": {
      "image/png": "[encoded data removed]",
      "text/plain": [
       "<Figure size 432x288 with 1 Axes>"
      ]
     },
     "metadata": {
      "needs_background": "light"
     },
     "output_type": "display_data"
    }
   ],
   "source": [
    "rez=[]\n",
    "for j in range (100_000):\n",
    "    total=0\n",
    "    for i in range (6):\n",
    "        x=(random.randint(1,6))\n",
    "        total+=x\n",
    "    #print(sum)\n",
    "    rez.append(total)\n",
    "# print(rez, end=\"\")\n",
    "print(\"\\n\")\n",
    "\n",
    "from collections import Counter\n",
    "biez=(Counter(rez))\n",
    "print(biez)\n",
    "\n",
    "ke=[]\n",
    "for key in biez.keys():\n",
    "      ke.append(key)\n",
    "# print(ke)\n",
    "\n",
    "va=(biez.values())\n",
    "# print(va)\n",
    "\n",
    "fig = plt.figure()\n",
    "x = ke\n",
    "y = va\n",
    "plt.bar(x, y)\n",
    "plt.show()"
   ]
  },
  {
   "cell_type": "code",
   "execution_count": 9,
   "metadata": {},
   "outputs": [
    {
     "name": "stdout",
     "output_type": "stream",
     "text": [
      "\n",
      "\n",
      "Counter({21: 9364, 20: 9127, 22: 9102, 23: 8454, 19: 8307, 24: 7377, 18: 7219, 25: 6101, 17: 6088, 26: 4810, 16: 4766, 15: 3590, 27: 3553, 14: 2503, 28: 2488, 29: 1623, 13: 1583, 30: 958, 12: 951, 11: 585, 31: 518, 10: 293, 32: 269, 33: 132, 9: 130, 34: 49, 8: 34, 35: 13, 7: 8, 36: 3, 6: 2})\n"
     ]
    },
    {
     "data": {
      "image/png": "[encoded data removed]",
      "text/plain": [
       "<Figure size 432x288 with 1 Axes>"
      ]
     },
     "metadata": {
      "needs_background": "light"
     },
     "output_type": "display_data"
    }
   ],
   "source": [
    "rez=[]\n",
    "for j in range (100_000):\n",
    "    total=0\n",
    "    for i in range (6):\n",
    "        x=(random.randint(1,6))\n",
    "        total+=x\n",
    "    #print(sum)\n",
    "    rez.append(total)\n",
    "# print(rez, end=\"\")\n",
    "print(\"\\n\")\n",
    "\n",
    "from collections import Counter\n",
    "biez=(Counter(rez))\n",
    "print(biez)\n",
    "\n",
    "fig = plt.figure()\n",
    "x = ke\n",
    "y = va\n",
    "plt.bar(biez.keys(), biez.values())\n",
    "plt.show()"
   ]
  },
  {
   "cell_type": "code",
   "execution_count": null,
   "metadata": {},
   "outputs": [],
   "source": []
  }
 ],
 "metadata": {
  "kernelspec": {
   "display_name": "Python 3",
   "language": "python",
   "name": "python3"
  },
  "language_info": {
   "codemirror_mode": {
    "name": "ipython",
    "version": 3
   },
   "file_extension": ".py",
   "mimetype": "text/x-python",
   "name": "python",
   "nbconvert_exporter": "python",
   "pygments_lexer": "ipython3",
   "version": "3.8.3"
  }
 },
 "nbformat": 4,
 "nbformat_minor": 2
}
