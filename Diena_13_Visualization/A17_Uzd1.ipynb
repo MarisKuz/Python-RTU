{
 "cells": [
  {
   "cell_type": "code",
   "execution_count": 1,
   "metadata": {},
   "outputs": [],
   "source": [
    "import random\n",
    "import matplotlib.pyplot as plt"
   ]
  },
  {
   "cell_type": "code",
   "execution_count": 6,
   "metadata": {},
   "outputs": [
    {
     "name": "stdout",
     "output_type": "stream",
     "text": [
      "Counter({21: 9369, 20: 8912, 22: 8901, 23: 8546, 19: 8352, 18: 7443, 24: 7231, 25: 6133, 17: 6099, 16: 5049, 26: 4639, 15: 3650, 27: 3546, 28: 2537, 14: 2456, 29: 1637, 13: 1549, 30: 1005, 12: 967, 31: 553, 11: 552, 10: 275, 32: 232, 9: 122, 33: 119, 8: 50, 34: 43, 7: 17, 35: 10, 6: 4, 36: 2})\n",
      "counts: [4, 17, 50, 122, 275, 552, 967, 1549, 2456, 3650, 5049, 6099, 7443, 8352, 8912, 9369, 8901, 8546, 7231, 6133, 4639, 3546, 2537, 1637, 1005, 553, 232, 119, 43, 10, 2]\n",
      "Probability of counts: [0.004, 0.017, 0.05, 0.122, 0.275, 0.552, 0.967, 1.549, 2.456, 3.65, 5.049, 6.099, 7.443, 8.352, 8.912, 9.369, 8.901, 8.546, 7.231, 6.133, 4.639, 3.546, 2.537, 1.637, 1.005, 0.553, 0.232, 0.119, 0.043, 0.01, 0.002]\n",
      "Sum of 6 dice: [6, 7, 8, 9, 10, 11, 12, 13, 14, 15, 16, 17, 18, 19, 20, 21, 22, 23, 24, 25, 26, 27, 28, 29, 30, 31, 32, 33, 34, 35, 36]\n"
     ]
    },
    {
     "data": {
      "text/plain": [
       "Text(0.5, 0, 'Sum of 6 dice')"
      ]
     },
     "execution_count": 6,
     "metadata": {},
     "output_type": "execute_result"
    },
    {
     "data": {
      "image/png": "[encoded data removed]",
      "text/plain": [
       "<Figure size 432x288 with 1 Axes>"
      ]
     },
     "metadata": {
      "needs_background": "light"
     },
     "output_type": "display_data"
    }
   ],
   "source": [
    "#Getting the sum of 6 dice\n",
    "\n",
    " \n",
    "random_list=[]\n",
    "for i in range(100000):\n",
    "    rand_sum = sum(random.randint(1,6) for i in range(6))\n",
    "    random_list.append(rand_sum)\n",
    " \n",
    "random_list_sorted = random_list.sort()\n",
    " \n",
    "#Counting the occurence of particular sum\n",
    " \n",
    "from collections import Counter\n",
    "my_counter=Counter(i for i in random_list)\n",
    " \n",
    "print(my_counter)\n",
    " \n",
    "counts=[]\n",
    "for i in range(6,37):\n",
    "    count=random_list.count(i)\n",
    "    counts.append(count)\n",
    "print(f\"counts: {counts}\")\n",
    " \n",
    "# converting amount of counts to percentage of occurence\n",
    "probability=[]\n",
    "for i in counts:\n",
    "    probability.append(i/1000)\n",
    " \n",
    "# all the possible results of sum from 6 (all dice = 1) to 36 (all dice = 6)   \n",
    "numbers=[]\n",
    "for i in range(6,37):\n",
    "    if i in random_list:\n",
    "        numbers.append(i)\n",
    "    else:\n",
    "        numbers.append(0)\n",
    " \n",
    "total_sum=sum(counts)\n",
    " \n",
    " \n",
    "print(f\"Probability of counts: {probability}\")\n",
    " \n",
    "print(f\"Sum of 6 dice: {numbers}\")\n",
    " \n",
    "plt.plot(numbers, probability)\n",
    "plt.bar(numbers, probability)\n",
    "plt.ylabel(\"Probability, %\")\n",
    "plt.xlabel(\"Sum of 6 dice\")"
   ]
  },
  {
   "cell_type": "code",
   "execution_count": 7,
   "metadata": {},
   "outputs": [
    {
     "data": {
      "text/plain": [
       "dict_keys([6, 7, 8, 9, 10, 11, 12, 13, 14, 15, 16, 17, 18, 19, 20, 21, 22, 23, 24, 25, 26, 27, 28, 29, 30, 31, 32, 33, 34, 35, 36])"
      ]
     },
     "execution_count": 7,
     "metadata": {},
     "output_type": "execute_result"
    }
   ],
   "source": [
    "my_counter.keys()"
   ]
  },
  {
   "cell_type": "code",
   "execution_count": 8,
   "metadata": {},
   "outputs": [
    {
     "data": {
      "text/plain": [
       "dict_values([4, 17, 50, 122, 275, 552, 967, 1549, 2456, 3650, 5049, 6099, 7443, 8352, 8912, 9369, 8901, 8546, 7231, 6133, 4639, 3546, 2537, 1637, 1005, 553, 232, 119, 43, 10, 2])"
      ]
     },
     "execution_count": 8,
     "metadata": {},
     "output_type": "execute_result"
    }
   ],
   "source": [
    "my_counter.values()"
   ]
  },
  {
   "cell_type": "code",
   "execution_count": 11,
   "metadata": {},
   "outputs": [
    {
     "data": {
      "text/plain": [
       "<BarContainer object of 31 artists>"
      ]
     },
     "execution_count": 11,
     "metadata": {},
     "output_type": "execute_result"
    },
    {
     "data": {
      "image/png": "[encoded data removed]",
      "text/plain": [
       "<Figure size 432x288 with 1 Axes>"
      ]
     },
     "metadata": {
      "needs_background": "light"
     },
     "output_type": "display_data"
    }
   ],
   "source": [
    "plt.plot(list(my_counter.keys()), list(my_counter.values()))\n",
    "plt.bar(my_counter.keys(), my_counter.values())"
   ]
  }
 ],
 "metadata": {
  "kernelspec": {
   "display_name": "Python 3",
   "language": "python",
   "name": "python3"
  },
  "language_info": {
   "codemirror_mode": {
    "name": "ipython",
    "version": 3
   },
   "file_extension": ".py",
   "mimetype": "text/x-python",
   "name": "python",
   "nbconvert_exporter": "python",
   "pygments_lexer": "ipython3",
   "version": "3.8.3"
  }
 },
 "nbformat": 4,
 "nbformat_minor": 4
}
