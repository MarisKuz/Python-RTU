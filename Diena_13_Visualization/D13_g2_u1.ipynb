{
 "cells": [
  {
   "cell_type": "code",
   "execution_count": 3,
   "metadata": {},
   "outputs": [
    {
     "data": {
      "image/png": "[encoded data removed]",
      "text/plain": [
       "<Figure size 432x288 with 1 Axes>"
      ]
     },
     "metadata": {
      "needs_background": "light"
     },
     "output_type": "display_data"
    }
   ],
   "source": [
    "# 1. uzdevums\n",
    "from matplotlib import pyplot as plt\n",
    "from collections import Counter\n",
    "from random import randint\n",
    "dice_count = 6\n",
    "dice_min = 1\n",
    "dice_max = 6\n",
    "throw_count = 10_000_000\n",
    "list_sum_dices = [sum(randint(dice_min, dice_max) for dice in range(dice_count)) for throw in range(throw_count)]\n",
    "dices_counter = Counter(list_sum_dices)\n",
    "plt.bar(dices_counter.keys(), dices_counter.values())\n",
    "plt.show()"
   ]
  },
  {
   "cell_type": "code",
   "execution_count": 3,
   "metadata": {},
   "outputs": [
    {
     "data": {
      "image/png": "[encoded data removed]",
      "text/plain": [
       "<Figure size 432x288 with 1 Axes>"
      ]
     },
     "metadata": {
      "needs_background": "light"
     },
     "output_type": "display_data"
    }
   ],
   "source": [
    "# 1. uzdevums\n",
    "\n",
    "dice_count = 6\n",
    "dice_min = 1\n",
    "dice_max = 6\n",
    "throw_count = 10_000_000\n",
    "list_sum_dices = [sum(randint(dice_min, dice_max) for dice in range(dice_count)) for throw in range(throw_count)]\n",
    "dices_counter = Counter(list_sum_dices)\n",
    "plt.bar(dices_counter.keys(), dices_counter.values())\n",
    "plt.show()"
   ]
  },
  {
   "cell_type": "code",
   "execution_count": 5,
   "metadata": {},
   "outputs": [
    {
     "data": {
      "image/png": "[encoded data removed]",
      "text/plain": [
       "<Figure size 432x288 with 1 Axes>"
      ]
     },
     "metadata": {
      "needs_background": "light"
     },
     "output_type": "display_data"
    }
   ],
   "source": [
    "# 1. uzdevums\n",
    "\n",
    "dice_count = 6\n",
    "dice_min = 1\n",
    "dice_max = 6\n",
    "throw_count = 10_000\n",
    "list_sum_dices = [sum(randint(dice_min, dice_max) for dice in range(dice_count)) for throw in range(throw_count)]\n",
    "dices_counter = Counter(list_sum_dices)\n",
    "plt.bar(dices_counter.keys(), dices_counter.values())\n",
    "plt.show()"
   ]
  },
  {
   "cell_type": "code",
   "execution_count": 4,
   "metadata": {},
   "outputs": [
    {
     "data": {
      "text/plain": [
       "[(21, 928101),\n",
       " (22, 905463),\n",
       " (20, 904313),\n",
       " (19, 837444),\n",
       " (23, 836714),\n",
       " (24, 735607),\n",
       " (18, 735198),\n",
       " (17, 613334),\n",
       " (25, 612875),\n",
       " (16, 481355),\n",
       " (26, 480871),\n",
       " (15, 357140),\n",
       " (27, 356826),\n",
       " (14, 249160),\n",
       " (28, 248922),\n",
       " (13, 161911),\n",
       " (29, 161553),\n",
       " (12, 98211),\n",
       " (30, 97452),\n",
       " (31, 54131),\n",
       " (11, 53537),\n",
       " (10, 26903),\n",
       " (32, 26814),\n",
       " (33, 12151),\n",
       " (9, 11978),\n",
       " (8, 4617),\n",
       " (34, 4490),\n",
       " (35, 1280),\n",
       " (7, 1239),\n",
       " (6, 223),\n",
       " (36, 187)]"
      ]
     },
     "execution_count": 4,
     "metadata": {},
     "output_type": "execute_result"
    }
   ],
   "source": [
    "dices_counter.most_common()"
   ]
  }
 ],
 "metadata": {
  "kernelspec": {
   "display_name": "Python 3",
   "language": "python",
   "name": "python3"
  },
  "language_info": {
   "codemirror_mode": {
    "name": "ipython",
    "version": 3
   },
   "file_extension": ".py",
   "mimetype": "text/x-python",
   "name": "python",
   "nbconvert_exporter": "python",
   "pygments_lexer": "ipython3",
   "version": "3.8.3"
  }
 },
 "nbformat": 4,
 "nbformat_minor": 4
}
