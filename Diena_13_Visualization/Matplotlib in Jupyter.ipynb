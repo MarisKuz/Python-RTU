{
 "cells": [
  {
   "cell_type": "code",
   "execution_count": null,
   "metadata": {},
   "outputs": [],
   "source": [
    "# Using MatplotLib in Jupyter\n",
    "# https://matplotlib.org/3.1.1/tutorials/index.html"
   ]
  },
  {
   "cell_type": "code",
   "execution_count": 1,
   "metadata": {},
   "outputs": [],
   "source": [
    "# import requests \n",
    "\n",
    "import matplotlib.pyplot as plt # Anaconda includes matplotlib\n",
    "\n",
    "from collections import Counter"
   ]
  },
  {
   "cell_type": "code",
   "execution_count": 2,
   "metadata": {},
   "outputs": [
    {
     "data": {
      "image/png": "[encoded data removed]",
      "text/plain": [
       "<Figure size 432x288 with 1 Axes>"
      ]
     },
     "metadata": {
      "needs_background": "light"
     },
     "output_type": "display_data"
    }
   ],
   "source": [
    "# fig = plt.figure()\n",
    "\n",
    "x = list(range(11))\n",
    "y = [n**2 for n in x]\n",
    "y2 = [n+5 for n in y]\n",
    "y3 = [n*1.5+35 for n in y]\n",
    "plt.bar(x, y)\n",
    "plt.plot(x, y2)\n",
    "plt.scatter(x, y3)\n",
    "plt.savefig(\"../data/squares.png\")\n",
    "\n",
    "plt.show()"
   ]
  },
  {
   "cell_type": "code",
   "execution_count": null,
   "metadata": {},
   "outputs": [],
   "source": [
    "print(\"shift-tab brings docstring\") # shift-tab for docstring help\n",
    "# regular tab brings code completion and suggestion"
   ]
  },
  {
   "cell_type": "code",
   "execution_count": 4,
   "metadata": {},
   "outputs": [],
   "source": [
    "my_name = \"Valdis\"\n",
    "my_number = 42"
   ]
  },
  {
   "cell_type": "code",
   "execution_count": 5,
   "metadata": {},
   "outputs": [
    {
     "data": {
      "text/plain": [
       "42"
      ]
     },
     "execution_count": 5,
     "metadata": {},
     "output_type": "execute_result"
    }
   ],
   "source": [
    "my_number"
   ]
  },
  {
   "cell_type": "code",
   "execution_count": null,
   "metadata": {},
   "outputs": [],
   "source": [
    "# we can press some object and dot . and we will see the methods for that object"
   ]
  },
  {
   "cell_type": "code",
   "execution_count": 3,
   "metadata": {},
   "outputs": [],
   "source": [
    "some_variable = 5555"
   ]
  },
  {
   "cell_type": "code",
   "execution_count": 4,
   "metadata": {},
   "outputs": [
    {
     "data": {
      "text/plain": [
       "5555"
      ]
     },
     "execution_count": 4,
     "metadata": {},
     "output_type": "execute_result"
    }
   ],
   "source": [
    "# press tab for tab completion start with som and then press\n",
    "some_variable\n"
   ]
  },
  {
   "cell_type": "code",
   "execution_count": 8,
   "metadata": {},
   "outputs": [
    {
     "name": "stdout",
     "output_type": "stream",
     "text": [
      "Python 3.8.3\n"
     ]
    }
   ],
   "source": [
    "!python --version #notice by ! we can run terminal commands in jupyter"
   ]
  },
  {
   "cell_type": "code",
   "execution_count": 9,
   "metadata": {},
   "outputs": [
    {
     "name": "stdout",
     "output_type": "stream",
     "text": [
      " Volume in drive C has no label.\n",
      " Volume Serial Number is 3E6D-EE98\n",
      "\n",
      " Directory of C:\\Users\\liga\\Github\\Python_RTU_08_20\\Diena_13_Visualization\n",
      "\n",
      "11/03/2021  06:43 PM    <DIR>          .\n",
      "11/03/2021  06:43 PM    <DIR>          ..\n",
      "09/24/2021  08:04 PM    <DIR>          .ipynb_checkpoints\n",
      "09/24/2021  07:38 PM            29,402 A17_Uzd1.ipynb\n",
      "03/03/2021  09:11 PM             1,724 ARCGIS.ipynb\n",
      "09/23/2021  05:51 PM            95,474 country_gdp.xlsx\n",
      "09/23/2021  07:47 PM         3,615,282 d13_a16_u1.ipynb\n",
      "03/15/2021  08:38 PM               590 d13_f1_u1.py\n",
      "01/21/2021  08:40 PM               469 d13_g1_u1.py\n",
      "01/22/2021  08:42 PM            21,246 D13_g2_u1.ipynb\n",
      "01/22/2021  09:09 PM               298 d13_g2_u1.py\n",
      "01/22/2021  08:50 PM            17,081 D13_g2_u1b.ipynb\n",
      "09/23/2021  08:01 PM           103,924 d13_g2_u2.ipynb\n",
      "03/03/2021  08:55 PM         3,631,233 d13_g3_u1.ipynb\n",
      "01/21/2021  09:06 PM         3,738,377 d13_uzd2_VM.ipynb\n",
      "11/16/2020  06:39 PM             2,046 Interact.ipynb\n",
      "01/21/2021  06:37 PM               713 Jan21Notebook.ipynb\n",
      "10/08/2020  03:02 PM               742 JaunsFails.ipynb\n",
      "10/08/2020  03:02 PM             2,277 Jupyter Group 1.ipynb\n",
      "11/03/2021  06:39 PM             6,243 Jupyter Introduction.ipynb\n",
      "03/15/2021  06:23 PM               592 Jupyter Introduction.py\n",
      "01/22/2021  09:09 PM         3,966,191 Klases_darbs_vizualizaacija.ipynb\n",
      "03/15/2021  06:34 PM           204,143 Matlplotlib Full Example.ipynb\n",
      "03/03/2021  06:20 PM               659 matplot.py\n",
      "11/03/2021  06:43 PM            40,789 Matplotlib in Jupyter.ipynb\n",
      "03/03/2021  06:17 PM             4,078 mat_full.py\n",
      "09/23/2021  07:59 PM             6,069 monthly_stats.xlsx\n",
      "03/15/2021  08:52 PM         3,693,179 MyPracticeMar15.ipynb\n",
      "09/24/2021  07:53 PM            88,172 Nerezidenti.ipynb\n",
      "09/24/2021  07:52 PM           104,424 nonresidents_2020.xlsx\n",
      "09/24/2021  05:48 PM         3,825,627 Plotly Example.ipynb\n",
      "10/08/2020  03:02 PM    <DIR>          random\n",
      "01/21/2021  05:59 PM            14,899 Random Dice.ipynb\n",
      "09/24/2021  08:09 PM             8,089 Random_Dice_Sep24.ipynb\n",
      "09/23/2021  06:04 PM               154 random_example.py\n",
      "09/24/2021  06:27 PM         3,999,493 Reading Data with Pandas.ipynb\n",
      "01/21/2021  08:39 PM            12,713 RTU_Python_21_Jan_Dice_roll.ipynb\n",
      "10/08/2020  03:02 PM            17,562 simplegraph.png\n",
      "10/08/2020  03:02 PM                87 stack.py\n",
      "01/21/2021  08:53 PM           122,050 Untitled1.ipynb\n",
      "11/17/2020  09:01 PM         3,671,083 Uzd1_g2.ipynb\n",
      "10/08/2020  03:02 PM               608 uzd1_g2.py\n",
      "10/08/2020  03:02 PM               369 uzd1_g2b.py\n",
      "10/08/2020  03:02 PM             1,108 uzd1_g2c.py\n",
      "11/16/2020  09:05 PM         5,425,294 Uzd1_group1_n16.ipynb\n",
      "11/16/2020  08:51 PM           123,775 Uzd2_g1_n16.ipynb\n",
      "              42 File(s)     36,598,328 bytes\n",
      "               4 Dir(s)  11,516,682,240 bytes free\n"
     ]
    }
   ],
   "source": [
    "!dir\n",
    " # any regular os command will work"
   ]
  },
  {
   "cell_type": "code",
   "execution_count": null,
   "metadata": {},
   "outputs": [],
   "source": [
    "# Notice not interactive by default in Jupyter?"
   ]
  },
  {
   "cell_type": "code",
   "execution_count": 10,
   "metadata": {},
   "outputs": [],
   "source": [
    "plt.show() # nothing happens in new cell,we need a new figure"
   ]
  },
  {
   "cell_type": "code",
   "execution_count": 11,
   "metadata": {
    "scrolled": true
   },
   "outputs": [
    {
     "data": {
      "image/png": "[encoded data removed]",
      "text/plain": [
       "<Figure size 432x288 with 1 Axes>"
      ]
     },
     "metadata": {
      "needs_background": "light"
     },
     "output_type": "display_data"
    }
   ],
   "source": [
    "# fig = plt.figure()\n",
    "\n",
    "x = list(range(11))\n",
    "y = [n**3 for n in x]\n",
    "y2 = [n+5 for n in y]\n",
    "y3 = [n+15 for n in y]\n",
    "plt.bar(x, y)\n",
    "plt.plot(x, y2)\n",
    "plt.scatter(x, y3)\n",
    "plt.savefig(\"../data/cubes.jpg\")\n",
    "\n",
    "plt.show()"
   ]
  },
  {
   "cell_type": "code",
   "execution_count": 12,
   "metadata": {},
   "outputs": [
    {
     "data": {
      "image/png": "[encoded data removed]",
      "text/plain": [
       "<Figure size 432x288 with 1 Axes>"
      ]
     },
     "metadata": {
      "needs_background": "light"
     },
     "output_type": "display_data"
    }
   ],
   "source": [
    "plt.plot(list(\"kartupelis\"), y2[:10]) # kartupelis has 10 letters so we needed y axis also to have 10 values\n",
    "plt.show()"
   ]
  },
  {
   "cell_type": "code",
   "execution_count": null,
   "metadata": {},
   "outputs": [],
   "source": []
  }
 ],
 "metadata": {
  "kernelspec": {
   "display_name": "Python 3",
   "language": "python",
   "name": "python3"
  },
  "language_info": {
   "codemirror_mode": {
    "name": "ipython",
    "version": 3
   },
   "file_extension": ".py",
   "mimetype": "text/x-python",
   "name": "python",
   "nbconvert_exporter": "python",
   "pygments_lexer": "ipython3",
   "version": "3.8.3"
  }
 },
 "nbformat": 4,
 "nbformat_minor": 2
}
