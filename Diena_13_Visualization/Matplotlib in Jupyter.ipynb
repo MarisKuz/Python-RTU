{
 "cells": [
  {
   "cell_type": "code",
   "execution_count": null,
   "metadata": {},
   "outputs": [],
   "source": [
    "# Using MatplotLib in Jupyter\n",
    "# https://matplotlib.org/3.1.1/tutorials/index.html"
   ]
  },
  {
   "cell_type": "code",
   "execution_count": 1,
   "metadata": {},
   "outputs": [],
   "source": [
    "# import requests \n",
    "\n",
    "import matplotlib.pyplot as plt # Anaconda includes matplotlib\n",
    "\n",
    "from collections import Counter"
   ]
  },
  {
   "cell_type": "code",
   "execution_count": 2,
   "metadata": {},
   "outputs": [
    {
     "data": {
      "image/png": "[encoded data removed]",
      "text/plain": [
       "<Figure size 432x288 with 1 Axes>"
      ]
     },
     "metadata": {
      "needs_background": "light"
     },
     "output_type": "display_data"
    }
   ],
   "source": [
    "# fig = plt.figure()\n",
    "\n",
    "x = list(range(11))\n",
    "y = [n**2 for n in x]\n",
    "y2 = [n+5 for n in y]\n",
    "y3 = [n+15 for n in y]\n",
    "plt.bar(x, y)\n",
    "plt.plot(x, y2)\n",
    "plt.scatter(x, y3)\n",
    "plt.savefig(\"../data/squares.png\")\n",
    "\n",
    "plt.show()"
   ]
  },
  {
   "cell_type": "code",
   "execution_count": null,
   "metadata": {},
   "outputs": [],
   "source": [
    "print(\"shift-tab brings docstring\") # shift-tab for docstring help\n",
    "# regular tab brings code completion and suggestion"
   ]
  },
  {
   "cell_type": "code",
   "execution_count": 3,
   "metadata": {},
   "outputs": [],
   "source": [
    "some_variable = 5555"
   ]
  },
  {
   "cell_type": "code",
   "execution_count": 4,
   "metadata": {},
   "outputs": [
    {
     "data": {
      "text/plain": [
       "5555"
      ]
     },
     "execution_count": 4,
     "metadata": {},
     "output_type": "execute_result"
    }
   ],
   "source": [
    "# press tab for tab completion start with som and then press tab\n",
    "some_variable"
   ]
  },
  {
   "cell_type": "code",
   "execution_count": 5,
   "metadata": {},
   "outputs": [
    {
     "name": "stdout",
     "output_type": "stream",
     "text": [
      "Python 3.8.3\n"
     ]
    }
   ],
   "source": [
    "!python --version #notice by ! we can run terminal commands in jupyter"
   ]
  },
  {
   "cell_type": "code",
   "execution_count": 6,
   "metadata": {},
   "outputs": [
    {
     "name": "stdout",
     "output_type": "stream",
     "text": [
      " Volume in drive C has no label.\n",
      " Volume Serial Number is 3E6D-EE98\n",
      "\n",
      " Directory of C:\\Users\\liga\\Github\\Python_RTU_08_20\\Diena_13_Visualization\n",
      "\n",
      "03/15/2021  06:26 PM    <DIR>          .\n",
      "03/15/2021  06:26 PM    <DIR>          ..\n",
      "03/03/2021  09:06 PM    <DIR>          .ipynb_checkpoints\n",
      "03/03/2021  09:11 PM             1,724 ARCGIS.ipynb\n",
      "01/21/2021  08:40 PM               469 d13_g1_u1.py\n",
      "01/22/2021  08:42 PM            21,246 D13_g2_u1.ipynb\n",
      "01/22/2021  09:09 PM               298 d13_g2_u1.py\n",
      "01/22/2021  08:50 PM            17,081 D13_g2_u1b.ipynb\n",
      "01/22/2021  08:54 PM            89,843 d13_g2_u2.ipynb\n",
      "03/03/2021  08:55 PM         3,631,233 d13_g3_u1.ipynb\n",
      "01/21/2021  09:06 PM         3,738,377 d13_uzd2_VM.ipynb\n",
      "11/16/2020  06:39 PM             2,046 Interact.ipynb\n",
      "01/21/2021  06:37 PM               713 Jan21Notebook.ipynb\n",
      "10/08/2020  03:02 PM               742 JaunsFails.ipynb\n",
      "10/08/2020  03:02 PM             2,277 Jupyter Group 1.ipynb\n",
      "03/15/2021  06:26 PM             5,260 Jupyter Introduction.ipynb\n",
      "03/15/2021  06:23 PM               592 Jupyter Introduction.py\n",
      "01/22/2021  09:09 PM         3,966,191 Klases_darbs_vizualizaacija.ipynb\n",
      "03/03/2021  06:49 PM           203,543 Matlplotlib Full Example.ipynb\n",
      "03/03/2021  06:20 PM               659 matplot.py\n",
      "03/03/2021  06:47 PM            41,545 Matplotlib in Jupyter.ipynb\n",
      "03/03/2021  06:17 PM             4,078 mat_full.py\n",
      "03/15/2021  04:55 PM         3,673,762 Plotly Example.ipynb\n",
      "10/08/2020  03:02 PM    <DIR>          random\n",
      "01/21/2021  05:59 PM            14,899 Random Dice.ipynb\n",
      "03/03/2021  09:03 PM         3,917,978 Reading Data with Pandas.ipynb\n",
      "01/21/2021  08:39 PM            12,713 RTU_Python_21_Jan_Dice_roll.ipynb\n",
      "10/08/2020  03:02 PM            17,562 simplegraph.png\n",
      "10/08/2020  03:02 PM                87 stack.py\n",
      "01/21/2021  08:53 PM           122,050 Untitled1.ipynb\n",
      "11/17/2020  09:01 PM         3,671,083 Uzd1_g2.ipynb\n",
      "10/08/2020  03:02 PM               608 uzd1_g2.py\n",
      "10/08/2020  03:02 PM               369 uzd1_g2b.py\n",
      "10/08/2020  03:02 PM             1,108 uzd1_g2c.py\n",
      "11/16/2020  09:05 PM         5,425,294 Uzd1_group1_n16.ipynb\n",
      "11/16/2020  08:51 PM           123,775 Uzd2_g1_n16.ipynb\n",
      "              32 File(s)     28,709,205 bytes\n",
      "               4 Dir(s)  34,894,495,744 bytes free\n"
     ]
    }
   ],
   "source": [
    "!dir\n",
    " # any regular os command will work"
   ]
  },
  {
   "cell_type": "code",
   "execution_count": null,
   "metadata": {},
   "outputs": [],
   "source": [
    "# Notice not interactive by default in Jupyter?"
   ]
  },
  {
   "cell_type": "code",
   "execution_count": 7,
   "metadata": {},
   "outputs": [],
   "source": [
    "plt.show() # nothing happens in new cell,we need a new figure"
   ]
  },
  {
   "cell_type": "code",
   "execution_count": 8,
   "metadata": {
    "scrolled": true
   },
   "outputs": [
    {
     "data": {
      "image/png": "[encoded data removed]",
      "text/plain": [
       "<Figure size 432x288 with 1 Axes>"
      ]
     },
     "metadata": {
      "needs_background": "light"
     },
     "output_type": "display_data"
    }
   ],
   "source": [
    "# fig = plt.figure()\n",
    "\n",
    "x = list(range(11))\n",
    "y = [n**3 for n in x]\n",
    "y2 = [n+5 for n in y]\n",
    "y3 = [n+15 for n in y]\n",
    "plt.bar(x, y)\n",
    "plt.plot(x, y2)\n",
    "plt.scatter(x, y3)\n",
    "plt.savefig(\"../data/cubes.jpg\")\n",
    "\n",
    "plt.show()"
   ]
  },
  {
   "cell_type": "code",
   "execution_count": 9,
   "metadata": {},
   "outputs": [
    {
     "data": {
      "image/png": "[encoded data removed]",
      "text/plain": [
       "<Figure size 432x288 with 1 Axes>"
      ]
     },
     "metadata": {
      "needs_background": "light"
     },
     "output_type": "display_data"
    }
   ],
   "source": [
    "plt.plot(list(\"kartupelis\"), y2[:10]) # kartupelis has 10 letters so we needed y axis also to have 10 values\n",
    "plt.show()"
   ]
  },
  {
   "cell_type": "code",
   "execution_count": null,
   "metadata": {},
   "outputs": [],
   "source": []
  }
 ],
 "metadata": {
  "kernelspec": {
   "display_name": "Python 3",
   "language": "python",
   "name": "python3"
  },
  "language_info": {
   "codemirror_mode": {
    "name": "ipython",
    "version": 3
   },
   "file_extension": ".py",
   "mimetype": "text/x-python",
   "name": "python",
   "nbconvert_exporter": "python",
   "pygments_lexer": "ipython3",
   "version": "3.8.3"
  }
 },
 "nbformat": 4,
 "nbformat_minor": 2
}
