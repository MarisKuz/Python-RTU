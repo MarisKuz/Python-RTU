{
 "cells": [
  {
   "cell_type": "code",
   "execution_count": 3,
   "metadata": {},
   "outputs": [],
   "source": [
    "from collections import Counter"
   ]
  },
  {
   "cell_type": "code",
   "execution_count": 4,
   "metadata": {},
   "outputs": [
    {
     "name": "stdout",
     "output_type": "stream",
     "text": [
      "[20, 31, 13, 18, 21, 15, 21, 21, 9, 19, 18, 20, 21, 19, 20, 21, 26, 30, 27, 16, 28, 20, 21, 26, 23]\n"
     ]
    }
   ],
   "source": [
    "import random\n",
    "i = 1\n",
    "rez_list = []\n",
    "throw_count = 10_000\n",
    "while i <= throw_count :  \n",
    "    a = random.randint(1, 6)\n",
    "    b = random.randint(1, 6)\n",
    "    c = random.randint(1, 6)\n",
    "    d = random.randint(1, 6)\n",
    "    e = random.randint(1, 6)\n",
    "    f = random.randint(1, 6)\n",
    "    rez = a+b+c+d+e+f\n",
    "    rez_list.append(rez)\n",
    "#     print(i, \".metiens > \", a, b, c, d, e, f, \" > summa =\", rez)\n",
    "    i += 1\n",
    "print(rez_list[:25])"
   ]
  },
  {
   "cell_type": "code",
   "execution_count": 5,
   "metadata": {},
   "outputs": [
    {
     "data": {
      "text/plain": [
       "dict_keys([20, 31, 13, 18, 21, 15, 9, 19, 26, 30, 27, 16, 28, 23, 24, 17, 22, 25, 29, 14, 12, 33, 11, 34, 32, 10, 35, 8, 36])"
      ]
     },
     "execution_count": 5,
     "metadata": {},
     "output_type": "execute_result"
    }
   ],
   "source": [
    "my_counter = Counter(rez_list)\n",
    "my_counter.keys()"
   ]
  },
  {
   "cell_type": "code",
   "execution_count": 6,
   "metadata": {},
   "outputs": [
    {
     "data": {
      "text/plain": [
       "dict_values([927, 66, 148, 808, 871, 364, 19, 845, 474, 105, 351, 491, 234, 775, 722, 601, 880, 656, 162, 260, 104, 12, 71, 2, 21, 27, 1, 2, 1])"
      ]
     },
     "execution_count": 6,
     "metadata": {},
     "output_type": "execute_result"
    }
   ],
   "source": [
    "my_counter.values()"
   ]
  },
  {
   "cell_type": "code",
   "execution_count": 7,
   "metadata": {},
   "outputs": [],
   "source": [
    "import matplotlib.pyplot as plt"
   ]
  },
  {
   "cell_type": "code",
   "execution_count": 9,
   "metadata": {},
   "outputs": [
    {
     "data": {
      "text/plain": [
       "<BarContainer object of 29 artists>"
      ]
     },
     "execution_count": 9,
     "metadata": {},
     "output_type": "execute_result"
    },
    {
     "data": {
      "image/png": "[encoded data removed]",
      "text/plain": [
       "<Figure size 432x288 with 1 Axes>"
      ]
     },
     "metadata": {
      "needs_background": "light"
     },
     "output_type": "display_data"
    }
   ],
   "source": [
    "plt.bar(my_counter.keys(), my_counter.values())"
   ]
  }
 ],
 "metadata": {
  "kernelspec": {
   "display_name": "Python 3",
   "language": "python",
   "name": "python3"
  },
  "language_info": {
   "codemirror_mode": {
    "name": "ipython",
    "version": 3
   },
   "file_extension": ".py",
   "mimetype": "text/x-python",
   "name": "python",
   "nbconvert_exporter": "python",
   "pygments_lexer": "ipython3",
   "version": "3.8.3"
  }
 },
 "nbformat": 4,
 "nbformat_minor": 4
}
