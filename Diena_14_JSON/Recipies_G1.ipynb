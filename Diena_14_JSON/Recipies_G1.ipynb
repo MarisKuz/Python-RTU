{
 "cells": [
  {
   "cell_type": "code",
   "execution_count": 1,
   "metadata": {},
   "outputs": [],
   "source": [
    "import json\n",
    "import requests\n",
    "from collections import Counter\n",
    "import time\n",
    "import itertools\n",
    "from itertools import chain, repeat\n",
    "import matplotlib.pyplot as plt\n",
    "\n",
    "from googletrans import Translator\n",
    "# translator = Translator()\n",
    "# translations = translator.translate(\"omlete\", dest = \"en\", src = \"lv\")\n",
    "# print(translations)"
   ]
  },
  {
   "cell_type": "code",
   "execution_count": 2,
   "metadata": {},
   "outputs": [],
   "source": [
    "\n",
    "\n",
    "def valid_letters(x):\n",
    "   return x[0].lower() in 'id'\n",
    "\n",
    "def get_recipes():\n",
    "    prompts = chain([\"Recipes search: if ingredient, press 'i', if 'dish' press 'd': \"], repeat(\"Not a letter 'i' or 'd'! Try again: \"))\n",
    "    replies = map(input, prompts)\n",
    "    valid_response = next(filter(valid_letters, replies))\n",
    "    response = str(valid_response.lower())\n",
    "\n",
    "    if response == 'i':\n",
    "        search_input = str(input(\"Please enter ingredient/s what to search, separate by ',' ? \"))\n",
    "    else:\n",
    "        search_input = str(input(\"Please enter dish what to search? \"))\n",
    "    search_what = search_input.strip().lower()\n",
    "    start_page = int(input(\"Please enter start page number : \"))\n",
    "    end_page = int(input(\"Please enter end page number > start page : \"))\n",
    "    print(search_what, start_page, end_page)\n",
    "\n",
    "    pages = range(start_page, end_page)\n",
    "    recipes = []\n",
    "    for page in pages:\n",
    "        if response == 'i':\n",
    "            page = \"http://www.recipepuppy.com/api/?i=\"+ search_what + \"&p=\" + str(page)\n",
    "        else:\n",
    "            page = \"http://www.recipepuppy.com/api/?q=\" + search_what + \"&p=\" + str(page)\n",
    "        print(f\"Opened url: {page}\")\n",
    "        resp = requests.get(page)\n",
    "        \n",
    "        if resp.status_code != 200:\n",
    "            print(\"Bad response: \", resp.status_code)\n",
    "        recipes += resp.json()['results']\n",
    "        time.sleep(0.9)\n",
    "    return recipes\n",
    "\n",
    "def merged_ingr_list(recipes):\n",
    "    \n",
    "    ingrd_list = [k['ingredients'].split(\", \") for k in recipes] # dabonu visus ingredientus, bet daudzos listos\n",
    "    merged_ingrd_list = list(itertools.chain.from_iterable(ingrd_list)) # samergoju visus listus vienā\n",
    "    return merged_ingrd_list"
   ]
  },
  {
   "cell_type": "code",
   "execution_count": 3,
   "metadata": {},
   "outputs": [
    {
     "name": "stdout",
     "output_type": "stream",
     "text": [
      "Recipes search: if ingredient, press 'i', if 'dish' press 'd': potato\n",
      "Not a letter 'i' or 'd'! Try again: i\n",
      "Please enter ingredient/s what to search, separate by ',' ? potato,cheese\n",
      "Please enter start page number : 2\n",
      "Please enter end page number > start page : 4\n",
      "potato,cheese 2 4\n",
      "Opened url: http://www.recipepuppy.com/api/?i=potato,cheese&p=2\n",
      "Opened url: http://www.recipepuppy.com/api/?i=potato,cheese&p=3\n",
      "Created file 10_recipes.json\n"
     ]
    }
   ],
   "source": [
    "# 1a. Izvelciet 10 receptes kas satur kartupeļus no sekojoša API:\n",
    "# http://www.recipepuppy.com/about/api/\n",
    "# Dati jasaglabā .json failā bet arī jaizveido python datu struktūra\n",
    "\n",
    "\n",
    "with open(\"10_recipes.json\", mode = \"w\") as write_file:\n",
    "    json.dump(list(enumerate(get_recipes(), 1)), write_file, indent = 4)\n",
    "print(\"Created file 10_recipes.json\")"
   ]
  },
  {
   "cell_type": "code",
   "execution_count": 5,
   "metadata": {},
   "outputs": [
    {
     "name": "stdout",
     "output_type": "stream",
     "text": [
      "Recipes search: if ingredient, press 'i', if 'dish' press 'd': i\n",
      "Please enter ingredient/s what to search, separate by ',' ? 10\n",
      "Please enter start page number : 20\n",
      "Please enter end page number > start page : 30\n",
      "10 20 30\n",
      "Opened url: http://www.recipepuppy.com/api/?i=10&p=20\n",
      "Opened url: http://www.recipepuppy.com/api/?i=10&p=21\n",
      "Opened url: http://www.recipepuppy.com/api/?i=10&p=22\n",
      "Opened url: http://www.recipepuppy.com/api/?i=10&p=23\n",
      "Opened url: http://www.recipepuppy.com/api/?i=10&p=24\n",
      "Opened url: http://www.recipepuppy.com/api/?i=10&p=25\n",
      "Opened url: http://www.recipepuppy.com/api/?i=10&p=26\n",
      "Opened url: http://www.recipepuppy.com/api/?i=10&p=27\n",
      "Opened url: http://www.recipepuppy.com/api/?i=10&p=28\n",
      "Opened url: http://www.recipepuppy.com/api/?i=10&p=29\n",
      "Collected recipes: 0\n",
      "ingredients.json\n",
      "[]\n"
     ]
    },
    {
     "data": {
      "image/png": "[encoded data removed]",
      "text/plain": [
       "<Figure size 432x288 with 1 Axes>"
      ]
     },
     "metadata": {
      "needs_background": "light"
     },
     "output_type": "display_data"
    },
    {
     "name": "stdout",
     "output_type": "stream",
     "text": [
      "Recipes search: if ingredient, press 'i', if 'dish' press 'd': d\n",
      "Please enter dish what to search? omelet\n",
      "Please enter start page number : 10\n",
      "Please enter end page number > start page : 20\n",
      "omelet 10 20\n",
      "Opened url: http://www.recipepuppy.com/api/?q=omelet&p=10\n",
      "Opened url: http://www.recipepuppy.com/api/?q=omelet&p=11\n",
      "Opened url: http://www.recipepuppy.com/api/?q=omelet&p=12\n",
      "Opened url: http://www.recipepuppy.com/api/?q=omelet&p=13\n",
      "Opened url: http://www.recipepuppy.com/api/?q=omelet&p=14\n",
      "Opened url: http://www.recipepuppy.com/api/?q=omelet&p=15\n",
      "Opened url: http://www.recipepuppy.com/api/?q=omelet&p=16\n",
      "Opened url: http://www.recipepuppy.com/api/?q=omelet&p=17\n",
      "Opened url: http://www.recipepuppy.com/api/?q=omelet&p=18\n",
      "Opened url: http://www.recipepuppy.com/api/?q=omelet&p=19\n",
      "[('eggs', 91), ('salt', 81), ('butter', 50), ('black pepper', 42), ('cheddar cheese', 31), ('onions', 29), ('milk', 23), ('tomato', 21), ('olive oil', 18), ('ham', 17)]\n",
      "omlete_ingredients.json\n"
     ]
    },
    {
     "data": {
      "image/png": "[encoded data removed]",
      "text/plain": [
       "<Figure size 432x288 with 1 Axes>"
      ]
     },
     "metadata": {
      "needs_background": "light"
     },
     "output_type": "display_data"
    }
   ],
   "source": [
    "\n",
    "\n",
    "\n",
    "\n",
    "\n",
    "\n",
    "\n",
    "\n",
    "# 1b. Izvelciet 100 receptes, kas satur kartupeļus un sieru no tā paša API\n",
    "# Atceramies ka šis API datus dod tikai pa 10 vērtībām reizē, līdz ar to vajadzēs lipināt rezultātus kopā.\n",
    "# Lipināt būs vieglāk jau Python datu strukturu.\n",
    "\n",
    "potato_cheese = get_recipes()\n",
    "print(f\"Collected recipes: {len(potato_cheese)}\")\n",
    "\n",
    "# 1c Python datu struktūrā pārvērtiet ingredients atslēgas vērtību uz sarakstu.\n",
    "# Citiem vārdiem saskaldiet string ar sastāvdaļam -> uz list\n",
    "# Saglabājiet .json failā jauno struktūru\n",
    "\n",
    "merged_ingr_list(potato_cheese)\n",
    "\n",
    "with open(\"ingredients.json\", mode = \"w\") as write_file:\n",
    "    json.dump(merged_ingr_list(potato_cheese), write_file, indent = 4)\n",
    "print(\"ingredients.json\")\n",
    "\n",
    "# 1d Atrodied visvairāk izmantotos ingredients kopā ar kartupeļiem un sieru.\n",
    "# Ieteikums: Varat izmantot counter update metodi\n",
    "# Izdrukājiet TOP 3 sastāvdaļas šajās receptēs.\n",
    "\n",
    "ingrd_count = Counter([ingr for ingr in merged_ingr_list(potato_cheese)])\n",
    "print(ingrd_count.most_common()[2:5]) # izņemot kartupeļus, sieru, jo tie ir katrā receptē un būs visvairāk,jo nāk no meklētāja\n",
    "\n",
    "# 1.e uzzīmējiet histogrammu ar ingredients skaitu kuri tiek izmantoti kartupeļu un siera receptēs(100 receptēs).\n",
    "plt.bar(ingrd_count.keys(), ingrd_count.values())\n",
    "plt.show()\n",
    "\n",
    "# 1.f kā būtu ar sastāvdaļām omelet histogrammu ?\n",
    "\n",
    "omlete = get_recipes()\n",
    "merged_ingr_list(omlete)\n",
    "ingrd_count = Counter([ingr for ingr in merged_ingr_list(omlete)])\n",
    "# create file\n",
    "with open(\"omlete_ingredients.json\", mode = \"w\") as write_file:\n",
    "    json.dump(merged_ingr_list(omlete), write_file, indent = 4)\n",
    "print(ingrd_count.most_common()[:10])\n",
    "print(\"omlete_ingredients.json\")\n",
    "\n",
    "# diagramma\n",
    "plt.bar(ingrd_count.keys(), ingrd_count.values())\n",
    "plt.show()\n",
    "\n"
   ]
  },
  {
   "cell_type": "code",
   "execution_count": 7,
   "metadata": {},
   "outputs": [],
   "source": [
    "translator = Translator()"
   ]
  },
  {
   "cell_type": "code",
   "execution_count": 8,
   "metadata": {},
   "outputs": [],
   "source": [
    "translations = translator.translate(\"omlete\")"
   ]
  },
  {
   "cell_type": "code",
   "execution_count": 9,
   "metadata": {},
   "outputs": [
    {
     "name": "stdout",
     "output_type": "stream",
     "text": [
      "Translated(src=lv, dest=en, text=omelette, pronunciation=omelette, extra_data=\"{'translat...\")\n"
     ]
    }
   ],
   "source": [
    "\n",
    "\n",
    "print(translations)"
   ]
  },
  {
   "cell_type": "code",
   "execution_count": 10,
   "metadata": {},
   "outputs": [
    {
     "data": {
      "text/plain": [
       "'omelette'"
      ]
     },
     "execution_count": 10,
     "metadata": {},
     "output_type": "execute_result"
    }
   ],
   "source": [
    "translations.pronunciation"
   ]
  },
  {
   "cell_type": "code",
   "execution_count": 11,
   "metadata": {},
   "outputs": [
    {
     "data": {
      "text/plain": [
       "'omelette'"
      ]
     },
     "execution_count": 11,
     "metadata": {},
     "output_type": "execute_result"
    }
   ],
   "source": [
    "translations.text"
   ]
  },
  {
   "cell_type": "code",
   "execution_count": 12,
   "metadata": {},
   "outputs": [
    {
     "data": {
      "text/plain": [
       "'lv'"
      ]
     },
     "execution_count": 12,
     "metadata": {},
     "output_type": "execute_result"
    }
   ],
   "source": [
    "translations.src"
   ]
  },
  {
   "cell_type": "code",
   "execution_count": 13,
   "metadata": {},
   "outputs": [],
   "source": [
    "favorite = translator.translate(\"Man garšo kartupeļi\")"
   ]
  },
  {
   "cell_type": "code",
   "execution_count": 14,
   "metadata": {},
   "outputs": [
    {
     "data": {
      "text/plain": [
       "'I like potatoes'"
      ]
     },
     "execution_count": 14,
     "metadata": {},
     "output_type": "execute_result"
    }
   ],
   "source": [
    "favorite.text"
   ]
  },
  {
   "cell_type": "code",
   "execution_count": null,
   "metadata": {},
   "outputs": [],
   "source": [
    "favorite"
   ]
  }
 ],
 "metadata": {
  "kernelspec": {
   "display_name": "Python 3",
   "language": "python",
   "name": "python3"
  },
  "language_info": {
   "codemirror_mode": {
    "name": "ipython",
    "version": 3
   },
   "file_extension": ".py",
   "mimetype": "text/x-python",
   "name": "python",
   "nbconvert_exporter": "python",
   "pygments_lexer": "ipython3",
   "version": "3.8.3"
  }
 },
 "nbformat": 4,
 "nbformat_minor": 4
}
