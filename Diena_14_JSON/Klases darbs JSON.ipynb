{
 "cells": [
  {
   "cell_type": "code",
   "execution_count": 2,
   "metadata": {},
   "outputs": [],
   "source": [
    "import json\n",
    "import requests\n",
    "import pandas as pd\n",
    "import time"
   ]
  },
  {
   "cell_type": "code",
   "execution_count": 3,
   "metadata": {},
   "outputs": [],
   "source": [
    "url = \"http://www.recipepuppy.com/api/?i=potato&p=2&p=1\"\n",
    "response = requests.get(url)"
   ]
  },
  {
   "cell_type": "code",
   "execution_count": 4,
   "metadata": {},
   "outputs": [
    {
     "data": {
      "text/plain": [
       "200"
      ]
     },
     "execution_count": 4,
     "metadata": {},
     "output_type": "execute_result"
    }
   ],
   "source": [
    "response.status_code"
   ]
  },
  {
   "cell_type": "code",
   "execution_count": 5,
   "metadata": {},
   "outputs": [
    {
     "data": {
      "text/plain": [
       "'{\"title\":\"Recipe Puppy\",\"version\":0.1,\"href\":\"http:\\\\/\\\\/www.recipepuppy.com\\\\/\",\"results\":[{\"title\":\"Moroccan Spiced Roast Potatoes\",\"href\":\"http:\\\\/\\\\/ww'"
      ]
     },
     "execution_count": 5,
     "metadata": {},
     "output_type": "execute_result"
    }
   ],
   "source": [
    "response.text[:150]"
   ]
  },
  {
   "cell_type": "code",
   "execution_count": 6,
   "metadata": {},
   "outputs": [
    {
     "data": {
      "text/plain": [
       "4"
      ]
     },
     "execution_count": 6,
     "metadata": {},
     "output_type": "execute_result"
    }
   ],
   "source": [
    "pot_recipes = response.json()\n",
    "len(pot_recipes)"
   ]
  },
  {
   "cell_type": "code",
   "execution_count": 7,
   "metadata": {},
   "outputs": [
    {
     "data": {
      "text/plain": [
       "dict_keys(['title', 'version', 'href', 'results'])"
      ]
     },
     "execution_count": 7,
     "metadata": {},
     "output_type": "execute_result"
    }
   ],
   "source": [
    "pot_recipes.keys()"
   ]
  },
  {
   "cell_type": "code",
   "execution_count": 8,
   "metadata": {},
   "outputs": [
    {
     "data": {
      "text/plain": [
       "([{'title': 'Moroccan Spiced Roast Potatoes',\n",
       "   'href': 'http://www.recipezaar.com/moroccan-spiced-roast-potatoes-377030',\n",
       "   'ingredients': 'potato',\n",
       "   'thumbnail': 'http://img.recipepuppy.com/507716.jpg'},\n",
       "  {'title': 'French Potato Salad (Light)',\n",
       "   'href': 'http://www.recipezaar.com/French-Potato-Salad-Light-315220',\n",
       "   'ingredients': 'potato',\n",
       "   'thumbnail': 'http://img.recipepuppy.com/575259.jpg'},\n",
       "  {'title': 'Baked Potatoes from the Crock Pot',\n",
       "   'href': 'http://www.recipezaar.com/Baked-Potatoes-from-the-Crock-Pot-53182',\n",
       "   'ingredients': 'potato',\n",
       "   'thumbnail': 'http://img.recipepuppy.com/36975.jpg'},\n",
       "  {'title': 'Garlicky Olive Oil Potato Salad',\n",
       "   'href': 'http://www.recipezaar.com/Garlicky-Olive-Oil-Potato-Salad-233788',\n",
       "   'ingredients': 'potato',\n",
       "   'thumbnail': 'http://img.recipepuppy.com/649845.jpg'},\n",
       "  {'title': 'How To Strengthen Your Arms Recipe',\n",
       "   'href': 'http://www.grouprecipes.com/65147/how-to-strengthen-your-arms.html',\n",
       "   'ingredients': 'potato, potato, potato',\n",
       "   'thumbnail': 'http://img.recipepuppy.com/392014.jpg'},\n",
       "  {'title': 'Poasted Garlic And Potatoes Recipe',\n",
       "   'href': 'http://www.grouprecipes.com/5932/poasted-garlic-and-potatoes.html',\n",
       "   'ingredients': 'potato',\n",
       "   'thumbnail': 'http://img.recipepuppy.com/408881.jpg'},\n",
       "  {'title': 'Yukon Gold & Sweet Potato Mash',\n",
       "   'href': 'http://www.eatingwell.com/recipes/two_potato_mash.html',\n",
       "   'ingredients': 'potato',\n",
       "   'thumbnail': 'http://img.recipepuppy.com/693660.jpg'},\n",
       "  {'title': 'Oven &#8220;Fries&#8221;',\n",
       "   'href': 'http://www.eatingwell.com/recipes/oven_fries.html',\n",
       "   'ingredients': 'potato',\n",
       "   'thumbnail': 'http://img.recipepuppy.com/693902.jpg'},\n",
       "  {'title': 'Spicy Stewed Potatoes & Spinach with Buttermilk (Aloo chaas)',\n",
       "   'href': 'http://www.eatingwell.com/recipes/stewed_potatoes_spinach.html',\n",
       "   'ingredients': 'potato',\n",
       "   'thumbnail': 'http://img.recipepuppy.com/696099.jpg'},\n",
       "  {'title': 'Roasted Root Vegetables with Chermoula',\n",
       "   'href': 'http://www.eatingwell.com/recipes/moroccan_roast_vegetables.html',\n",
       "   'ingredients': 'potato',\n",
       "   'thumbnail': 'http://img.recipepuppy.com/696436.jpg'}],\n",
       " 10)"
      ]
     },
     "execution_count": 8,
     "metadata": {},
     "output_type": "execute_result"
    }
   ],
   "source": [
    "o_recipes = pot_recipes.get('results')\n",
    "o_recipes, len(o_recipes)"
   ]
  },
  {
   "cell_type": "code",
   "execution_count": null,
   "metadata": {},
   "outputs": [],
   "source": [
    "type(o_recipes)"
   ]
  },
  {
   "cell_type": "code",
   "execution_count": 9,
   "metadata": {},
   "outputs": [
    {
     "data": {
      "text/html": [
       "<div>\n",
       "<style scoped>\n",
       "    .dataframe tbody tr th:only-of-type {\n",
       "        vertical-align: middle;\n",
       "    }\n",
       "\n",
       "    .dataframe tbody tr th {\n",
       "        vertical-align: top;\n",
       "    }\n",
       "\n",
       "    .dataframe thead th {\n",
       "        text-align: right;\n",
       "    }\n",
       "</style>\n",
       "<table border=\"1\" class=\"dataframe\">\n",
       "  <thead>\n",
       "    <tr style=\"text-align: right;\">\n",
       "      <th></th>\n",
       "      <th>title</th>\n",
       "      <th>version</th>\n",
       "      <th>href</th>\n",
       "      <th>results</th>\n",
       "    </tr>\n",
       "  </thead>\n",
       "  <tbody>\n",
       "    <tr>\n",
       "      <th>0</th>\n",
       "      <td>Recipe Puppy</td>\n",
       "      <td>0.1</td>\n",
       "      <td>http://www.recipepuppy.com/</td>\n",
       "      <td>{'title': 'Moroccan Spiced Roast Potatoes', 'h...</td>\n",
       "    </tr>\n",
       "    <tr>\n",
       "      <th>1</th>\n",
       "      <td>Recipe Puppy</td>\n",
       "      <td>0.1</td>\n",
       "      <td>http://www.recipepuppy.com/</td>\n",
       "      <td>{'title': 'French Potato Salad (Light)', 'href...</td>\n",
       "    </tr>\n",
       "    <tr>\n",
       "      <th>2</th>\n",
       "      <td>Recipe Puppy</td>\n",
       "      <td>0.1</td>\n",
       "      <td>http://www.recipepuppy.com/</td>\n",
       "      <td>{'title': 'Baked Potatoes from the Crock Pot',...</td>\n",
       "    </tr>\n",
       "    <tr>\n",
       "      <th>3</th>\n",
       "      <td>Recipe Puppy</td>\n",
       "      <td>0.1</td>\n",
       "      <td>http://www.recipepuppy.com/</td>\n",
       "      <td>{'title': 'Garlicky Olive Oil Potato Salad', '...</td>\n",
       "    </tr>\n",
       "    <tr>\n",
       "      <th>4</th>\n",
       "      <td>Recipe Puppy</td>\n",
       "      <td>0.1</td>\n",
       "      <td>http://www.recipepuppy.com/</td>\n",
       "      <td>{'title': 'How To Strengthen Your Arms Recipe'...</td>\n",
       "    </tr>\n",
       "  </tbody>\n",
       "</table>\n",
       "</div>"
      ],
      "text/plain": [
       "          title  version                         href  \\\n",
       "0  Recipe Puppy      0.1  http://www.recipepuppy.com/   \n",
       "1  Recipe Puppy      0.1  http://www.recipepuppy.com/   \n",
       "2  Recipe Puppy      0.1  http://www.recipepuppy.com/   \n",
       "3  Recipe Puppy      0.1  http://www.recipepuppy.com/   \n",
       "4  Recipe Puppy      0.1  http://www.recipepuppy.com/   \n",
       "\n",
       "                                             results  \n",
       "0  {'title': 'Moroccan Spiced Roast Potatoes', 'h...  \n",
       "1  {'title': 'French Potato Salad (Light)', 'href...  \n",
       "2  {'title': 'Baked Potatoes from the Crock Pot',...  \n",
       "3  {'title': 'Garlicky Olive Oil Potato Salad', '...  \n",
       "4  {'title': 'How To Strengthen Your Arms Recipe'...  "
      ]
     },
     "execution_count": 9,
     "metadata": {},
     "output_type": "execute_result"
    }
   ],
   "source": [
    "df = pd.read_json(url) # so includes parsing\n",
    "df.head()"
   ]
  },
  {
   "cell_type": "code",
   "execution_count": 10,
   "metadata": {},
   "outputs": [
    {
     "data": {
      "text/html": [
       "<div>\n",
       "<style scoped>\n",
       "    .dataframe tbody tr th:only-of-type {\n",
       "        vertical-align: middle;\n",
       "    }\n",
       "\n",
       "    .dataframe tbody tr th {\n",
       "        vertical-align: top;\n",
       "    }\n",
       "\n",
       "    .dataframe thead th {\n",
       "        text-align: right;\n",
       "    }\n",
       "</style>\n",
       "<table border=\"1\" class=\"dataframe\">\n",
       "  <thead>\n",
       "    <tr style=\"text-align: right;\">\n",
       "      <th></th>\n",
       "      <th>title</th>\n",
       "      <th>href</th>\n",
       "      <th>ingredients</th>\n",
       "      <th>thumbnail</th>\n",
       "    </tr>\n",
       "  </thead>\n",
       "  <tbody>\n",
       "    <tr>\n",
       "      <th>0</th>\n",
       "      <td>Moroccan Spiced Roast Potatoes</td>\n",
       "      <td>http://www.recipezaar.com/moroccan-spiced-roas...</td>\n",
       "      <td>potato</td>\n",
       "      <td>http://img.recipepuppy.com/507716.jpg</td>\n",
       "    </tr>\n",
       "    <tr>\n",
       "      <th>1</th>\n",
       "      <td>French Potato Salad (Light)</td>\n",
       "      <td>http://www.recipezaar.com/French-Potato-Salad-...</td>\n",
       "      <td>potato</td>\n",
       "      <td>http://img.recipepuppy.com/575259.jpg</td>\n",
       "    </tr>\n",
       "    <tr>\n",
       "      <th>2</th>\n",
       "      <td>Baked Potatoes from the Crock Pot</td>\n",
       "      <td>http://www.recipezaar.com/Baked-Potatoes-from-...</td>\n",
       "      <td>potato</td>\n",
       "      <td>http://img.recipepuppy.com/36975.jpg</td>\n",
       "    </tr>\n",
       "    <tr>\n",
       "      <th>3</th>\n",
       "      <td>Garlicky Olive Oil Potato Salad</td>\n",
       "      <td>http://www.recipezaar.com/Garlicky-Olive-Oil-P...</td>\n",
       "      <td>potato</td>\n",
       "      <td>http://img.recipepuppy.com/649845.jpg</td>\n",
       "    </tr>\n",
       "    <tr>\n",
       "      <th>4</th>\n",
       "      <td>How To Strengthen Your Arms Recipe</td>\n",
       "      <td>http://www.grouprecipes.com/65147/how-to-stren...</td>\n",
       "      <td>potato, potato, potato</td>\n",
       "      <td>http://img.recipepuppy.com/392014.jpg</td>\n",
       "    </tr>\n",
       "  </tbody>\n",
       "</table>\n",
       "</div>"
      ],
      "text/plain": [
       "                                title  \\\n",
       "0      Moroccan Spiced Roast Potatoes   \n",
       "1         French Potato Salad (Light)   \n",
       "2   Baked Potatoes from the Crock Pot   \n",
       "3     Garlicky Olive Oil Potato Salad   \n",
       "4  How To Strengthen Your Arms Recipe   \n",
       "\n",
       "                                                href             ingredients  \\\n",
       "0  http://www.recipezaar.com/moroccan-spiced-roas...                  potato   \n",
       "1  http://www.recipezaar.com/French-Potato-Salad-...                  potato   \n",
       "2  http://www.recipezaar.com/Baked-Potatoes-from-...                  potato   \n",
       "3  http://www.recipezaar.com/Garlicky-Olive-Oil-P...                  potato   \n",
       "4  http://www.grouprecipes.com/65147/how-to-stren...  potato, potato, potato   \n",
       "\n",
       "                               thumbnail  \n",
       "0  http://img.recipepuppy.com/507716.jpg  \n",
       "1  http://img.recipepuppy.com/575259.jpg  \n",
       "2   http://img.recipepuppy.com/36975.jpg  \n",
       "3  http://img.recipepuppy.com/649845.jpg  \n",
       "4  http://img.recipepuppy.com/392014.jpg  "
      ]
     },
     "execution_count": 10,
     "metadata": {},
     "output_type": "execute_result"
    }
   ],
   "source": [
    "df = pd.DataFrame(o_recipes)\n",
    "df.head()"
   ]
  },
  {
   "cell_type": "code",
   "execution_count": 12,
   "metadata": {},
   "outputs": [],
   "source": [
    "with open(\"o_recipes.json\", mode=\"w\") as potato:\n",
    "    json.dump(o_recipes, potato, indent=4)"
   ]
  },
  {
   "cell_type": "code",
   "execution_count": null,
   "metadata": {},
   "outputs": [],
   "source": [
    "#2.uzdevums\n",
    "    "
   ]
  },
  {
   "cell_type": "code",
   "execution_count": null,
   "metadata": {},
   "outputs": [],
   "source": [
    "url = \"http://www.recipepuppy.com/api/?i=potato,cheese&p=1\"\n",
    "#response = requests.get(url)\n",
    "#response.status_code\n",
    "    "
   ]
  },
  {
   "cell_type": "code",
   "execution_count": null,
   "metadata": {},
   "outputs": [],
   "source": [
    "pc = response.json()\n",
    "\n"
   ]
  },
  {
   "cell_type": "code",
   "execution_count": 16,
   "metadata": {},
   "outputs": [
    {
     "name": "stdout",
     "output_type": "stream",
     "text": [
      "Retrieving data from: http://www.recipepuppy.com/api/?i=potato,cheese&p=1\n",
      "Retrieving data from: http://www.recipepuppy.com/api/?i=potato,cheese&p=2\n",
      "Retrieving data from: http://www.recipepuppy.com/api/?i=potato,cheese&p=3\n",
      "Retrieving data from: http://www.recipepuppy.com/api/?i=potato,cheese&p=4\n",
      "Something is not kosher! HTTP status code 500\n"
     ]
    },
    {
     "data": {
      "text/plain": [
       "30"
      ]
     },
     "execution_count": 16,
     "metadata": {},
     "output_type": "execute_result"
    }
   ],
   "source": [
    "url_no_ending=\"http://www.recipepuppy.com/api/?i=potato,cheese&p=\"\n",
    "pc_recipes =[]\n",
    "for x in range(1,11):\n",
    "    time.sleep(1.5)\n",
    "    url = url_no_ending+str(x)\n",
    "    print(f\"Retrieving data from: {url}\")\n",
    "    rec = requests.get(url)\n",
    "    if rec.status_code != 200:\n",
    "        print(f\"Something is not kosher! HTTP status code {rec.status_code}\")\n",
    "        break\n",
    "#     print(rec)\n",
    "    rec_data = rec.json()\n",
    "#     print(rec_data)\n",
    "    rec_data_results = rec_data.get(\"results\") ## TODO add header information\n",
    "#     print(rec_data_results)\n",
    "    pc_recipes += rec_data_results\n",
    "    \n",
    "len(pc_recipes)"
   ]
  },
  {
   "cell_type": "code",
   "execution_count": null,
   "metadata": {},
   "outputs": [],
   "source": []
  }
 ],
 "metadata": {
  "kernelspec": {
   "display_name": "Python 3",
   "language": "python",
   "name": "python3"
  },
  "language_info": {
   "codemirror_mode": {
    "name": "ipython",
    "version": 3
   },
   "file_extension": ".py",
   "mimetype": "text/x-python",
   "name": "python",
   "nbconvert_exporter": "python",
   "pygments_lexer": "ipython3",
   "version": "3.8.3"
  }
 },
 "nbformat": 4,
 "nbformat_minor": 4
}
