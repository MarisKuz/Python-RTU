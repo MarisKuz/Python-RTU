{
 "cells": [
  {
   "cell_type": "markdown",
   "metadata": {},
   "source": [
    "## JSON"
   ]
  },
  {
   "cell_type": "markdown",
   "metadata": {},
   "source": [
    "# JSON - Javascript Object Notation\n",
    "#### Invented by Douglas Crockford when working at Yahoo in early 2000s.\n",
    "\n",
    "* Goal - Human Readable, Machine Parsable\n",
    "\n",
    "* Specification: https://www.json.org/"
   ]
  },
  {
   "cell_type": "markdown",
   "metadata": {},
   "source": [
    "JSON — short for JavaScript Object Notation — format for sharing data. \n",
    "\n",
    "JSON is derived from the JavaScript programming language\n",
    "\n",
    "Available for use by many languages including Python \n",
    "\n",
    "usually file extension is .json when stored\n",
    "\n"
   ]
  },
  {
   "cell_type": "code",
   "execution_count": null,
   "metadata": {},
   "outputs": [],
   "source": [
    "# Sample JSON below from https://json.org/example.html\n",
    "# Question why is Syntax highlighting working properly ? :)"
   ]
  },
  {
   "cell_type": "code",
   "execution_count": 1,
   "metadata": {},
   "outputs": [
    {
     "data": {
      "text/plain": [
       "{'widget': {'debug': 'on',\n",
       "  'window': {'title': 'Sample Konfabulator Widget',\n",
       "   'name': 'main_window',\n",
       "   'width': 500,\n",
       "   'height': 500},\n",
       "  'image': {'src': 'Images/Sun.png',\n",
       "   'name': 'sun1',\n",
       "   'hOffset': 250,\n",
       "   'vOffset': 250,\n",
       "   'alignment': 'center'},\n",
       "  'text': {'data': 'Click Here',\n",
       "   'size': 36,\n",
       "   'style': 'bold',\n",
       "   'name': 'text1',\n",
       "   'hOffset': 250,\n",
       "   'vOffset': 100,\n",
       "   'alignment': 'center',\n",
       "   'onMouseUp': 'sun1.opacity = (sun1.opacity / 100) * 90;'}}}"
      ]
     },
     "execution_count": 1,
     "metadata": {},
     "output_type": "execute_result"
    }
   ],
   "source": [
    "{\"widget\": {\n",
    "    \"debug\": \"on\",\n",
    "    \"window\": {\n",
    "        \"title\": \"Sample Konfabulator Widget\",\n",
    "        \"name\": \"main_window\",\n",
    "        \"width\": 500,\n",
    "        \"height\": 500\n",
    "    },\n",
    "    \"image\": { \n",
    "        \"src\": \"Images/Sun.png\",\n",
    "        \"name\": \"sun1\",\n",
    "        \"hOffset\": 250,\n",
    "        \"vOffset\": 250,\n",
    "        \"alignment\": \"center\"\n",
    "    },\n",
    "    \"text\": {\n",
    "        \"data\": \"Click Here\",\n",
    "        \"size\": 36,\n",
    "        \"style\": \"bold\",\n",
    "        \"name\": \"text1\",\n",
    "        \"hOffset\": 250,\n",
    "        \"vOffset\": 100,\n",
    "        \"alignment\": \"center\",\n",
    "        \"onMouseUp\": \"sun1.opacity = (sun1.opacity / 100) * 90;\"\n",
    "    }\n",
    "}}    \n"
   ]
  },
  {
   "cell_type": "code",
   "execution_count": 2,
   "metadata": {},
   "outputs": [],
   "source": [
    "# if this was string starting with { it would be our json\n",
    "mydata = {\n",
    "    \"firstName\": \"Jane\",\n",
    "    \"lastName\": \"Doe\",\n",
    "    \"hobbies\": [\"running\", \"sky diving\", \"dancing\"],\n",
    "    \"age\": 43,\n",
    "    \"children\": [\n",
    "        {\n",
    "            \"firstName\": \"Alice\",\n",
    "            \"age\": 7\n",
    "        },\n",
    "        {\n",
    "            \"firstName\": \"Bob\",\n",
    "            \"age\": 13\n",
    "        }\n",
    "    ]\n",
    "}"
   ]
  },
  {
   "cell_type": "code",
   "execution_count": 3,
   "metadata": {},
   "outputs": [
    {
     "data": {
      "text/plain": [
       "dict"
      ]
     },
     "execution_count": 3,
     "metadata": {},
     "output_type": "execute_result"
    }
   ],
   "source": [
    "type(mydata)"
   ]
  },
  {
   "cell_type": "code",
   "execution_count": 4,
   "metadata": {},
   "outputs": [
    {
     "name": "stdout",
     "output_type": "stream",
     "text": [
      "{'firstName': 'Jane', 'lastName': 'Doe', 'hobbies': ['running', 'sky diving', 'dancing'], 'age': 43, 'children': [{'firstName': 'Alice', 'age': 7}, {'firstName': 'Bob', 'age': 13}]}\n"
     ]
    }
   ],
   "source": [
    "print(mydata)"
   ]
  },
  {
   "cell_type": "code",
   "execution_count": 5,
   "metadata": {},
   "outputs": [
    {
     "data": {
      "text/plain": [
       "[{'firstName': 'Alice', 'age': 7}, {'firstName': 'Bob', 'age': 13}]"
      ]
     },
     "execution_count": 5,
     "metadata": {},
     "output_type": "execute_result"
    }
   ],
   "source": [
    "mydata['children']"
   ]
  },
  {
   "cell_type": "code",
   "execution_count": 6,
   "metadata": {},
   "outputs": [
    {
     "data": {
      "text/plain": [
       "list"
      ]
     },
     "execution_count": 6,
     "metadata": {},
     "output_type": "execute_result"
    }
   ],
   "source": [
    "type(mydata['children'])"
   ]
  },
  {
   "cell_type": "code",
   "execution_count": 7,
   "metadata": {},
   "outputs": [
    {
     "data": {
      "text/plain": [
       "{'firstName': 'Alice', 'age': 7}"
      ]
     },
     "execution_count": 7,
     "metadata": {},
     "output_type": "execute_result"
    }
   ],
   "source": [
    "mydata['children'][0]"
   ]
  },
  {
   "cell_type": "code",
   "execution_count": 8,
   "metadata": {},
   "outputs": [
    {
     "data": {
      "text/plain": [
       "dict"
      ]
     },
     "execution_count": 8,
     "metadata": {},
     "output_type": "execute_result"
    }
   ],
   "source": [
    "type(mydata['children'][0])"
   ]
  },
  {
   "cell_type": "code",
   "execution_count": 9,
   "metadata": {},
   "outputs": [
    {
     "data": {
      "text/plain": [
       "7"
      ]
     },
     "execution_count": 9,
     "metadata": {},
     "output_type": "execute_result"
    }
   ],
   "source": [
    "mydata['children'][0]['age']"
   ]
  },
  {
   "cell_type": "code",
   "execution_count": 10,
   "metadata": {},
   "outputs": [
    {
     "data": {
      "text/plain": [
       "13"
      ]
     },
     "execution_count": 10,
     "metadata": {},
     "output_type": "execute_result"
    }
   ],
   "source": [
    "mydata['children'][-1]['age']"
   ]
  },
  {
   "cell_type": "code",
   "execution_count": 11,
   "metadata": {},
   "outputs": [
    {
     "data": {
      "text/plain": [
       "['running', 'sky diving', 'dancing']"
      ]
     },
     "execution_count": 11,
     "metadata": {},
     "output_type": "execute_result"
    }
   ],
   "source": [
    "mydata.get('hobbies') # get has the default value None if the key is not found"
   ]
  },
  {
   "cell_type": "code",
   "execution_count": 12,
   "metadata": {},
   "outputs": [
    {
     "data": {
      "text/plain": [
       "('dancing', 'dancing', 'dancing')"
      ]
     },
     "execution_count": 12,
     "metadata": {},
     "output_type": "execute_result"
    }
   ],
   "source": [
    "mydata.get('hobbies')[-1],mydata['hobbies'][-1],mydata['hobbies'][2]"
   ]
  },
  {
   "cell_type": "code",
   "execution_count": null,
   "metadata": {},
   "outputs": [],
   "source": [
    "# list has no get [1,2,3].get(2) "
   ]
  },
  {
   "cell_type": "code",
   "execution_count": 13,
   "metadata": {},
   "outputs": [
    {
     "data": {
      "text/plain": [
       "30"
      ]
     },
     "execution_count": 13,
     "metadata": {},
     "output_type": "execute_result"
    }
   ],
   "source": [
    "{\"a\":43,\"b\":30}.get(\"b\")"
   ]
  },
  {
   "cell_type": "markdown",
   "metadata": {},
   "source": [
    "The process of encoding JSON is usually called serialization. This term refers to the transformation of data into a series of bytes (hence serial) to be stored or transmitted across a network. You may also hear the term marshaling, but that’s a whole other discussion. Naturally, deserialization is the reciprocal process of decoding data that has been stored or delivered in the JSON standard.\n",
    "\n",
    "All we’re talking about here is reading and writing. Think of it like this: encoding is for writing data to disk, while decoding is for reading data into memory.\n",
    " https://realpython.com/python-json/"
   ]
  },
  {
   "cell_type": "code",
   "execution_count": 13,
   "metadata": {},
   "outputs": [
    {
     "data": {
      "text/plain": [
       "{'firstName': 'Jane',\n",
       " 'lastName': 'Doe',\n",
       " 'hobbies': ['running', 'sky diving', 'dancing'],\n",
       " 'age': 43,\n",
       " 'children': [{'firstName': 'Alice', 'age': 7},\n",
       "  {'firstName': 'Bob', 'age': 13}]}"
      ]
     },
     "execution_count": 13,
     "metadata": {},
     "output_type": "execute_result"
    }
   ],
   "source": [
    "mydata # simply a PYthon dictionary with some lists inside etc"
   ]
  },
  {
   "cell_type": "code",
   "execution_count": 14,
   "metadata": {},
   "outputs": [],
   "source": [
    "# we need a library for decoding and encoding json \n",
    "# comes built into standard Python library\n",
    "import json"
   ]
  },
  {
   "cell_type": "code",
   "execution_count": 15,
   "metadata": {},
   "outputs": [],
   "source": [
    "# first we are going to dump our data into a text file\n",
    "with open(\"data_file.json\", mode=\"w\") as write_file:\n",
    "    json.dump(mydata, write_file)\n",
    "# remember that stream is closed here and file is written by now"
   ]
  },
  {
   "cell_type": "code",
   "execution_count": null,
   "metadata": {},
   "outputs": [],
   "source": [
    "# json.dump()"
   ]
  },
  {
   "cell_type": "code",
   "execution_count": 16,
   "metadata": {},
   "outputs": [],
   "source": [
    "# this will be nicer\n",
    "with open(\"data_file_indented.json\", mode=\"w\") as write_file:\n",
    "    json.dump(mydata, write_file, indent=4) # so mydata could be any standard python data structure"
   ]
  },
  {
   "cell_type": "code",
   "execution_count": 17,
   "metadata": {},
   "outputs": [
    {
     "data": {
      "text/plain": [
       "{'firstName': 'Jane',\n",
       " 'lastName': 'Doe',\n",
       " 'hobbies': ['running', 'sky diving', 'dancing'],\n",
       " 'age': 43,\n",
       " 'children': [{'firstName': 'Alice', 'age': 7},\n",
       "  {'firstName': 'Bob', 'age': 13}]}"
      ]
     },
     "execution_count": 17,
     "metadata": {},
     "output_type": "execute_result"
    }
   ],
   "source": [
    "mydata"
   ]
  },
  {
   "cell_type": "code",
   "execution_count": 18,
   "metadata": {},
   "outputs": [
    {
     "data": {
      "text/plain": [
       "{'firstName': 'Jane',\n",
       " 'lastName': 'Doe',\n",
       " 'hobbies': ['running', 'sky diving', 'dancing'],\n",
       " 'age': 43,\n",
       " 'children': [{'firstName': 'Alice', 'age': 7},\n",
       "  {'firstName': 'Bob', 'age': 13},\n",
       "  {'firstName': 'Čarlijs', 'age': 14}]}"
      ]
     },
     "execution_count": 18,
     "metadata": {},
     "output_type": "execute_result"
    }
   ],
   "source": [
    "mydata['children'].append({'firstName':\"Čarlijs\", 'age':14})\n",
    "mydata"
   ]
  },
  {
   "cell_type": "code",
   "execution_count": 19,
   "metadata": {},
   "outputs": [],
   "source": [
    "# this will be nicer\n",
    "with open(\"data_file_indented_ch.json\", mode=\"w\") as write_file:\n",
    "    json.dump(mydata, write_file, indent=4) # so mydata could be any standard python data structure"
   ]
  },
  {
   "cell_type": "code",
   "execution_count": 20,
   "metadata": {},
   "outputs": [],
   "source": [
    "# when we want to save unicode directly\n",
    "with open(\"data_file_indented_ch_unicode.json\", mode=\"w\", encoding=\"utf-8\") as write_file:\n",
    "    json.dump(mydata, write_file, indent=4, ensure_ascii=False) # when we want unicode inside our json text file"
   ]
  },
  {
   "cell_type": "code",
   "execution_count": 21,
   "metadata": {},
   "outputs": [
    {
     "data": {
      "text/plain": [
       "['Valdis', {'likes': ['potatoes', 'chocolate']}, 50, 60, 70]"
      ]
     },
     "execution_count": 21,
     "metadata": {},
     "output_type": "execute_result"
    }
   ],
   "source": [
    "mylist = [\"Valdis\", {\"likes\":[\"potatoes\", \"chocolate\"]}, 50, 60, 70]\n",
    "mylist"
   ]
  },
  {
   "cell_type": "code",
   "execution_count": 22,
   "metadata": {},
   "outputs": [],
   "source": [
    "with open(\"mylist.json\", mode=\"w\") as write_file:\n",
    "    json.dump(mylist, write_file, indent=4)"
   ]
  },
  {
   "cell_type": "markdown",
   "metadata": {},
   "source": [
    "# Reading JSON and then deserialization (txt -> Python data structure)"
   ]
  },
  {
   "cell_type": "code",
   "execution_count": 23,
   "metadata": {},
   "outputs": [
    {
     "data": {
      "text/plain": [
       "'{\\n    \"firstName\": \"Jane\",\\n    \"lastName\": \"Doe\",\\n    \"hobbies\": [\\n        \"running\",\\n        \"sky diving\",\\n        \"dancing\"\\n    ],\\n    \"age\": 43,\\n    \"children\": [\\n        {\\n            \"firstName\": \"Alice\",\\n            \"age\": 7\\n        },\\n        {\\n            \"firstName\": \"Bob\",\\n            \"age\": 13\\n        }\\n    ]\\n}'"
      ]
     },
     "execution_count": 23,
     "metadata": {},
     "output_type": "execute_result"
    }
   ],
   "source": [
    "with open(\"data_file_indented.json\") as f:\n",
    "    raw_txt = f.read()\n",
    "# raw_txt[:150] # so again raw JSON is just text\n",
    "raw_txt"
   ]
  },
  {
   "cell_type": "code",
   "execution_count": 27,
   "metadata": {},
   "outputs": [
    {
     "data": {
      "text/plain": [
       "str"
      ]
     },
     "execution_count": 27,
     "metadata": {},
     "output_type": "execute_result"
    }
   ],
   "source": [
    "type(raw_txt)"
   ]
  },
  {
   "cell_type": "code",
   "execution_count": 25,
   "metadata": {},
   "outputs": [
    {
     "data": {
      "text/plain": [
       "dict"
      ]
     },
     "execution_count": 25,
     "metadata": {},
     "output_type": "execute_result"
    }
   ],
   "source": [
    "# deserialize, decode from json string into Python Data structure\n",
    "my_data = json.loads(raw_txt)\n",
    "type(my_data)"
   ]
  },
  {
   "cell_type": "code",
   "execution_count": 26,
   "metadata": {},
   "outputs": [
    {
     "data": {
      "text/plain": [
       "dict_keys(['firstName', 'lastName', 'hobbies', 'age', 'children'])"
      ]
     },
     "execution_count": 26,
     "metadata": {},
     "output_type": "execute_result"
    }
   ],
   "source": [
    "my_data.keys()"
   ]
  },
  {
   "cell_type": "code",
   "execution_count": 27,
   "metadata": {},
   "outputs": [
    {
     "data": {
      "text/plain": [
       "{'firstName': 'Jane',\n",
       " 'lastName': 'Doe',\n",
       " 'hobbies': ['running', 'sky diving', 'dancing'],\n",
       " 'age': 43,\n",
       " 'children': [{'firstName': 'Alice', 'age': 7},\n",
       "  {'firstName': 'Bob', 'age': 13}]}"
      ]
     },
     "execution_count": 27,
     "metadata": {},
     "output_type": "execute_result"
    }
   ],
   "source": [
    "my_data"
   ]
  },
  {
   "cell_type": "code",
   "execution_count": 28,
   "metadata": {},
   "outputs": [
    {
     "data": {
      "text/plain": [
       "[{'firstName': 'Alice', 'age': 7}, {'firstName': 'Bob', 'age': 13}]"
      ]
     },
     "execution_count": 28,
     "metadata": {},
     "output_type": "execute_result"
    }
   ],
   "source": [
    "my_data['children']"
   ]
  },
  {
   "cell_type": "code",
   "execution_count": 29,
   "metadata": {},
   "outputs": [
    {
     "data": {
      "text/plain": [
       "dict"
      ]
     },
     "execution_count": 29,
     "metadata": {},
     "output_type": "execute_result"
    }
   ],
   "source": [
    "# more often we will load json immediately\n",
    "with open(\"data_file_indented.json\") as f:\n",
    "    my_data_2 = json.load(f) # if json is malformed then you will get some sort of error\n",
    "type(my_data_2)"
   ]
  },
  {
   "cell_type": "code",
   "execution_count": 30,
   "metadata": {},
   "outputs": [
    {
     "data": {
      "text/plain": [
       "(True, False)"
      ]
     },
     "execution_count": 30,
     "metadata": {},
     "output_type": "execute_result"
    }
   ],
   "source": [
    "# contents are the same but two different objects\n",
    "my_data == my_data_2, my_data is my_data_2"
   ]
  },
  {
   "cell_type": "code",
   "execution_count": 31,
   "metadata": {},
   "outputs": [
    {
     "data": {
      "text/plain": [
       "'{\"firstName\": \"Jane\", \"lastName\": \"Doe\", \"hobbies\": [\"running\", \"sky diving\", \"dancing\"], \"age\": 43, \"children\": [{\"firstName\": \"Alice\", \"age\": 7}, {\"firstName\": \"Bob\", \"age\": 13}]}'"
      ]
     },
     "execution_count": 31,
     "metadata": {},
     "output_type": "execute_result"
    }
   ],
   "source": [
    "my_json_string = json.dumps(my_data) # convert Python data structure(list,dictionary, and so on) into json string\n",
    "# my_json_string[:100]\n",
    "my_json_string"
   ]
  },
  {
   "cell_type": "code",
   "execution_count": 32,
   "metadata": {},
   "outputs": [
    {
     "data": {
      "text/plain": [
       "str"
      ]
     },
     "execution_count": 32,
     "metadata": {},
     "output_type": "execute_result"
    }
   ],
   "source": [
    "type(my_json_string)"
   ]
  },
  {
   "cell_type": "code",
   "execution_count": 33,
   "metadata": {},
   "outputs": [
    {
     "data": {
      "text/plain": [
       "{'firstName': 'Jane',\n",
       " 'lastName': 'Doe',\n",
       " 'hobbies': ['running', 'sky diving', 'dancing'],\n",
       " 'age': 43,\n",
       " 'children': [{'firstName': 'Alice', 'age': 7},\n",
       "  {'firstName': 'Bob', 'age': 13}]}"
      ]
     },
     "execution_count": 33,
     "metadata": {},
     "output_type": "execute_result"
    }
   ],
   "source": [
    "my_data_structure = json.loads(my_json_string)\n",
    "my_data_structure"
   ]
  },
  {
   "cell_type": "code",
   "execution_count": 34,
   "metadata": {},
   "outputs": [
    {
     "data": {
      "text/plain": [
       "['Valdis', {'likes': ['potatoes', 'chocolate']}, 50, 60, 70, True, False, None]"
      ]
     },
     "execution_count": 34,
     "metadata": {},
     "output_type": "execute_result"
    }
   ],
   "source": [
    "mylist.extend([True, False, None])\n",
    "mylist"
   ]
  },
  {
   "cell_type": "code",
   "execution_count": 35,
   "metadata": {},
   "outputs": [
    {
     "data": {
      "text/plain": [
       "'[\"Valdis\", {\"likes\": [\"potatoes\", \"chocolate\"]}, 50, 60, 70, true, false, null]'"
      ]
     },
     "execution_count": 35,
     "metadata": {},
     "output_type": "execute_result"
    }
   ],
   "source": [
    "json.dumps(mylist) # this gives us json formatted string"
   ]
  },
  {
   "cell_type": "code",
   "execution_count": 36,
   "metadata": {},
   "outputs": [
    {
     "data": {
      "text/plain": [
       "['Valdis',\n",
       " {'likes': ['potatoes', 'chocolate']},\n",
       " 50,\n",
       " 60,\n",
       " 70,\n",
       " True,\n",
       " False,\n",
       " None,\n",
       " (1, 2, 3)]"
      ]
     },
     "execution_count": 36,
     "metadata": {},
     "output_type": "execute_result"
    }
   ],
   "source": [
    "mylist.append((1,2,3))\n",
    "mylist"
   ]
  },
  {
   "cell_type": "code",
   "execution_count": 37,
   "metadata": {},
   "outputs": [
    {
     "data": {
      "text/plain": [
       "'[\"Valdis\", {\"likes\": [\"potatoes\", \"chocolate\"]}, 50, 60, 70, true, false, null, [1, 2, 3]]'"
      ]
     },
     "execution_count": 37,
     "metadata": {},
     "output_type": "execute_result"
    }
   ],
   "source": [
    "json.dumps(mylist) # this gives us json formatted string"
   ]
  },
  {
   "cell_type": "code",
   "execution_count": null,
   "metadata": {},
   "outputs": [],
   "source": [
    "json.dumps(my_data)"
   ]
  },
  {
   "cell_type": "code",
   "execution_count": 38,
   "metadata": {},
   "outputs": [],
   "source": [
    "import requests # this library is not included with Python but is very popular and comes with Anaconda\n",
    "# pip install requests otherwise"
   ]
  },
  {
   "cell_type": "code",
   "execution_count": 39,
   "metadata": {},
   "outputs": [
    {
     "name": "stdout",
     "output_type": "stream",
     "text": [
      "200\n"
     ]
    }
   ],
   "source": [
    "# we make a http request to a url and print the response code\n",
    "url = \"https://my.api.mockaroo.com/ageincluded.json?key=58227cb0\"\n",
    "response = requests.get(url) # so we made a HTTP GET request here just like a browser would\n",
    "print(response.status_code) # Response Code 200 is good! 404 not good :)"
   ]
  },
  {
   "cell_type": "code",
   "execution_count": 40,
   "metadata": {},
   "outputs": [
    {
     "data": {
      "text/plain": [
       "(list, 100)"
      ]
     },
     "execution_count": 40,
     "metadata": {},
     "output_type": "execute_result"
    }
   ],
   "source": [
    "data_from_json = response.json() # we do not need json.loads\n",
    "type(data_from_json), len(data_from_json)"
   ]
  },
  {
   "cell_type": "code",
   "execution_count": 41,
   "metadata": {},
   "outputs": [
    {
     "data": {
      "text/plain": [
       "'[{\"id\":1,\"first_name\":\"Dannel\",\"last_name\":\"Imlin\"'"
      ]
     },
     "execution_count": 41,
     "metadata": {},
     "output_type": "execute_result"
    }
   ],
   "source": [
    "response.text[:50]"
   ]
  },
  {
   "cell_type": "code",
   "execution_count": 42,
   "metadata": {},
   "outputs": [
    {
     "data": {
      "text/plain": [
       "(list, 100)"
      ]
     },
     "execution_count": 42,
     "metadata": {},
     "output_type": "execute_result"
    }
   ],
   "source": [
    "my_mock_data = json.loads(response.text) # kind of useless since we have response.json()\n",
    "type(my_mock_data), len(my_mock_data)"
   ]
  },
  {
   "cell_type": "code",
   "execution_count": 43,
   "metadata": {},
   "outputs": [
    {
     "data": {
      "text/plain": [
       "(True, False)"
      ]
     },
     "execution_count": 43,
     "metadata": {},
     "output_type": "execute_result"
    }
   ],
   "source": [
    "data_from_json == my_mock_data, data_from_json is my_mock_data \n",
    "# again data is the same, but 2 different objects"
   ]
  },
  {
   "cell_type": "code",
   "execution_count": 44,
   "metadata": {},
   "outputs": [],
   "source": [
    "import pandas as pd # Anaconda includes by default"
   ]
  },
  {
   "cell_type": "code",
   "execution_count": 45,
   "metadata": {},
   "outputs": [
    {
     "data": {
      "text/html": [
       "<div>\n",
       "<style scoped>\n",
       "    .dataframe tbody tr th:only-of-type {\n",
       "        vertical-align: middle;\n",
       "    }\n",
       "\n",
       "    .dataframe tbody tr th {\n",
       "        vertical-align: top;\n",
       "    }\n",
       "\n",
       "    .dataframe thead th {\n",
       "        text-align: right;\n",
       "    }\n",
       "</style>\n",
       "<table border=\"1\" class=\"dataframe\">\n",
       "  <thead>\n",
       "    <tr style=\"text-align: right;\">\n",
       "      <th></th>\n",
       "      <th>id</th>\n",
       "      <th>first_name</th>\n",
       "      <th>last_name</th>\n",
       "      <th>email</th>\n",
       "      <th>gender</th>\n",
       "      <th>ip_address</th>\n",
       "      <th>age</th>\n",
       "    </tr>\n",
       "  </thead>\n",
       "  <tbody>\n",
       "    <tr>\n",
       "      <th>0</th>\n",
       "      <td>1</td>\n",
       "      <td>Linet</td>\n",
       "      <td>Hindrick</td>\n",
       "      <td>lhindrick0@unicef.org</td>\n",
       "      <td>Female</td>\n",
       "      <td>117.48.195.91</td>\n",
       "      <td>12</td>\n",
       "    </tr>\n",
       "    <tr>\n",
       "      <th>1</th>\n",
       "      <td>2</td>\n",
       "      <td>Ase</td>\n",
       "      <td>Mixer</td>\n",
       "      <td>amixer1@virginia.edu</td>\n",
       "      <td>Polygender</td>\n",
       "      <td>222.237.144.133</td>\n",
       "      <td>23</td>\n",
       "    </tr>\n",
       "    <tr>\n",
       "      <th>2</th>\n",
       "      <td>3</td>\n",
       "      <td>Lorette</td>\n",
       "      <td>Domelow</td>\n",
       "      <td>ldomelow2@icio.us</td>\n",
       "      <td>Genderqueer</td>\n",
       "      <td>25.252.233.167</td>\n",
       "      <td>40</td>\n",
       "    </tr>\n",
       "    <tr>\n",
       "      <th>3</th>\n",
       "      <td>4</td>\n",
       "      <td>Dorey</td>\n",
       "      <td>Cafferky</td>\n",
       "      <td>dcafferky3@fotki.com</td>\n",
       "      <td>Agender</td>\n",
       "      <td>46.70.228.106</td>\n",
       "      <td>39</td>\n",
       "    </tr>\n",
       "    <tr>\n",
       "      <th>4</th>\n",
       "      <td>5</td>\n",
       "      <td>Carol-jean</td>\n",
       "      <td>Waind</td>\n",
       "      <td>cwaind4@home.pl</td>\n",
       "      <td>Female</td>\n",
       "      <td>38.172.79.118</td>\n",
       "      <td>63</td>\n",
       "    </tr>\n",
       "  </tbody>\n",
       "</table>\n",
       "</div>"
      ],
      "text/plain": [
       "   id  first_name last_name                  email       gender  \\\n",
       "0   1       Linet  Hindrick  lhindrick0@unicef.org       Female   \n",
       "1   2         Ase     Mixer   amixer1@virginia.edu   Polygender   \n",
       "2   3     Lorette   Domelow      ldomelow2@icio.us  Genderqueer   \n",
       "3   4       Dorey  Cafferky   dcafferky3@fotki.com      Agender   \n",
       "4   5  Carol-jean     Waind        cwaind4@home.pl       Female   \n",
       "\n",
       "        ip_address  age  \n",
       "0    117.48.195.91   12  \n",
       "1  222.237.144.133   23  \n",
       "2   25.252.233.167   40  \n",
       "3    46.70.228.106   39  \n",
       "4    38.172.79.118   63  "
      ]
     },
     "execution_count": 45,
     "metadata": {},
     "output_type": "execute_result"
    }
   ],
   "source": [
    "df = pd.read_json(url) # so includes parsing and request to the server\n",
    "df.head()"
   ]
  },
  {
   "cell_type": "code",
   "execution_count": 46,
   "metadata": {},
   "outputs": [],
   "source": [
    "df.to_csv(\"mock_data.csv\")"
   ]
  },
  {
   "cell_type": "code",
   "execution_count": 47,
   "metadata": {},
   "outputs": [
    {
     "data": {
      "text/plain": [
       "[{'id': 1,\n",
       "  'first_name': 'Dannel',\n",
       "  'last_name': 'Imlin',\n",
       "  'email': 'dimlin0@pinterest.com',\n",
       "  'gender': 'Bigender',\n",
       "  'ip_address': '110.111.108.124',\n",
       "  'age': 76},\n",
       " {'id': 2,\n",
       "  'first_name': 'Ravid',\n",
       "  'last_name': 'Deniseau',\n",
       "  'email': 'rdeniseau1@webmd.com',\n",
       "  'gender': 'Female',\n",
       "  'ip_address': '236.177.156.163',\n",
       "  'age': 58},\n",
       " {'id': 3,\n",
       "  'first_name': 'Kristy',\n",
       "  'last_name': 'Rambaut',\n",
       "  'email': 'krambaut2@cafepress.com',\n",
       "  'gender': 'Polygender',\n",
       "  'ip_address': '47.134.70.216',\n",
       "  'age': 22}]"
      ]
     },
     "execution_count": 47,
     "metadata": {},
     "output_type": "execute_result"
    }
   ],
   "source": [
    "data_from_json[:3]"
   ]
  },
  {
   "cell_type": "code",
   "execution_count": 48,
   "metadata": {},
   "outputs": [
    {
     "data": {
      "text/html": [
       "<div>\n",
       "<style scoped>\n",
       "    .dataframe tbody tr th:only-of-type {\n",
       "        vertical-align: middle;\n",
       "    }\n",
       "\n",
       "    .dataframe tbody tr th {\n",
       "        vertical-align: top;\n",
       "    }\n",
       "\n",
       "    .dataframe thead th {\n",
       "        text-align: right;\n",
       "    }\n",
       "</style>\n",
       "<table border=\"1\" class=\"dataframe\">\n",
       "  <thead>\n",
       "    <tr style=\"text-align: right;\">\n",
       "      <th></th>\n",
       "      <th>id</th>\n",
       "      <th>first_name</th>\n",
       "      <th>last_name</th>\n",
       "      <th>email</th>\n",
       "      <th>gender</th>\n",
       "      <th>ip_address</th>\n",
       "      <th>age</th>\n",
       "    </tr>\n",
       "  </thead>\n",
       "  <tbody>\n",
       "    <tr>\n",
       "      <th>0</th>\n",
       "      <td>1</td>\n",
       "      <td>Dannel</td>\n",
       "      <td>Imlin</td>\n",
       "      <td>dimlin0@pinterest.com</td>\n",
       "      <td>Bigender</td>\n",
       "      <td>110.111.108.124</td>\n",
       "      <td>76</td>\n",
       "    </tr>\n",
       "    <tr>\n",
       "      <th>1</th>\n",
       "      <td>2</td>\n",
       "      <td>Ravid</td>\n",
       "      <td>Deniseau</td>\n",
       "      <td>rdeniseau1@webmd.com</td>\n",
       "      <td>Female</td>\n",
       "      <td>236.177.156.163</td>\n",
       "      <td>58</td>\n",
       "    </tr>\n",
       "    <tr>\n",
       "      <th>2</th>\n",
       "      <td>3</td>\n",
       "      <td>Kristy</td>\n",
       "      <td>Rambaut</td>\n",
       "      <td>krambaut2@cafepress.com</td>\n",
       "      <td>Polygender</td>\n",
       "      <td>47.134.70.216</td>\n",
       "      <td>22</td>\n",
       "    </tr>\n",
       "    <tr>\n",
       "      <th>3</th>\n",
       "      <td>4</td>\n",
       "      <td>Reade</td>\n",
       "      <td>Dorbon</td>\n",
       "      <td>rdorbon3@canalblog.com</td>\n",
       "      <td>Genderfluid</td>\n",
       "      <td>244.192.187.143</td>\n",
       "      <td>78</td>\n",
       "    </tr>\n",
       "    <tr>\n",
       "      <th>4</th>\n",
       "      <td>5</td>\n",
       "      <td>Della</td>\n",
       "      <td>Shovelbottom</td>\n",
       "      <td>dshovelbottom4@issuu.com</td>\n",
       "      <td>Male</td>\n",
       "      <td>10.245.25.109</td>\n",
       "      <td>95</td>\n",
       "    </tr>\n",
       "  </tbody>\n",
       "</table>\n",
       "</div>"
      ],
      "text/plain": [
       "   id first_name     last_name                     email       gender  \\\n",
       "0   1     Dannel         Imlin     dimlin0@pinterest.com     Bigender   \n",
       "1   2      Ravid      Deniseau      rdeniseau1@webmd.com       Female   \n",
       "2   3     Kristy       Rambaut   krambaut2@cafepress.com   Polygender   \n",
       "3   4      Reade        Dorbon    rdorbon3@canalblog.com  Genderfluid   \n",
       "4   5      Della  Shovelbottom  dshovelbottom4@issuu.com         Male   \n",
       "\n",
       "        ip_address  age  \n",
       "0  110.111.108.124   76  \n",
       "1  236.177.156.163   58  \n",
       "2    47.134.70.216   22  \n",
       "3  244.192.187.143   78  \n",
       "4    10.245.25.109   95  "
      ]
     },
     "execution_count": 48,
     "metadata": {},
     "output_type": "execute_result"
    }
   ],
   "source": [
    "df2 = pd.DataFrame(data_from_json) # in this data_from_json is Python data structure list\n",
    "df2.head()"
   ]
  },
  {
   "cell_type": "code",
   "execution_count": null,
   "metadata": {},
   "outputs": [],
   "source": [
    "# idea get average age of Japanese Men in our JSON data\n",
    "\n"
   ]
  },
  {
   "cell_type": "code",
   "execution_count": 56,
   "metadata": {},
   "outputs": [
    {
     "data": {
      "text/html": [
       "<div>\n",
       "<style scoped>\n",
       "    .dataframe tbody tr th:only-of-type {\n",
       "        vertical-align: middle;\n",
       "    }\n",
       "\n",
       "    .dataframe tbody tr th {\n",
       "        vertical-align: top;\n",
       "    }\n",
       "\n",
       "    .dataframe thead th {\n",
       "        text-align: right;\n",
       "    }\n",
       "</style>\n",
       "<table border=\"1\" class=\"dataframe\">\n",
       "  <thead>\n",
       "    <tr style=\"text-align: right;\">\n",
       "      <th></th>\n",
       "      <th>id</th>\n",
       "      <th>first_name</th>\n",
       "      <th>last_name</th>\n",
       "      <th>email</th>\n",
       "      <th>gender</th>\n",
       "      <th>ip_address</th>\n",
       "      <th>age</th>\n",
       "    </tr>\n",
       "  </thead>\n",
       "  <tbody>\n",
       "    <tr>\n",
       "      <th>0</th>\n",
       "      <td>1</td>\n",
       "      <td>Sukey</td>\n",
       "      <td>Acors</td>\n",
       "      <td>sacors0@reddit.com</td>\n",
       "      <td>Agender</td>\n",
       "      <td>198.109.14.17</td>\n",
       "      <td>84</td>\n",
       "    </tr>\n",
       "    <tr>\n",
       "      <th>1</th>\n",
       "      <td>2</td>\n",
       "      <td>Gradey</td>\n",
       "      <td>Antonovic</td>\n",
       "      <td>gantonovic1@harvard.edu</td>\n",
       "      <td>Non-binary</td>\n",
       "      <td>25.14.94.51</td>\n",
       "      <td>48</td>\n",
       "    </tr>\n",
       "    <tr>\n",
       "      <th>2</th>\n",
       "      <td>3</td>\n",
       "      <td>Wyatan</td>\n",
       "      <td>Core</td>\n",
       "      <td>wcore2@chronoengine.com</td>\n",
       "      <td>Female</td>\n",
       "      <td>12.192.229.101</td>\n",
       "      <td>5</td>\n",
       "    </tr>\n",
       "    <tr>\n",
       "      <th>3</th>\n",
       "      <td>4</td>\n",
       "      <td>Paco</td>\n",
       "      <td>McManus</td>\n",
       "      <td>pmcmanus3@theatlantic.com</td>\n",
       "      <td>Female</td>\n",
       "      <td>231.249.177.10</td>\n",
       "      <td>24</td>\n",
       "    </tr>\n",
       "    <tr>\n",
       "      <th>4</th>\n",
       "      <td>5</td>\n",
       "      <td>Bab</td>\n",
       "      <td>Pellant</td>\n",
       "      <td>bpellant4@google.com.br</td>\n",
       "      <td>Agender</td>\n",
       "      <td>111.96.107.182</td>\n",
       "      <td>75</td>\n",
       "    </tr>\n",
       "  </tbody>\n",
       "</table>\n",
       "</div>"
      ],
      "text/plain": [
       "   id first_name  last_name                      email      gender  \\\n",
       "0   1      Sukey      Acors         sacors0@reddit.com     Agender   \n",
       "1   2     Gradey  Antonovic    gantonovic1@harvard.edu  Non-binary   \n",
       "2   3     Wyatan       Core    wcore2@chronoengine.com      Female   \n",
       "3   4       Paco    McManus  pmcmanus3@theatlantic.com      Female   \n",
       "4   5        Bab    Pellant    bpellant4@google.com.br     Agender   \n",
       "\n",
       "       ip_address  age  \n",
       "0   198.109.14.17   84  \n",
       "1     25.14.94.51   48  \n",
       "2  12.192.229.101    5  \n",
       "3  231.249.177.10   24  \n",
       "4  111.96.107.182   75  "
      ]
     },
     "execution_count": 56,
     "metadata": {},
     "output_type": "execute_result"
    }
   ],
   "source": [
    "df.head()"
   ]
  },
  {
   "cell_type": "code",
   "execution_count": 49,
   "metadata": {},
   "outputs": [
    {
     "data": {
      "text/html": [
       "<div>\n",
       "<style scoped>\n",
       "    .dataframe tbody tr th:only-of-type {\n",
       "        vertical-align: middle;\n",
       "    }\n",
       "\n",
       "    .dataframe tbody tr th {\n",
       "        vertical-align: top;\n",
       "    }\n",
       "\n",
       "    .dataframe thead th {\n",
       "        text-align: right;\n",
       "    }\n",
       "</style>\n",
       "<table border=\"1\" class=\"dataframe\">\n",
       "  <thead>\n",
       "    <tr style=\"text-align: right;\">\n",
       "      <th></th>\n",
       "      <th>id</th>\n",
       "      <th>first_name</th>\n",
       "      <th>last_name</th>\n",
       "      <th>email</th>\n",
       "      <th>gender</th>\n",
       "      <th>ip_address</th>\n",
       "      <th>age</th>\n",
       "    </tr>\n",
       "  </thead>\n",
       "  <tbody>\n",
       "    <tr>\n",
       "      <th>7</th>\n",
       "      <td>8</td>\n",
       "      <td>Lucky</td>\n",
       "      <td>Ivashov</td>\n",
       "      <td>livashov7@jiathis.com</td>\n",
       "      <td>Male</td>\n",
       "      <td>76.165.247.197</td>\n",
       "      <td>17</td>\n",
       "    </tr>\n",
       "    <tr>\n",
       "      <th>17</th>\n",
       "      <td>18</td>\n",
       "      <td>Hans</td>\n",
       "      <td>Dorning</td>\n",
       "      <td>hdorningh@google.cn</td>\n",
       "      <td>Male</td>\n",
       "      <td>212.247.25.34</td>\n",
       "      <td>19</td>\n",
       "    </tr>\n",
       "    <tr>\n",
       "      <th>52</th>\n",
       "      <td>53</td>\n",
       "      <td>Mab</td>\n",
       "      <td>Ewert</td>\n",
       "      <td>mewert1g@bbc.co.uk</td>\n",
       "      <td>Male</td>\n",
       "      <td>23.185.217.53</td>\n",
       "      <td>65</td>\n",
       "    </tr>\n",
       "    <tr>\n",
       "      <th>64</th>\n",
       "      <td>65</td>\n",
       "      <td>Jessa</td>\n",
       "      <td>Savin</td>\n",
       "      <td>jsavin1s@mysql.com</td>\n",
       "      <td>Male</td>\n",
       "      <td>41.197.235.16</td>\n",
       "      <td>47</td>\n",
       "    </tr>\n",
       "    <tr>\n",
       "      <th>65</th>\n",
       "      <td>66</td>\n",
       "      <td>Callean</td>\n",
       "      <td>Clousley</td>\n",
       "      <td>cclousley1t@myspace.com</td>\n",
       "      <td>Male</td>\n",
       "      <td>185.213.77.60</td>\n",
       "      <td>93</td>\n",
       "    </tr>\n",
       "    <tr>\n",
       "      <th>70</th>\n",
       "      <td>71</td>\n",
       "      <td>Josiah</td>\n",
       "      <td>Demelt</td>\n",
       "      <td>jdemelt1y@discovery.com</td>\n",
       "      <td>Male</td>\n",
       "      <td>136.62.61.189</td>\n",
       "      <td>68</td>\n",
       "    </tr>\n",
       "    <tr>\n",
       "      <th>99</th>\n",
       "      <td>100</td>\n",
       "      <td>Erskine</td>\n",
       "      <td>Yesson</td>\n",
       "      <td>eyesson2r@woothemes.com</td>\n",
       "      <td>Male</td>\n",
       "      <td>226.20.17.235</td>\n",
       "      <td>82</td>\n",
       "    </tr>\n",
       "  </tbody>\n",
       "</table>\n",
       "</div>"
      ],
      "text/plain": [
       "     id first_name last_name                    email gender      ip_address  \\\n",
       "7     8      Lucky   Ivashov    livashov7@jiathis.com   Male  76.165.247.197   \n",
       "17   18       Hans   Dorning      hdorningh@google.cn   Male   212.247.25.34   \n",
       "52   53        Mab     Ewert       mewert1g@bbc.co.uk   Male   23.185.217.53   \n",
       "64   65      Jessa     Savin       jsavin1s@mysql.com   Male   41.197.235.16   \n",
       "65   66    Callean  Clousley  cclousley1t@myspace.com   Male   185.213.77.60   \n",
       "70   71     Josiah    Demelt  jdemelt1y@discovery.com   Male   136.62.61.189   \n",
       "99  100    Erskine    Yesson  eyesson2r@woothemes.com   Male   226.20.17.235   \n",
       "\n",
       "    age  \n",
       "7    17  \n",
       "17   19  \n",
       "52   65  \n",
       "64   47  \n",
       "65   93  \n",
       "70   68  \n",
       "99   82  "
      ]
     },
     "execution_count": 49,
     "metadata": {},
     "output_type": "execute_result"
    }
   ],
   "source": [
    "males = df[df.gender == \"Male\"]\n",
    "males.head(10)"
   ]
  },
  {
   "cell_type": "code",
   "execution_count": 50,
   "metadata": {},
   "outputs": [
    {
     "data": {
      "text/html": [
       "<div>\n",
       "<style scoped>\n",
       "    .dataframe tbody tr th:only-of-type {\n",
       "        vertical-align: middle;\n",
       "    }\n",
       "\n",
       "    .dataframe tbody tr th {\n",
       "        vertical-align: top;\n",
       "    }\n",
       "\n",
       "    .dataframe thead th {\n",
       "        text-align: right;\n",
       "    }\n",
       "</style>\n",
       "<table border=\"1\" class=\"dataframe\">\n",
       "  <thead>\n",
       "    <tr style=\"text-align: right;\">\n",
       "      <th></th>\n",
       "      <th>id</th>\n",
       "      <th>first_name</th>\n",
       "      <th>last_name</th>\n",
       "      <th>email</th>\n",
       "      <th>gender</th>\n",
       "      <th>ip_address</th>\n",
       "      <th>age</th>\n",
       "    </tr>\n",
       "  </thead>\n",
       "  <tbody>\n",
       "    <tr>\n",
       "      <th>17</th>\n",
       "      <td>18</td>\n",
       "      <td>Hans</td>\n",
       "      <td>Dorning</td>\n",
       "      <td>hdorningh@google.cn</td>\n",
       "      <td>Male</td>\n",
       "      <td>212.247.25.34</td>\n",
       "      <td>19</td>\n",
       "    </tr>\n",
       "    <tr>\n",
       "      <th>52</th>\n",
       "      <td>53</td>\n",
       "      <td>Mab</td>\n",
       "      <td>Ewert</td>\n",
       "      <td>mewert1g@bbc.co.uk</td>\n",
       "      <td>Male</td>\n",
       "      <td>23.185.217.53</td>\n",
       "      <td>65</td>\n",
       "    </tr>\n",
       "    <tr>\n",
       "      <th>64</th>\n",
       "      <td>65</td>\n",
       "      <td>Jessa</td>\n",
       "      <td>Savin</td>\n",
       "      <td>jsavin1s@mysql.com</td>\n",
       "      <td>Male</td>\n",
       "      <td>41.197.235.16</td>\n",
       "      <td>47</td>\n",
       "    </tr>\n",
       "    <tr>\n",
       "      <th>65</th>\n",
       "      <td>66</td>\n",
       "      <td>Callean</td>\n",
       "      <td>Clousley</td>\n",
       "      <td>cclousley1t@myspace.com</td>\n",
       "      <td>Male</td>\n",
       "      <td>185.213.77.60</td>\n",
       "      <td>93</td>\n",
       "    </tr>\n",
       "    <tr>\n",
       "      <th>70</th>\n",
       "      <td>71</td>\n",
       "      <td>Josiah</td>\n",
       "      <td>Demelt</td>\n",
       "      <td>jdemelt1y@discovery.com</td>\n",
       "      <td>Male</td>\n",
       "      <td>136.62.61.189</td>\n",
       "      <td>68</td>\n",
       "    </tr>\n",
       "  </tbody>\n",
       "</table>\n",
       "</div>"
      ],
      "text/plain": [
       "    id first_name last_name                    email gender     ip_address  \\\n",
       "17  18       Hans   Dorning      hdorningh@google.cn   Male  212.247.25.34   \n",
       "52  53        Mab     Ewert       mewert1g@bbc.co.uk   Male  23.185.217.53   \n",
       "64  65      Jessa     Savin       jsavin1s@mysql.com   Male  41.197.235.16   \n",
       "65  66    Callean  Clousley  cclousley1t@myspace.com   Male  185.213.77.60   \n",
       "70  71     Josiah    Demelt  jdemelt1y@discovery.com   Male  136.62.61.189   \n",
       "\n",
       "    age  \n",
       "17   19  \n",
       "52   65  \n",
       "64   47  \n",
       "65   93  \n",
       "70   68  "
      ]
     },
     "execution_count": 50,
     "metadata": {},
     "output_type": "execute_result"
    }
   ],
   "source": [
    "adult_males = df[(df.gender == \"Male\") & (df.age > 18)]\n",
    "adult_males.head()"
   ]
  },
  {
   "cell_type": "code",
   "execution_count": null,
   "metadata": {},
   "outputs": [],
   "source": [
    "data_from_json[:5]"
   ]
  },
  {
   "cell_type": "code",
   "execution_count": 52,
   "metadata": {},
   "outputs": [
    {
     "data": {
      "text/plain": [
       "[{'id': 1,\n",
       "  'first_name': 'Dannel',\n",
       "  'last_name': 'Imlin',\n",
       "  'email': 'dimlin0@pinterest.com',\n",
       "  'gender': 'Bigender',\n",
       "  'ip_address': '110.111.108.124',\n",
       "  'age': 76},\n",
       " {'id': 2,\n",
       "  'first_name': 'Ravid',\n",
       "  'last_name': 'Deniseau',\n",
       "  'email': 'rdeniseau1@webmd.com',\n",
       "  'gender': 'Female',\n",
       "  'ip_address': '236.177.156.163',\n",
       "  'age': 58},\n",
       " {'id': 3,\n",
       "  'first_name': 'Kristy',\n",
       "  'last_name': 'Rambaut',\n",
       "  'email': 'krambaut2@cafepress.com',\n",
       "  'gender': 'Polygender',\n",
       "  'ip_address': '47.134.70.216',\n",
       "  'age': 22}]"
      ]
     },
     "execution_count": 52,
     "metadata": {},
     "output_type": "execute_result"
    }
   ],
   "source": [
    "myjson = data_from_json # just an alias\n",
    "myjson[:3]"
   ]
  },
  {
   "cell_type": "code",
   "execution_count": 54,
   "metadata": {},
   "outputs": [
    {
     "data": {
      "text/plain": [
       "[{'id': 14,\n",
       "  'first_name': 'Scotti',\n",
       "  'last_name': 'Daish',\n",
       "  'email': 'sdaishd@amazon.co.jp',\n",
       "  'gender': 'Non-binary',\n",
       "  'ip_address': '193.246.96.158',\n",
       "  'age': 82},\n",
       " {'id': 20,\n",
       "  'first_name': 'Shel',\n",
       "  'last_name': 'Story',\n",
       "  'email': 'sstoryj@rakuten.co.jp',\n",
       "  'gender': 'Genderfluid',\n",
       "  'ip_address': '111.56.9.187',\n",
       "  'age': 7},\n",
       " {'id': 34,\n",
       "  'first_name': 'Carola',\n",
       "  'last_name': 'Mewitt',\n",
       "  'email': 'cmewittx@rakuten.co.jp',\n",
       "  'gender': 'Genderfluid',\n",
       "  'ip_address': '77.39.231.94',\n",
       "  'age': 10},\n",
       " {'id': 58,\n",
       "  'first_name': 'Phaedra',\n",
       "  'last_name': 'Sadler',\n",
       "  'email': 'psadler1l@so-net.ne.jp',\n",
       "  'gender': 'Male',\n",
       "  'ip_address': '248.59.57.162',\n",
       "  'age': 64},\n",
       " {'id': 71,\n",
       "  'first_name': 'Nike',\n",
       "  'last_name': 'Reddlesden',\n",
       "  'email': 'nreddlesden1y@jugem.jp',\n",
       "  'gender': 'Bigender',\n",
       "  'ip_address': '163.139.254.38',\n",
       "  'age': 73}]"
      ]
     },
     "execution_count": 54,
     "metadata": {},
     "output_type": "execute_result"
    }
   ],
   "source": [
    "japanese = [person for person in myjson if person.get('email',\"\").endswith('.jp')]\n",
    "# potentially person.get('email') could return None then .endswith('.jp') would fail with error\n",
    "japanese"
   ]
  },
  {
   "cell_type": "code",
   "execution_count": 61,
   "metadata": {},
   "outputs": [
    {
     "data": {
      "text/plain": [
       "[]"
      ]
     },
     "execution_count": 61,
     "metadata": {},
     "output_type": "execute_result"
    }
   ],
   "source": [
    "japanese_men = [p for p in japanese if p.get('gender') == \"Male\"]\n",
    "# potentially person.get('email') could return None then .endswith('.jp') would fail with error\n",
    "japanese_men"
   ]
  },
  {
   "cell_type": "code",
   "execution_count": 55,
   "metadata": {},
   "outputs": [
    {
     "data": {
      "text/plain": [
       "[{'id': 33,\n",
       "  'first_name': 'Byrom',\n",
       "  'last_name': 'Aujouanet',\n",
       "  'email': 'baujouanetw@ox.ac.uk',\n",
       "  'gender': 'Genderqueer',\n",
       "  'ip_address': '142.77.125.197',\n",
       "  'age': 73},\n",
       " {'id': 37,\n",
       "  'first_name': 'Kaylil',\n",
       "  'last_name': 'Phippen',\n",
       "  'email': 'kphippen10@guardian.co.uk',\n",
       "  'gender': 'Non-binary',\n",
       "  'ip_address': '55.72.113.162',\n",
       "  'age': 23},\n",
       " {'id': 64,\n",
       "  'first_name': 'Geno',\n",
       "  'last_name': 'Reggiani',\n",
       "  'email': 'greggiani1r@cam.ac.uk',\n",
       "  'gender': 'Male',\n",
       "  'ip_address': '38.168.48.53',\n",
       "  'age': 16},\n",
       " {'id': 67,\n",
       "  'first_name': 'Lana',\n",
       "  'last_name': 'Ambrus',\n",
       "  'email': 'lambrus1u@123-reg.co.uk',\n",
       "  'gender': 'Genderfluid',\n",
       "  'ip_address': '246.2.220.2',\n",
       "  'age': 52},\n",
       " {'id': 78,\n",
       "  'first_name': 'Dew',\n",
       "  'last_name': 'Soar',\n",
       "  'email': 'dsoar25@ox.ac.uk',\n",
       "  'gender': 'Bigender',\n",
       "  'ip_address': '178.162.140.225',\n",
       "  'age': 99},\n",
       " {'id': 88,\n",
       "  'first_name': 'Gradey',\n",
       "  'last_name': 'Manueli',\n",
       "  'email': 'gmanueli2f@ox.ac.uk',\n",
       "  'gender': 'Bigender',\n",
       "  'ip_address': '240.91.51.47',\n",
       "  'age': 22}]"
      ]
     },
     "execution_count": 55,
     "metadata": {},
     "output_type": "execute_result"
    }
   ],
   "source": [
    "uk = [person for person in myjson if person.get('email',\"\").endswith('.uk')]\n",
    "uk"
   ]
  },
  {
   "cell_type": "code",
   "execution_count": 58,
   "metadata": {},
   "outputs": [
    {
     "data": {
      "text/plain": [
       "[('Byrom', 'baujouanetw@ox.ac.uk', None, 73),\n",
       " ('Kaylil', 'kphippen10@guardian.co.uk', None, 23),\n",
       " ('Geno', 'greggiani1r@cam.ac.uk', None, 16),\n",
       " ('Lana', 'lambrus1u@123-reg.co.uk', None, 52),\n",
       " ('Dew', 'dsoar25@ox.ac.uk', None, 99),\n",
       " ('Gradey', 'gmanueli2f@ox.ac.uk', None, 22)]"
      ]
     },
     "execution_count": 58,
     "metadata": {},
     "output_type": "execute_result"
    }
   ],
   "source": [
    "uk_ages = [(person.get('first_name'),person.get('email'), person.get('sports'), int(person.get('age'))) for person in uk]\n",
    "uk_ages # noone plays sports in uk...."
   ]
  },
  {
   "cell_type": "code",
   "execution_count": 59,
   "metadata": {},
   "outputs": [],
   "source": [
    "with open(\"uk_ages.json\", mode=\"w\") as fstream:\n",
    "    json.dump(uk_ages, fstream, indent=4)"
   ]
  },
  {
   "cell_type": "code",
   "execution_count": null,
   "metadata": {},
   "outputs": [],
   "source": [
    "uk_ages"
   ]
  },
  {
   "cell_type": "code",
   "execution_count": 60,
   "metadata": {},
   "outputs": [
    {
     "data": {
      "text/plain": [
       "[['Byrom', 'baujouanetw@ox.ac.uk', None, 73],\n",
       " ['Kaylil', 'kphippen10@guardian.co.uk', None, 23],\n",
       " ['Geno', 'greggiani1r@cam.ac.uk', None, 16],\n",
       " ['Lana', 'lambrus1u@123-reg.co.uk', None, 52],\n",
       " ['Dew', 'dsoar25@ox.ac.uk', None, 99],\n",
       " ['Gradey', 'gmanueli2f@ox.ac.uk', None, 22]]"
      ]
     },
     "execution_count": 60,
     "metadata": {},
     "output_type": "execute_result"
    }
   ],
   "source": [
    "# so we lose the tuple designed when writing to JSON and back\n",
    "with open(\"uk_ages.json\") as fstream:\n",
    "    uk_data = json.load(fstream)\n",
    "uk_data"
   ]
  },
  {
   "cell_type": "code",
   "execution_count": null,
   "metadata": {},
   "outputs": [],
   "source": [
    "with open(\"jp_ages.json\", mode=\"w\") as fstream:\n",
    "    json.dump(jp_ages, fstream, indent=4)"
   ]
  },
  {
   "cell_type": "code",
   "execution_count": null,
   "metadata": {},
   "outputs": [],
   "source": []
  },
  {
   "cell_type": "code",
   "execution_count": null,
   "metadata": {},
   "outputs": [],
   "source": [
    "type(mydata)"
   ]
  },
  {
   "cell_type": "code",
   "execution_count": null,
   "metadata": {},
   "outputs": [],
   "source": [
    "json_string = my_json_string # just an alias\n",
    "json_string"
   ]
  },
  {
   "cell_type": "code",
   "execution_count": null,
   "metadata": {
    "scrolled": true
   },
   "outputs": [],
   "source": [
    "type(json_string)"
   ]
  },
  {
   "cell_type": "code",
   "execution_count": null,
   "metadata": {},
   "outputs": [],
   "source": [
    "type(mydata)"
   ]
  },
  {
   "cell_type": "code",
   "execution_count": null,
   "metadata": {},
   "outputs": [],
   "source": [
    "# Convert Json_string back to our Python Object\n",
    "my_obj = json.loads(json_string)\n",
    "my_obj"
   ]
  },
  {
   "cell_type": "code",
   "execution_count": null,
   "metadata": {},
   "outputs": [],
   "source": [
    "my_obj.get('firstName')"
   ]
  },
  {
   "cell_type": "code",
   "execution_count": null,
   "metadata": {},
   "outputs": [],
   "source": [
    "mydata"
   ]
  },
  {
   "cell_type": "code",
   "execution_count": null,
   "metadata": {},
   "outputs": [],
   "source": [
    "newlist = json.loads('[1,3,5,\"Valdis\"]')\n",
    "newlist"
   ]
  },
  {
   "cell_type": "code",
   "execution_count": null,
   "metadata": {},
   "outputs": [],
   "source": [
    "type(newlist)"
   ]
  },
  {
   "cell_type": "code",
   "execution_count": null,
   "metadata": {},
   "outputs": [],
   "source": [
    "badlist = json.loads('[1,3,5,\"Vald]\",334342]')\n",
    "badlist"
   ]
  },
  {
   "cell_type": "code",
   "execution_count": null,
   "metadata": {},
   "outputs": [],
   "source": []
  },
  {
   "cell_type": "code",
   "execution_count": null,
   "metadata": {},
   "outputs": [],
   "source": [
    "type(json_string)"
   ]
  },
  {
   "cell_type": "code",
   "execution_count": null,
   "metadata": {},
   "outputs": [],
   "source": [
    "# Avove example JSON and Python object have the same syntax but there are some differences"
   ]
  },
  {
   "cell_type": "markdown",
   "metadata": {},
   "source": [
    "![object](../img/object.png)"
   ]
  },
  {
   "cell_type": "markdown",
   "metadata": {},
   "source": [
    "![Array](../img/array.png)"
   ]
  },
  {
   "cell_type": "markdown",
   "metadata": {},
   "source": [
    "![Value](../img/value.png)"
   ]
  },
  {
   "cell_type": "markdown",
   "metadata": {},
   "source": [
    "Simple Python objects are translated to JSON according to a fairly intuitive conversion.\n",
    "\n",
    "Python\tJSON\n",
    "\n",
    "dict <->\tobject\n",
    "\n",
    "list, tuple <->\tarray\n",
    "\n",
    "str\t<-> string\n",
    "\n",
    "int, float\t<-> number\n",
    "\n",
    "True <->true\n",
    "\n",
    "False <->false\n",
    "\n",
    "None <->\tnull"
   ]
  },
  {
   "cell_type": "markdown",
   "metadata": {},
   "source": [
    "Keep in mind that the result of this method could return any of the allowed data types from the conversion table. This is only important if you’re loading in data you haven’t seen before. In most cases, the root object will be a dict or a list."
   ]
  },
  {
   "cell_type": "markdown",
   "metadata": {},
   "source": [
    "If you've gotten JSON data in from another program or have otherwise obtained a string of JSON formatted data in Python, you can easily deserialize that with loads(), which naturally loads from a string:"
   ]
  },
  {
   "cell_type": "code",
   "execution_count": null,
   "metadata": {},
   "outputs": [],
   "source": [
    "json_string = \"\"\"\n",
    "{\n",
    "    \"researcher\": {\n",
    "        \"name\": \"Ford Prefect\",\n",
    "        \"species\": \"Betelgeusian\",\n",
    "        \"relatives\": [\n",
    "            {\n",
    "                \"name\": \"Zaphod Beeblebrox\",\n",
    "                \"species\": \"Betelgeusian\"\n",
    "            }\n",
    "        ]\n",
    "    }\n",
    "}\n",
    "\"\"\"\n",
    "data = json.loads(json_string)\n",
    "data"
   ]
  },
  {
   "cell_type": "code",
   "execution_count": null,
   "metadata": {},
   "outputs": [],
   "source": [
    "# get value of relative's name\n",
    "data['researcher']"
   ]
  },
  {
   "cell_type": "code",
   "execution_count": null,
   "metadata": {},
   "outputs": [],
   "source": [
    "# get value of relative's name\n",
    "data['researcher']['relatives']"
   ]
  },
  {
   "cell_type": "code",
   "execution_count": null,
   "metadata": {},
   "outputs": [],
   "source": [
    "# get value of relative's name\n",
    "data['researcher']['relatives'][0]"
   ]
  },
  {
   "cell_type": "code",
   "execution_count": null,
   "metadata": {},
   "outputs": [],
   "source": [
    "# get value of relative's name\n",
    "data['researcher']['relatives'][0]['name']"
   ]
  },
  {
   "cell_type": "code",
   "execution_count": null,
   "metadata": {},
   "outputs": [],
   "source": [
    "data['researcher']['relatives'][0]['name'].split()[0]"
   ]
  },
  {
   "cell_type": "code",
   "execution_count": null,
   "metadata": {},
   "outputs": [],
   "source": [
    "data['researcher']['relatives'][0]['name'].split()[0][:4]"
   ]
  },
  {
   "cell_type": "code",
   "execution_count": null,
   "metadata": {},
   "outputs": [],
   "source": [
    "type(data)"
   ]
  },
  {
   "cell_type": "code",
   "execution_count": null,
   "metadata": {},
   "outputs": [],
   "source": [
    "import json\n",
    "import requests"
   ]
  },
  {
   "cell_type": "code",
   "execution_count": null,
   "metadata": {},
   "outputs": [],
   "source": [
    "## Lets get some data https://jsonplaceholder.typicode.com/"
   ]
  },
  {
   "cell_type": "code",
   "execution_count": 66,
   "metadata": {},
   "outputs": [
    {
     "name": "stdout",
     "output_type": "stream",
     "text": [
      "200\n"
     ]
    }
   ],
   "source": [
    "response = requests.get(\"https://jsonplaceholder.typicode.com/todos\")\n",
    "if response.status_code != 200:\n",
    "    print(\"Bad Response: \", response.status_code)\n",
    "print(response.status_code)\n",
    "todos = json.loads(response.text)\n"
   ]
  },
  {
   "cell_type": "markdown",
   "metadata": {},
   "source": [
    "can open https://jsonplaceholder.typicode.com/todos in regular browser too.."
   ]
  },
  {
   "cell_type": "code",
   "execution_count": 67,
   "metadata": {},
   "outputs": [
    {
     "data": {
      "text/plain": [
       "list"
      ]
     },
     "execution_count": 67,
     "metadata": {},
     "output_type": "execute_result"
    }
   ],
   "source": [
    "type(todos)"
   ]
  },
  {
   "cell_type": "code",
   "execution_count": 68,
   "metadata": {},
   "outputs": [
    {
     "data": {
      "text/plain": [
       "200"
      ]
     },
     "execution_count": 68,
     "metadata": {},
     "output_type": "execute_result"
    }
   ],
   "source": [
    "len(todos)"
   ]
  },
  {
   "cell_type": "code",
   "execution_count": 69,
   "metadata": {},
   "outputs": [
    {
     "data": {
      "text/plain": [
       "[{'userId': 1, 'id': 1, 'title': 'delectus aut autem', 'completed': False},\n",
       " {'userId': 1,\n",
       "  'id': 2,\n",
       "  'title': 'quis ut nam facilis et officia qui',\n",
       "  'completed': False},\n",
       " {'userId': 1, 'id': 3, 'title': 'fugiat veniam minus', 'completed': False},\n",
       " {'userId': 1, 'id': 4, 'title': 'et porro tempora', 'completed': True},\n",
       " {'userId': 1,\n",
       "  'id': 5,\n",
       "  'title': 'laboriosam mollitia et enim quasi adipisci quia provident illum',\n",
       "  'completed': False},\n",
       " {'userId': 1,\n",
       "  'id': 6,\n",
       "  'title': 'qui ullam ratione quibusdam voluptatem quia omnis',\n",
       "  'completed': False},\n",
       " {'userId': 1,\n",
       "  'id': 7,\n",
       "  'title': 'illo expedita consequatur quia in',\n",
       "  'completed': False},\n",
       " {'userId': 1,\n",
       "  'id': 8,\n",
       "  'title': 'quo adipisci enim quam ut ab',\n",
       "  'completed': True},\n",
       " {'userId': 1,\n",
       "  'id': 9,\n",
       "  'title': 'molestiae perspiciatis ipsa',\n",
       "  'completed': False},\n",
       " {'userId': 1,\n",
       "  'id': 10,\n",
       "  'title': 'illo est ratione doloremque quia maiores aut',\n",
       "  'completed': True}]"
      ]
     },
     "execution_count": 69,
     "metadata": {},
     "output_type": "execute_result"
    }
   ],
   "source": [
    "todos[:10]"
   ]
  },
  {
   "cell_type": "code",
   "execution_count": 70,
   "metadata": {},
   "outputs": [
    {
     "data": {
      "text/plain": [
       "90"
      ]
     },
     "execution_count": 70,
     "metadata": {},
     "output_type": "execute_result"
    }
   ],
   "source": [
    "# completedworks = [el for el in todos if el['completed'] == True]\n",
    "completedworks = [el for el in todos if el.get('completed') == True]\n",
    "len(completedworks)"
   ]
  },
  {
   "cell_type": "code",
   "execution_count": 71,
   "metadata": {},
   "outputs": [
    {
     "data": {
      "text/plain": [
       "[{'userId': 10, 'id': 188, 'title': 'vel non beatae est', 'completed': True},\n",
       " {'userId': 10,\n",
       "  'id': 189,\n",
       "  'title': 'culpa eius et voluptatem et',\n",
       "  'completed': True},\n",
       " {'userId': 10,\n",
       "  'id': 190,\n",
       "  'title': 'accusamus sint iusto et voluptatem exercitationem',\n",
       "  'completed': True},\n",
       " {'userId': 10,\n",
       "  'id': 191,\n",
       "  'title': 'temporibus atque distinctio omnis eius impedit tempore molestias pariatur',\n",
       "  'completed': True},\n",
       " {'userId': 10,\n",
       "  'id': 193,\n",
       "  'title': 'rerum debitis voluptatem qui eveniet tempora distinctio a',\n",
       "  'completed': True},\n",
       " {'userId': 10,\n",
       "  'id': 195,\n",
       "  'title': 'rerum ex veniam mollitia voluptatibus pariatur',\n",
       "  'completed': True},\n",
       " {'userId': 10,\n",
       "  'id': 196,\n",
       "  'title': 'consequuntur aut ut fugit similique',\n",
       "  'completed': True},\n",
       " {'userId': 10,\n",
       "  'id': 197,\n",
       "  'title': 'dignissimos quo nobis earum saepe',\n",
       "  'completed': True},\n",
       " {'userId': 10,\n",
       "  'id': 198,\n",
       "  'title': 'quis eius est sint explicabo',\n",
       "  'completed': True},\n",
       " {'userId': 10,\n",
       "  'id': 199,\n",
       "  'title': 'numquam repellendus a magnam',\n",
       "  'completed': True}]"
      ]
     },
     "execution_count": 71,
     "metadata": {},
     "output_type": "execute_result"
    }
   ],
   "source": [
    "completedworks[-10:]"
   ]
  },
  {
   "cell_type": "code",
   "execution_count": null,
   "metadata": {},
   "outputs": [],
   "source": [
    "type(completedworks)"
   ]
  },
  {
   "cell_type": "code",
   "execution_count": 72,
   "metadata": {},
   "outputs": [
    {
     "data": {
      "text/plain": [
       "{1: 11, 2: 8, 3: 7, 4: 6, 5: 12, 6: 6, 7: 9, 8: 11, 9: 8, 10: 12}"
      ]
     },
     "execution_count": 72,
     "metadata": {},
     "output_type": "execute_result"
    }
   ],
   "source": [
    "users = {}\n",
    "for el in completedworks:\n",
    "    k = el['userId']\n",
    "    if k in users:\n",
    "        users[k] +=1\n",
    "    else:\n",
    "        users[k] = 1\n",
    "users"
   ]
  },
  {
   "cell_type": "code",
   "execution_count": 73,
   "metadata": {},
   "outputs": [
    {
     "data": {
      "text/plain": [
       "dict_items([(1, 11), (2, 8), (3, 7), (4, 6), (5, 12), (6, 6), (7, 9), (8, 11), (9, 8), (10, 12)])"
      ]
     },
     "execution_count": 73,
     "metadata": {},
     "output_type": "execute_result"
    }
   ],
   "source": [
    "users.items()"
   ]
  },
  {
   "cell_type": "code",
   "execution_count": 74,
   "metadata": {},
   "outputs": [
    {
     "data": {
      "text/plain": [
       "[(5, 12),\n",
       " (10, 12),\n",
       " (1, 11),\n",
       " (8, 11),\n",
       " (7, 9),\n",
       " (2, 8),\n",
       " (9, 8),\n",
       " (3, 7),\n",
       " (4, 6),\n",
       " (6, 6)]"
      ]
     },
     "execution_count": 74,
     "metadata": {},
     "output_type": "execute_result"
    }
   ],
   "source": [
    "sorted(users.items(),key = lambda el: el[1], reverse=True)"
   ]
  },
  {
   "cell_type": "code",
   "execution_count": 75,
   "metadata": {},
   "outputs": [],
   "source": [
    "# much simpler to use Counter\n",
    "from collections import Counter"
   ]
  },
  {
   "cell_type": "code",
   "execution_count": null,
   "metadata": {},
   "outputs": [],
   "source": [
    "[el['userId'] for el in completedworks]"
   ]
  },
  {
   "cell_type": "code",
   "execution_count": 76,
   "metadata": {},
   "outputs": [
    {
     "data": {
      "text/plain": [
       "[(5, 12),\n",
       " (10, 12),\n",
       " (1, 11),\n",
       " (8, 11),\n",
       " (7, 9),\n",
       " (2, 8),\n",
       " (9, 8),\n",
       " (3, 7),\n",
       " (4, 6),\n",
       " (6, 6)]"
      ]
     },
     "execution_count": 76,
     "metadata": {},
     "output_type": "execute_result"
    }
   ],
   "source": [
    "count = Counter([el['userId'] for el in completedworks])\n",
    "count.most_common()"
   ]
  },
  {
   "cell_type": "code",
   "execution_count": null,
   "metadata": {},
   "outputs": [],
   "source": [
    "todos[:2]"
   ]
  },
  {
   "cell_type": "code",
   "execution_count": 77,
   "metadata": {},
   "outputs": [
    {
     "data": {
      "text/plain": [
       "[(5, 12),\n",
       " (10, 12),\n",
       " (1, 11),\n",
       " (8, 11),\n",
       " (7, 9),\n",
       " (2, 8),\n",
       " (9, 8),\n",
       " (3, 7),\n",
       " (4, 6),\n",
       " (6, 6)]"
      ]
     },
     "execution_count": 77,
     "metadata": {},
     "output_type": "execute_result"
    }
   ],
   "source": [
    "# lets do everything at once\n",
    "finishedcount = Counter([el.get('userId') for el in todos if el.get('completed') == True])\n",
    "finishedcount.most_common()"
   ]
  },
  {
   "cell_type": "code",
   "execution_count": 78,
   "metadata": {},
   "outputs": [],
   "source": [
    "import matplotlib.pyplot as plt"
   ]
  },
  {
   "cell_type": "code",
   "execution_count": 79,
   "metadata": {},
   "outputs": [
    {
     "data": {
      "image/png": "[encoded data removed]",
      "text/plain": [
       "<Figure size 432x288 with 1 Axes>"
      ]
     },
     "metadata": {
      "needs_background": "light"
     },
     "output_type": "display_data"
    }
   ],
   "source": [
    "plt.bar(finishedcount.keys(), finishedcount.values())\n",
    "plt.show()"
   ]
  },
  {
   "cell_type": "code",
   "execution_count": null,
   "metadata": {},
   "outputs": [],
   "source": [
    "todos[-3:]"
   ]
  },
  {
   "cell_type": "code",
   "execution_count": null,
   "metadata": {},
   "outputs": [],
   "source": [
    "[1,2] + [3,4,6,6]"
   ]
  },
  {
   "cell_type": "code",
   "execution_count": null,
   "metadata": {},
   "outputs": [],
   "source": [
    "todos += [{'completed':True},{'completed':True},{'completed':True},{'completed':True}]\n",
    "todos[-5:]"
   ]
  },
  {
   "cell_type": "code",
   "execution_count": null,
   "metadata": {},
   "outputs": [],
   "source": [
    "# lets do everything at once\n",
    "finishedcount = Counter([el.get('userId') for el in todos if el.get('completed') == True])\n",
    "finishedcount.most_common()"
   ]
  },
  {
   "cell_type": "code",
   "execution_count": null,
   "metadata": {},
   "outputs": [],
   "source": [
    "myl = [('Valdis', 40), ('Alice',35), ('Bob', 23),('Carol',70)]"
   ]
  },
  {
   "cell_type": "code",
   "execution_count": null,
   "metadata": {},
   "outputs": [],
   "source": [
    "# Lambda = anonymous function"
   ]
  },
  {
   "cell_type": "code",
   "execution_count": null,
   "metadata": {},
   "outputs": [],
   "source": [
    "def myfun(el):\n",
    "    return el[1]\n",
    "# same as myfun = lambda el: el[1]"
   ]
  },
  {
   "cell_type": "code",
   "execution_count": null,
   "metadata": {},
   "outputs": [],
   "source": [
    "sorted(myl, key = lambda el: el[1], reverse=True)"
   ]
  },
  {
   "cell_type": "code",
   "execution_count": null,
   "metadata": {},
   "outputs": [],
   "source": [
    "# Exercise find out top 3 users with most tasks completed!\n",
    "\n",
    "# TIPS\n",
    "# we need some sort of structure to store these user results before finding out top 3\n",
    "# at least two good data structure choices here :)\n",
    "# here the simplest might actually be the best if we consider userId values\n"
   ]
  },
  {
   "cell_type": "code",
   "execution_count": null,
   "metadata": {},
   "outputs": [],
   "source": [
    "todos[0]"
   ]
  },
  {
   "cell_type": "code",
   "execution_count": null,
   "metadata": {},
   "outputs": [],
   "source": [
    "todos[0]['userId']"
   ]
  },
  {
   "cell_type": "code",
   "execution_count": null,
   "metadata": {},
   "outputs": [],
   "source": [
    "todos[0]['completed']"
   ]
  },
  {
   "cell_type": "code",
   "execution_count": null,
   "metadata": {},
   "outputs": [],
   "source": [
    "# Here we create a new dictionary and and count the completed works by id\n",
    "newdict = {}\n",
    "for todo in todos:\n",
    "    if todo['completed'] == True:\n",
    "        if todo['userId'] in newdict:\n",
    "            newdict[todo['userId']] += 1\n",
    "        else:\n",
    "            newdict[todo['userId']] = 1"
   ]
  },
  {
   "cell_type": "code",
   "execution_count": null,
   "metadata": {},
   "outputs": [],
   "source": [
    "newdict"
   ]
  },
  {
   "cell_type": "code",
   "execution_count": null,
   "metadata": {},
   "outputs": [],
   "source": [
    "sorted(newdict.items())"
   ]
  },
  {
   "cell_type": "code",
   "execution_count": null,
   "metadata": {},
   "outputs": [],
   "source": [
    "bestworkers = sorted(newdict.items(), key=lambda el: el[1], reverse=True)\n",
    "bestworkers[:3]"
   ]
  },
  {
   "cell_type": "code",
   "execution_count": null,
   "metadata": {},
   "outputs": [],
   "source": [
    "users = [ el['userId'] for el in todos]\n",
    "len(users),users[:15]"
   ]
  },
  {
   "cell_type": "code",
   "execution_count": null,
   "metadata": {},
   "outputs": [],
   "source": [
    "uniqusers = set(users)\n",
    "uniqusers"
   ]
  },
  {
   "cell_type": "code",
   "execution_count": null,
   "metadata": {},
   "outputs": [],
   "source": [
    "# dictionary comprehension but could live without one\n",
    "users = { el['userId'] : 0 for el in todos} "
   ]
  },
  {
   "cell_type": "code",
   "execution_count": null,
   "metadata": {},
   "outputs": [],
   "source": [
    "users"
   ]
  },
  {
   "cell_type": "code",
   "execution_count": null,
   "metadata": {},
   "outputs": [],
   "source": [
    "users.keys()"
   ]
  },
  {
   "cell_type": "code",
   "execution_count": null,
   "metadata": {},
   "outputs": [],
   "source": [
    "users.value"
   ]
  },
  {
   "cell_type": "code",
   "execution_count": null,
   "metadata": {},
   "outputs": [],
   "source": [
    "#{'completed': True,\n",
    "# 'id': 8,\n",
    "#  'title': 'quo adipisci enim quam ut ab',\n",
    "#  'userId': 1}"
   ]
  },
  {
   "cell_type": "code",
   "execution_count": null,
   "metadata": {},
   "outputs": [],
   "source": []
  },
  {
   "cell_type": "code",
   "execution_count": null,
   "metadata": {},
   "outputs": [],
   "source": [
    "#idiomatic\n",
    "for el in todos:\n",
    "    users[el['userId']] += el['completed'] # Boolean False is 0 True is 1 obviously this might not be too readable"
   ]
  },
  {
   "cell_type": "code",
   "execution_count": null,
   "metadata": {},
   "outputs": [],
   "source": [
    "# same as above could be useful in more complicated cases\n",
    "for el in todos:\n",
    "    if el['completed'] == True:\n",
    "        users[el['userId']] += 1"
   ]
  },
  {
   "cell_type": "code",
   "execution_count": null,
   "metadata": {},
   "outputs": [],
   "source": [
    "# there could be a one liner or a solution with from collections import Counter"
   ]
  },
  {
   "cell_type": "code",
   "execution_count": null,
   "metadata": {},
   "outputs": [],
   "source": [
    "users.items()"
   ]
  },
  {
   "cell_type": "code",
   "execution_count": null,
   "metadata": {},
   "outputs": [],
   "source": [
    "list(users.items())"
   ]
  },
  {
   "cell_type": "code",
   "execution_count": null,
   "metadata": {},
   "outputs": [],
   "source": [
    "userlist=list(users.items())"
   ]
  },
  {
   "cell_type": "code",
   "execution_count": null,
   "metadata": {},
   "outputs": [],
   "source": [
    "type(userlist[0])"
   ]
  },
  {
   "cell_type": "code",
   "execution_count": null,
   "metadata": {},
   "outputs": [],
   "source": [
    "# we pass a key anonymous(lambda) function\n",
    "sorted(userlist, key=lambda el: el[1], reverse=True)[:3]"
   ]
  },
  {
   "cell_type": "code",
   "execution_count": null,
   "metadata": {},
   "outputs": [],
   "source": [
    "# lets try a simple way"
   ]
  },
  {
   "cell_type": "code",
   "execution_count": null,
   "metadata": {},
   "outputs": [],
   "source": [
    "mylist=[0]\n",
    "mylist*=11"
   ]
  },
  {
   "cell_type": "code",
   "execution_count": null,
   "metadata": {},
   "outputs": [],
   "source": [
    "for el in todos:\n",
    "    if el['completed'] == True:\n",
    "        mylist[el['userId']] +=1"
   ]
  },
  {
   "cell_type": "code",
   "execution_count": null,
   "metadata": {},
   "outputs": [],
   "source": [
    "mylist"
   ]
  },
  {
   "cell_type": "code",
   "execution_count": null,
   "metadata": {},
   "outputs": [],
   "source": [
    "mylist.index(max(mylist))"
   ]
  },
  {
   "cell_type": "code",
   "execution_count": null,
   "metadata": {},
   "outputs": [],
   "source": [
    "# kind of hard to get more values need to get tricky"
   ]
  },
  {
   "cell_type": "markdown",
   "metadata": {},
   "source": [
    "# How about Pandas and Json ?"
   ]
  },
  {
   "cell_type": "code",
   "execution_count": 80,
   "metadata": {},
   "outputs": [],
   "source": [
    "import pandas as pd"
   ]
  },
  {
   "cell_type": "code",
   "execution_count": 61,
   "metadata": {},
   "outputs": [],
   "source": [
    "df = pd.read_json('https://jsonplaceholder.typicode.com/todos') # SO THIS ACCESSes THE url"
   ]
  },
  {
   "cell_type": "code",
   "execution_count": 62,
   "metadata": {},
   "outputs": [
    {
     "data": {
      "text/html": [
       "<div>\n",
       "<style scoped>\n",
       "    .dataframe tbody tr th:only-of-type {\n",
       "        vertical-align: middle;\n",
       "    }\n",
       "\n",
       "    .dataframe tbody tr th {\n",
       "        vertical-align: top;\n",
       "    }\n",
       "\n",
       "    .dataframe thead th {\n",
       "        text-align: right;\n",
       "    }\n",
       "</style>\n",
       "<table border=\"1\" class=\"dataframe\">\n",
       "  <thead>\n",
       "    <tr style=\"text-align: right;\">\n",
       "      <th></th>\n",
       "      <th>userId</th>\n",
       "      <th>id</th>\n",
       "      <th>title</th>\n",
       "      <th>completed</th>\n",
       "    </tr>\n",
       "  </thead>\n",
       "  <tbody>\n",
       "    <tr>\n",
       "      <th>0</th>\n",
       "      <td>1</td>\n",
       "      <td>1</td>\n",
       "      <td>delectus aut autem</td>\n",
       "      <td>False</td>\n",
       "    </tr>\n",
       "    <tr>\n",
       "      <th>1</th>\n",
       "      <td>1</td>\n",
       "      <td>2</td>\n",
       "      <td>quis ut nam facilis et officia qui</td>\n",
       "      <td>False</td>\n",
       "    </tr>\n",
       "    <tr>\n",
       "      <th>2</th>\n",
       "      <td>1</td>\n",
       "      <td>3</td>\n",
       "      <td>fugiat veniam minus</td>\n",
       "      <td>False</td>\n",
       "    </tr>\n",
       "    <tr>\n",
       "      <th>3</th>\n",
       "      <td>1</td>\n",
       "      <td>4</td>\n",
       "      <td>et porro tempora</td>\n",
       "      <td>True</td>\n",
       "    </tr>\n",
       "    <tr>\n",
       "      <th>4</th>\n",
       "      <td>1</td>\n",
       "      <td>5</td>\n",
       "      <td>laboriosam mollitia et enim quasi adipisci qui...</td>\n",
       "      <td>False</td>\n",
       "    </tr>\n",
       "  </tbody>\n",
       "</table>\n",
       "</div>"
      ],
      "text/plain": [
       "   userId  id                                              title  completed\n",
       "0       1   1                                 delectus aut autem      False\n",
       "1       1   2                 quis ut nam facilis et officia qui      False\n",
       "2       1   3                                fugiat veniam minus      False\n",
       "3       1   4                                   et porro tempora       True\n",
       "4       1   5  laboriosam mollitia et enim quasi adipisci qui...      False"
      ]
     },
     "execution_count": 62,
     "metadata": {},
     "output_type": "execute_result"
    }
   ],
   "source": [
    "df.head()"
   ]
  },
  {
   "cell_type": "code",
   "execution_count": 83,
   "metadata": {},
   "outputs": [],
   "source": [
    "df.to_csv('my_todos.csv')"
   ]
  },
  {
   "cell_type": "code",
   "execution_count": 84,
   "metadata": {},
   "outputs": [
    {
     "data": {
      "text/plain": [
       "(200, 4)"
      ]
     },
     "execution_count": 84,
     "metadata": {},
     "output_type": "execute_result"
    }
   ],
   "source": [
    "df.shape"
   ]
  },
  {
   "cell_type": "code",
   "execution_count": 63,
   "metadata": {},
   "outputs": [
    {
     "data": {
      "text/html": [
       "<div>\n",
       "<style scoped>\n",
       "    .dataframe tbody tr th:only-of-type {\n",
       "        vertical-align: middle;\n",
       "    }\n",
       "\n",
       "    .dataframe tbody tr th {\n",
       "        vertical-align: top;\n",
       "    }\n",
       "\n",
       "    .dataframe thead th {\n",
       "        text-align: right;\n",
       "    }\n",
       "</style>\n",
       "<table border=\"1\" class=\"dataframe\">\n",
       "  <thead>\n",
       "    <tr style=\"text-align: right;\">\n",
       "      <th></th>\n",
       "      <th>userId</th>\n",
       "      <th>id</th>\n",
       "    </tr>\n",
       "  </thead>\n",
       "  <tbody>\n",
       "    <tr>\n",
       "      <th>count</th>\n",
       "      <td>200.000000</td>\n",
       "      <td>200.000000</td>\n",
       "    </tr>\n",
       "    <tr>\n",
       "      <th>mean</th>\n",
       "      <td>5.500000</td>\n",
       "      <td>100.500000</td>\n",
       "    </tr>\n",
       "    <tr>\n",
       "      <th>std</th>\n",
       "      <td>2.879489</td>\n",
       "      <td>57.879185</td>\n",
       "    </tr>\n",
       "    <tr>\n",
       "      <th>min</th>\n",
       "      <td>1.000000</td>\n",
       "      <td>1.000000</td>\n",
       "    </tr>\n",
       "    <tr>\n",
       "      <th>25%</th>\n",
       "      <td>3.000000</td>\n",
       "      <td>50.750000</td>\n",
       "    </tr>\n",
       "    <tr>\n",
       "      <th>50%</th>\n",
       "      <td>5.500000</td>\n",
       "      <td>100.500000</td>\n",
       "    </tr>\n",
       "    <tr>\n",
       "      <th>75%</th>\n",
       "      <td>8.000000</td>\n",
       "      <td>150.250000</td>\n",
       "    </tr>\n",
       "    <tr>\n",
       "      <th>max</th>\n",
       "      <td>10.000000</td>\n",
       "      <td>200.000000</td>\n",
       "    </tr>\n",
       "  </tbody>\n",
       "</table>\n",
       "</div>"
      ],
      "text/plain": [
       "           userId          id\n",
       "count  200.000000  200.000000\n",
       "mean     5.500000  100.500000\n",
       "std      2.879489   57.879185\n",
       "min      1.000000    1.000000\n",
       "25%      3.000000   50.750000\n",
       "50%      5.500000  100.500000\n",
       "75%      8.000000  150.250000\n",
       "max     10.000000  200.000000"
      ]
     },
     "execution_count": 63,
     "metadata": {},
     "output_type": "execute_result"
    }
   ],
   "source": [
    "df.describe()"
   ]
  },
  {
   "cell_type": "code",
   "execution_count": 64,
   "metadata": {},
   "outputs": [
    {
     "data": {
      "text/html": [
       "<div>\n",
       "<style scoped>\n",
       "    .dataframe tbody tr th:only-of-type {\n",
       "        vertical-align: middle;\n",
       "    }\n",
       "\n",
       "    .dataframe tbody tr th {\n",
       "        vertical-align: top;\n",
       "    }\n",
       "\n",
       "    .dataframe thead th {\n",
       "        text-align: right;\n",
       "    }\n",
       "</style>\n",
       "<table border=\"1\" class=\"dataframe\">\n",
       "  <thead>\n",
       "    <tr style=\"text-align: right;\">\n",
       "      <th></th>\n",
       "      <th>title</th>\n",
       "    </tr>\n",
       "  </thead>\n",
       "  <tbody>\n",
       "    <tr>\n",
       "      <th>count</th>\n",
       "      <td>200</td>\n",
       "    </tr>\n",
       "    <tr>\n",
       "      <th>unique</th>\n",
       "      <td>200</td>\n",
       "    </tr>\n",
       "    <tr>\n",
       "      <th>top</th>\n",
       "      <td>aut id perspiciatis voluptatem iusto</td>\n",
       "    </tr>\n",
       "    <tr>\n",
       "      <th>freq</th>\n",
       "      <td>1</td>\n",
       "    </tr>\n",
       "  </tbody>\n",
       "</table>\n",
       "</div>"
      ],
      "text/plain": [
       "                                       title\n",
       "count                                    200\n",
       "unique                                   200\n",
       "top     aut id perspiciatis voluptatem iusto\n",
       "freq                                       1"
      ]
     },
     "execution_count": 64,
     "metadata": {},
     "output_type": "execute_result"
    }
   ],
   "source": [
    "df.describe(include=['O'])"
   ]
  },
  {
   "cell_type": "code",
   "execution_count": 65,
   "metadata": {},
   "outputs": [
    {
     "data": {
      "text/html": [
       "<div>\n",
       "<style scoped>\n",
       "    .dataframe tbody tr th:only-of-type {\n",
       "        vertical-align: middle;\n",
       "    }\n",
       "\n",
       "    .dataframe tbody tr th {\n",
       "        vertical-align: top;\n",
       "    }\n",
       "\n",
       "    .dataframe thead th {\n",
       "        text-align: right;\n",
       "    }\n",
       "</style>\n",
       "<table border=\"1\" class=\"dataframe\">\n",
       "  <thead>\n",
       "    <tr style=\"text-align: right;\">\n",
       "      <th></th>\n",
       "      <th>id</th>\n",
       "      <th>completed</th>\n",
       "    </tr>\n",
       "    <tr>\n",
       "      <th>userId</th>\n",
       "      <th></th>\n",
       "      <th></th>\n",
       "    </tr>\n",
       "  </thead>\n",
       "  <tbody>\n",
       "    <tr>\n",
       "      <th>1</th>\n",
       "      <td>210</td>\n",
       "      <td>11.0</td>\n",
       "    </tr>\n",
       "    <tr>\n",
       "      <th>2</th>\n",
       "      <td>610</td>\n",
       "      <td>8.0</td>\n",
       "    </tr>\n",
       "    <tr>\n",
       "      <th>3</th>\n",
       "      <td>1010</td>\n",
       "      <td>7.0</td>\n",
       "    </tr>\n",
       "    <tr>\n",
       "      <th>4</th>\n",
       "      <td>1410</td>\n",
       "      <td>6.0</td>\n",
       "    </tr>\n",
       "    <tr>\n",
       "      <th>5</th>\n",
       "      <td>1810</td>\n",
       "      <td>12.0</td>\n",
       "    </tr>\n",
       "    <tr>\n",
       "      <th>6</th>\n",
       "      <td>2210</td>\n",
       "      <td>6.0</td>\n",
       "    </tr>\n",
       "    <tr>\n",
       "      <th>7</th>\n",
       "      <td>2610</td>\n",
       "      <td>9.0</td>\n",
       "    </tr>\n",
       "    <tr>\n",
       "      <th>8</th>\n",
       "      <td>3010</td>\n",
       "      <td>11.0</td>\n",
       "    </tr>\n",
       "    <tr>\n",
       "      <th>9</th>\n",
       "      <td>3410</td>\n",
       "      <td>8.0</td>\n",
       "    </tr>\n",
       "    <tr>\n",
       "      <th>10</th>\n",
       "      <td>3810</td>\n",
       "      <td>12.0</td>\n",
       "    </tr>\n",
       "  </tbody>\n",
       "</table>\n",
       "</div>"
      ],
      "text/plain": [
       "          id  completed\n",
       "userId                 \n",
       "1        210       11.0\n",
       "2        610        8.0\n",
       "3       1010        7.0\n",
       "4       1410        6.0\n",
       "5       1810       12.0\n",
       "6       2210        6.0\n",
       "7       2610        9.0\n",
       "8       3010       11.0\n",
       "9       3410        8.0\n",
       "10      3810       12.0"
      ]
     },
     "execution_count": 65,
     "metadata": {},
     "output_type": "execute_result"
    }
   ],
   "source": [
    "# we see that completed\n",
    "df.groupby(['userId']).sum()"
   ]
  },
  {
   "cell_type": "code",
   "execution_count": 87,
   "metadata": {},
   "outputs": [
    {
     "data": {
      "text/plain": [
       "userId\n",
       "1     11.0\n",
       "2      8.0\n",
       "3      7.0\n",
       "4      6.0\n",
       "5     12.0\n",
       "6      6.0\n",
       "7      9.0\n",
       "8     11.0\n",
       "9      8.0\n",
       "10    12.0\n",
       "Name: completed, dtype: float64"
      ]
     },
     "execution_count": 87,
     "metadata": {},
     "output_type": "execute_result"
    }
   ],
   "source": [
    "df.groupby(['userId']).sum()['completed']"
   ]
  },
  {
   "cell_type": "code",
   "execution_count": 66,
   "metadata": {},
   "outputs": [
    {
     "data": {
      "text/plain": [
       "<matplotlib.axes._subplots.AxesSubplot at 0x23161da9d30>"
      ]
     },
     "execution_count": 66,
     "metadata": {},
     "output_type": "execute_result"
    },
    {
     "data": {
      "image/png": "[encoded data removed]",
      "text/plain": [
       "<Figure size 432x288 with 1 Axes>"
      ]
     },
     "metadata": {
      "needs_background": "light"
     },
     "output_type": "display_data"
    }
   ],
   "source": [
    "df.groupby(['userId']).sum()['completed'].plot(kind=\"bar\")"
   ]
  },
  {
   "cell_type": "code",
   "execution_count": null,
   "metadata": {},
   "outputs": [],
   "source": [
    "busyjson"
   ]
  },
  {
   "cell_type": "code",
   "execution_count": null,
   "metadata": {},
   "outputs": [],
   "source": [
    "df.groupby(['userId'])['completed'].sum()"
   ]
  },
  {
   "cell_type": "code",
   "execution_count": null,
   "metadata": {},
   "outputs": [],
   "source": [
    "# if we need a single column dataframe\n",
    "df.groupby(['userId'])[['completed']].sum()"
   ]
  },
  {
   "cell_type": "code",
   "execution_count": null,
   "metadata": {},
   "outputs": [],
   "source": [
    "df.groupby(['userId'])['completed'].sum().sort_values()"
   ]
  },
  {
   "cell_type": "code",
   "execution_count": null,
   "metadata": {},
   "outputs": [],
   "source": [
    "df.groupby(['userId'])['completed'].sum().sort_values(ascending=False)"
   ]
  },
  {
   "cell_type": "code",
   "execution_count": null,
   "metadata": {},
   "outputs": [],
   "source": [
    "busyjson = pd.read_json('https://jsonplaceholder.typicode.com/todos').groupby(['userId'])['completed'].sum().sort_values(ascending=False).to_json()"
   ]
  },
  {
   "cell_type": "code",
   "execution_count": null,
   "metadata": {},
   "outputs": [],
   "source": [
    "def prettyJSON(myjson):\n",
    "    return json.dumps(json.loads(myjson), indent=4)"
   ]
  },
  {
   "cell_type": "code",
   "execution_count": null,
   "metadata": {},
   "outputs": [],
   "source": [
    "type(busyjson)"
   ]
  },
  {
   "cell_type": "code",
   "execution_count": null,
   "metadata": {},
   "outputs": [],
   "source": [
    "prettybusy = prettyJSON(busyjson)"
   ]
  },
  {
   "cell_type": "code",
   "execution_count": null,
   "metadata": {},
   "outputs": [],
   "source": [
    "with open('prettybusy.json', mode='w') as f:\n",
    "    f.write(prettybusy)"
   ]
  },
  {
   "cell_type": "markdown",
   "metadata": {},
   "source": [
    "# Exercise Find Public JSON API get data and convert it into Pandas DataFrame\n",
    "\n",
    "## Many possible sources\n",
    "\n",
    "https://github.com/toddmotto/public-apis\n",
    "    \n",
    "### You want the ones without authorization and WITH CORS unless you are feeling adventurous and want to try with auth\n",
    "\n"
   ]
  },
  {
   "cell_type": "code",
   "execution_count": null,
   "metadata": {},
   "outputs": [],
   "source": [
    "df = pd.read_json('https://cat-fact.herokuapp.com/facts/random?animal_type=cat&amount=50')\n",
    "df.head()"
   ]
  },
  {
   "cell_type": "code",
   "execution_count": null,
   "metadata": {},
   "outputs": [],
   "source": [
    "df.columns = sorted(df.columns)\n",
    "df.head()"
   ]
  },
  {
   "cell_type": "code",
   "execution_count": null,
   "metadata": {},
   "outputs": [],
   "source": [
    "response = requests.get(\"https://cat-fact.herokuapp.com/facts/random?animal_type=cat&amount=50\")\n",
    "if response.status_code != 200:\n",
    "    print(\"Bad Response: \", response.status_code)\n",
    "print(response.status_code)\n",
    "cats = json.loads(response.text)\n",
    "cats[:3]"
   ]
  },
  {
   "cell_type": "code",
   "execution_count": null,
   "metadata": {},
   "outputs": [],
   "source": [
    "response = requests.get(\"https://cat-fact.herokuapp.com/facts/random\",\n",
    "                        params={\"animal_type\":\"cat\", \"amount\":20})\n",
    "if response.status_code != 200:\n",
    "    print(\"Bad Response: \", response.status_code)\n",
    "print(response.status_code)\n",
    "cats = json.loads(response.text) # simpler response.json() \n",
    "cats[:3]"
   ]
  },
  {
   "cell_type": "code",
   "execution_count": null,
   "metadata": {},
   "outputs": [],
   "source": [
    "len(cats)`"
   ]
  },
  {
   "cell_type": "code",
   "execution_count": null,
   "metadata": {},
   "outputs": [],
   "source": [
    "response.status_code"
   ]
  },
  {
   "cell_type": "code",
   "execution_count": null,
   "metadata": {},
   "outputs": [],
   "source": [
    "cats2 = response.json()\n",
    "len(cats2)"
   ]
  },
  {
   "cell_type": "code",
   "execution_count": null,
   "metadata": {},
   "outputs": [],
   "source": [
    "cats2 == cats, cats2 is cats \n",
    "#data are the same we just have two different copies of them"
   ]
  },
  {
   "cell_type": "code",
   "execution_count": null,
   "metadata": {},
   "outputs": [],
   "source": []
  },
  {
   "cell_type": "code",
   "execution_count": null,
   "metadata": {},
   "outputs": [],
   "source": [
    "df.loc[0, 'text']"
   ]
  },
  {
   "cell_type": "code",
   "execution_count": null,
   "metadata": {},
   "outputs": [],
   "source": [
    "## For authorization you generally need some sort of token(key)\n",
    "# One example for zendesk API  https://develop.zendesk.com/hc/en-us/community/posts/360001652447-API-auth-in-python\n",
    "\n",
    "\n",
    "# For an API token, append '/token' to your username and use the token as the password:\n",
    "## This will not work for those without zendesk access token\n",
    "\n",
    "url = 'https://your_subdomain.zendesk.com/api/v2/users/123.json'\n",
    "r = requests.get(url, auth=('user@example.com/token', 'your_token'))\n",
    "# For an OAuth token, set an Authorization header:\n",
    "\n",
    "bearer_token = 'Bearer ' + access_token\n",
    "header = {'Authorization': bearer_token}\n",
    "url = 'https://your_subdomain.zendesk.com/api/v2/users/123.json'\n",
    "r = requests.get(url, headers=header)"
   ]
  },
  {
   "cell_type": "code",
   "execution_count": 90,
   "metadata": {},
   "outputs": [],
   "source": [
    "def myReadJSON(url):\n",
    "    response = requests.get(url)\n",
    "    if response.status_code != 200:\n",
    "        print(\"Bad Response: \", response.status_code)\n",
    "    print(\"Status CODE\", response.status_code)\n",
    "    return json.loads(response.text)\n"
   ]
  },
  {
   "cell_type": "code",
   "execution_count": 91,
   "metadata": {},
   "outputs": [
    {
     "name": "stdout",
     "output_type": "stream",
     "text": [
      "Status CODE 200\n"
     ]
    },
    {
     "data": {
      "text/plain": [
       "dict"
      ]
     },
     "execution_count": 91,
     "metadata": {},
     "output_type": "execute_result"
    }
   ],
   "source": [
    "rawdrinks = myReadJSON(\"https://www.thecocktaildb.com/api/json/v1/1/search.php?s=margarita\")\n",
    "type(rawdrinks)"
   ]
  },
  {
   "cell_type": "code",
   "execution_count": 92,
   "metadata": {},
   "outputs": [
    {
     "data": {
      "text/plain": [
       "dict_keys(['drinks'])"
      ]
     },
     "execution_count": 92,
     "metadata": {},
     "output_type": "execute_result"
    }
   ],
   "source": [
    "rawdrinks.keys()"
   ]
  },
  {
   "cell_type": "code",
   "execution_count": 93,
   "metadata": {},
   "outputs": [
    {
     "data": {
      "text/plain": [
       "list"
      ]
     },
     "execution_count": 93,
     "metadata": {},
     "output_type": "execute_result"
    }
   ],
   "source": [
    "type(rawdrinks.get(\"drinks\"))"
   ]
  },
  {
   "cell_type": "code",
   "execution_count": 94,
   "metadata": {},
   "outputs": [
    {
     "data": {
      "text/html": [
       "<div>\n",
       "<style scoped>\n",
       "    .dataframe tbody tr th:only-of-type {\n",
       "        vertical-align: middle;\n",
       "    }\n",
       "\n",
       "    .dataframe tbody tr th {\n",
       "        vertical-align: top;\n",
       "    }\n",
       "\n",
       "    .dataframe thead th {\n",
       "        text-align: right;\n",
       "    }\n",
       "</style>\n",
       "<table border=\"1\" class=\"dataframe\">\n",
       "  <thead>\n",
       "    <tr style=\"text-align: right;\">\n",
       "      <th></th>\n",
       "      <th>idDrink</th>\n",
       "      <th>strDrink</th>\n",
       "      <th>strDrinkAlternate</th>\n",
       "      <th>strDrinkES</th>\n",
       "      <th>strDrinkDE</th>\n",
       "      <th>strDrinkFR</th>\n",
       "      <th>strDrinkZH-HANS</th>\n",
       "      <th>strDrinkZH-HANT</th>\n",
       "      <th>strTags</th>\n",
       "      <th>strVideo</th>\n",
       "      <th>...</th>\n",
       "      <th>strMeasure10</th>\n",
       "      <th>strMeasure11</th>\n",
       "      <th>strMeasure12</th>\n",
       "      <th>strMeasure13</th>\n",
       "      <th>strMeasure14</th>\n",
       "      <th>strMeasure15</th>\n",
       "      <th>strImageSource</th>\n",
       "      <th>strImageAttribution</th>\n",
       "      <th>strCreativeCommonsConfirmed</th>\n",
       "      <th>dateModified</th>\n",
       "    </tr>\n",
       "  </thead>\n",
       "  <tbody>\n",
       "    <tr>\n",
       "      <th>0</th>\n",
       "      <td>11007</td>\n",
       "      <td>Margarita</td>\n",
       "      <td>None</td>\n",
       "      <td>None</td>\n",
       "      <td>None</td>\n",
       "      <td>None</td>\n",
       "      <td>None</td>\n",
       "      <td>None</td>\n",
       "      <td>IBA,ContemporaryClassic</td>\n",
       "      <td>None</td>\n",
       "      <td>...</td>\n",
       "      <td>None</td>\n",
       "      <td>None</td>\n",
       "      <td>None</td>\n",
       "      <td>None</td>\n",
       "      <td>None</td>\n",
       "      <td>None</td>\n",
       "      <td>https://commons.wikimedia.org/wiki/File:Klassi...</td>\n",
       "      <td>Cocktailmarler</td>\n",
       "      <td>Yes</td>\n",
       "      <td>2015-08-18 14:42:59</td>\n",
       "    </tr>\n",
       "    <tr>\n",
       "      <th>1</th>\n",
       "      <td>11118</td>\n",
       "      <td>Blue Margarita</td>\n",
       "      <td>None</td>\n",
       "      <td>None</td>\n",
       "      <td>None</td>\n",
       "      <td>None</td>\n",
       "      <td>None</td>\n",
       "      <td>None</td>\n",
       "      <td>None</td>\n",
       "      <td>None</td>\n",
       "      <td>...</td>\n",
       "      <td>None</td>\n",
       "      <td>None</td>\n",
       "      <td>None</td>\n",
       "      <td>None</td>\n",
       "      <td>None</td>\n",
       "      <td>None</td>\n",
       "      <td>None</td>\n",
       "      <td>None</td>\n",
       "      <td>Yes</td>\n",
       "      <td>2015-08-18 14:51:53</td>\n",
       "    </tr>\n",
       "    <tr>\n",
       "      <th>2</th>\n",
       "      <td>17216</td>\n",
       "      <td>Tommy's Margarita</td>\n",
       "      <td>None</td>\n",
       "      <td>None</td>\n",
       "      <td>None</td>\n",
       "      <td>None</td>\n",
       "      <td>None</td>\n",
       "      <td>None</td>\n",
       "      <td>IBA,NewEra</td>\n",
       "      <td>None</td>\n",
       "      <td>...</td>\n",
       "      <td>None</td>\n",
       "      <td>None</td>\n",
       "      <td>None</td>\n",
       "      <td>None</td>\n",
       "      <td>None</td>\n",
       "      <td>None</td>\n",
       "      <td>None</td>\n",
       "      <td>None</td>\n",
       "      <td>No</td>\n",
       "      <td>2017-09-02 18:37:54</td>\n",
       "    </tr>\n",
       "    <tr>\n",
       "      <th>3</th>\n",
       "      <td>16158</td>\n",
       "      <td>Whitecap Margarita</td>\n",
       "      <td>None</td>\n",
       "      <td>None</td>\n",
       "      <td>None</td>\n",
       "      <td>None</td>\n",
       "      <td>None</td>\n",
       "      <td>None</td>\n",
       "      <td>None</td>\n",
       "      <td>None</td>\n",
       "      <td>...</td>\n",
       "      <td>None</td>\n",
       "      <td>None</td>\n",
       "      <td>None</td>\n",
       "      <td>None</td>\n",
       "      <td>None</td>\n",
       "      <td>None</td>\n",
       "      <td>None</td>\n",
       "      <td>None</td>\n",
       "      <td>No</td>\n",
       "      <td>2015-09-02 17:00:22</td>\n",
       "    </tr>\n",
       "    <tr>\n",
       "      <th>4</th>\n",
       "      <td>12322</td>\n",
       "      <td>Strawberry Margarita</td>\n",
       "      <td>None</td>\n",
       "      <td>None</td>\n",
       "      <td>None</td>\n",
       "      <td>None</td>\n",
       "      <td>None</td>\n",
       "      <td>None</td>\n",
       "      <td>None</td>\n",
       "      <td>None</td>\n",
       "      <td>...</td>\n",
       "      <td>None</td>\n",
       "      <td>None</td>\n",
       "      <td>None</td>\n",
       "      <td>None</td>\n",
       "      <td>None</td>\n",
       "      <td>None</td>\n",
       "      <td>None</td>\n",
       "      <td>None</td>\n",
       "      <td>No</td>\n",
       "      <td>2015-08-18 14:41:51</td>\n",
       "    </tr>\n",
       "  </tbody>\n",
       "</table>\n",
       "<p>5 rows × 55 columns</p>\n",
       "</div>"
      ],
      "text/plain": [
       "  idDrink              strDrink strDrinkAlternate strDrinkES strDrinkDE  \\\n",
       "0   11007             Margarita              None       None       None   \n",
       "1   11118        Blue Margarita              None       None       None   \n",
       "2   17216     Tommy's Margarita              None       None       None   \n",
       "3   16158    Whitecap Margarita              None       None       None   \n",
       "4   12322  Strawberry Margarita              None       None       None   \n",
       "\n",
       "  strDrinkFR strDrinkZH-HANS strDrinkZH-HANT                  strTags  \\\n",
       "0       None            None            None  IBA,ContemporaryClassic   \n",
       "1       None            None            None                     None   \n",
       "2       None            None            None               IBA,NewEra   \n",
       "3       None            None            None                     None   \n",
       "4       None            None            None                     None   \n",
       "\n",
       "  strVideo  ... strMeasure10 strMeasure11 strMeasure12 strMeasure13  \\\n",
       "0     None  ...         None         None         None         None   \n",
       "1     None  ...         None         None         None         None   \n",
       "2     None  ...         None         None         None         None   \n",
       "3     None  ...         None         None         None         None   \n",
       "4     None  ...         None         None         None         None   \n",
       "\n",
       "  strMeasure14 strMeasure15  \\\n",
       "0         None         None   \n",
       "1         None         None   \n",
       "2         None         None   \n",
       "3         None         None   \n",
       "4         None         None   \n",
       "\n",
       "                                      strImageSource strImageAttribution  \\\n",
       "0  https://commons.wikimedia.org/wiki/File:Klassi...      Cocktailmarler   \n",
       "1                                               None                None   \n",
       "2                                               None                None   \n",
       "3                                               None                None   \n",
       "4                                               None                None   \n",
       "\n",
       "  strCreativeCommonsConfirmed         dateModified  \n",
       "0                         Yes  2015-08-18 14:42:59  \n",
       "1                         Yes  2015-08-18 14:51:53  \n",
       "2                          No  2017-09-02 18:37:54  \n",
       "3                          No  2015-09-02 17:00:22  \n",
       "4                          No  2015-08-18 14:41:51  \n",
       "\n",
       "[5 rows x 55 columns]"
      ]
     },
     "execution_count": 94,
     "metadata": {},
     "output_type": "execute_result"
    }
   ],
   "source": [
    "mydrinks = pd.DataFrame(rawdrinks['drinks'])\n",
    "mydrinks.head()"
   ]
  },
  {
   "cell_type": "code",
   "execution_count": 95,
   "metadata": {},
   "outputs": [
    {
     "data": {
      "text/html": [
       "<div>\n",
       "<style scoped>\n",
       "    .dataframe tbody tr th:only-of-type {\n",
       "        vertical-align: middle;\n",
       "    }\n",
       "\n",
       "    .dataframe tbody tr th {\n",
       "        vertical-align: top;\n",
       "    }\n",
       "\n",
       "    .dataframe thead th {\n",
       "        text-align: right;\n",
       "    }\n",
       "</style>\n",
       "<table border=\"1\" class=\"dataframe\">\n",
       "  <thead>\n",
       "    <tr style=\"text-align: right;\">\n",
       "      <th></th>\n",
       "      <th>0</th>\n",
       "      <th>1</th>\n",
       "      <th>2</th>\n",
       "      <th>3</th>\n",
       "      <th>4</th>\n",
       "    </tr>\n",
       "  </thead>\n",
       "  <tbody>\n",
       "    <tr>\n",
       "      <th>idDrink</th>\n",
       "      <td>11007</td>\n",
       "      <td>11118</td>\n",
       "      <td>17216</td>\n",
       "      <td>16158</td>\n",
       "      <td>12322</td>\n",
       "    </tr>\n",
       "    <tr>\n",
       "      <th>strDrink</th>\n",
       "      <td>Margarita</td>\n",
       "      <td>Blue Margarita</td>\n",
       "      <td>Tommy's Margarita</td>\n",
       "      <td>Whitecap Margarita</td>\n",
       "      <td>Strawberry Margarita</td>\n",
       "    </tr>\n",
       "    <tr>\n",
       "      <th>strDrinkAlternate</th>\n",
       "      <td>None</td>\n",
       "      <td>None</td>\n",
       "      <td>None</td>\n",
       "      <td>None</td>\n",
       "      <td>None</td>\n",
       "    </tr>\n",
       "    <tr>\n",
       "      <th>strDrinkES</th>\n",
       "      <td>None</td>\n",
       "      <td>None</td>\n",
       "      <td>None</td>\n",
       "      <td>None</td>\n",
       "      <td>None</td>\n",
       "    </tr>\n",
       "    <tr>\n",
       "      <th>strDrinkDE</th>\n",
       "      <td>None</td>\n",
       "      <td>None</td>\n",
       "      <td>None</td>\n",
       "      <td>None</td>\n",
       "      <td>None</td>\n",
       "    </tr>\n",
       "    <tr>\n",
       "      <th>strDrinkFR</th>\n",
       "      <td>None</td>\n",
       "      <td>None</td>\n",
       "      <td>None</td>\n",
       "      <td>None</td>\n",
       "      <td>None</td>\n",
       "    </tr>\n",
       "    <tr>\n",
       "      <th>strDrinkZH-HANS</th>\n",
       "      <td>None</td>\n",
       "      <td>None</td>\n",
       "      <td>None</td>\n",
       "      <td>None</td>\n",
       "      <td>None</td>\n",
       "    </tr>\n",
       "    <tr>\n",
       "      <th>strDrinkZH-HANT</th>\n",
       "      <td>None</td>\n",
       "      <td>None</td>\n",
       "      <td>None</td>\n",
       "      <td>None</td>\n",
       "      <td>None</td>\n",
       "    </tr>\n",
       "    <tr>\n",
       "      <th>strTags</th>\n",
       "      <td>IBA,ContemporaryClassic</td>\n",
       "      <td>None</td>\n",
       "      <td>IBA,NewEra</td>\n",
       "      <td>None</td>\n",
       "      <td>None</td>\n",
       "    </tr>\n",
       "    <tr>\n",
       "      <th>strVideo</th>\n",
       "      <td>None</td>\n",
       "      <td>None</td>\n",
       "      <td>None</td>\n",
       "      <td>None</td>\n",
       "      <td>None</td>\n",
       "    </tr>\n",
       "    <tr>\n",
       "      <th>strCategory</th>\n",
       "      <td>Ordinary Drink</td>\n",
       "      <td>Ordinary Drink</td>\n",
       "      <td>Ordinary Drink</td>\n",
       "      <td>Other/Unknown</td>\n",
       "      <td>Ordinary Drink</td>\n",
       "    </tr>\n",
       "    <tr>\n",
       "      <th>strIBA</th>\n",
       "      <td>Contemporary Classics</td>\n",
       "      <td>None</td>\n",
       "      <td>New Era Drinks</td>\n",
       "      <td>None</td>\n",
       "      <td>None</td>\n",
       "    </tr>\n",
       "    <tr>\n",
       "      <th>strAlcoholic</th>\n",
       "      <td>Alcoholic</td>\n",
       "      <td>Alcoholic</td>\n",
       "      <td>Alcoholic</td>\n",
       "      <td>Alcoholic</td>\n",
       "      <td>Alcoholic</td>\n",
       "    </tr>\n",
       "    <tr>\n",
       "      <th>strGlass</th>\n",
       "      <td>Cocktail glass</td>\n",
       "      <td>Cocktail glass</td>\n",
       "      <td>Old-Fashioned glass</td>\n",
       "      <td>Margarita/Coupette glass</td>\n",
       "      <td>Cocktail glass</td>\n",
       "    </tr>\n",
       "    <tr>\n",
       "      <th>strInstructions</th>\n",
       "      <td>Rub the rim of the glass with the lime slice t...</td>\n",
       "      <td>Rub rim of cocktail glass with lime juice. Dip...</td>\n",
       "      <td>Shake and strain into a chilled cocktail glass.</td>\n",
       "      <td>Place all ingredients in a blender and blend u...</td>\n",
       "      <td>Rub rim of cocktail glass with lemon juice and...</td>\n",
       "    </tr>\n",
       "    <tr>\n",
       "      <th>strInstructionsES</th>\n",
       "      <td>None</td>\n",
       "      <td>None</td>\n",
       "      <td>None</td>\n",
       "      <td>None</td>\n",
       "      <td>None</td>\n",
       "    </tr>\n",
       "    <tr>\n",
       "      <th>strInstructionsDE</th>\n",
       "      <td>Reiben Sie den Rand des Glases mit der Limette...</td>\n",
       "      <td>Den Rand des Cocktailglases mit Limettensaft e...</td>\n",
       "      <td>Schütteln und in ein gekühltes Cocktailglas ab...</td>\n",
       "      <td>Alle Zutaten in einen Mixer geben und mischen.</td>\n",
       "      <td>Cocktailglasrand mit Zitronensaft und Tauchran...</td>\n",
       "    </tr>\n",
       "    <tr>\n",
       "      <th>strInstructionsFR</th>\n",
       "      <td>None</td>\n",
       "      <td>None</td>\n",
       "      <td>None</td>\n",
       "      <td>None</td>\n",
       "      <td>None</td>\n",
       "    </tr>\n",
       "    <tr>\n",
       "      <th>strInstructionsZH-HANS</th>\n",
       "      <td>None</td>\n",
       "      <td>None</td>\n",
       "      <td>None</td>\n",
       "      <td>None</td>\n",
       "      <td>None</td>\n",
       "    </tr>\n",
       "    <tr>\n",
       "      <th>strInstructionsZH-HANT</th>\n",
       "      <td>None</td>\n",
       "      <td>None</td>\n",
       "      <td>None</td>\n",
       "      <td>None</td>\n",
       "      <td>None</td>\n",
       "    </tr>\n",
       "    <tr>\n",
       "      <th>strDrinkThumb</th>\n",
       "      <td>https://www.thecocktaildb.com/images/media/dri...</td>\n",
       "      <td>https://www.thecocktaildb.com/images/media/dri...</td>\n",
       "      <td>https://www.thecocktaildb.com/images/media/dri...</td>\n",
       "      <td>https://www.thecocktaildb.com/images/media/dri...</td>\n",
       "      <td>https://www.thecocktaildb.com/images/media/dri...</td>\n",
       "    </tr>\n",
       "    <tr>\n",
       "      <th>strIngredient1</th>\n",
       "      <td>Tequila</td>\n",
       "      <td>Tequila</td>\n",
       "      <td>Tequila</td>\n",
       "      <td>Ice</td>\n",
       "      <td>Strawberry schnapps</td>\n",
       "    </tr>\n",
       "    <tr>\n",
       "      <th>strIngredient2</th>\n",
       "      <td>Triple sec</td>\n",
       "      <td>Blue Curacao</td>\n",
       "      <td>Lime Juice</td>\n",
       "      <td>Tequila</td>\n",
       "      <td>Tequila</td>\n",
       "    </tr>\n",
       "    <tr>\n",
       "      <th>strIngredient3</th>\n",
       "      <td>Lime juice</td>\n",
       "      <td>Lime juice</td>\n",
       "      <td>Agave syrup</td>\n",
       "      <td>Cream of coconut</td>\n",
       "      <td>Triple sec</td>\n",
       "    </tr>\n",
       "    <tr>\n",
       "      <th>strIngredient4</th>\n",
       "      <td>Salt</td>\n",
       "      <td>Salt</td>\n",
       "      <td>None</td>\n",
       "      <td>Lime juice</td>\n",
       "      <td>Lemon juice</td>\n",
       "    </tr>\n",
       "    <tr>\n",
       "      <th>strIngredient5</th>\n",
       "      <td>None</td>\n",
       "      <td>None</td>\n",
       "      <td>None</td>\n",
       "      <td>None</td>\n",
       "      <td>Strawberries</td>\n",
       "    </tr>\n",
       "    <tr>\n",
       "      <th>strIngredient6</th>\n",
       "      <td>None</td>\n",
       "      <td>None</td>\n",
       "      <td>None</td>\n",
       "      <td>None</td>\n",
       "      <td>Salt</td>\n",
       "    </tr>\n",
       "    <tr>\n",
       "      <th>strIngredient7</th>\n",
       "      <td>None</td>\n",
       "      <td>None</td>\n",
       "      <td>None</td>\n",
       "      <td>None</td>\n",
       "      <td>None</td>\n",
       "    </tr>\n",
       "    <tr>\n",
       "      <th>strIngredient8</th>\n",
       "      <td>None</td>\n",
       "      <td>None</td>\n",
       "      <td>None</td>\n",
       "      <td>None</td>\n",
       "      <td>None</td>\n",
       "    </tr>\n",
       "    <tr>\n",
       "      <th>strIngredient9</th>\n",
       "      <td>None</td>\n",
       "      <td>None</td>\n",
       "      <td>None</td>\n",
       "      <td>None</td>\n",
       "      <td>None</td>\n",
       "    </tr>\n",
       "    <tr>\n",
       "      <th>strIngredient10</th>\n",
       "      <td>None</td>\n",
       "      <td>None</td>\n",
       "      <td>None</td>\n",
       "      <td>None</td>\n",
       "      <td>None</td>\n",
       "    </tr>\n",
       "    <tr>\n",
       "      <th>strIngredient11</th>\n",
       "      <td>None</td>\n",
       "      <td>None</td>\n",
       "      <td>None</td>\n",
       "      <td>None</td>\n",
       "      <td>None</td>\n",
       "    </tr>\n",
       "    <tr>\n",
       "      <th>strIngredient12</th>\n",
       "      <td>None</td>\n",
       "      <td>None</td>\n",
       "      <td>None</td>\n",
       "      <td>None</td>\n",
       "      <td>None</td>\n",
       "    </tr>\n",
       "    <tr>\n",
       "      <th>strIngredient13</th>\n",
       "      <td>None</td>\n",
       "      <td>None</td>\n",
       "      <td>None</td>\n",
       "      <td>None</td>\n",
       "      <td>None</td>\n",
       "    </tr>\n",
       "    <tr>\n",
       "      <th>strIngredient14</th>\n",
       "      <td>None</td>\n",
       "      <td>None</td>\n",
       "      <td>None</td>\n",
       "      <td>None</td>\n",
       "      <td>None</td>\n",
       "    </tr>\n",
       "    <tr>\n",
       "      <th>strIngredient15</th>\n",
       "      <td>None</td>\n",
       "      <td>None</td>\n",
       "      <td>None</td>\n",
       "      <td>None</td>\n",
       "      <td>None</td>\n",
       "    </tr>\n",
       "    <tr>\n",
       "      <th>strMeasure1</th>\n",
       "      <td>1 1/2 oz</td>\n",
       "      <td>1 1/2 oz</td>\n",
       "      <td>4.5 cl</td>\n",
       "      <td>1 cup</td>\n",
       "      <td>1/2 oz</td>\n",
       "    </tr>\n",
       "    <tr>\n",
       "      <th>strMeasure2</th>\n",
       "      <td>1/2 oz</td>\n",
       "      <td>1 oz</td>\n",
       "      <td>1.5 cl</td>\n",
       "      <td>2 oz</td>\n",
       "      <td>1 oz</td>\n",
       "    </tr>\n",
       "    <tr>\n",
       "      <th>strMeasure3</th>\n",
       "      <td>1 oz</td>\n",
       "      <td>1 oz</td>\n",
       "      <td>2 spoons</td>\n",
       "      <td>1/4 cup</td>\n",
       "      <td>1/2 oz</td>\n",
       "    </tr>\n",
       "    <tr>\n",
       "      <th>strMeasure4</th>\n",
       "      <td>None</td>\n",
       "      <td>Coarse</td>\n",
       "      <td>None</td>\n",
       "      <td>3 tblsp fresh</td>\n",
       "      <td>1 oz</td>\n",
       "    </tr>\n",
       "    <tr>\n",
       "      <th>strMeasure5</th>\n",
       "      <td>None</td>\n",
       "      <td>None</td>\n",
       "      <td>None</td>\n",
       "      <td>None</td>\n",
       "      <td>1 oz</td>\n",
       "    </tr>\n",
       "    <tr>\n",
       "      <th>strMeasure6</th>\n",
       "      <td>None</td>\n",
       "      <td>None</td>\n",
       "      <td>None</td>\n",
       "      <td>None</td>\n",
       "      <td>None</td>\n",
       "    </tr>\n",
       "    <tr>\n",
       "      <th>strMeasure7</th>\n",
       "      <td>None</td>\n",
       "      <td>None</td>\n",
       "      <td>None</td>\n",
       "      <td>None</td>\n",
       "      <td>None</td>\n",
       "    </tr>\n",
       "    <tr>\n",
       "      <th>strMeasure8</th>\n",
       "      <td>None</td>\n",
       "      <td>None</td>\n",
       "      <td>None</td>\n",
       "      <td>None</td>\n",
       "      <td>None</td>\n",
       "    </tr>\n",
       "    <tr>\n",
       "      <th>strMeasure9</th>\n",
       "      <td>None</td>\n",
       "      <td>None</td>\n",
       "      <td>None</td>\n",
       "      <td>None</td>\n",
       "      <td>None</td>\n",
       "    </tr>\n",
       "    <tr>\n",
       "      <th>strMeasure10</th>\n",
       "      <td>None</td>\n",
       "      <td>None</td>\n",
       "      <td>None</td>\n",
       "      <td>None</td>\n",
       "      <td>None</td>\n",
       "    </tr>\n",
       "    <tr>\n",
       "      <th>strMeasure11</th>\n",
       "      <td>None</td>\n",
       "      <td>None</td>\n",
       "      <td>None</td>\n",
       "      <td>None</td>\n",
       "      <td>None</td>\n",
       "    </tr>\n",
       "    <tr>\n",
       "      <th>strMeasure12</th>\n",
       "      <td>None</td>\n",
       "      <td>None</td>\n",
       "      <td>None</td>\n",
       "      <td>None</td>\n",
       "      <td>None</td>\n",
       "    </tr>\n",
       "    <tr>\n",
       "      <th>strMeasure13</th>\n",
       "      <td>None</td>\n",
       "      <td>None</td>\n",
       "      <td>None</td>\n",
       "      <td>None</td>\n",
       "      <td>None</td>\n",
       "    </tr>\n",
       "    <tr>\n",
       "      <th>strMeasure14</th>\n",
       "      <td>None</td>\n",
       "      <td>None</td>\n",
       "      <td>None</td>\n",
       "      <td>None</td>\n",
       "      <td>None</td>\n",
       "    </tr>\n",
       "    <tr>\n",
       "      <th>strMeasure15</th>\n",
       "      <td>None</td>\n",
       "      <td>None</td>\n",
       "      <td>None</td>\n",
       "      <td>None</td>\n",
       "      <td>None</td>\n",
       "    </tr>\n",
       "    <tr>\n",
       "      <th>strImageSource</th>\n",
       "      <td>https://commons.wikimedia.org/wiki/File:Klassi...</td>\n",
       "      <td>None</td>\n",
       "      <td>None</td>\n",
       "      <td>None</td>\n",
       "      <td>None</td>\n",
       "    </tr>\n",
       "    <tr>\n",
       "      <th>strImageAttribution</th>\n",
       "      <td>Cocktailmarler</td>\n",
       "      <td>None</td>\n",
       "      <td>None</td>\n",
       "      <td>None</td>\n",
       "      <td>None</td>\n",
       "    </tr>\n",
       "    <tr>\n",
       "      <th>strCreativeCommonsConfirmed</th>\n",
       "      <td>Yes</td>\n",
       "      <td>Yes</td>\n",
       "      <td>No</td>\n",
       "      <td>No</td>\n",
       "      <td>No</td>\n",
       "    </tr>\n",
       "    <tr>\n",
       "      <th>dateModified</th>\n",
       "      <td>2015-08-18 14:42:59</td>\n",
       "      <td>2015-08-18 14:51:53</td>\n",
       "      <td>2017-09-02 18:37:54</td>\n",
       "      <td>2015-09-02 17:00:22</td>\n",
       "      <td>2015-08-18 14:41:51</td>\n",
       "    </tr>\n",
       "  </tbody>\n",
       "</table>\n",
       "</div>"
      ],
      "text/plain": [
       "                                                                             0  \\\n",
       "idDrink                                                                  11007   \n",
       "strDrink                                                             Margarita   \n",
       "strDrinkAlternate                                                         None   \n",
       "strDrinkES                                                                None   \n",
       "strDrinkDE                                                                None   \n",
       "strDrinkFR                                                                None   \n",
       "strDrinkZH-HANS                                                           None   \n",
       "strDrinkZH-HANT                                                           None   \n",
       "strTags                                                IBA,ContemporaryClassic   \n",
       "strVideo                                                                  None   \n",
       "strCategory                                                     Ordinary Drink   \n",
       "strIBA                                                   Contemporary Classics   \n",
       "strAlcoholic                                                         Alcoholic   \n",
       "strGlass                                                        Cocktail glass   \n",
       "strInstructions              Rub the rim of the glass with the lime slice t...   \n",
       "strInstructionsES                                                         None   \n",
       "strInstructionsDE            Reiben Sie den Rand des Glases mit der Limette...   \n",
       "strInstructionsFR                                                         None   \n",
       "strInstructionsZH-HANS                                                    None   \n",
       "strInstructionsZH-HANT                                                    None   \n",
       "strDrinkThumb                https://www.thecocktaildb.com/images/media/dri...   \n",
       "strIngredient1                                                         Tequila   \n",
       "strIngredient2                                                      Triple sec   \n",
       "strIngredient3                                                      Lime juice   \n",
       "strIngredient4                                                            Salt   \n",
       "strIngredient5                                                            None   \n",
       "strIngredient6                                                            None   \n",
       "strIngredient7                                                            None   \n",
       "strIngredient8                                                            None   \n",
       "strIngredient9                                                            None   \n",
       "strIngredient10                                                           None   \n",
       "strIngredient11                                                           None   \n",
       "strIngredient12                                                           None   \n",
       "strIngredient13                                                           None   \n",
       "strIngredient14                                                           None   \n",
       "strIngredient15                                                           None   \n",
       "strMeasure1                                                          1 1/2 oz    \n",
       "strMeasure2                                                            1/2 oz    \n",
       "strMeasure3                                                              1 oz    \n",
       "strMeasure4                                                               None   \n",
       "strMeasure5                                                               None   \n",
       "strMeasure6                                                               None   \n",
       "strMeasure7                                                               None   \n",
       "strMeasure8                                                               None   \n",
       "strMeasure9                                                               None   \n",
       "strMeasure10                                                              None   \n",
       "strMeasure11                                                              None   \n",
       "strMeasure12                                                              None   \n",
       "strMeasure13                                                              None   \n",
       "strMeasure14                                                              None   \n",
       "strMeasure15                                                              None   \n",
       "strImageSource               https://commons.wikimedia.org/wiki/File:Klassi...   \n",
       "strImageAttribution                                             Cocktailmarler   \n",
       "strCreativeCommonsConfirmed                                                Yes   \n",
       "dateModified                                               2015-08-18 14:42:59   \n",
       "\n",
       "                                                                             1  \\\n",
       "idDrink                                                                  11118   \n",
       "strDrink                                                        Blue Margarita   \n",
       "strDrinkAlternate                                                         None   \n",
       "strDrinkES                                                                None   \n",
       "strDrinkDE                                                                None   \n",
       "strDrinkFR                                                                None   \n",
       "strDrinkZH-HANS                                                           None   \n",
       "strDrinkZH-HANT                                                           None   \n",
       "strTags                                                                   None   \n",
       "strVideo                                                                  None   \n",
       "strCategory                                                     Ordinary Drink   \n",
       "strIBA                                                                    None   \n",
       "strAlcoholic                                                         Alcoholic   \n",
       "strGlass                                                        Cocktail glass   \n",
       "strInstructions              Rub rim of cocktail glass with lime juice. Dip...   \n",
       "strInstructionsES                                                         None   \n",
       "strInstructionsDE            Den Rand des Cocktailglases mit Limettensaft e...   \n",
       "strInstructionsFR                                                         None   \n",
       "strInstructionsZH-HANS                                                    None   \n",
       "strInstructionsZH-HANT                                                    None   \n",
       "strDrinkThumb                https://www.thecocktaildb.com/images/media/dri...   \n",
       "strIngredient1                                                         Tequila   \n",
       "strIngredient2                                                    Blue Curacao   \n",
       "strIngredient3                                                      Lime juice   \n",
       "strIngredient4                                                            Salt   \n",
       "strIngredient5                                                            None   \n",
       "strIngredient6                                                            None   \n",
       "strIngredient7                                                            None   \n",
       "strIngredient8                                                            None   \n",
       "strIngredient9                                                            None   \n",
       "strIngredient10                                                           None   \n",
       "strIngredient11                                                           None   \n",
       "strIngredient12                                                           None   \n",
       "strIngredient13                                                           None   \n",
       "strIngredient14                                                           None   \n",
       "strIngredient15                                                           None   \n",
       "strMeasure1                                                          1 1/2 oz    \n",
       "strMeasure2                                                              1 oz    \n",
       "strMeasure3                                                              1 oz    \n",
       "strMeasure4                                                            Coarse    \n",
       "strMeasure5                                                               None   \n",
       "strMeasure6                                                               None   \n",
       "strMeasure7                                                               None   \n",
       "strMeasure8                                                               None   \n",
       "strMeasure9                                                               None   \n",
       "strMeasure10                                                              None   \n",
       "strMeasure11                                                              None   \n",
       "strMeasure12                                                              None   \n",
       "strMeasure13                                                              None   \n",
       "strMeasure14                                                              None   \n",
       "strMeasure15                                                              None   \n",
       "strImageSource                                                            None   \n",
       "strImageAttribution                                                       None   \n",
       "strCreativeCommonsConfirmed                                                Yes   \n",
       "dateModified                                               2015-08-18 14:51:53   \n",
       "\n",
       "                                                                             2  \\\n",
       "idDrink                                                                  17216   \n",
       "strDrink                                                     Tommy's Margarita   \n",
       "strDrinkAlternate                                                         None   \n",
       "strDrinkES                                                                None   \n",
       "strDrinkDE                                                                None   \n",
       "strDrinkFR                                                                None   \n",
       "strDrinkZH-HANS                                                           None   \n",
       "strDrinkZH-HANT                                                           None   \n",
       "strTags                                                             IBA,NewEra   \n",
       "strVideo                                                                  None   \n",
       "strCategory                                                     Ordinary Drink   \n",
       "strIBA                                                          New Era Drinks   \n",
       "strAlcoholic                                                         Alcoholic   \n",
       "strGlass                                                   Old-Fashioned glass   \n",
       "strInstructions                Shake and strain into a chilled cocktail glass.   \n",
       "strInstructionsES                                                         None   \n",
       "strInstructionsDE            Schütteln und in ein gekühltes Cocktailglas ab...   \n",
       "strInstructionsFR                                                         None   \n",
       "strInstructionsZH-HANS                                                    None   \n",
       "strInstructionsZH-HANT                                                    None   \n",
       "strDrinkThumb                https://www.thecocktaildb.com/images/media/dri...   \n",
       "strIngredient1                                                         Tequila   \n",
       "strIngredient2                                                      Lime Juice   \n",
       "strIngredient3                                                     Agave syrup   \n",
       "strIngredient4                                                            None   \n",
       "strIngredient5                                                            None   \n",
       "strIngredient6                                                            None   \n",
       "strIngredient7                                                            None   \n",
       "strIngredient8                                                            None   \n",
       "strIngredient9                                                            None   \n",
       "strIngredient10                                                           None   \n",
       "strIngredient11                                                           None   \n",
       "strIngredient12                                                           None   \n",
       "strIngredient13                                                           None   \n",
       "strIngredient14                                                           None   \n",
       "strIngredient15                                                           None   \n",
       "strMeasure1                                                             4.5 cl   \n",
       "strMeasure2                                                             1.5 cl   \n",
       "strMeasure3                                                           2 spoons   \n",
       "strMeasure4                                                               None   \n",
       "strMeasure5                                                               None   \n",
       "strMeasure6                                                               None   \n",
       "strMeasure7                                                               None   \n",
       "strMeasure8                                                               None   \n",
       "strMeasure9                                                               None   \n",
       "strMeasure10                                                              None   \n",
       "strMeasure11                                                              None   \n",
       "strMeasure12                                                              None   \n",
       "strMeasure13                                                              None   \n",
       "strMeasure14                                                              None   \n",
       "strMeasure15                                                              None   \n",
       "strImageSource                                                            None   \n",
       "strImageAttribution                                                       None   \n",
       "strCreativeCommonsConfirmed                                                 No   \n",
       "dateModified                                               2017-09-02 18:37:54   \n",
       "\n",
       "                                                                             3  \\\n",
       "idDrink                                                                  16158   \n",
       "strDrink                                                    Whitecap Margarita   \n",
       "strDrinkAlternate                                                         None   \n",
       "strDrinkES                                                                None   \n",
       "strDrinkDE                                                                None   \n",
       "strDrinkFR                                                                None   \n",
       "strDrinkZH-HANS                                                           None   \n",
       "strDrinkZH-HANT                                                           None   \n",
       "strTags                                                                   None   \n",
       "strVideo                                                                  None   \n",
       "strCategory                                                      Other/Unknown   \n",
       "strIBA                                                                    None   \n",
       "strAlcoholic                                                         Alcoholic   \n",
       "strGlass                                              Margarita/Coupette glass   \n",
       "strInstructions              Place all ingredients in a blender and blend u...   \n",
       "strInstructionsES                                                         None   \n",
       "strInstructionsDE               Alle Zutaten in einen Mixer geben und mischen.   \n",
       "strInstructionsFR                                                         None   \n",
       "strInstructionsZH-HANS                                                    None   \n",
       "strInstructionsZH-HANT                                                    None   \n",
       "strDrinkThumb                https://www.thecocktaildb.com/images/media/dri...   \n",
       "strIngredient1                                                             Ice   \n",
       "strIngredient2                                                         Tequila   \n",
       "strIngredient3                                                Cream of coconut   \n",
       "strIngredient4                                                      Lime juice   \n",
       "strIngredient5                                                            None   \n",
       "strIngredient6                                                            None   \n",
       "strIngredient7                                                            None   \n",
       "strIngredient8                                                            None   \n",
       "strIngredient9                                                            None   \n",
       "strIngredient10                                                           None   \n",
       "strIngredient11                                                           None   \n",
       "strIngredient12                                                           None   \n",
       "strIngredient13                                                           None   \n",
       "strIngredient14                                                           None   \n",
       "strIngredient15                                                           None   \n",
       "strMeasure1                                                             1 cup    \n",
       "strMeasure2                                                              2 oz    \n",
       "strMeasure3                                                           1/4 cup    \n",
       "strMeasure4                                                     3 tblsp fresh    \n",
       "strMeasure5                                                               None   \n",
       "strMeasure6                                                               None   \n",
       "strMeasure7                                                               None   \n",
       "strMeasure8                                                               None   \n",
       "strMeasure9                                                               None   \n",
       "strMeasure10                                                              None   \n",
       "strMeasure11                                                              None   \n",
       "strMeasure12                                                              None   \n",
       "strMeasure13                                                              None   \n",
       "strMeasure14                                                              None   \n",
       "strMeasure15                                                              None   \n",
       "strImageSource                                                            None   \n",
       "strImageAttribution                                                       None   \n",
       "strCreativeCommonsConfirmed                                                 No   \n",
       "dateModified                                               2015-09-02 17:00:22   \n",
       "\n",
       "                                                                             4  \n",
       "idDrink                                                                  12322  \n",
       "strDrink                                                  Strawberry Margarita  \n",
       "strDrinkAlternate                                                         None  \n",
       "strDrinkES                                                                None  \n",
       "strDrinkDE                                                                None  \n",
       "strDrinkFR                                                                None  \n",
       "strDrinkZH-HANS                                                           None  \n",
       "strDrinkZH-HANT                                                           None  \n",
       "strTags                                                                   None  \n",
       "strVideo                                                                  None  \n",
       "strCategory                                                     Ordinary Drink  \n",
       "strIBA                                                                    None  \n",
       "strAlcoholic                                                         Alcoholic  \n",
       "strGlass                                                        Cocktail glass  \n",
       "strInstructions              Rub rim of cocktail glass with lemon juice and...  \n",
       "strInstructionsES                                                         None  \n",
       "strInstructionsDE            Cocktailglasrand mit Zitronensaft und Tauchran...  \n",
       "strInstructionsFR                                                         None  \n",
       "strInstructionsZH-HANS                                                    None  \n",
       "strInstructionsZH-HANT                                                    None  \n",
       "strDrinkThumb                https://www.thecocktaildb.com/images/media/dri...  \n",
       "strIngredient1                                             Strawberry schnapps  \n",
       "strIngredient2                                                         Tequila  \n",
       "strIngredient3                                                      Triple sec  \n",
       "strIngredient4                                                     Lemon juice  \n",
       "strIngredient5                                                    Strawberries  \n",
       "strIngredient6                                                            Salt  \n",
       "strIngredient7                                                            None  \n",
       "strIngredient8                                                            None  \n",
       "strIngredient9                                                            None  \n",
       "strIngredient10                                                           None  \n",
       "strIngredient11                                                           None  \n",
       "strIngredient12                                                           None  \n",
       "strIngredient13                                                           None  \n",
       "strIngredient14                                                           None  \n",
       "strIngredient15                                                           None  \n",
       "strMeasure1                                                            1/2 oz   \n",
       "strMeasure2                                                              1 oz   \n",
       "strMeasure3                                                            1/2 oz   \n",
       "strMeasure4                                                              1 oz   \n",
       "strMeasure5                                                              1 oz   \n",
       "strMeasure6                                                               None  \n",
       "strMeasure7                                                               None  \n",
       "strMeasure8                                                               None  \n",
       "strMeasure9                                                               None  \n",
       "strMeasure10                                                              None  \n",
       "strMeasure11                                                              None  \n",
       "strMeasure12                                                              None  \n",
       "strMeasure13                                                              None  \n",
       "strMeasure14                                                              None  \n",
       "strMeasure15                                                              None  \n",
       "strImageSource                                                            None  \n",
       "strImageAttribution                                                       None  \n",
       "strCreativeCommonsConfirmed                                                 No  \n",
       "dateModified                                               2015-08-18 14:41:51  "
      ]
     },
     "execution_count": 95,
     "metadata": {},
     "output_type": "execute_result"
    }
   ],
   "source": [
    "# we can Transpose to get a sense of all columns\n",
    "mydrinks.head().T"
   ]
  },
  {
   "cell_type": "code",
   "execution_count": 96,
   "metadata": {},
   "outputs": [
    {
     "data": {
      "text/html": [
       "<div>\n",
       "<style scoped>\n",
       "    .dataframe tbody tr th:only-of-type {\n",
       "        vertical-align: middle;\n",
       "    }\n",
       "\n",
       "    .dataframe tbody tr th {\n",
       "        vertical-align: top;\n",
       "    }\n",
       "\n",
       "    .dataframe thead th {\n",
       "        text-align: right;\n",
       "    }\n",
       "</style>\n",
       "<table border=\"1\" class=\"dataframe\">\n",
       "  <thead>\n",
       "    <tr style=\"text-align: right;\">\n",
       "      <th></th>\n",
       "      <th>drinks</th>\n",
       "    </tr>\n",
       "  </thead>\n",
       "  <tbody>\n",
       "    <tr>\n",
       "      <th>0</th>\n",
       "      <td>{'idDrink': '11007', 'strDrink': 'Margarita', ...</td>\n",
       "    </tr>\n",
       "    <tr>\n",
       "      <th>1</th>\n",
       "      <td>{'idDrink': '11118', 'strDrink': 'Blue Margari...</td>\n",
       "    </tr>\n",
       "    <tr>\n",
       "      <th>2</th>\n",
       "      <td>{'idDrink': '17216', 'strDrink': 'Tommy's Marg...</td>\n",
       "    </tr>\n",
       "    <tr>\n",
       "      <th>3</th>\n",
       "      <td>{'idDrink': '16158', 'strDrink': 'Whitecap Mar...</td>\n",
       "    </tr>\n",
       "    <tr>\n",
       "      <th>4</th>\n",
       "      <td>{'idDrink': '12322', 'strDrink': 'Strawberry M...</td>\n",
       "    </tr>\n",
       "  </tbody>\n",
       "</table>\n",
       "</div>"
      ],
      "text/plain": [
       "                                              drinks\n",
       "0  {'idDrink': '11007', 'strDrink': 'Margarita', ...\n",
       "1  {'idDrink': '11118', 'strDrink': 'Blue Margari...\n",
       "2  {'idDrink': '17216', 'strDrink': 'Tommy's Marg...\n",
       "3  {'idDrink': '16158', 'strDrink': 'Whitecap Mar...\n",
       "4  {'idDrink': '12322', 'strDrink': 'Strawberry M..."
      ]
     },
     "execution_count": 96,
     "metadata": {},
     "output_type": "execute_result"
    }
   ],
   "source": [
    "drinks = pd.read_json(\"https://www.thecocktaildb.com/api/json/v1/1/search.php?s=margarita\")\n",
    "drinks.head()"
   ]
  },
  {
   "cell_type": "code",
   "execution_count": null,
   "metadata": {},
   "outputs": [],
   "source": [
    "# requests also works with post type of requests"
   ]
  },
  {
   "cell_type": "code",
   "execution_count": 67,
   "metadata": {},
   "outputs": [],
   "source": [
    "url = \"http://www.recipepuppy.com/api/?i=onions,garlic&q=omelet&p=3\" # think how using f string you could change parameters"
   ]
  },
  {
   "cell_type": "code",
   "execution_count": 68,
   "metadata": {},
   "outputs": [
    {
     "data": {
      "text/plain": [
       "200"
      ]
     },
     "execution_count": 68,
     "metadata": {},
     "output_type": "execute_result"
    }
   ],
   "source": [
    "response = requests.get(url)\n",
    "response.status_code"
   ]
  },
  {
   "cell_type": "code",
   "execution_count": 69,
   "metadata": {},
   "outputs": [
    {
     "data": {
      "text/plain": [
       "dict"
      ]
     },
     "execution_count": 69,
     "metadata": {},
     "output_type": "execute_result"
    }
   ],
   "source": [
    "o_data = response.json()\n",
    "type(o_data)"
   ]
  },
  {
   "cell_type": "code",
   "execution_count": 70,
   "metadata": {},
   "outputs": [
    {
     "data": {
      "text/plain": [
       "dict_keys(['title', 'version', 'href', 'results'])"
      ]
     },
     "execution_count": 70,
     "metadata": {},
     "output_type": "execute_result"
    }
   ],
   "source": [
    "o_data.keys()"
   ]
  },
  {
   "cell_type": "code",
   "execution_count": 71,
   "metadata": {},
   "outputs": [
    {
     "data": {
      "text/plain": [
       "list"
      ]
     },
     "execution_count": 71,
     "metadata": {},
     "output_type": "execute_result"
    }
   ],
   "source": [
    "o_recipes = o_data.get('results')\n",
    "type(o_recipes)"
   ]
  },
  {
   "cell_type": "code",
   "execution_count": 72,
   "metadata": {},
   "outputs": [
    {
     "data": {
      "text/plain": [
       "10"
      ]
     },
     "execution_count": 72,
     "metadata": {},
     "output_type": "execute_result"
    }
   ],
   "source": [
    "len(o_recipes)"
   ]
  },
  {
   "cell_type": "code",
   "execution_count": 73,
   "metadata": {},
   "outputs": [
    {
     "data": {
      "text/plain": [
       "[{'title': 'Vegetable-Pasta Oven Omelet',\n",
       "  'href': 'http://find.myrecipes.com/recipes/recipefinder.dyn?action=displayRecipe&recipe_id=520763',\n",
       "  'ingredients': 'tomato, onions, red pepper, garlic, olive oil, zucchini, cream cheese, vermicelli, eggs, parmesan cheese, milk, italian seasoning, salt, black pepper',\n",
       "  'thumbnail': 'http://img.recipepuppy.com/560556.jpg'},\n",
       " {'title': 'Roasted Pepper and Bacon Omelet',\n",
       "  'href': 'http://www.bigoven.com/43919-Roasted-Pepper-and-Bacon-Omelet-recipe.html',\n",
       "  'ingredients': 'eggs, salt, black pepper, butter, black pepper, bacon, onions, garlic, roasted red peppers, oregano, black pepper',\n",
       "  'thumbnail': ''},\n",
       " {'title': '\\nBroccoli Oven Omelet Recipe\\n\\n',\n",
       "  'href': 'http://cookeatshare.com/recipes/broccoli-oven-omelet-92851',\n",
       "  'ingredients': 'eggs, broccoli, onions, parmesan cheese, lowfat milk, salt, basil, garlic, tomato, parmesan cheese',\n",
       "  'thumbnail': ''}]"
      ]
     },
     "execution_count": 73,
     "metadata": {},
     "output_type": "execute_result"
    }
   ],
   "source": [
    "o_recipes[:3]"
   ]
  },
  {
   "cell_type": "code",
   "execution_count": 74,
   "metadata": {},
   "outputs": [
    {
     "data": {
      "text/html": [
       "<div>\n",
       "<style scoped>\n",
       "    .dataframe tbody tr th:only-of-type {\n",
       "        vertical-align: middle;\n",
       "    }\n",
       "\n",
       "    .dataframe tbody tr th {\n",
       "        vertical-align: top;\n",
       "    }\n",
       "\n",
       "    .dataframe thead th {\n",
       "        text-align: right;\n",
       "    }\n",
       "</style>\n",
       "<table border=\"1\" class=\"dataframe\">\n",
       "  <thead>\n",
       "    <tr style=\"text-align: right;\">\n",
       "      <th></th>\n",
       "      <th>title</th>\n",
       "      <th>href</th>\n",
       "      <th>ingredients</th>\n",
       "      <th>thumbnail</th>\n",
       "    </tr>\n",
       "  </thead>\n",
       "  <tbody>\n",
       "    <tr>\n",
       "      <th>0</th>\n",
       "      <td>Vegetable-Pasta Oven Omelet</td>\n",
       "      <td>http://find.myrecipes.com/recipes/recipefinder...</td>\n",
       "      <td>tomato, onions, red pepper, garlic, olive oil,...</td>\n",
       "      <td>http://img.recipepuppy.com/560556.jpg</td>\n",
       "    </tr>\n",
       "    <tr>\n",
       "      <th>1</th>\n",
       "      <td>Roasted Pepper and Bacon Omelet</td>\n",
       "      <td>http://www.bigoven.com/43919-Roasted-Pepper-an...</td>\n",
       "      <td>eggs, salt, black pepper, butter, black pepper...</td>\n",
       "      <td></td>\n",
       "    </tr>\n",
       "    <tr>\n",
       "      <th>2</th>\n",
       "      <td>\\nBroccoli Oven Omelet Recipe\\n\\n</td>\n",
       "      <td>http://cookeatshare.com/recipes/broccoli-oven-...</td>\n",
       "      <td>eggs, broccoli, onions, parmesan cheese, lowfa...</td>\n",
       "      <td></td>\n",
       "    </tr>\n",
       "    <tr>\n",
       "      <th>3</th>\n",
       "      <td>Eggplant Omelet with Coriander and Caraway</td>\n",
       "      <td>http://www.epicurious.com/recipes/food/views/E...</td>\n",
       "      <td>caraway seed, coriander, eggplant, eggs, garli...</td>\n",
       "      <td></td>\n",
       "    </tr>\n",
       "    <tr>\n",
       "      <th>4</th>\n",
       "      <td>Eggplant Omelet with Coriander And Caraway</td>\n",
       "      <td>http://www.bigoven.com/143831-Eggplant-Omelet-...</td>\n",
       "      <td>eggplant, olive oil, onions, garlic, egg, cara...</td>\n",
       "      <td></td>\n",
       "    </tr>\n",
       "  </tbody>\n",
       "</table>\n",
       "</div>"
      ],
      "text/plain": [
       "                                        title  \\\n",
       "0                 Vegetable-Pasta Oven Omelet   \n",
       "1             Roasted Pepper and Bacon Omelet   \n",
       "2           \\nBroccoli Oven Omelet Recipe\\n\\n   \n",
       "3  Eggplant Omelet with Coriander and Caraway   \n",
       "4  Eggplant Omelet with Coriander And Caraway   \n",
       "\n",
       "                                                href  \\\n",
       "0  http://find.myrecipes.com/recipes/recipefinder...   \n",
       "1  http://www.bigoven.com/43919-Roasted-Pepper-an...   \n",
       "2  http://cookeatshare.com/recipes/broccoli-oven-...   \n",
       "3  http://www.epicurious.com/recipes/food/views/E...   \n",
       "4  http://www.bigoven.com/143831-Eggplant-Omelet-...   \n",
       "\n",
       "                                         ingredients  \\\n",
       "0  tomato, onions, red pepper, garlic, olive oil,...   \n",
       "1  eggs, salt, black pepper, butter, black pepper...   \n",
       "2  eggs, broccoli, onions, parmesan cheese, lowfa...   \n",
       "3  caraway seed, coriander, eggplant, eggs, garli...   \n",
       "4  eggplant, olive oil, onions, garlic, egg, cara...   \n",
       "\n",
       "                               thumbnail  \n",
       "0  http://img.recipepuppy.com/560556.jpg  \n",
       "1                                         \n",
       "2                                         \n",
       "3                                         \n",
       "4                                         "
      ]
     },
     "execution_count": 74,
     "metadata": {},
     "output_type": "execute_result"
    }
   ],
   "source": [
    "dfrec = pd.DataFrame(o_recipes)\n",
    "dfrec.head()"
   ]
  },
  {
   "cell_type": "code",
   "execution_count": 75,
   "metadata": {},
   "outputs": [],
   "source": [
    "# for 100 suggestion is to use time.sleep(0.2)\n",
    "# it is good manners to sleep a little to avoid DDOS attack on API server\n",
    "import time\n",
    "time.sleep(0.5) # half a second delay"
   ]
  },
  {
   "cell_type": "code",
   "execution_count": 76,
   "metadata": {},
   "outputs": [
    {
     "data": {
      "text/plain": [
       "200"
      ]
     },
     "execution_count": 76,
     "metadata": {},
     "output_type": "execute_result"
    }
   ],
   "source": [
    "url = \"https://data.gov.lv/dati/lv/api/3/action/datastore_search?resource_id=27fcc5ec-c63b-4bfd-bb08-01f073a52d04&limit=5\"\n",
    "r = requests.get(url)\n",
    "r.status_code"
   ]
  },
  {
   "cell_type": "code",
   "execution_count": 77,
   "metadata": {},
   "outputs": [
    {
     "data": {
      "text/plain": [
       "'{\"help\": \"https://data.gov.lv/dati/api/3/action/help_show?name=datastore_search\", \"success\": true, \"result\": {\"include_total\": true, \"resource_id\": \"27fcc5ec-c63b-4bfd-bb08-01f073a52d04\", \"fields\": [{\"type\": \"int\", \"id\": \"_id\"}, {\"type\": \"numeric\", \"id\": \"id\"}, {\"type\": \"numeric\", \"id\": \"file_id\"}, {\"type\": \"numeric\", \"id\": \"legal_entity_registration_number\"}, {\"type\": \"text\", \"id\": \"source_schema\"}, {\"type\": \"text\", \"id\": \"source_type\"}, {\"type\": \"numeric\", \"id\": \"year\"}, {\"type\": \"timestamp\", \"id\": \"year_started_on\"}, {\"type\": \"timestamp\", \"id\": \"year_ended_on\"}, {\"type\": \"numeric\", \"id\": \"employees\"}, {\"type\": \"text\", \"id\": \"rounded_to_nearest\"}, {\"type\": \"text\", \"id\": \"currency\"}, {\"type\": \"timestamp\", \"id\": \"created_at\"}], \"records_format\": \"objects\", \"records\": [{\"_id\":1,\"id\":709390,\"file_id\":16544390,\"legal_entity_registration_number\":40103504912,\"source_schema\":\"DokGPUIENv1\",\"source_type\":\"UGP\",\"year\":2016,\"year_started_on\":\"2016-01-01T00:00:00\",\"year_ended_on\":\"2016-12-31T00:00:00\",\"employees\":0,\"rounded_to_nearest\":\"ONES\",\"currency\":\"EUR\",\"created_at\":\"2020-10-30T23:33:27\"},{\"_id\":2,\"id\":709391,\"file_id\":16544392,\"legal_entity_registration_number\":40103466358,\"source_schema\":\"DokGPUIENv1\",\"source_type\":\"UGP\",\"year\":2016,\"year_started_on\":\"2016-01-01T00:00:00\",\"year_ended_on\":\"2016-12-31T00:00:00\",\"employees\":1,\"rounded_to_nearest\":\"ONES\",\"currency\":\"EUR\",\"created_at\":\"2020-10-30T23:33:31\"},{\"_id\":3,\"id\":709392,\"file_id\":16544401,\"legal_entity_registration_number\":40103476182,\"source_schema\":\"DokGPUIENv1\",\"source_type\":\"UGP\",\"year\":2016,\"year_started_on\":\"2016-01-01T00:00:00\",\"year_ended_on\":\"2016-12-31T00:00:00\",\"employees\":2,\"rounded_to_nearest\":\"ONES\",\"currency\":\"EUR\",\"created_at\":\"2020-10-30T23:33:34\"},{\"_id\":4,\"id\":709393,\"file_id\":16544404,\"legal_entity_registration_number\":40103863270,\"source_schema\":\"DokUGP2008v1\",\"source_type\":\"\",\"year\":2015,\"year_started_on\":\"2015-01-21T00:00:00\",\"year_ended_on\":\"2015-12-31T00:00:00\",\"employees\":5,\"rounded_to_nearest\":\"ONES\",\"currency\":\"EUR\",\"created_at\":\"2020-10-30T23:33:37\"},{\"_id\":5,\"id\":709394,\"file_id\":16544411,\"legal_entity_registration_number\":40008010613,\"source_schema\":\"DokGPUIENv1\",\"source_type\":\"BNAGP\",\"year\":2016,\"year_started_on\":\"2016-01-01T00:00:00\",\"year_ended_on\":\"2016-12-31T00:00:00\",\"employees\":0,\"rounded_to_nearest\":\"ONES\",\"currency\":\"EUR\",\"created_at\":\"2020-10-30T23:33:40\"}], \"limit\": 5, \"_links\": {\"start\": \"/api/3/action/datastore_search?limit=5&resource_id=27fcc5ec-c63b-4bfd-bb08-01f073a52d04\", \"next\": \"/api/3/action/datastore_search?offset=5&limit=5&resource_id=27fcc5ec-c63b-4bfd-bb08-01f073a52d04\"}, \"total\": 29500}}'"
      ]
     },
     "execution_count": 77,
     "metadata": {},
     "output_type": "execute_result"
    }
   ],
   "source": [
    "r.text"
   ]
  },
  {
   "cell_type": "code",
   "execution_count": 78,
   "metadata": {},
   "outputs": [],
   "source": [
    "with open(\"ur_yearly.json\", \"w\", encoding=\"utf-8\") as f:\n",
    "    f.write(r.text)"
   ]
  },
  {
   "cell_type": "code",
   "execution_count": 80,
   "metadata": {},
   "outputs": [],
   "source": [
    "urdata = r.json()"
   ]
  },
  {
   "cell_type": "code",
   "execution_count": null,
   "metadata": {},
   "outputs": [],
   "source": [
    "with open(\"ur_yearly_indent.json\", \"w\", encoding=\"utf-8\") as f:\n",
    "    json.dump(r.json(), f, indent=4)"
   ]
  },
  {
   "cell_type": "code",
   "execution_count": 81,
   "metadata": {},
   "outputs": [
    {
     "data": {
      "text/plain": [
       "dict"
      ]
     },
     "execution_count": 81,
     "metadata": {},
     "output_type": "execute_result"
    }
   ],
   "source": [
    "type(urdata)"
   ]
  },
  {
   "cell_type": "code",
   "execution_count": 82,
   "metadata": {},
   "outputs": [
    {
     "data": {
      "text/plain": [
       "dict_keys(['help', 'success', 'result'])"
      ]
     },
     "execution_count": 82,
     "metadata": {},
     "output_type": "execute_result"
    }
   ],
   "source": [
    "urdata.keys()"
   ]
  },
  {
   "cell_type": "code",
   "execution_count": 84,
   "metadata": {},
   "outputs": [
    {
     "data": {
      "text/plain": [
       "dict"
      ]
     },
     "execution_count": 84,
     "metadata": {},
     "output_type": "execute_result"
    }
   ],
   "source": [
    "type(urdata.get('result'))"
   ]
  },
  {
   "cell_type": "code",
   "execution_count": 85,
   "metadata": {},
   "outputs": [
    {
     "data": {
      "text/plain": [
       "'/api/3/action/datastore_search?offset=5&limit=5&resource_id=27fcc5ec-c63b-4bfd-bb08-01f073a52d04'"
      ]
     },
     "execution_count": 85,
     "metadata": {},
     "output_type": "execute_result"
    }
   ],
   "source": [
    "next_url = urdata['result'][\"_links\"][\"next\"]\n",
    "next_url"
   ]
  }
 ],
 "metadata": {
  "kernelspec": {
   "display_name": "Python 3",
   "language": "python",
   "name": "python3"
  },
  "language_info": {
   "codemirror_mode": {
    "name": "ipython",
    "version": 3
   },
   "file_extension": ".py",
   "mimetype": "text/x-python",
   "name": "python",
   "nbconvert_exporter": "python",
   "pygments_lexer": "ipython3",
   "version": "3.8.3"
  }
 },
 "nbformat": 4,
 "nbformat_minor": 2
}
