{
 "cells": [
  {
   "cell_type": "code",
   "execution_count": null,
   "metadata": {},
   "outputs": [],
   "source": [
    "# SON - Praktiskais uzdevums\n",
    "# Darbs ar JSON API\n",
    "# Piemērs\n",
    "# http://www.recipepuppy.com/api/?i=onions,garlic&q=omelet&p=3\n",
    "# Optional Parameters:\n",
    "# i : comma delimited ingredients\n",
    "# q : normal search query\n",
    "# p : page\n",
    "# 1a. Izvelciet 10 receptes kas satur kartupeļus no sekojoša API:\n",
    "# http://www.recipepuppy.com/about/api/\n",
    "# Dati jasaglabā .json failā bet arī jaizveido python datu struktūra\n",
    "# PS. ASV izrunā kartupeli kā potato :)\n",
    "# 1b. Izvelciet 100 receptes, kas satur kartupeļus un sieru no tā paša API\n",
    "# Atceramies ka šis API datus dod tikai pa 10 vērtībām reizē, līdz ar to vajadzēs lipināt rezultātus kopā.\n",
    "# Lipināt būs vieglāk jau Python datu strukturu.\n",
    "# 1c Python datu struktūrā pārvērtiet ingredients atslēgas vērtību uz sarakstu.\n",
    "# Citiem vārdiem saskaldiet string ar sastāvdaļam -> uz list\n",
    "# Saglabājiet .json failā jauno struktūru\n",
    "# 1d Atrodied visvairāk izmantotos ingredients kopā ar kartupeļiem un sieru.\n",
    "# Ieteikums: Varat izmantot counter update metodi\n",
    "# Izdrukājiet TOP 3 sastāvdaļas šajās receptēs.\n",
    "# 1.e uzzīmējiet histogrammu ar ingredients skaitu kuri tiek izmantoti kartupeļu un siera receptēs(100 receptēs).\n",
    "# 1.f kā būtu ar sastāvdaļām omelet histogrammu ?\n",
    "# Bonus, uztaisiet meklētāju, kurš paprasa lietotājam, kādu ēdienu meklēt\n",
    "# Super bonuss būtu atrast kādu API kas ļauj tulkot latviski -> angliski, tad lietotājs ievadīt latviski bet receptes tiktu meklētas angliski.\n",
    "# Tas būtu gala projekta vērts.\n",
    "\n"
   ]
  },
  {
   "cell_type": "code",
   "execution_count": 1,
   "metadata": {},
   "outputs": [],
   "source": [
    "import time\n",
    "import requests\n",
    "import json\n",
    "import pandas as pd\n",
    "import matplotlib.pyplot as plt\n"
   ]
  },
  {
   "cell_type": "code",
   "execution_count": null,
   "metadata": {},
   "outputs": [],
   "source": [
    "# 1a. Izvelciet 10 receptes kas satur kartupeļus no sekojoša API:\n",
    "# http://www.recipepuppy.com/about/api/\n",
    "# Dati jasaglabā .json failā bet arī jaizveido python datu struktūra\n",
    "# PS. ASV izrunā kartupeli kā potato :)"
   ]
  },
  {
   "cell_type": "code",
   "execution_count": 2,
   "metadata": {},
   "outputs": [
    {
     "data": {
      "text/plain": [
       "[{'title': 'Moroccan Spiced Roast Potatoes',\n",
       "  'href': 'http://www.recipezaar.com/moroccan-spiced-roast-potatoes-377030',\n",
       "  'ingredients': 'potato',\n",
       "  'thumbnail': 'http://img.recipepuppy.com/507716.jpg'},\n",
       " {'title': 'French Potato Salad (Light)',\n",
       "  'href': 'http://www.recipezaar.com/French-Potato-Salad-Light-315220',\n",
       "  'ingredients': 'potato',\n",
       "  'thumbnail': 'http://img.recipepuppy.com/575259.jpg'},\n",
       " {'title': 'Baked Potatoes from the Crock Pot',\n",
       "  'href': 'http://www.recipezaar.com/Baked-Potatoes-from-the-Crock-Pot-53182',\n",
       "  'ingredients': 'potato',\n",
       "  'thumbnail': 'http://img.recipepuppy.com/36975.jpg'},\n",
       " {'title': 'Garlicky Olive Oil Potato Salad',\n",
       "  'href': 'http://www.recipezaar.com/Garlicky-Olive-Oil-Potato-Salad-233788',\n",
       "  'ingredients': 'potato',\n",
       "  'thumbnail': 'http://img.recipepuppy.com/649845.jpg'},\n",
       " {'title': 'How To Strengthen Your Arms Recipe',\n",
       "  'href': 'http://www.grouprecipes.com/65147/how-to-strengthen-your-arms.html',\n",
       "  'ingredients': 'potato, potato, potato',\n",
       "  'thumbnail': 'http://img.recipepuppy.com/392014.jpg'},\n",
       " {'title': 'Poasted Garlic And Potatoes Recipe',\n",
       "  'href': 'http://www.grouprecipes.com/5932/poasted-garlic-and-potatoes.html',\n",
       "  'ingredients': 'potato',\n",
       "  'thumbnail': 'http://img.recipepuppy.com/408881.jpg'},\n",
       " {'title': 'Yukon Gold & Sweet Potato Mash',\n",
       "  'href': 'http://www.eatingwell.com/recipes/two_potato_mash.html',\n",
       "  'ingredients': 'potato',\n",
       "  'thumbnail': 'http://img.recipepuppy.com/693660.jpg'},\n",
       " {'title': 'Oven &#8220;Fries&#8221;',\n",
       "  'href': 'http://www.eatingwell.com/recipes/oven_fries.html',\n",
       "  'ingredients': 'potato',\n",
       "  'thumbnail': 'http://img.recipepuppy.com/693902.jpg'},\n",
       " {'title': 'Spicy Stewed Potatoes & Spinach with Buttermilk (Aloo chaas)',\n",
       "  'href': 'http://www.eatingwell.com/recipes/stewed_potatoes_spinach.html',\n",
       "  'ingredients': 'potato',\n",
       "  'thumbnail': 'http://img.recipepuppy.com/696099.jpg'},\n",
       " {'title': 'Roasted Root Vegetables with Chermoula',\n",
       "  'href': 'http://www.eatingwell.com/recipes/moroccan_roast_vegetables.html',\n",
       "  'ingredients': 'potato',\n",
       "  'thumbnail': 'http://img.recipepuppy.com/696436.jpg'}]"
      ]
     },
     "execution_count": 2,
     "metadata": {},
     "output_type": "execute_result"
    }
   ],
   "source": [
    "# v1 result is list\n",
    "url = \"http://www.recipepuppy.com/api/?i=potato&p=1\"\n",
    "response = requests.get(url)\n",
    "o_data = response.json()\n",
    "o_recipes = o_data.get('results')\n",
    "with open(\"potato1.json\", mode=\"w\") as write_file:\n",
    "    json.dump(o_recipes, write_file)\n",
    "# type(o_recipes)    \n",
    "o_recipes"
   ]
  },
  {
   "cell_type": "code",
   "execution_count": 3,
   "metadata": {},
   "outputs": [],
   "source": [
    "# v2 result is dict\n",
    "url = \"http://www.recipepuppy.com/api/?i=potato&p=1\"\n",
    "response = requests.get(url)\n",
    "o_data = response.json()\n",
    "# o_recipes = o_data.get('results')\n",
    "with open(\"potato_full.json\", mode=\"w\") as write_file:\n",
    "    json.dump(o_data, write_file, indent=4)\n",
    "# type(o_data)    "
   ]
  },
  {
   "cell_type": "code",
   "execution_count": null,
   "metadata": {},
   "outputs": [],
   "source": [
    "# 1b. Izvelciet 100 receptes, kas satur kartupeļus un sieru no tā paša API\n",
    "# Atceramies ka šis API datus dod tikai pa 10 vērtībām reizē, līdz ar to vajadzēs lipināt rezultātus kopā.\n",
    "# Lipināt būs vieglāk jau Python datu strukturu."
   ]
  },
  {
   "cell_type": "code",
   "execution_count": 4,
   "metadata": {},
   "outputs": [],
   "source": [
    "# url = \"http://www.recipepuppy.com/api/?i=onions,garlic&q=omelet&p=3\"\n",
    "full_recipes = []\n",
    "for i in range(1,4): # only 30 because on bigger numbers server returns 'response '500'\n",
    "    url = \"http://www.recipepuppy.com/api/?i=potato,cheese&p=\"+str(i)\n",
    "    response = requests.get(url)\n",
    "    time.sleep(0.9)\n",
    "    o_data = response.json()\n",
    "    o_recipes = o_data.get('results')\n",
    "    full_recipes.extend(o_recipes)"
   ]
  },
  {
   "cell_type": "code",
   "execution_count": 5,
   "metadata": {},
   "outputs": [
    {
     "data": {
      "text/plain": [
       "30"
      ]
     },
     "execution_count": 5,
     "metadata": {},
     "output_type": "execute_result"
    }
   ],
   "source": [
    "len(full_recipes)"
   ]
  },
  {
   "cell_type": "code",
   "execution_count": 6,
   "metadata": {},
   "outputs": [
    {
     "data": {
      "text/plain": [
       "[{'title': 'Cheesy Fries \\r\\n\\t\\t\\r\\n\\t\\r\\n\\t\\t\\r\\n\\t\\r\\n\\t\\t\\r\\n\\t\\r\\n\\t\\r\\n\\r\\n',\n",
       "  'href': 'http://www.kraftfoods.com/kf/recipes/cheesy-fries-53601.aspx',\n",
       "  'ingredients': 'cheese, potato',\n",
       "  'thumbnail': 'http://img.recipepuppy.com/638886.jpg'},\n",
       " {'title': 'Cheesy Pizza Baked Potato \\r\\n\\r\\n',\n",
       "  'href': 'http://www.kraftfoods.com/kf/recipes/cheesy-pizza-baked-potato-53917.aspx',\n",
       "  'ingredients': 'cheese, potato, pizza sauce',\n",
       "  'thumbnail': 'http://img.recipepuppy.com/638907.jpg'},\n",
       " {'title': 'Garlic-Herb Mashed Potatoes',\n",
       "  'href': 'http://www.recipezaar.com/Garlic-Herb-Mashed-Potatoes-72981',\n",
       "  'ingredients': 'cheese, milk, potato',\n",
       "  'thumbnail': 'http://img.recipepuppy.com/648435.jpg'}]"
      ]
     },
     "execution_count": 6,
     "metadata": {},
     "output_type": "execute_result"
    }
   ],
   "source": [
    "full_recipes[:3]"
   ]
  },
  {
   "cell_type": "code",
   "execution_count": null,
   "metadata": {},
   "outputs": [],
   "source": [
    "# len(o_recipes)"
   ]
  },
  {
   "cell_type": "code",
   "execution_count": null,
   "metadata": {},
   "outputs": [],
   "source": [
    "# type(o_data)"
   ]
  },
  {
   "cell_type": "code",
   "execution_count": null,
   "metadata": {},
   "outputs": [],
   "source": [
    "# 1c Python datu struktūrā pārvērtiet ingredients atslēgas vērtību uz sarakstu.\n",
    "# Citiem vārdiem saskaldiet string ar sastāvdaļam -> uz list\n",
    "# Saglabājiet .json failā jauno struktūru"
   ]
  },
  {
   "cell_type": "code",
   "execution_count": null,
   "metadata": {
    "scrolled": true
   },
   "outputs": [],
   "source": [
    "# ing =[]\n",
    "# for i in range(1,len(full_recipes)):\n",
    "#     ing.extend(full_recipes[i]['ingredients'])"
   ]
  },
  {
   "cell_type": "code",
   "execution_count": 7,
   "metadata": {},
   "outputs": [
    {
     "data": {
      "text/plain": [
       "'cheese, potato, cheese, potato, pizza sauce, cheese, milk, potato, bologna, cheese, potato, cheese, '"
      ]
     },
     "execution_count": 7,
     "metadata": {},
     "output_type": "execute_result"
    }
   ],
   "source": [
    "ing_str =('')\n",
    "# for i in range(0,len(full_recipes)):\n",
    "for recipe in full_recipes:\n",
    "    ing_str += (recipe['ingredients']) + ', '\n",
    "ing_str[:100]"
   ]
  },
  {
   "cell_type": "code",
   "execution_count": 8,
   "metadata": {},
   "outputs": [
    {
     "data": {
      "text/plain": [
       "['cheese',\n",
       " 'potato',\n",
       " 'cheese',\n",
       " 'potato',\n",
       " 'pizza sauce',\n",
       " 'cheese',\n",
       " 'milk',\n",
       " 'potato',\n",
       " 'bologna',\n",
       " 'cheese']"
      ]
     },
     "execution_count": 8,
     "metadata": {},
     "output_type": "execute_result"
    }
   ],
   "source": [
    "words = ing_str.split(\", \")\n",
    "words[:10]"
   ]
  },
  {
   "cell_type": "code",
   "execution_count": null,
   "metadata": {},
   "outputs": [],
   "source": [
    "# print(words)"
   ]
  },
  {
   "cell_type": "code",
   "execution_count": 9,
   "metadata": {},
   "outputs": [],
   "source": [
    "with open(\"ing_str_int.json\", mode=\"w\") as write_file:\n",
    "        json.dump(words, write_file, indent=4) "
   ]
  },
  {
   "cell_type": "code",
   "execution_count": null,
   "metadata": {},
   "outputs": [],
   "source": [
    "# 1d Atrodied visvairāk izmantotos ingredients kopā ar kartupeļiem un sieru.\n",
    "# Ieteikums: Varat izmantot counter update metodi\n",
    "# Izdrukājiet TOP 3 sastāvdaļas šajās receptēs."
   ]
  },
  {
   "cell_type": "code",
   "execution_count": 10,
   "metadata": {},
   "outputs": [],
   "source": [
    "from collections import Counter"
   ]
  },
  {
   "cell_type": "code",
   "execution_count": 11,
   "metadata": {},
   "outputs": [
    {
     "name": "stdout",
     "output_type": "stream",
     "text": [
      "[('cheese', 31), ('potato', 30), ('butter', 6)]\n"
     ]
    }
   ],
   "source": [
    "wcount = Counter(words)\n",
    "mc = wcount.most_common()\n",
    "print(mc[:3])"
   ]
  },
  {
   "cell_type": "code",
   "execution_count": null,
   "metadata": {},
   "outputs": [],
   "source": [
    "# 1.e uzzīmējiet histogrammu ar ingredients skaitu kuri tiek izmantoti kartupeļu un siera receptēs(100 receptēs)."
   ]
  },
  {
   "cell_type": "code",
   "execution_count": 12,
   "metadata": {},
   "outputs": [
    {
     "data": {
      "image/png": "[encoded data removed]",
      "text/plain": [
       "<Figure size 432x288 with 1 Axes>"
      ]
     },
     "metadata": {
      "needs_background": "light"
     },
     "output_type": "display_data"
    }
   ],
   "source": [
    "num_bins = 10\n",
    "fig, ax = plt.subplots()\n",
    "n, bins, patches = ax.hist(words, num_bins, density=1)\n",
    "ax.tick_params(axis='x', labelrotation = 90)\n",
    "plt.show()"
   ]
  },
  {
   "cell_type": "code",
   "execution_count": 15,
   "metadata": {},
   "outputs": [
    {
     "data": {
      "image/png": "[encoded data removed]",
      "text/plain": [
       "<Figure size 432x288 with 1 Axes>"
      ]
     },
     "metadata": {
      "needs_background": "light"
     },
     "output_type": "display_data"
    }
   ],
   "source": [
    "num_bins = 10\n",
    "fig, ax = plt.subplots()\n",
    "n, bins, patches = ax.hist(words)\n",
    "ax.tick_params(axis='x', labelrotation = 90)\n",
    "plt.show()"
   ]
  },
  {
   "cell_type": "code",
   "execution_count": 14,
   "metadata": {},
   "outputs": [
    {
     "data": {
      "text/plain": [
       "array([ 0. ,  4.8,  9.6, 14.4, 19.2, 24. , 28.8, 33.6, 38.4, 43.2, 48. ])"
      ]
     },
     "execution_count": 14,
     "metadata": {},
     "output_type": "execute_result"
    }
   ],
   "source": [
    "bins"
   ]
  },
  {
   "cell_type": "code",
   "execution_count": null,
   "metadata": {},
   "outputs": [],
   "source": [
    "# 1.f kā būtu ar sastāvdaļām omelet histogrammu ?"
   ]
  },
  {
   "cell_type": "code",
   "execution_count": 24,
   "metadata": {},
   "outputs": [
    {
     "name": "stdout",
     "output_type": "stream",
     "text": [
      "Requesting data from http://www.recipepuppy.com/api/?i=onions&q=omelet&p=1\n",
      "Requesting data from http://www.recipepuppy.com/api/?i=onions&q=omelet&p=2\n",
      "Requesting data from http://www.recipepuppy.com/api/?i=onions&q=omelet&p=3\n",
      "Requesting data from http://www.recipepuppy.com/api/?i=onions&q=omelet&p=4\n",
      "Requesting data from http://www.recipepuppy.com/api/?i=onions&q=omelet&p=5\n",
      "Requesting data from http://www.recipepuppy.com/api/?i=onions&q=omelet&p=6\n",
      "Requesting data from http://www.recipepuppy.com/api/?i=onions&q=omelet&p=7\n",
      "Requesting data from http://www.recipepuppy.com/api/?i=onions&q=omelet&p=8\n",
      "Requesting data from http://www.recipepuppy.com/api/?i=onions&q=omelet&p=9\n"
     ]
    },
    {
     "data": {
      "text/plain": [
       "[{'title': 'Greek Omelet for 1',\n",
       "  'href': 'http://www.recipezaar.com/Greek-Omelet-for-1-235396',\n",
       "  'ingredients': 'butter, egg substitute, onions, black pepper, feta cheese, salt, spinach, tomato, water',\n",
       "  'thumbnail': 'http://img.recipepuppy.com/694441.jpg'},\n",
       " {'title': 'Healthy Omelet on the Run',\n",
       "  'href': 'http://www.recipezaar.com/healthy-omelet-on-the-run-371159',\n",
       "  'ingredients': 'egg whites, cheese, mushroom, onions, black pepper, spinach',\n",
       "  'thumbnail': 'http://img.recipepuppy.com/622057.jpg'},\n",
       " {'title': 'Italian Omelet \\r\\n\\t\\t\\n',\n",
       "  'href': 'http://www.kraftfoods.com/kf/recipes/italian-omelet-57594.aspx',\n",
       "  'ingredients': 'onions, turkey sausage, eggs',\n",
       "  'thumbnail': 'http://img.recipepuppy.com/600098.jpg'},\n",
       " {'title': 'Eggplant Omelet',\n",
       "  'href': 'http://www.recipezaar.com/Eggplant-Omelet-322870',\n",
       "  'ingredients': 'eggplant, eggs, olive oil, onions, black pepper, salt, tomato',\n",
       "  'thumbnail': 'http://img.recipepuppy.com/538011.jpg'},\n",
       " {'title': 'Oven Omelet',\n",
       "  'href': 'http://www.recipezaar.com/Oven-Omelet-183811',\n",
       "  'ingredients': 'cheese, onions, eggs, mushroom, green pepper, milk, salt',\n",
       "  'thumbnail': 'http://img.recipepuppy.com/38024.jpg'}]"
      ]
     },
     "execution_count": 24,
     "metadata": {},
     "output_type": "execute_result"
    }
   ],
   "source": [
    "omelet_recipes = []\n",
    "for i in range(1,10):\n",
    "    url = \"http://www.recipepuppy.com/api/?i=onions&q=omelet&p=\"+str(i)\n",
    "    print(f\"Requesting data from {url}\")\n",
    "    response = requests.get(url)\n",
    "    time.sleep(0.5)\n",
    "    om_data = response.json()\n",
    "    om_recipes = om_data.get('results')\n",
    "    omelet_recipes.extend(om_recipes)\n",
    "omelet_recipes[:5]"
   ]
  },
  {
   "cell_type": "code",
   "execution_count": 22,
   "metadata": {},
   "outputs": [
    {
     "data": {
      "text/plain": [
       "[{'title': 'Garlic Potato',\n",
       "  'href': 'http://www.recipezaar.com/Garlic-Potato-166799',\n",
       "  'ingredients': 'butter, cheese, cream, garlic, potato',\n",
       "  'thumbnail': 'http://img.recipepuppy.com/645569.jpg'},\n",
       " {'title': 'Cheezey Potatoes Recipe',\n",
       "  'href': 'http://www.grouprecipes.com/81680/cheezey-potatoes.html',\n",
       "  'ingredients': 'butter, cheese, cream of mushroom soup, potato, sour cream',\n",
       "  'thumbnail': 'http://img.recipepuppy.com/167952.jpg'},\n",
       " {'title': 'Hamburger Pie Recipe',\n",
       "  'href': 'http://www.grouprecipes.com/84422/hamburger-pie.html',\n",
       "  'ingredients': 'potato, ground beef, cheese, cheese, onions, pie crust',\n",
       "  'thumbnail': 'http://img.recipepuppy.com/244762.jpg'},\n",
       " {'title': 'Roasted Potatoes With Bacon And Cheese Recipe',\n",
       "  'href': 'http://www.grouprecipes.com/39188/roasted-potatoes-with-bacon-and-cheese.html',\n",
       "  'ingredients': 'bacon, cheese, ranch dressing, potato, parsley',\n",
       "  'thumbnail': 'http://img.recipepuppy.com/406832.jpg'},\n",
       " {'title': 'Ham and cheese potato cakes',\n",
       "  'href': 'http://www.nibbledish.com/people/Vanity/recipes/ham-and-cheese-potato-cakes',\n",
       "  'ingredients': 'potato, egg yolks, cheese, ham, bread crumbs',\n",
       "  'thumbnail': 'http://img.recipepuppy.com/508390.jpg'}]"
      ]
     },
     "execution_count": 22,
     "metadata": {},
     "output_type": "execute_result"
    }
   ],
   "source": [
    "omelet_recipes[:5]"
   ]
  },
  {
   "cell_type": "code",
   "execution_count": 25,
   "metadata": {},
   "outputs": [],
   "source": [
    "oing_str =('')\n",
    "for i in range(0,len(omelet_recipes)):\n",
    "    oing_str += (omelet_recipes[i]['ingredients']) + ', '\n",
    "ingr = oing_str.split(\", \")  "
   ]
  },
  {
   "cell_type": "code",
   "execution_count": 26,
   "metadata": {},
   "outputs": [],
   "source": [
    "with open(\"ing_omelet.json\", mode=\"w\") as write_file:\n",
    "        json.dump(ingr, write_file, indent=4) "
   ]
  },
  {
   "cell_type": "code",
   "execution_count": 27,
   "metadata": {},
   "outputs": [
    {
     "name": "stdout",
     "output_type": "stream",
     "text": [
      "[('onions', 90), ('eggs', 80), ('salt', 51)]\n"
     ]
    }
   ],
   "source": [
    "icount = Counter(ingr)\n",
    "mc = icount.most_common()\n",
    "print(mc[:3])"
   ]
  },
  {
   "cell_type": "code",
   "execution_count": 28,
   "metadata": {},
   "outputs": [
    {
     "data": {
      "text/plain": [
       "[('onions', 90),\n",
       " ('eggs', 80),\n",
       " ('salt', 51),\n",
       " ('black pepper', 35),\n",
       " ('green pepper', 35),\n",
       " ('potato', 31),\n",
       " ('cheddar cheese', 27),\n",
       " ('butter', 21),\n",
       " ('bacon', 19),\n",
       " ('olive oil', 18)]"
      ]
     },
     "execution_count": 28,
     "metadata": {},
     "output_type": "execute_result"
    }
   ],
   "source": [
    "icount.most_common(10)"
   ]
  },
  {
   "cell_type": "code",
   "execution_count": 29,
   "metadata": {},
   "outputs": [
    {
     "data": {
      "image/png": "[encoded data removed]",
      "text/plain": [
       "<Figure size 432x288 with 1 Axes>"
      ]
     },
     "metadata": {
      "needs_background": "light"
     },
     "output_type": "display_data"
    }
   ],
   "source": [
    "num_bins = 10\n",
    "fig, ax = plt.subplots()\n",
    "n, bins, patches = ax.hist(ingr, num_bins, density=1)\n",
    "ax.tick_params(axis='x', labelrotation = 90)\n",
    "plt.show()"
   ]
  },
  {
   "cell_type": "code",
   "execution_count": null,
   "metadata": {},
   "outputs": [],
   "source": [
    "# Bonus, uztaisiet meklētāju, kurš paprasa lietotājam, kādu ēdienu meklēt"
   ]
  },
  {
   "cell_type": "code",
   "execution_count": null,
   "metadata": {},
   "outputs": [],
   "source": [
    "q = input('Please input desired recipe: ')"
   ]
  },
  {
   "cell_type": "code",
   "execution_count": null,
   "metadata": {},
   "outputs": [],
   "source": [
    "i = input('Please input your ingridients (comma separated): ')"
   ]
  },
  {
   "cell_type": "code",
   "execution_count": null,
   "metadata": {},
   "outputs": [],
   "source": [
    "r = input('Please input how many recipes to return (max 10): ')"
   ]
  },
  {
   "cell_type": "code",
   "execution_count": null,
   "metadata": {},
   "outputs": [],
   "source": [
    "url = \"http://www.recipepuppy.com/api/?i=\" + i +\"&q=\" + q +\"&p=1\"\n",
    "response = requests.get(url)\n",
    "o_data = response.json()\n",
    "o_recipes = o_data.get('results')"
   ]
  },
  {
   "cell_type": "code",
   "execution_count": null,
   "metadata": {},
   "outputs": [],
   "source": [
    "# print(url)"
   ]
  },
  {
   "cell_type": "code",
   "execution_count": null,
   "metadata": {},
   "outputs": [],
   "source": [
    "print(o_recipes[:int(r)])"
   ]
  }
 ],
 "metadata": {
  "kernelspec": {
   "display_name": "Python 3",
   "language": "python",
   "name": "python3"
  },
  "language_info": {
   "codemirror_mode": {
    "name": "ipython",
    "version": 3
   },
   "file_extension": ".py",
   "mimetype": "text/x-python",
   "name": "python",
   "nbconvert_exporter": "python",
   "pygments_lexer": "ipython3",
   "version": "3.8.3"
  }
 },
 "nbformat": 4,
 "nbformat_minor": 4
}
